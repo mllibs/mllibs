{
 "cells": [
  {
   "cell_type": "markdown",
   "id": "b4903747-a65f-496d-b8e2-fe77bfce0c6b",
   "metadata": {},
   "source": [
    "## **Setup Interpreter**\n",
    "\n",
    "Some test code that shows how to use **mllibs**"
   ]
  },
  {
   "cell_type": "code",
   "execution_count": 1,
   "id": "04d3085d-4e69-4375-b93d-a21f7c469168",
   "metadata": {},
   "outputs": [
    {
     "name": "stdout",
     "output_type": "stream",
     "text": [
      "\n",
      "[note] initialising nlpm, please load modules using .load(list)\n",
      "[note] loading modules ...\n",
      "[note] making module summary labels...\n",
      "[note] training  [gt] [RandomForestClassifier()] [accuracy,1.0]\n",
      "[note] using cached ner catboost model\n",
      "[note] models trained!\n"
     ]
    },
    {
     "data": {
      "text/plain": [
       "dict_keys(['flights', 'penguins', 'taxis', 'titanic', 'dmpg'])"
      ]
     },
     "execution_count": 1,
     "metadata": {},
     "output_type": "execute_result"
    }
   ],
   "source": [
    "import pandas as pd\n",
    "import numpy as np\n",
    "from sklearn.model_selection import train_test_split\n",
    "from mllibs.nlpm import nlpm\n",
    "from mllibs.nlpi import nlpi\n",
    "from mllibs.eda.meda_scplot import eda_scplot\n",
    "from mllibs.eda.meda_splot import eda_splot\n",
    "from mllibs.stats.mstats_tests import stats_tests\n",
    "from mllibs.stats.mstats_plot import stats_plot\n",
    "from mllibs.stats.mstats_general import stats_general\n",
    "from mllibs.libop.mlibop import libop_general\n",
    "from mllibs.pd.mpd_dfop import pd_dfop\n",
    "from mllibs.signal.mfourier_all import fourier_all\n",
    "\n",
    "# nlpi.activate = False\n",
    "c = nlpm()\n",
    "# c.reset_models()\n",
    "c.load([\n",
    "\t\t\teda_splot(),     # [eda] standard seaborn plots\n",
    "\t\t\teda_scplot(),    # [eda] seaborn column plots\n",
    "\t\t\tstats_tests(),   # [stats] statistical tests for list data\n",
    "\t\t\tstats_general(), # [stats] \n",
    "\t\t\tstats_plot(),    # [stats] visually compare sample distributions\n",
    "\t\t\tlibop_general(), # [library] mllibs related functionality\n",
    "\t\t\tpd_dfop(),       # [eda] pandas data exploration \n",
    "\t\t\tfourier_all()    # [signal] fast fourier transformation related\n",
    "\t])\n",
    "\n",
    "c.setup()\n",
    "i = nlpi(c)\n",
    "i.load_sample_data()\n",
    "i.data.keys()"
   ]
  },
  {
   "cell_type": "code",
   "execution_count": 2,
   "id": "d4c5aecf-bbb3-4394-9990-34cc5f63c240",
   "metadata": {},
   "outputs": [],
   "source": [
    "# '''\n",
    "\n",
    "#     Example for mstats_tests module\n",
    "\n",
    "# '''\n",
    "\n",
    "# # store data\n",
    "# sample1 = list(np.random.normal(scale=1, size=1000))\n",
    "# sample2 = list(np.random.rand(500))\n",
    "# sample3 = list(np.random.exponential(scale=1, size=1000))\n",
    "# sample4 = list(np.random.normal(scale=1, size=1000))\n",
    "# sample5 = list(np.random.normal(scale=1, size=1000))\n",
    "# df = pd.DataFrame({'distA':sample1,'distC':sample3,'distD':sample5})\n",
    "\n",
    "# nlpi.store_data(df,'datas')\n",
    "# nlpi.store_data({'distrA':sample1,'distrB':sample2})\n",
    "# nlpi.store_data(sample3,'distrC')\n",
    "\n",
    "# store active columns\n",
    "i.store_ac('penguins','selected_columns',['bill_length_mm','bill_depth_mm'])"
   ]
  },
  {
   "cell_type": "code",
   "execution_count": null,
   "id": "7ba5b115",
   "metadata": {},
   "outputs": [],
   "source": [
    "# i.module.corpus_subset\n",
    "# i.module.corpus_gt"
   ]
  },
  {
   "cell_type": "code",
   "execution_count": 2,
   "id": "ead6f9b9",
   "metadata": {},
   "outputs": [
    {
     "name": "stdout",
     "output_type": "stream",
     "text": [
      "                       precision    recall  f1-score   support\n",
      "\n",
      "        param_defined       1.00      1.00      1.00        14\n",
      "    param_defined_col       1.00      1.00      1.00        14\n",
      "param_defined_col_row       1.00      1.00      1.00        14\n",
      "        xy_col_column       1.00      1.00      1.00         9\n",
      "           xy_col_row       1.00      1.00      1.00        13\n",
      "            xy_column       1.00      1.00      1.00         9\n",
      "\n",
      "             accuracy                           1.00        73\n",
      "            macro avg       1.00      1.00      1.00        73\n",
      "         weighted avg       1.00      1.00      1.00        73\n",
      "\n",
      "[[2.14710547e-01 7.84760795e-01 3.50705028e-04 5.28469738e-05\n",
      "  7.21427586e-05 5.29638075e-05]]\n",
      "1\n",
      "['param_defined' 'param_defined_col' 'param_defined_col_row'\n",
      " 'xy_col_column' 'xy_col_row' 'xy_column']\n"
     ]
    }
   ],
   "source": [
    "from sklearn.feature_extraction.text import CountVectorizer,TfidfVectorizer\n",
    "# from sklearn.preprocessing import StandardScaler, MaxAbsScaler\n",
    "from sklearn.pipeline import Pipeline\n",
    "from sklearn.tree import DecisionTreeClassifier\n",
    "from sklearn.ensemble import RandomForestClassifier\n",
    "from sklearn.ensemble import GradientBoostingClassifier\n",
    "from sklearn.metrics import classification_report\n",
    "\n",
    "def create_corpus_sub_model(X,y):\n",
    "\n",
    "    '''\n",
    "\t\n",
    "    data : dict {'label':[corpus]} format \n",
    "\t\n",
    "    '''\n",
    "\n",
    "    # Create a pipeline with CountVectorizer and RandomForestClassifier\n",
    "    pipeline = Pipeline([\n",
    "        ('vect', TfidfVectorizer(tokenizer=lambda x: x.split(),ngram_range=(1,3),stop_words=['a','the'])),\n",
    "        ('clf', GradientBoostingClassifier())\n",
    "    ])\n",
    "\n",
    "    # Fit the pipeline on the training data\n",
    "    pipeline.fit(X,y)\n",
    "    y_pred = pipeline.predict(X)\n",
    "\n",
    "    # Print classification report\n",
    "    print(classification_report(y, y_pred))\n",
    "    return pipeline\n",
    "\n",
    "ls = i.module.corpus_subset['srelplot']\n",
    "X,y = ls['text'],ls['label']\n",
    "\n",
    "pipeline_ml = create_corpus_sub_model(X,y)\n",
    "pp = pipeline_ml.predict_proba(['using data -df create relplot using ~x -column ~y -column ~hue -column'])\n",
    "print(pp); print(pp.argmax())\n",
    "print(pipeline_ml.classes_)\n",
    "# pipeline_ml.classes_[pp.argmax()]\n"
   ]
  },
  {
   "cell_type": "code",
   "execution_count": null,
   "id": "bbec3f03",
   "metadata": {},
   "outputs": [],
   "source": [
    "pd.DataFrame({'classes':list(pipeline_ml.classes_),'pp':list(pp[0])}).sort_values(by='pp',ascending=False)\n",
    "\n",
    "# using data -df create relplot using ~x -column ~y -column ~hue -column\n",
    "\n",
    "# list(pipeline_ml.classes_)\n",
    "# list(pp)"
   ]
  },
  {
   "cell_type": "code",
   "execution_count": null,
   "id": "9b68657f",
   "metadata": {},
   "outputs": [],
   "source": [
    "# pd.DataFrame({'vocab':list(pipeline_ml['vect'].vocabulary_),\n",
    "#               'idf':list(pipeline_ml['vect'].idf_)}).sort_values(by='idf',ascending=False)\n",
    "\n",
    "\n",
    "# word_list = list(pipeline_ml['vect'].vocabulary_.keys())\n",
    "# counts = list(pipeline_ml['vect'].fit_transform(ls['text']).toarray().sum(axis=0))\n",
    "# pd.DataFrame({'vocab':word_list,'counts':counts})\n"
   ]
  },
  {
   "cell_type": "markdown",
   "id": "857ae576",
   "metadata": {},
   "source": [
    "## **meda_splot**"
   ]
  },
  {
   "cell_type": "code",
   "execution_count": 6,
   "id": "e74f98e7",
   "metadata": {},
   "outputs": [
    {
     "name": "stdout",
     "output_type": "stream",
     "text": [
      "[note] setting module_args parameters\n",
      "{'x': 'bill_length_mm', 'y': 'bill_depth_mm', 'mew': 1, 'mec': 'k', 'hue': 'island'}\n",
      "[note] found relevant global task [sscatterplot] w/ [0.49] certainty!\n",
      "[note] found sub_task [param_defined] w/ [0.98] certainty!\n"
     ]
    },
    {
     "data": {
      "image/png": "[encoded data removed]",
      "text/plain": [
       "<Figure size 500x500 with 1 Axes>"
      ]
     },
     "metadata": {},
     "output_type": "display_data"
    }
   ],
   "source": [
    "# nlpi.silent = False\n",
    "nlpi.pp['figsize'] = (5,5)\n",
    "nlpi.pp['title'] = 'This is a plot about Penguins!'\n",
    "i['use data penguins and create a seaborn scatterplot using x bill_length_mm and y bill_depth_mm mew 1 mec k set hue to island']\n",
    "# i['using data penguins create relplot using x bill_length_mm and y bill_depth_mm for different sex setting hue to island mew 1 mec k']"
   ]
  },
  {
   "cell_type": "code",
   "execution_count": null,
   "id": "2ed736e9",
   "metadata": {},
   "outputs": [],
   "source": [
    "ls = i.module.corpus_subset['srelplot']\n",
    "with pd.option_context('display.max_colwidth', None):\n",
    "\tdisplay(ls[ls['label'] == 'xy_column'])\n",
    "\n"
   ]
  },
  {
   "cell_type": "code",
   "execution_count": 4,
   "id": "de8cab6e",
   "metadata": {},
   "outputs": [
    {
     "data": {
      "text/html": [
       "<div>\n",
       "<style scoped>\n",
       "    .dataframe tbody tr th:only-of-type {\n",
       "        vertical-align: middle;\n",
       "    }\n",
       "\n",
       "    .dataframe tbody tr th {\n",
       "        vertical-align: top;\n",
       "    }\n",
       "\n",
       "    .dataframe thead th {\n",
       "        text-align: right;\n",
       "    }\n",
       "</style>\n",
       "<table border=\"1\" class=\"dataframe\">\n",
       "  <thead>\n",
       "    <tr style=\"text-align: right;\">\n",
       "      <th></th>\n",
       "      <th>token</th>\n",
       "      <th>index_id</th>\n",
       "      <th>type</th>\n",
       "      <th>ac</th>\n",
       "      <th>ner_tags</th>\n",
       "      <th>data</th>\n",
       "      <th>dtype</th>\n",
       "      <th>column</th>\n",
       "      <th>ttype</th>\n",
       "      <th>ttype_storage</th>\n",
       "      <th>token_arg</th>\n",
       "      <th>token_argv</th>\n",
       "      <th>vocab</th>\n",
       "      <th>keep_token</th>\n",
       "    </tr>\n",
       "  </thead>\n",
       "  <tbody>\n",
       "    <tr>\n",
       "      <th>0</th>\n",
       "      <td>using</td>\n",
       "      <td>0</td>\n",
       "      <td>uni</td>\n",
       "      <td>None</td>\n",
       "      <td>B-TOKEN_REMOVE</td>\n",
       "      <td>NaN</td>\n",
       "      <td>NaN</td>\n",
       "      <td>NaN</td>\n",
       "      <td>str</td>\n",
       "      <td>using</td>\n",
       "      <td>False</td>\n",
       "      <td>0</td>\n",
       "      <td>True</td>\n",
       "      <td>False</td>\n",
       "    </tr>\n",
       "    <tr>\n",
       "      <th>1</th>\n",
       "      <td>data</td>\n",
       "      <td>1</td>\n",
       "      <td>uni</td>\n",
       "      <td>None</td>\n",
       "      <td>I-TOKEN_REMOVE</td>\n",
       "      <td>NaN</td>\n",
       "      <td>NaN</td>\n",
       "      <td>NaN</td>\n",
       "      <td>str</td>\n",
       "      <td>data</td>\n",
       "      <td>False</td>\n",
       "      <td>0</td>\n",
       "      <td>True</td>\n",
       "      <td>False</td>\n",
       "    </tr>\n",
       "    <tr>\n",
       "      <th>2</th>\n",
       "      <td>penguins</td>\n",
       "      <td>2</td>\n",
       "      <td>uni</td>\n",
       "      <td>None</td>\n",
       "      <td>O</td>\n",
       "      <td>0.0</td>\n",
       "      <td>pd.DataFrame</td>\n",
       "      <td>NaN</td>\n",
       "      <td>str</td>\n",
       "      <td>penguins</td>\n",
       "      <td>False</td>\n",
       "      <td>0</td>\n",
       "      <td>False</td>\n",
       "      <td>False</td>\n",
       "    </tr>\n",
       "    <tr>\n",
       "      <th>3</th>\n",
       "      <td>create</td>\n",
       "      <td>3</td>\n",
       "      <td>uni</td>\n",
       "      <td>None</td>\n",
       "      <td>O</td>\n",
       "      <td>NaN</td>\n",
       "      <td>NaN</td>\n",
       "      <td>NaN</td>\n",
       "      <td>str</td>\n",
       "      <td>create</td>\n",
       "      <td>False</td>\n",
       "      <td>0</td>\n",
       "      <td>True</td>\n",
       "      <td>False</td>\n",
       "    </tr>\n",
       "    <tr>\n",
       "      <th>4</th>\n",
       "      <td>relplot</td>\n",
       "      <td>4</td>\n",
       "      <td>uni</td>\n",
       "      <td>None</td>\n",
       "      <td>O</td>\n",
       "      <td>NaN</td>\n",
       "      <td>NaN</td>\n",
       "      <td>NaN</td>\n",
       "      <td>str</td>\n",
       "      <td>relplot</td>\n",
       "      <td>False</td>\n",
       "      <td>0</td>\n",
       "      <td>True</td>\n",
       "      <td>False</td>\n",
       "    </tr>\n",
       "    <tr>\n",
       "      <th>5</th>\n",
       "      <td>using</td>\n",
       "      <td>5</td>\n",
       "      <td>uni</td>\n",
       "      <td>None</td>\n",
       "      <td>B-TOKEN_REMOVE</td>\n",
       "      <td>NaN</td>\n",
       "      <td>NaN</td>\n",
       "      <td>NaN</td>\n",
       "      <td>str</td>\n",
       "      <td>using</td>\n",
       "      <td>False</td>\n",
       "      <td>0</td>\n",
       "      <td>True</td>\n",
       "      <td>True</td>\n",
       "    </tr>\n",
       "    <tr>\n",
       "      <th>6</th>\n",
       "      <td>selected_columns</td>\n",
       "      <td>6</td>\n",
       "      <td>uni</td>\n",
       "      <td>True</td>\n",
       "      <td>O</td>\n",
       "      <td>NaN</td>\n",
       "      <td>NaN</td>\n",
       "      <td>penguins</td>\n",
       "      <td>str</td>\n",
       "      <td>selected_columns</td>\n",
       "      <td>False</td>\n",
       "      <td>0</td>\n",
       "      <td>False</td>\n",
       "      <td>False</td>\n",
       "    </tr>\n",
       "    <tr>\n",
       "      <th>7</th>\n",
       "      <td>for</td>\n",
       "      <td>7</td>\n",
       "      <td>uni</td>\n",
       "      <td>None</td>\n",
       "      <td>O</td>\n",
       "      <td>NaN</td>\n",
       "      <td>NaN</td>\n",
       "      <td>NaN</td>\n",
       "      <td>str</td>\n",
       "      <td>for</td>\n",
       "      <td>False</td>\n",
       "      <td>0</td>\n",
       "      <td>True</td>\n",
       "      <td>False</td>\n",
       "    </tr>\n",
       "    <tr>\n",
       "      <th>8</th>\n",
       "      <td>all</td>\n",
       "      <td>8</td>\n",
       "      <td>uni</td>\n",
       "      <td>None</td>\n",
       "      <td>O</td>\n",
       "      <td>NaN</td>\n",
       "      <td>NaN</td>\n",
       "      <td>NaN</td>\n",
       "      <td>str</td>\n",
       "      <td>all</td>\n",
       "      <td>False</td>\n",
       "      <td>0</td>\n",
       "      <td>False</td>\n",
       "      <td>False</td>\n",
       "    </tr>\n",
       "    <tr>\n",
       "      <th>9</th>\n",
       "      <td>island</td>\n",
       "      <td>9</td>\n",
       "      <td>uni</td>\n",
       "      <td>None</td>\n",
       "      <td>O</td>\n",
       "      <td>NaN</td>\n",
       "      <td>NaN</td>\n",
       "      <td>penguins</td>\n",
       "      <td>str</td>\n",
       "      <td>island</td>\n",
       "      <td>False</td>\n",
       "      <td>0</td>\n",
       "      <td>False</td>\n",
       "      <td>False</td>\n",
       "    </tr>\n",
       "    <tr>\n",
       "      <th>10</th>\n",
       "      <td>and</td>\n",
       "      <td>10</td>\n",
       "      <td>uni</td>\n",
       "      <td>None</td>\n",
       "      <td>O</td>\n",
       "      <td>NaN</td>\n",
       "      <td>NaN</td>\n",
       "      <td>NaN</td>\n",
       "      <td>str</td>\n",
       "      <td>and</td>\n",
       "      <td>False</td>\n",
       "      <td>0</td>\n",
       "      <td>False</td>\n",
       "      <td>False</td>\n",
       "    </tr>\n",
       "    <tr>\n",
       "      <th>11</th>\n",
       "      <td>all</td>\n",
       "      <td>11</td>\n",
       "      <td>uni</td>\n",
       "      <td>None</td>\n",
       "      <td>O</td>\n",
       "      <td>NaN</td>\n",
       "      <td>NaN</td>\n",
       "      <td>NaN</td>\n",
       "      <td>str</td>\n",
       "      <td>all</td>\n",
       "      <td>False</td>\n",
       "      <td>0</td>\n",
       "      <td>False</td>\n",
       "      <td>False</td>\n",
       "    </tr>\n",
       "    <tr>\n",
       "      <th>12</th>\n",
       "      <td>sex</td>\n",
       "      <td>12</td>\n",
       "      <td>uni</td>\n",
       "      <td>None</td>\n",
       "      <td>O</td>\n",
       "      <td>NaN</td>\n",
       "      <td>NaN</td>\n",
       "      <td>penguins</td>\n",
       "      <td>str</td>\n",
       "      <td>sex</td>\n",
       "      <td>False</td>\n",
       "      <td>0</td>\n",
       "      <td>False</td>\n",
       "      <td>False</td>\n",
       "    </tr>\n",
       "  </tbody>\n",
       "</table>\n",
       "</div>"
      ],
      "text/plain": [
       "               token  index_id type    ac        ner_tags  data         dtype  \\\n",
       "0              using         0  uni  None  B-TOKEN_REMOVE   NaN           NaN   \n",
       "1               data         1  uni  None  I-TOKEN_REMOVE   NaN           NaN   \n",
       "2           penguins         2  uni  None               O   0.0  pd.DataFrame   \n",
       "3             create         3  uni  None               O   NaN           NaN   \n",
       "4            relplot         4  uni  None               O   NaN           NaN   \n",
       "5              using         5  uni  None  B-TOKEN_REMOVE   NaN           NaN   \n",
       "6   selected_columns         6  uni  True               O   NaN           NaN   \n",
       "7                for         7  uni  None               O   NaN           NaN   \n",
       "8                all         8  uni  None               O   NaN           NaN   \n",
       "9             island         9  uni  None               O   NaN           NaN   \n",
       "10               and        10  uni  None               O   NaN           NaN   \n",
       "11               all        11  uni  None               O   NaN           NaN   \n",
       "12               sex        12  uni  None               O   NaN           NaN   \n",
       "\n",
       "      column ttype     ttype_storage  token_arg  token_argv  vocab  keep_token  \n",
       "0        NaN   str             using      False           0   True       False  \n",
       "1        NaN   str              data      False           0   True       False  \n",
       "2        NaN   str          penguins      False           0  False       False  \n",
       "3        NaN   str            create      False           0   True       False  \n",
       "4        NaN   str           relplot      False           0   True       False  \n",
       "5        NaN   str             using      False           0   True        True  \n",
       "6   penguins   str  selected_columns      False           0  False       False  \n",
       "7        NaN   str               for      False           0   True       False  \n",
       "8        NaN   str               all      False           0  False       False  \n",
       "9   penguins   str            island      False           0  False       False  \n",
       "10       NaN   str               and      False           0  False       False  \n",
       "11       NaN   str               all      False           0  False       False  \n",
       "12  penguins   str               sex      False           0  False       False  "
      ]
     },
     "execution_count": 4,
     "metadata": {},
     "output_type": "execute_result"
    }
   ],
   "source": [
    "i.token_info"
   ]
  },
  {
   "cell_type": "code",
   "execution_count": 3,
   "id": "8bf33353-e04b-42a0-ad8e-e3e339d52efb",
   "metadata": {},
   "outputs": [
    {
     "name": "stdout",
     "output_type": "stream",
     "text": [
      "\n",
      "##################################################################\n",
      "\n",
      "[note] extracting parameters from input request!\n",
      "\n",
      "[note] input request:\n",
      "using data penguins create relplot using selected_columns\n",
      "for all island and all sex\n",
      "\n",
      "[note] data sources have been found\n",
      "{'list': [], 'df': ['penguins']}\n",
      "[note] no parameters found!\n",
      "extracted [subset] parameters\n",
      "{'column': [['bill_length_mm', 'bill_depth_mm'], 'island', 'sex']}\n",
      "1\n",
      "['using', 'data', '-df', 'create', 'relplot', 'using', '-column', 'for', 'all', '-column', 'and', 'all', '-column']\n",
      "1-1\n",
      "['selected_columns']\n",
      "2\n",
      "using data -df create relplot using -column for all -column and all -column -column\n",
      "\n",
      "[note] filtered request:\n",
      "using data -df create relplot using -column for all -column and all -column -column\n",
      "\n",
      "##################################################################\n",
      "\n",
      "[note] found relevant global task [srelplot] w/ [0.47] certainty!\n",
      "[note] found sub_task [param_defined_col_row] w/ [0.32] certainty!\n",
      "\n",
      "[note] module function info\n",
      "Create a seaborn relation plot using relplot, we can use\n",
      "columns and rows to show differences in data\n",
      "\n"
     ]
    },
    {
     "ename": "ValueError",
     "evalue": "The following variables cannot be assigned with wide-form data: `row`, `col`",
     "output_type": "error",
     "traceback": [
      "\u001b[0;31m---------------------------------------------------------------------------\u001b[0m",
      "\u001b[0;31mValueError\u001b[0m                                Traceback (most recent call last)",
      "Cell \u001b[0;32mIn[3], line 2\u001b[0m\n\u001b[1;32m      1\u001b[0m nlpi\u001b[38;5;241m.\u001b[39msilent \u001b[38;5;241m=\u001b[39m \u001b[38;5;28;01mFalse\u001b[39;00m\n\u001b[0;32m----> 2\u001b[0m \u001b[43mi\u001b[49m\u001b[43m[\u001b[49m\u001b[38;5;124;43m'\u001b[39;49m\u001b[38;5;124;43musing data penguins create relplot using selected_columns for all island and all sex\u001b[39;49m\u001b[38;5;124;43m'\u001b[39;49m\u001b[43m]\u001b[49m\n",
      "File \u001b[0;32m~/miniconda3/lib/python3.12/site-packages/mllibs/nlpi.py:415\u001b[0m, in \u001b[0;36mnlpi.__getitem__\u001b[0;34m(self, command)\u001b[0m\n\u001b[1;32m    414\u001b[0m \u001b[38;5;28;01mdef\u001b[39;00m \u001b[38;5;21m__getitem__\u001b[39m(\u001b[38;5;28mself\u001b[39m,command:\u001b[38;5;28mstr\u001b[39m):\n\u001b[0;32m--> 415\u001b[0m \t\u001b[38;5;28;43mself\u001b[39;49m\u001b[38;5;241;43m.\u001b[39;49m\u001b[43mquery\u001b[49m\u001b[43m(\u001b[49m\u001b[43mcommand\u001b[49m\u001b[43m,\u001b[49m\u001b[43margs\u001b[49m\u001b[38;5;241;43m=\u001b[39;49m\u001b[38;5;28;43;01mNone\u001b[39;49;00m\u001b[43m)\u001b[49m\n",
      "File \u001b[0;32m~/miniconda3/lib/python3.12/site-packages/mllibs/nlpi.py:418\u001b[0m, in \u001b[0;36mnlpi.query\u001b[0;34m(self, command, args)\u001b[0m\n\u001b[1;32m    417\u001b[0m \u001b[38;5;28;01mdef\u001b[39;00m \u001b[38;5;21mquery\u001b[39m(\u001b[38;5;28mself\u001b[39m,command:\u001b[38;5;28mstr\u001b[39m,args:\u001b[38;5;28mdict\u001b[39m\u001b[38;5;241m=\u001b[39m\u001b[38;5;28;01mNone\u001b[39;00m):                        \n\u001b[0;32m--> 418\u001b[0m \t\u001b[38;5;28;43mself\u001b[39;49m\u001b[38;5;241;43m.\u001b[39;49m\u001b[43mdo\u001b[49m\u001b[43m(\u001b[49m\u001b[43mcommand\u001b[49m\u001b[38;5;241;43m=\u001b[39;49m\u001b[43mcommand\u001b[49m\u001b[43m,\u001b[49m\u001b[43margs\u001b[49m\u001b[38;5;241;43m=\u001b[39;49m\u001b[43margs\u001b[49m\u001b[43m)\u001b[49m\n",
      "File \u001b[0;32m~/miniconda3/lib/python3.12/site-packages/mllibs/nlpi.py:2175\u001b[0m, in \u001b[0;36mnlpi.do\u001b[0;34m(self, command, args)\u001b[0m\n\u001b[1;32m   2172\u001b[0m nlpi\u001b[38;5;241m.\u001b[39mmemory_info \u001b[38;5;241m=\u001b[39m pd\u001b[38;5;241m.\u001b[39mconcat(\u001b[38;5;28mself\u001b[39m\u001b[38;5;241m.\u001b[39mmemory_stack,axis\u001b[38;5;241m=\u001b[39m\u001b[38;5;241m1\u001b[39m) \u001b[38;5;66;03m# stack task information order\u001b[39;00m\n\u001b[1;32m   2174\u001b[0m \u001b[38;5;66;03m# activate function [module_name] & pass [module_args]\u001b[39;00m\n\u001b[0;32m-> 2175\u001b[0m \u001b[38;5;28;43mself\u001b[39;49m\u001b[38;5;241;43m.\u001b[39;49m\u001b[43mmodule\u001b[49m\u001b[38;5;241;43m.\u001b[39;49m\u001b[43mmodules\u001b[49m\u001b[43m[\u001b[49m\u001b[38;5;28;43mself\u001b[39;49m\u001b[38;5;241;43m.\u001b[39;49m\u001b[43mmodule_name\u001b[49m\u001b[43m]\u001b[49m\u001b[38;5;241;43m.\u001b[39;49m\u001b[43msel\u001b[49m\u001b[43m(\u001b[49m\u001b[38;5;28;43mself\u001b[39;49m\u001b[38;5;241;43m.\u001b[39;49m\u001b[43mmodule_args\u001b[49m\u001b[43m)\u001b[49m\n\u001b[1;32m   2177\u001b[0m \u001b[38;5;28;01mif\u001b[39;00m(\u001b[38;5;28mlen\u001b[39m(nlpi\u001b[38;5;241m.\u001b[39mmemory_output) \u001b[38;5;241m==\u001b[39m nlpi\u001b[38;5;241m.\u001b[39miter\u001b[38;5;241m+\u001b[39m\u001b[38;5;241m1\u001b[39m):\n\u001b[1;32m   2178\u001b[0m \t\u001b[38;5;28;01mpass\u001b[39;00m\n",
      "File \u001b[0;32m~/miniconda3/lib/python3.12/site-packages/mllibs/eda/meda_splot.py:255\u001b[0m, in \u001b[0;36meda_splot.sel\u001b[0;34m(self, args)\u001b[0m\n\u001b[1;32m    252\u001b[0m \targs \u001b[38;5;241m=\u001b[39m {key: value \u001b[38;5;28;01mfor\u001b[39;00m key, value \u001b[38;5;129;01min\u001b[39;00m args\u001b[38;5;241m.\u001b[39mitems() \u001b[38;5;28;01mif\u001b[39;00m key \u001b[38;5;129;01mnot\u001b[39;00m \u001b[38;5;129;01min\u001b[39;00m keys_to_remove}\n\u001b[1;32m    254\u001b[0m \t\u001b[38;5;66;03m# call relplot\u001b[39;00m\n\u001b[0;32m--> 255\u001b[0m \t\u001b[38;5;28;43mself\u001b[39;49m\u001b[38;5;241;43m.\u001b[39;49m\u001b[43msrelplot\u001b[49m\u001b[43m(\u001b[49m\u001b[43margs\u001b[49m\u001b[43m)\u001b[49m\n\u001b[1;32m    257\u001b[0m \u001b[38;5;28;01melse\u001b[39;00m:\n\u001b[1;32m    258\u001b[0m \t\u001b[38;5;28mprint\u001b[39m(\u001b[38;5;124m'\u001b[39m\u001b[38;5;124m[note] no dataframe data sources specified\u001b[39m\u001b[38;5;124m'\u001b[39m)\n",
      "File \u001b[0;32m~/miniconda3/lib/python3.12/site-packages/mllibs/eda/meda_splot.py:361\u001b[0m, in \u001b[0;36meda_splot.srelplot\u001b[0;34m(self, args)\u001b[0m\n\u001b[1;32m    358\u001b[0m \u001b[38;5;28;01melse\u001b[39;00m:\n\u001b[1;32m    359\u001b[0m \theight \u001b[38;5;241m=\u001b[39m \u001b[38;5;28;01mNone\u001b[39;00m\n\u001b[0;32m--> 361\u001b[0m g \u001b[38;5;241m=\u001b[39m \u001b[43msns\u001b[49m\u001b[38;5;241;43m.\u001b[39;49m\u001b[43mrelplot\u001b[49m\u001b[43m(\u001b[49m\u001b[38;5;241;43m*\u001b[39;49m\u001b[38;5;241;43m*\u001b[39;49m\u001b[43margs\u001b[49m\u001b[43m,\u001b[49m\u001b[43mheight\u001b[49m\u001b[38;5;241;43m=\u001b[39;49m\u001b[43mheight\u001b[49m\u001b[43m)\u001b[49m\n\u001b[1;32m    363\u001b[0m sns\u001b[38;5;241m.\u001b[39mdespine(left\u001b[38;5;241m=\u001b[39m\u001b[38;5;28;01mTrue\u001b[39;00m,bottom\u001b[38;5;241m=\u001b[39m\u001b[38;5;28;01mTrue\u001b[39;00m,right\u001b[38;5;241m=\u001b[39m\u001b[38;5;28;01mTrue\u001b[39;00m,top\u001b[38;5;241m=\u001b[39m\u001b[38;5;28;01mTrue\u001b[39;00m)\n\u001b[1;32m    365\u001b[0m \u001b[38;5;28;01mif\u001b[39;00m(nlpi\u001b[38;5;241m.\u001b[39mpp[\u001b[38;5;124m'\u001b[39m\u001b[38;5;124mtitle\u001b[39m\u001b[38;5;124m'\u001b[39m]):\n",
      "File \u001b[0;32m~/miniconda3/lib/python3.12/site-packages/seaborn/relational.py:804\u001b[0m, in \u001b[0;36mrelplot\u001b[0;34m(data, x, y, hue, size, style, units, weights, row, col, col_wrap, row_order, col_order, palette, hue_order, hue_norm, sizes, size_order, size_norm, markers, dashes, style_order, legend, kind, height, aspect, facet_kws, **kwargs)\u001b[0m\n\u001b[1;32m    802\u001b[0m \u001b[38;5;28;01mif\u001b[39;00m kind \u001b[38;5;241m==\u001b[39m \u001b[38;5;124m\"\u001b[39m\u001b[38;5;124mline\u001b[39m\u001b[38;5;124m\"\u001b[39m:\n\u001b[1;32m    803\u001b[0m     grid_variables\u001b[38;5;241m.\u001b[39mupdate(units\u001b[38;5;241m=\u001b[39munits, weights\u001b[38;5;241m=\u001b[39mweights)\n\u001b[0;32m--> 804\u001b[0m \u001b[43mp\u001b[49m\u001b[38;5;241;43m.\u001b[39;49m\u001b[43massign_variables\u001b[49m\u001b[43m(\u001b[49m\u001b[43mdata\u001b[49m\u001b[43m,\u001b[49m\u001b[43m \u001b[49m\u001b[43mgrid_variables\u001b[49m\u001b[43m)\u001b[49m\n\u001b[1;32m    806\u001b[0m \u001b[38;5;66;03m# Define the named variables for plotting on each facet\u001b[39;00m\n\u001b[1;32m    807\u001b[0m \u001b[38;5;66;03m# Rename the variables with a leading underscore to avoid\u001b[39;00m\n\u001b[1;32m    808\u001b[0m \u001b[38;5;66;03m# collisions with faceting variable names\u001b[39;00m\n\u001b[1;32m    809\u001b[0m plot_variables \u001b[38;5;241m=\u001b[39m {v: \u001b[38;5;124mf\u001b[39m\u001b[38;5;124m\"\u001b[39m\u001b[38;5;124m_\u001b[39m\u001b[38;5;132;01m{\u001b[39;00mv\u001b[38;5;132;01m}\u001b[39;00m\u001b[38;5;124m\"\u001b[39m \u001b[38;5;28;01mfor\u001b[39;00m v \u001b[38;5;129;01min\u001b[39;00m variables}\n",
      "File \u001b[0;32m~/miniconda3/lib/python3.12/site-packages/seaborn/_base.py:673\u001b[0m, in \u001b[0;36mVectorPlotter.assign_variables\u001b[0;34m(self, data, variables)\u001b[0m\n\u001b[1;32m    671\u001b[0m \u001b[38;5;28;01mif\u001b[39;00m x \u001b[38;5;129;01mis\u001b[39;00m \u001b[38;5;28;01mNone\u001b[39;00m \u001b[38;5;129;01mand\u001b[39;00m y \u001b[38;5;129;01mis\u001b[39;00m \u001b[38;5;28;01mNone\u001b[39;00m:\n\u001b[1;32m    672\u001b[0m     \u001b[38;5;28mself\u001b[39m\u001b[38;5;241m.\u001b[39minput_format \u001b[38;5;241m=\u001b[39m \u001b[38;5;124m\"\u001b[39m\u001b[38;5;124mwide\u001b[39m\u001b[38;5;124m\"\u001b[39m\n\u001b[0;32m--> 673\u001b[0m     frame, names \u001b[38;5;241m=\u001b[39m \u001b[38;5;28;43mself\u001b[39;49m\u001b[38;5;241;43m.\u001b[39;49m\u001b[43m_assign_variables_wideform\u001b[49m\u001b[43m(\u001b[49m\u001b[43mdata\u001b[49m\u001b[43m,\u001b[49m\u001b[43m \u001b[49m\u001b[38;5;241;43m*\u001b[39;49m\u001b[38;5;241;43m*\u001b[39;49m\u001b[43mvariables\u001b[49m\u001b[43m)\u001b[49m\n\u001b[1;32m    674\u001b[0m \u001b[38;5;28;01melse\u001b[39;00m:\n\u001b[1;32m    675\u001b[0m     \u001b[38;5;66;03m# When dealing with long-form input, use the newer PlotData\u001b[39;00m\n\u001b[1;32m    676\u001b[0m     \u001b[38;5;66;03m# object (internal but introduced for the objects interface)\u001b[39;00m\n\u001b[1;32m    677\u001b[0m     \u001b[38;5;66;03m# to centralize / standardize data consumption logic.\u001b[39;00m\n\u001b[1;32m    678\u001b[0m     \u001b[38;5;28mself\u001b[39m\u001b[38;5;241m.\u001b[39minput_format \u001b[38;5;241m=\u001b[39m \u001b[38;5;124m\"\u001b[39m\u001b[38;5;124mlong\u001b[39m\u001b[38;5;124m\"\u001b[39m\n",
      "File \u001b[0;32m~/miniconda3/lib/python3.12/site-packages/seaborn/_base.py:723\u001b[0m, in \u001b[0;36mVectorPlotter._assign_variables_wideform\u001b[0;34m(self, data, **kwargs)\u001b[0m\n\u001b[1;32m    721\u001b[0m     err \u001b[38;5;241m=\u001b[39m \u001b[38;5;124mf\u001b[39m\u001b[38;5;124m\"\u001b[39m\u001b[38;5;124mThe following variable\u001b[39m\u001b[38;5;132;01m{\u001b[39;00ms\u001b[38;5;132;01m}\u001b[39;00m\u001b[38;5;124m cannot be assigned with wide-form data: \u001b[39m\u001b[38;5;124m\"\u001b[39m\n\u001b[1;32m    722\u001b[0m     err \u001b[38;5;241m+\u001b[39m\u001b[38;5;241m=\u001b[39m \u001b[38;5;124m\"\u001b[39m\u001b[38;5;124m, \u001b[39m\u001b[38;5;124m\"\u001b[39m\u001b[38;5;241m.\u001b[39mjoin(\u001b[38;5;124mf\u001b[39m\u001b[38;5;124m\"\u001b[39m\u001b[38;5;124m`\u001b[39m\u001b[38;5;132;01m{\u001b[39;00mv\u001b[38;5;132;01m}\u001b[39;00m\u001b[38;5;124m`\u001b[39m\u001b[38;5;124m\"\u001b[39m \u001b[38;5;28;01mfor\u001b[39;00m v \u001b[38;5;129;01min\u001b[39;00m assigned)\n\u001b[0;32m--> 723\u001b[0m     \u001b[38;5;28;01mraise\u001b[39;00m \u001b[38;5;167;01mValueError\u001b[39;00m(err)\n\u001b[1;32m    725\u001b[0m \u001b[38;5;66;03m# Determine if the data object actually has any data in it\u001b[39;00m\n\u001b[1;32m    726\u001b[0m empty \u001b[38;5;241m=\u001b[39m data \u001b[38;5;129;01mis\u001b[39;00m \u001b[38;5;28;01mNone\u001b[39;00m \u001b[38;5;129;01mor\u001b[39;00m \u001b[38;5;129;01mnot\u001b[39;00m \u001b[38;5;28mlen\u001b[39m(data)\n",
      "\u001b[0;31mValueError\u001b[0m: The following variables cannot be assigned with wide-form data: `row`, `col`"
     ]
    }
   ],
   "source": [
    "nlpi.silent = False\n",
    "i['using data penguins create relplot using selected_columns for all island and all sex']"
   ]
  },
  {
   "cell_type": "code",
   "execution_count": 6,
   "id": "dde753e6",
   "metadata": {},
   "outputs": [
    {
     "name": "stdout",
     "output_type": "stream",
     "text": [
      "6\n",
      "2\n",
      "using data -df create relplot using -column for all -column and all -column -column\n"
     ]
    },
    {
     "data": {
      "text/plain": [
       "'using data -df create relplot using -column for all -column and all -column -column'"
      ]
     },
     "execution_count": 6,
     "metadata": {},
     "output_type": "execute_result"
    }
   ],
   "source": [
    "\n",
    "def ac_adjustment():\n",
    "\n",
    "    '''\n",
    "    ///////////////////////////////////////////////////////////////\n",
    "    \n",
    "    Adjust the input user request to take into account active column name size\n",
    "\n",
    "    Active columns can contain multiple column names, the ac treatment is to \n",
    "    group columns and give them a temporary ac_name or \n",
    "    \n",
    "    ///////////////////////////////////////////////////////////////\n",
    "    '''\n",
    "\n",
    "    ti_tokens = list(i.token_info['token'])  # tokens \n",
    "    tokens_request = i.module_args['request'].split(' ') # request tokens\n",
    "    ac_list = i.token_info[i.token_info['ac'] == True]['token'].tolist() # list of active column tokens\n",
    "\n",
    "    # index of active column name in [ti_tokens]\n",
    "    idx_ac_list = []\n",
    "    for _ in ac_list:\n",
    "        idx_ac_list.append(ti_tokens.index(_))\n",
    "\n",
    "    len_idx_ac_list = len(i.tac_data[ac_list[0]])\n",
    "\n",
    "    n = len_idx_ac_list - 1  # number of times to duplicate the replaced ac name\n",
    "    index_to_duplicate = idx_ac_list[0]  # assume only one active column is used\n",
    "\n",
    "    # Check if the index is within the range of the list\n",
    "    if index_to_duplicate < len(tokens_request):\n",
    "        # Duplicate the element n times\n",
    "        element_to_duplicate = tokens_request[index_to_duplicate]\n",
    "        duplicated_elements = [element_to_duplicate] * n\n",
    "        \n",
    "        # Update the main list with duplicated elements\n",
    "        tokens_request.extend(duplicated_elements)\n",
    "\n",
    "        print('2')\n",
    "        print(' '.join(tokens_request))\n",
    "\n",
    "        return ' '.join(tokens_request)\n",
    "\n",
    "    else:\n",
    "        return None\n",
    "\n",
    "temp = ac_adjustment()\n",
    "temp\n"
   ]
  },
  {
   "cell_type": "code",
   "execution_count": null,
   "id": "545a3e75-126c-4661-b7e2-f6f22246e611",
   "metadata": {},
   "outputs": [],
   "source": [
    "i['using data penguins create a relplot using columns selected_columns set hue as island']"
   ]
  },
  {
   "cell_type": "code",
   "execution_count": null,
   "id": "2b6abc0d-d7fe-49da-b07c-069fabb570de",
   "metadata": {},
   "outputs": [],
   "source": [
    "i['using data penguins create a relplot using columns selected_columns set hue as island']\n",
    "\n",
    "# i['what data is available to me']\n",
    "# i.setpp({'figsize':[500,900],'template':'plotly_white','title':None})\n",
    "# nlpi.silent = False"
   ]
  },
  {
   "cell_type": "code",
   "execution_count": null,
   "id": "076141e2-d3f2-47a8-af96-a8aa547287b3",
   "metadata": {},
   "outputs": [],
   "source": [
    "# nlpi.silent=False\n",
    "# i['[new_data] as convert a group of lists distrA and distrB into a dataframe and store']"
   ]
  },
  {
   "cell_type": "code",
   "execution_count": null,
   "id": "dc152d4c-162b-4748-8a44-6bafdcc49145",
   "metadata": {},
   "outputs": [],
   "source": [
    "i.store_ac('penguins','selected_columns',['bill_length_mm','bill_depth_mm'])\n",
    "i.sources()"
   ]
  },
  {
   "cell_type": "markdown",
   "id": "9938a032-107d-4ae6-9166-bb45387a381a",
   "metadata": {},
   "source": [
    "## **mlibop**\n",
    "\n",
    "Module used for finding out various information about the library and current statuses"
   ]
  },
  {
   "cell_type": "code",
   "execution_count": null,
   "id": "4b3a490b-b30f-4752-b131-cda75c9d8dbc",
   "metadata": {},
   "outputs": [],
   "source": [
    "i['show me all the data available to me']"
   ]
  },
  {
   "cell_type": "code",
   "execution_count": null,
   "id": "a9d209c4-ec58-4be9-8bdb-2b3bed476055",
   "metadata": {},
   "outputs": [],
   "source": [
    "i['what are all the activation functions available to me']"
   ]
  },
  {
   "cell_type": "markdown",
   "id": "b4d1ac7a-51c7-48ac-9064-29b98142d460",
   "metadata": {},
   "source": [
    "## **mpd_dfop**\n",
    "\n",
    "Module for doing various basic operations using a dataframe as the data source\n",
    "\n",
    "### using entire dataframe"
   ]
  },
  {
   "cell_type": "code",
   "execution_count": null,
   "id": "1f624d10-1a43-46ac-805c-5aee60054e2e",
   "metadata": {},
   "outputs": [],
   "source": [
    "i['show the column names in the dataframe titanic']"
   ]
  },
  {
   "cell_type": "code",
   "execution_count": null,
   "id": "28f368ef-d430-4966-85f0-92b5cdfddb75",
   "metadata": {},
   "outputs": [],
   "source": [
    "i['show the shape of the dataframe titanic']"
   ]
  },
  {
   "cell_type": "code",
   "execution_count": null,
   "id": "59688bea-3790-4898-beb0-5553b94af162",
   "metadata": {},
   "outputs": [],
   "source": [
    "i['show the statistics of dataframe datas']"
   ]
  },
  {
   "cell_type": "code",
   "execution_count": null,
   "id": "e1e6a647-3ad7-4364-85ea-90f558fc8438",
   "metadata": {},
   "outputs": [],
   "source": [
    "i['show the dataframe information for titanic']"
   ]
  },
  {
   "cell_type": "code",
   "execution_count": null,
   "id": "58ef2da3-e3f6-46e5-b853-9a9aefd1da15",
   "metadata": {},
   "outputs": [],
   "source": [
    "i['show the correlation of columns in the dataframe titanic']"
   ]
  },
  {
   "cell_type": "code",
   "execution_count": null,
   "id": "f793e344-13b6-4349-9d21-19197488f68b",
   "metadata": {},
   "outputs": [],
   "source": [
    "i['show the missing data in the dataframe titanic']"
   ]
  },
  {
   "cell_type": "code",
   "execution_count": null,
   "id": "74c7aeaa-65dc-4040-bbf2-085ee944a45c",
   "metadata": {},
   "outputs": [],
   "source": [
    "i['show the column distributions for the dataframe titanic']"
   ]
  },
  {
   "cell_type": "code",
   "execution_count": null,
   "id": "11deb458-a750-4913-b076-4894ba62513e",
   "metadata": {},
   "outputs": [],
   "source": [
    "i['show all the unique values in all columns in dataframe titanic']"
   ]
  },
  {
   "cell_type": "code",
   "execution_count": null,
   "id": "7db01898-9758-495c-b54a-9984da9e275e",
   "metadata": {},
   "outputs": [],
   "source": [
    "i['show the data types of the dataframe titanic']"
   ]
  },
  {
   "cell_type": "markdown",
   "id": "07118106-5656-43c0-b7f3-d72f05a09414",
   "metadata": {},
   "source": [
    "### using a subset of dataframe"
   ]
  },
  {
   "cell_type": "code",
   "execution_count": null,
   "id": "d976271d-cec3-423e-9d75-9b1d6fe5a6f1",
   "metadata": {},
   "outputs": [],
   "source": [
    "i['show the column distributions for the dataframe titanic for the column class']"
   ]
  },
  {
   "cell_type": "code",
   "execution_count": null,
   "id": "2155f5ca-5c33-4512-ab25-4fb58679f7f6",
   "metadata": {
    "scrolled": true
   },
   "outputs": [],
   "source": [
    "i['show all the unique values of columns class and deck in dataframe titanic']"
   ]
  },
  {
   "cell_type": "code",
   "execution_count": null,
   "id": "ae931ae7-820a-4cc8-b701-e16935976fea",
   "metadata": {},
   "outputs": [],
   "source": [
    "i['show the unique values in column class in the dataframe titanic']"
   ]
  },
  {
   "cell_type": "markdown",
   "id": "a5a83bcd-72f2-47fa-8305-76774aad2ea6",
   "metadata": {},
   "source": [
    "### **mstats_tests**\n",
    "\n",
    "Module for conducting different statistical tests using lists as data input"
   ]
  },
  {
   "cell_type": "code",
   "execution_count": null,
   "id": "95a32d8b-4ff0-4d45-9012-9b13d44844de",
   "metadata": {},
   "outputs": [],
   "source": [
    "# independent student ttest (can be different sizes)\n",
    "i['compare the means of two lists distrA distrB using indepentent student ttest']"
   ]
  },
  {
   "cell_type": "code",
   "execution_count": null,
   "id": "038db3e1-a140-4637-aba2-a37c702012c1",
   "metadata": {},
   "outputs": [],
   "source": [
    "# dependent student ttest (must be same list size)\n",
    "i['compare the means of two lists distrA and distrB using dependent students ttest']"
   ]
  },
  {
   "cell_type": "code",
   "execution_count": null,
   "id": "cd507554-2ebe-4dc6-b73b-393e27e67045",
   "metadata": {},
   "outputs": [],
   "source": [
    "# one sample ttest, compare to population mean\n",
    "i['do a single sample ttest of data distrA and set popmean 0.04']"
   ]
  },
  {
   "cell_type": "code",
   "execution_count": null,
   "id": "c5fe961e-c11b-4ba4-bf97-9a530169bada",
   "metadata": {},
   "outputs": [],
   "source": [
    "# Mann Whitney U-Test\n",
    "i['mann whitney utest for dataset distrB and distrA']"
   ]
  },
  {
   "cell_type": "code",
   "execution_count": null,
   "id": "7a87b239-2553-4ee7-937e-9f45eea87c8c",
   "metadata": {},
   "outputs": [],
   "source": [
    "# Kolmogorov Smirnov Test for normality \n",
    "i['ks test for normality using dataset distrA']"
   ]
  },
  {
   "cell_type": "code",
   "execution_count": null,
   "id": "127b0ccb-c74b-479e-bf28-24224d2ada25",
   "metadata": {},
   "outputs": [],
   "source": [
    "# Kolmogorov Smirnov test for uniformity\n",
    "i['please check the dataset distrB for uniformity using the ks test']"
   ]
  },
  {
   "cell_type": "code",
   "execution_count": null,
   "id": "76e565f7-6d16-4868-af41-bc4b5a73d1f3",
   "metadata": {},
   "outputs": [],
   "source": [
    "# Kolmogorov Smirnov test for exponentiality\n",
    "i['using the ks test check the dataset distrC if it is of exponential nature']"
   ]
  },
  {
   "cell_type": "code",
   "execution_count": null,
   "id": "6ffc756d-643c-4c8e-9ca7-a8e06e813b30",
   "metadata": {},
   "outputs": [],
   "source": [
    "# Lilliefors test for normality\n",
    "i['using the lilliefors statistical test check distrA for normality']"
   ]
  },
  {
   "cell_type": "code",
   "execution_count": null,
   "id": "4c7c44e9-68b0-4b9e-8195-ec16dee43342",
   "metadata": {},
   "outputs": [],
   "source": [
    "# One way ANOVA test \n",
    "i['one way anova test to check if there is any difference between distrA distrB distrC']"
   ]
  },
  {
   "cell_type": "code",
   "execution_count": null,
   "id": "f369c6bf-313e-46a5-9253-64b545fa5a8e",
   "metadata": {},
   "outputs": [],
   "source": [
    "# Chi2 \n",
    "i['chi2 statistical test for distrA and distrC']"
   ]
  },
  {
   "cell_type": "markdown",
   "id": "bbc20c45-f0ec-4b5e-a87c-93cb88ce5eed",
   "metadata": {},
   "source": [
    "### **mstats_plot**\n",
    "\n",
    "Module for comparing visually the distribution of different subsets"
   ]
  },
  {
   "cell_type": "code",
   "execution_count": null,
   "id": "f4c006a3-b64f-4e95-8205-6ebac833311a",
   "metadata": {},
   "outputs": [],
   "source": [
    "# plot the histogram distribution for different lists\n",
    "i[\"compare the histograms of two samples distrB, distrC and distrA set nbins 100\"] # dp_hist"
   ]
  },
  {
   "cell_type": "code",
   "execution_count": null,
   "id": "fddc55a6-eea1-4000-965b-a4f3050d828e",
   "metadata": {},
   "outputs": [],
   "source": [
    "i[\"compare the distribution of two datasets distrA distrB and distrC using a kernel density plot\"]"
   ]
  },
  {
   "cell_type": "code",
   "execution_count": null,
   "id": "b0927161-b204-4d5f-9547-87467b902a62",
   "metadata": {},
   "outputs": [],
   "source": [
    "i['compare the boxplot distribution for datasets distrA distrB and distrC']"
   ]
  },
  {
   "cell_type": "code",
   "execution_count": null,
   "id": "fc2344e5-d903-4b33-949b-05937eb1faba",
   "metadata": {},
   "outputs": [],
   "source": [
    "i['please plot the cumulative distribution functions for data distrA and distrB']"
   ]
  },
  {
   "cell_type": "markdown",
   "id": "2664c51b-d877-4779-b9ee-1995deab8e92",
   "metadata": {},
   "source": [
    "### **mstats_general**"
   ]
  },
  {
   "cell_type": "code",
   "execution_count": null,
   "id": "8c673372-1641-41a9-a26d-7f988fcd54d5",
   "metadata": {},
   "outputs": [],
   "source": [
    "i['show the general statistics for distrA distrB and distC']"
   ]
  },
  {
   "cell_type": "code",
   "execution_count": null,
   "id": "ff2e97d6-3908-44d1-a884-e113e5334c33",
   "metadata": {
    "editable": true,
    "slideshow": {
     "slide_type": ""
    },
    "tags": []
   },
   "outputs": [],
   "source": [
    "\n",
    "# i.store_ac('penguins','selected_columns',['bill_length_mm','bill_depth_mm'])\n",
    "\n",
    "# ldata = nlpi.data['iris']['data']\n",
    "# train,test = train_test_split(ldata)\n",
    "# interpreter.store_data({'train':train,'test':test})\n",
    "\n",
    "# breast cancer data\n",
    "cols = ['id', 'diagnosis', 'radius_mean', 'texture_mean', 'perimeter_mean',\n",
    "\t   'area_mean', 'smoothness_mean', 'compactness_mean', 'concavity_mean',\n",
    "\t   'concave points_mean', 'symmetry_mean', 'fractal_dimension_mean',\n",
    "\t   'radius_se', 'texture_se', 'perimeter_se', 'area_se', 'smoothness_se',\n",
    "\t   'compactness_se', 'concavity_se', 'concave points_se', 'symmetry_se',\n",
    "\t   'fractal_dimension_se', 'radius_worst', 'texture_worst',\n",
    "\t   'perimeter_worst', 'area_worst', 'smoothness_worst',\n",
    "\t   'compactness_worst', 'concavity_worst', 'concave points_worst',\n",
    "\t   'symmetry_worst', 'fractal_dimension_worst', 'Unnamed: 32']\n",
    "\n",
    "df = pd.read_csv(\"https://raw.githubusercontent.com/akshaybahadur21/BreastCancer_Classification/master/breast_cancer/cancer_data.csv\",\n",
    "\t\t\t\t names = cols)\n",
    "i.store_data({'breast_data':df})\n",
    "\n",
    "# # customer review data\n",
    "# df = pd.read_csv('https://raw.githubusercontent.com/shtrausslearning/Data-Science-Portfolio/main/sources/customer_reviews.csv',sep=',')\n",
    "# i.store_data({'reviews_data':df})\n",
    "\n",
    "# # customer funds data\n",
    "# df = pd.read_csv('https://raw.githubusercontent.com/shtrausslearning/Data-Science-Portfolio/main/sources/funds_data.csv',delimiter=';')\n",
    "# i.store_data({'customerfunds_data':df})\n",
    "\n",
    "# df = pd.read_csv('https://raw.githubusercontent.com/shtrausslearning/Data-Science-Portfolio/main/sources/stocks.csv',delimiter=',')\n",
    "# i.store_data({'stocks':df})\n",
    "# i.store_ac('penguins','selected_columns',['bill_length_mm','bill_depth_mm'])\n",
    "\n",
    "# df = pd.read_csv('https://raw.githubusercontent.com/shtrausslearning/Data-Science-Portfolio/main/sources/iris.csv',delimiter=',')\n",
    "# i.store_data({'iris_data':df})"
   ]
  },
  {
   "cell_type": "code",
   "execution_count": null,
   "id": "1e8c1ac1-a644-4ca2-8762-dc515a10b3c0",
   "metadata": {},
   "outputs": [],
   "source": [
    "aa = pd.DataFrame({'a':[1,2,3,4],'b':[2,3,4,5]})\n",
    "if(aa is not None):\n",
    "\tprint(aa)"
   ]
  },
  {
   "cell_type": "code",
   "execution_count": null,
   "id": "5cdda07f-4469-4b46-93cf-df7fc3aa178b",
   "metadata": {},
   "outputs": [],
   "source": [
    "print(i.module_args['data'])\n",
    "print(i.module_args['hue'])\n",
    "print(i.module_args['column'])"
   ]
  },
  {
   "cell_type": "markdown",
   "id": "6168da1f-dade-4dbe-8c96-e1278ccc5756",
   "metadata": {},
   "source": [
    "### **meda_splot**\n",
    "\n",
    "#### **srelplot**"
   ]
  },
  {
   "cell_type": "code",
   "execution_count": null,
   "id": "8a72856d-6c06-4deb-9964-5485020ccebd",
   "metadata": {},
   "outputs": [],
   "source": [
    "i.module_args['data']"
   ]
  },
  {
   "cell_type": "code",
   "execution_count": null,
   "id": "5afac011-6ce9-4cf5-8d21-e57ccd8d7382",
   "metadata": {},
   "outputs": [],
   "source": [
    "i.module_args['column']"
   ]
  },
  {
   "cell_type": "code",
   "execution_count": null,
   "id": "584e6700-f070-489c-9911-593b65f57151",
   "metadata": {},
   "outputs": [],
   "source": []
  },
  {
   "cell_type": "code",
   "execution_count": null,
   "id": "20a538d7-d915-43c7-ac5b-838ce32e690d",
   "metadata": {},
   "outputs": [],
   "source": [
    "i.module_args['column']"
   ]
  },
  {
   "cell_type": "code",
   "execution_count": null,
   "id": "fe31fa26-88c6-473f-b848-c2adbd372f62",
   "metadata": {},
   "outputs": [],
   "source": [
    "i[\"create a seaborn relplot to visualise the relationship between bill_depth_mm and bill_length_mm using penguins\"]\n",
    "# i['create a seaborn relplot to visualise the relationship between bill_depth_mm and bill_length_mm for each island using penguins']"
   ]
  },
  {
   "cell_type": "code",
   "execution_count": null,
   "id": "d4959055-6649-4263-ab9b-b73b10667792",
   "metadata": {},
   "outputs": [],
   "source": [
    "i.module_args['column']"
   ]
  },
  {
   "cell_type": "code",
   "execution_count": null,
   "id": "129684da-6646-4285-acd8-29355c3a0d99",
   "metadata": {},
   "outputs": [],
   "source": [
    "'''\n",
    "\n",
    "\tSpecify columns names for x and y \n",
    "\n",
    "'''\n",
    "\n",
    "i['using data penguins create a relplot using columns bill_length_mm and bill_depth_mm also set hue as island']"
   ]
  },
  {
   "cell_type": "code",
   "execution_count": null,
   "id": "16e3d399-c485-4da6-912a-9ea4c64f9583",
   "metadata": {},
   "outputs": [],
   "source": [
    "'''\n",
    "\n",
    "\tSpecify columns names for x and y ( + utilise active column name )\n",
    "\n",
    "'''\n",
    "\n",
    "i.store_ac('penguins','selected_columns',['bill_length_mm','bill_depth_mm'])\n",
    "i['using data penguins create a relplot using columns selected_columns set hue as island']"
   ]
  },
  {
   "cell_type": "code",
   "execution_count": null,
   "id": "dcb77341-16b6-4a41-bca7-62027969e630",
   "metadata": {},
   "outputs": [],
   "source": [
    "i.module_args['column']"
   ]
  },
  {
   "cell_type": "code",
   "execution_count": null,
   "id": "271856c4-c628-4ace-aba2-89b2e266aca8",
   "metadata": {},
   "outputs": [],
   "source": [
    "# i['show a dataset preview for data iris']\n",
    "# i['what columns are available in data penguins']\n",
    "# i['show me all the available data names']\n",
    "# i['using data penguins create a relplot using columns bill_length_mm and flipper_length_mm']\n",
    "i['using data penguins create a relplot using columns selected_columns set hue as island']\n",
    "\n",
    "# i['what data is available to me']\n",
    "# i.setpp({'figsize':[500,900],'template':'plotly_white','title':None})\n",
    "# nlpi.silent = False\n",
    "\n",
    "# i.store_ac('iris','ac_column',['petal_length','petal_width'])\n",
    "# i.store_ac('iris','ac_column2',['petal_length','petal_width'])\n",
    "# i['create a plotly scatterplot using x sepal_length and y petal_length petal_width using iris set s 7 col species']\n",
    "# i['create a plotly scatterplot using x sepal_length and y ac_column using iris set s 7 col species']\n",
    "# i['create a plotly scatterplot using iris and columns x petal_length y petal_width sepal_length set s 7']\n",
    "# i['create a plotly scatterplot using iris for petal_length and petal_width for all species set s 7']\n",
    "# i['create a plotly scatterplot using iris for petal_length and petal_width for all species and sex set s 7']\n",
    "# i['create a plotly scatterplot using penguins plotting the relation between bill_length_mm and bill_depth_mm set s 6 mew 1 mec black']\n",
    "# i['create a plotly scatterplot using x sepal_length and y  using iris set s 7 col species']\n",
    "\n",
    "# i['show all the column names in dataset breast_data']\n",
    "# i['show the dataframe head data for breast_data']\n",
    "# i['show the dataframe preview for breast_data']\n",
    "# i['create plotly scatter plot x bill_length_mm y flipper_length_mm col sex using penguins data']\n",
    "\n",
    "# i['what data is avaialable to me']\n",
    "# i['show a preview of dataframe penguins']\n",
    "\n",
    "# \"in data breast_data convert column diagnosis to a string format\"\n",
    "# i.setpp({'figsize':[700,400],'template':'plotly_white','title':None})\n",
    "# nlpi.silent=True\n",
    "\n",
    "# i['create a seaborn histogram plot of x radius_worst and hue diagnosis using breast_data nbins 20 barmode stack alpha 0.5']\n",
    "# i['create a seaborn histogram plot of x radius_worst and hue diagnosis using breast_data nbins 20 barmode stack alpha 0.5']\n",
    "# i['create a seaborn relplot using x radius_worst and y symmetry_mean using breast_data set col diagnosis mew 1 mec k s 25']\n",
    "# i['with breast_data please create a relplot using radius_worst and symmetry_mean setting col diagnosis s 20']\n",
    "# i['with breast_data please create a relplot using radius_worst and radius_mean setting col diagnosis s 20']\n",
    "\n",
    "# i['create a seaborn relplot using x bill_length_mm and y flipper_length_mm using penguins set hue island mew 1 mec k s 40 col island']\n",
    "# i['with dataset penguins please create a seaborn relplot using x as bill_length_mm and y as flipper_length_mm'] # as : remove stop or extend reach of window for [~] \n",
    "# i['with dataset penguins please create a seaborn relplot using x bill_length_mm y flipper_length_mm']\n",
    "\n",
    "# i.module_args['col']\n",
    "\n",
    "# filtered ls3\n",
    "# create a seaborn relplot between -column and -column using -data for all -column\n",
    "# create a seaborn relplot between -column -column and -column -column using -data for all -column -column ~s -value\n",
    "\n",
    "\n",
    "# i['show the dataframe information for stocks']\n",
    "# i['show me what data is available']\n",
    "# i['show the missing data in terms of percentage in titanic']\n",
    "# i['show how much data is missing in titanic']\n",
    "# i['show how much data is missing in titanic']\n",
    "# i['show the percentage of data missing in titanic']\n",
    "# i['what is ther percentage of missing rows in titanic']\n",
    "# i['how many rows are missing in data titanic, in terms of percentage']\n",
    "# i['does the data titanic contain missing data']\n",
    "# i['show a dataframe preview of data titanic']"
   ]
  },
  {
   "cell_type": "code",
   "execution_count": null,
   "id": "08d0fa93-a308-4484-ae4b-aa1581bd8c20",
   "metadata": {},
   "outputs": [],
   "source": [
    "nlpi.data['penguins']['splits_col']"
   ]
  },
  {
   "cell_type": "code",
   "execution_count": null,
   "id": "c9fca2a7-0045-4b67-ba81-c530e82a853e",
   "metadata": {},
   "outputs": [],
   "source": [
    "# nlpi.silent = False\n",
    "# i.setpp({'figsize':[10,4],'title':None,'bw':0.35})\n",
    "# i['for all columns create a seaborn kernel density plot using penguins set hue island']\n",
    "# i['for all columns create a seaborn boxplot using penguins set x island']\n",
    "# i['for all columns in penguins create a kernel density plot set x island set hue island']\n",
    "# i['for all penguins data and all columns create column seaborn scatterplot for parameter x body_mass_g s 15 mew 1 mec k']\n",
    "# i['for all penguins data and columns bill_length_mm bill_depth_mm flipper_length_mm create column seaborn scatterplot for parameter x body_mass_g s 30 mew 1 mec k set hue island']\n",
    "\n",
    "# i.setpp({'figsize':[600,800],'title':None})\n",
    "# query = \"\"\"create a seaborn scatterplot using columns age fare using titanic\"\"\"; i[query]"
   ]
  },
  {
   "cell_type": "code",
   "execution_count": null,
   "id": "63ab1ab7-4834-442b-b26c-5126a94d56ed",
   "metadata": {},
   "outputs": [],
   "source": [
    "# i.setpp({'figsize':[600,800],'template':'plotly_white','title':None})\n",
    "# nlpi.silent = False\n",
    "\n",
    "# collection.ner_identifier['tfidf'].vocabulary_\n",
    "# nlpi.memory_output[-1]['ohe_data']\n",
    "# i['show a preview of data titanic']\n",
    "# nlpi.silent = True\n",
    "# i[\"show me the column distribution of island and sex in penguins\"]\n",
    "# interpreter['show the dataframe information for stocks']\n",
    "# interpreter['describe the dataframe stocks']\n",
    "\n",
    "# i['show me what data is available']\n",
    "# i['show the missing data in terms of percentage in titanic']\n",
    "# i['show how much data is missing in titanic']\n",
    "# i['in dataset titanic show the percentage of data missing']\n",
    "# i['what is the percentage of missing rows in titanic']\n",
    "# i['how many rows are missing in data titanic, in terms of percentage']\n",
    "# i['does the data titanic contain missing data']\n",
    "# i[\"using data penguins, create a plotly scatter plot using parameters x body_mass_g y bill_depth_mm and hue island set mew 1.8\"]\n",
    "# i['show the column distribution of feature island in data penguins']\n",
    "# i.query('show a preview of dataframe breast_data')\n",
    "# i['show the column distribution of species in data penguins']\n",
    "# i['in data breast_data convert column diagnosis to a string format']"
   ]
  },
  {
   "cell_type": "code",
   "execution_count": null,
   "id": "3896d2f8-111a-4ad3-867c-a8a5e6906718",
   "metadata": {},
   "outputs": [],
   "source": [
    "# # plot plotly scatterplot\n",
    "\n",
    "# i.setpp({'figsize':[500,800],'template':'plotly_white','title':'title'})\n",
    "# nlpi.silent = False\n",
    "\n",
    "# # i['plot a seaborn scatterplot using parameters x: radius_mean y: concavity_mean using data breast_data hue diagnosis s: 20 mew: 1 mec: k']\n",
    "# # i['plot a plotly scatterplot using parameters x: radius_mean y: concavity_mean using data breast_data hue diagnosis mec: black s: 7 mew: 1.5']\n",
    "# # i['with data penguins plot a plotly scatterplot using parameters x: bill_length_mm y: flipper_length_mm and hue: island']\n",
    "# # i['with data penguins plot a seaborn lmplot using parameters x: bill_length_mm y: flipper_length_mm col: island hue: sex']\n",
    "# # i['with data penguins create a seaborn boxplot using parameters y: island x: flipper_length_mm hue: sex']\n",
    "# # i['with data penguins create a seaborn violin plot using parameters y: island x: flipper_length_mm hue: sex']\n",
    "# # i['select data penguins and create a seaborn boxplot using parameters y: island x: flipper_length_mm hue: sex']\n",
    "\n",
    "# params = \"using data penguins and x: flipper_length_mm\"\n",
    "\n",
    "# i[f'create a seaborn kernel density plot {params}']"
   ]
  },
  {
   "cell_type": "code",
   "execution_count": null,
   "id": "5d34a30b-d847-4e5e-b0bb-8b87c8323bc8",
   "metadata": {},
   "outputs": [],
   "source": [
    "# i['show the columns available in stocks']"
   ]
  },
  {
   "cell_type": "code",
   "execution_count": null,
   "id": "b930a274-b9ac-4ffe-9b26-885b9e81346f",
   "metadata": {},
   "outputs": [],
   "source": [
    "# i['visualise a plotly scatter plot using x date and y AMZN NFLX using data stocks']\n",
    "# nlpi.silent = False\n",
    "# i['Tell me the shape of the dataframe stocks']"
   ]
  },
  {
   "cell_type": "code",
   "execution_count": null,
   "id": "7bfc80f6-3224-4c66-a672-cb437430ba04",
   "metadata": {},
   "outputs": [],
   "source": [
    "# df = nlpi.data['stocks']['data']\n",
    "# df.head()"
   ]
  },
  {
   "cell_type": "code",
   "execution_count": null,
   "id": "5a55bc9e-5a86-4825-81e4-20481f0a7d82",
   "metadata": {},
   "outputs": [],
   "source": [
    "i.setpp({'figsize':[6,3],'template':'plotly_white','title':None})\n",
    "nlpi.silent = True\n",
    "\n",
    "# interpreter['generate one hot encoding of column sex island using penguins']\n",
    "# nlpi.silent = False\n",
    "\n",
    "# store column names for a particular dataset\n",
    "# i.store_ac('penguins','ohe_columns',['sex','island'])\n",
    "\t\t\t\t\t\t\t\t\t\t\n",
    "# i['generate one hot encoding of column {ohe_columns} using penguins']\n",
    "# i['generate one hot encoding of columns island in data penguins']\n",
    "# i['please generate the fft for column passengers in flights']\n",
    "# i['please generate the fft for column GOOG in stocks']\n",
    "# i['plot the fft of columns GOOG AAPL FB and AMZN in stocks']\n",
    "i['plot the fft of columns AMZN and FB in stocks']"
   ]
  },
  {
   "cell_type": "code",
   "execution_count": null,
   "id": "310625b0-fa1d-4ac1-a3c6-1635121afb72",
   "metadata": {},
   "outputs": [],
   "source": [
    "i['what columns are available in stocks']"
   ]
  },
  {
   "cell_type": "code",
   "execution_count": null,
   "id": "a5efa60b-06ac-4407-9f8c-336bb5ce1066",
   "metadata": {},
   "outputs": [],
   "source": [
    "i.module_args['column']"
   ]
  },
  {
   "cell_type": "code",
   "execution_count": null,
   "id": "1c28ade9-b32c-4ab8-8296-fa4f18caf940",
   "metadata": {},
   "outputs": [],
   "source": [
    "# i['dataframe preview of titanic']\n",
    "# i['show the distribution of column deck in data titanic']"
   ]
  },
  {
   "cell_type": "markdown",
   "id": "1d828980-4883-4612-9582-8b3c0376f894",
   "metadata": {},
   "source": [
    "## **Manually Call Active Functions**"
   ]
  },
  {
   "cell_type": "code",
   "execution_count": null,
   "id": "3ced0531-1130-421e-b76d-680edccfc255",
   "metadata": {},
   "outputs": [],
   "source": [
    "# from sklearn.feature_extraction.text import CountVectorizer,TfidfVectorizer\n",
    "# from mllibs.dict_helper import sfp\n",
    "\n",
    "# '''\n",
    "\n",
    "# Manually call functions\n",
    "\n",
    "# '''\n",
    "\n",
    "# reviews = pd.read_csv('https://raw.githubusercontent.com/shtrausslearning/Data-Science-Portfolio/main/sources/customer_reviews.csv',sep=',')\n",
    "# interpreter.store_data({'reviews':reviews})\n",
    "\n",
    "# module_args = {}\n",
    "# module_args['data'] = interpreter.data['reviews']['data']\n",
    "# module_args['pred_task'] ='count_vectoriser'\n",
    "# module_args['column'] = 'reviews'\n",
    "# module_args['columns'] = None\n",
    "# module_args['col'] = None\n",
    "# module_args['ngram_range'] = None\n",
    "# module_args['min_df'] = None\n",
    "# module_args['max_df'] = None\n",
    "# module_args['subset'] = ['reviews']\n",
    "\n",
    "# def cv(args:dict):\n",
    "\t\t\t\t\n",
    "#     # preset value dictionary\n",
    "\t\n",
    "#     pre = {'ngram_range':(1,1),'min_df':1,'max_df':1.0}\n",
    "\n",
    "#     if(args['subset'] != None):\n",
    "\t\n",
    "#         vectoriser = CountVectorizer(ngram_range=sfp(args,pre,'ngram_range'),\n",
    "#                                     min_df=sfp(args,pre,'min_df'),\n",
    "#                                     max_df=sfp(args,pre,'max_df'))\n",
    "\n",
    "#         print(args['subset'])\n",
    "\t\t\t\t\n",
    "#         vectors = vectoriser.fit_transform(args['data'][args['subset'][0]])        \n",
    "#         df_matrix = pd.DataFrame(vectors.todense(),\n",
    "#                                     columns=vectoriser.get_feature_names_out())\n",
    "\n",
    "#         display(df_matrix)\n",
    "\n",
    "# cv(module_args)"
   ]
  },
  {
   "cell_type": "code",
   "execution_count": null,
   "id": "9e2bb84c-e96f-4a5c-8846-3a76eade251c",
   "metadata": {},
   "outputs": [],
   "source": [
    "i.module_args.keys()\n",
    "\n",
    "task = i.module_args['pred_task']\n",
    "input_format_str = i.task_info.loc[task,'input_format']"
   ]
  },
  {
   "cell_type": "code",
   "execution_count": null,
   "id": "5979ac40-351d-4f8a-a705-0adf6b0054f2",
   "metadata": {},
   "outputs": [],
   "source": [
    "i.task_info['input_format'].value_counts()"
   ]
  },
  {
   "cell_type": "code",
   "execution_count": null,
   "id": "f3e5a574-3fc0-41c5-b966-dbc6b985e934",
   "metadata": {},
   "outputs": [],
   "source": [
    "# '''\n",
    "\n",
    "# mstats_tests library tests\n",
    "\n",
    "# '''\n",
    "\n",
    "# import numpy as np\n",
    "\n",
    "# nlpi.activate = True\n",
    "# nlpi.silent = True\n",
    "\n",
    "# # store data\n",
    "# sample1 = list(np.random.normal(loc=1,scale=1, size=1000))\n",
    "# sample2 = list(np.random.normal(loc=1,scale=1, size=1000))\n",
    "\n",
    "# interpreter.store_data({'distribution_A':sample1,\n",
    "#                         'distribution_B':sample2})\n",
    "\n",
    "# # req = \"two sample ttest using: distribution_B distribution_A\"\n",
    "# # req = \"comapare histograms of samples distribution_B distribution_A\"\n",
    "# # req = \"compare the histograms of two samples distribution_B distribution_A nbins 50\"\n",
    "\n",
    "# # interpreter[req]\n",
    "\n",
    "# # req = \"compare kde plot of two samples distribution_B distribution_A\"\n",
    "\n",
    "# # interpreter[req]\n",
    "\n",
    "# # req = \"compare the histograms of two samples distribution_B distribution_A nbins 50\"\n",
    "\n",
    "# # interpreter[req]\n",
    "\n",
    "# # req = \"create bootstrap samples for two dataset distribution_B distribution_A nbins: 50\"\n",
    "\n",
    "# # interpreter[req]\n",
    "\n",
    "\n",
    "# # req = \"create wild bootstrap samples for two dataset distribution_B distribution_A nbins: 50\"\n",
    "\n",
    "# # interpreter[req]\n",
    "\n",
    "# sample1 = list(np.random.exponential(scale=1, size=1000))\n",
    "# sample2 = list(np.random.exponential(scale=1, size=1000))\n",
    "\n",
    "# interpreter.store_data({'distribution_A':sample1,\n",
    "#                         'distribution_B':sample2})\n",
    "\n",
    "# req = \"create wild bootstrap samples for two dataset distribution_B distribution_A nbins: 50\"\n",
    "\n",
    "# interpreter[req]\n"
   ]
  },
  {
   "cell_type": "code",
   "execution_count": null,
   "id": "a58921b0-8d5b-44bc-b0e0-0bc9a51cd62a",
   "metadata": {},
   "outputs": [],
   "source": [
    "import re\n",
    "\n",
    "# text = \"extract a subset of data from dataset titanic where the value of column A is between 100 and 200\"\n",
    "# text = \"extract a subset of data from dataset titanic where the value of column A is 140.5\"\n",
    "text2 = \"extract a subset of data from dataset titanic where the value of column B is from 50 to 75.5\"\n",
    "text3 = \"extract a subset of data from dataset titanic where the value of column C is in the range 300-400\"\n",
    "\n",
    "import re\n",
    "\n",
    "def extract_range(text):\n",
    "\trange_patterns = [\n",
    "\t\tr'between (\\d+(\\.\\d+)?) and (\\d+(\\.\\d+)?)',\n",
    "\t\tr'from (\\d+(\\.\\d+)?) to (\\d+(\\.\\d+)?)',\n",
    "\t\tr'in the range (\\d+(\\.\\d+)?)-(\\d+(\\.\\d+)?)',\n",
    "\t\tr'up to (\\d+(\\.\\d+)?) from (\\d+(\\.\\d+)?)',\n",
    "\t\tr'in the range (\\d+(\\.\\d+)?) through (\\d+(\\.\\d+)?)',\n",
    "\t\tr'starting from (\\d+(\\.\\d+)?), ending at (\\d+(\\.\\d+)?)',\n",
    "\t\tr'(\\d+(\\.\\d+)?) - (\\d+(\\.\\d+)?)',\n",
    "\t\tr'(\\d+(\\.\\d+)?) to (\\d+(\\.\\d+)?)',\n",
    "\t\tr'(\\d+(\\.\\d+)?) or more',\n",
    "\t\tr'(\\d+(\\.\\d+)?) or greater',\n",
    "\t\tr'at least (\\d+(\\.\\d+)?)',\n",
    "\t\tr'no less than (\\d+(\\.\\d+)?)',\n",
    "\t\tr'(\\d+(\\.\\d+)?) or above',\n",
    "\t\tr'(\\d+(\\.\\d+)?) and above',\n",
    "\t\tr'(\\d+(\\.\\d+)?) and beyond'\n",
    "\t]\n",
    "\n",
    "\tfor pattern in range_patterns:\n",
    "\t\tmatch = re.search(pattern, text)\n",
    "\t\tif match:\n",
    "\t\t\treturn match.groups()\n",
    "\n",
    "\t# If no range pattern is found, check for specific value extraction\n",
    "\tspecific_value_match = re.search(r'(equal to|exactly|precisely|is|at|matches) (\\d+(\\.\\d+)?)', text)\n",
    "\tif specific_value_match:\n",
    "\t\tprint(specific_value_match)\n",
    "\t\tvalue = specific_value_match.group(2)\n",
    "\t\treturn value\n",
    "\n",
    "\treturn None"
   ]
  },
  {
   "cell_type": "code",
   "execution_count": null,
   "id": "02c927a8-0fff-4598-9230-36dd77000590",
   "metadata": {},
   "outputs": [],
   "source": [
    "extract_range(text2)"
   ]
  },
  {
   "cell_type": "code",
   "execution_count": null,
   "id": "85a84590-1f8a-4ac6-8f86-fd4cba0957db",
   "metadata": {},
   "outputs": [],
   "source": [
    "range_patterns = [\n",
    "\tr'between (\\d+(\\.\\d+)?) and (\\d+(\\.\\d+)?)',\n",
    "\tr'from (\\d+(\\.\\d+)?) to (\\d+(\\.\\d+)?)',\n",
    "\tr'in the range (\\d+(\\.\\d+)?)-(\\d+(\\.\\d+)?)',\n",
    "\tr'up to (\\d+(\\.\\d+)?) from (\\d+(\\.\\d+)?)',\n",
    "\tr'in the range (\\d+(\\.\\d+)?) through (\\d+(\\.\\d+)?)',\n",
    "\tr'starting from (\\d+(\\.\\d+)?), ending at (\\d+(\\.\\d+)?)',\n",
    "\tr'(\\d+(\\.\\d+)?) - (\\d+(\\.\\d+)?)',\n",
    "\tr'(\\d+(\\.\\d+)?) to (\\d+(\\.\\d+)?)',\n",
    "\tr'(\\d+(\\.\\d+)?) or more',\n",
    "\tr'(\\d+(\\.\\d+)?) or greater',\n",
    "\tr'at least (\\d+(\\.\\d+)?)',\n",
    "\tr'no less than (\\d+(\\.\\d+)?)',\n",
    "\tr'(\\d+(\\.\\d+)?) or above',\n",
    "\tr'(\\d+(\\.\\d+)?) and above',\n",
    "\tr'(\\d+(\\.\\d+)?) and beyond'\n",
    "]\n",
    "\n",
    "\n",
    "# text = \"The value is between 10 and 20, from 5 to 15, and at least 8.\"\n",
    "text = \"extract a subset of data from dataset titanic where the value of column C is in the range between 3.4 and 4\"\n",
    "\n",
    "values = []\n",
    "for pattern in range_patterns:\n",
    "\tmatches = re.findall(pattern, text)\n",
    "\tfor match in matches:\n",
    "\t\tvalues.extend([float(val[0]) for val in match if val != ''])\n",
    "\n",
    "print(values)"
   ]
  },
  {
   "cell_type": "code",
   "execution_count": null,
   "id": "5e4e540b-3854-453e-93b9-41eaef31b733",
   "metadata": {
    "editable": true,
    "slideshow": {
     "slide_type": ""
    },
    "tags": []
   },
   "outputs": [],
   "source": [
    "'''\n",
    "\n",
    "mpd_talktodata examples\n",
    "\n",
    "'''\n",
    "\n",
    "i.setpp({'figsize':[500,800],'template':'plotly_white','title':None})\n",
    "nlpi.silent = False\n",
    "# i['show the distribution of column island in penguins'] # ok\n",
    "# i['show the all the missing data in penguins'] # ok\n",
    "# i['show missing data in column sex in data penguins'] # ok\n",
    "# i['show missing data in all columns in penguins']\n",
    "# i['show the dataframe size of penguins']\n",
    "# i['show the unique values in column island in data penguins']"
   ]
  },
  {
   "cell_type": "code",
   "execution_count": null,
   "id": "f18e304f-1fd6-446a-adf2-f288f3693c16",
   "metadata": {},
   "outputs": [],
   "source": [
    "# i.setpp({'figsize':[500,800],'template':'plotly_white','title':None})\n",
    "# nlpi.silent = False\n",
    "\n",
    "# [0] using active columns\n",
    "\n",
    "req = \"create seaborn scatter plot x: body_mass_g y: selected_columns using penguins\"\n",
    "i[req]\n",
    "\n",
    "# i[\"using data penguins produce a histogram plot using seaborn setting parameters x: body_mass_g bw: 10\"]\n",
    "\n",
    "# simple request one PARAM per column \n",
    "# req = \"create plotly scatterplot x: bill_depth_mm y: flipper_length_mm hue: island using penguins\"\n",
    "\n",
    "# interpreter[req]\n",
    "\n",
    "# [1] regular notation (multiple y) \n",
    "\n",
    "# req = \"create plotly scatterplot x: body_mass_g y: bill_length_mm bill_depth_mm using penguins\"\n",
    "# i[req]\n",
    "\n",
    "# [1] regular notation (single y) \n",
    "\n",
    "# req = \"mew: 1 create plotly scatterplot x: body_mass_g y: bill_depth_mm using penguins\"\n",
    "# req = \"create plotly scatterplot x: body_mass_g y: bill_depth_mm hue: island col sex mew: 1.5 mec: black s: 7 marginal_x box marginal_y box using penguins\"\n",
    "# req = \"create plotly boxplot x: island y: bill_depth_mm hue sex using penguins\"\n",
    "\n",
    "# [2] simple request one PARAM per column\n",
    "\n",
    "# req = \"create plotly count heatmap x: bill_depth_mm y: flipper_length_mm hue: sex col: sex using penguins\"\n",
    "# req = \"using data penguins, create a plotly scatter plot using parameters x: body_mass_g y: bill_depth_mm and hue: island set mew 1.5\"\n",
    "# i[req]"
   ]
  },
  {
   "cell_type": "code",
   "execution_count": null,
   "id": "6ab22777-8bd9-48d5-9cf3-25ae2c107c12",
   "metadata": {},
   "outputs": [],
   "source": [
    "# \"create a seaborn kernel density plots for columns A B C\" # with options for parameters\n",
    "# \"create a seaborn boxplot for columns "
   ]
  },
  {
   "cell_type": "code",
   "execution_count": null,
   "id": "285f2a63-18a1-40e7-847c-3afabe82afb8",
   "metadata": {},
   "outputs": [],
   "source": [
    "# import re\n",
    "\n",
    "# def extract_values(text):\n",
    "#     # exact_match = re.search(r'is (.+?)\\b', text).group(1)\n",
    "\n",
    "#     re_match = r'(\\d+(\\.\\d+)?) - (\\d+(\\.\\d+)?)'\n",
    "#     # re_match = r'from (\\d+(?:\\.\\d+)?) to (\\d+(?:\\.\\d+)?)'\n",
    "\t\n",
    "#     range_match = re.search(re_match, text)\n",
    "#     print(range_match)\n",
    "#     # print(range_match.groups())\n",
    "#     if range_match:\n",
    "#         # range_values = (float(range_match.group(1)), float(range_match.group(2)))\n",
    "#         range_values = (float(range_match.group(0)), float(range_match.group(1)))\n",
    "#     else:\n",
    "#         range_values = None\n",
    "\n",
    "#     print(range_values)\n",
    "\n",
    "# # text = \"extract a subset of data from dataset titanic where the value of column A is 140.5\"\n",
    "# # text2 = \"extract a subset of data from dataset titanic where the value of column B is from 50 to 75.5\"\n",
    "# text2 = \"extract a subset of data from dataset titanic where the value of column (50 - 75.5)\"\n",
    "\n",
    "# extract_values(text2)"
   ]
  },
  {
   "cell_type": "code",
   "execution_count": null,
   "id": "3437b69e-a6b0-4b96-9b93-991476deb613",
   "metadata": {},
   "outputs": [],
   "source": [
    "extract_values('I need to extract data from column from 1.0 to 100')"
   ]
  },
  {
   "cell_type": "code",
   "execution_count": null,
   "id": "2f987381-2b86-4073-857d-a76efee802ce",
   "metadata": {},
   "outputs": [],
   "source": [
    "import re\n",
    "\n",
    "range_patterns = [\n",
    "\tr'between (\\d+(\\.\\d+)?) and (\\d+(\\.\\d+)?)',\n",
    "\tr'from (\\d+(\\.\\d+)?) to (\\d+(\\.\\d+)?)',\n",
    "\tr'in the range (\\d+(\\.\\d+)?)-(\\d+(\\.\\d+)?)',\n",
    "\tr'up to (\\d+(\\.\\d+)?) from (\\d+(\\.\\d+)?)',\n",
    "\tr'in the range (\\d+(\\.\\d+)?) through (\\d+(\\.\\d+)?)',\n",
    "\tr'starting from (\\d+(\\.\\d+)?), ending at (\\d+(\\.\\d+)?)',\n",
    "\tr'(\\d+(\\.\\d+)?) - (\\d+(\\.\\d+)?)',\n",
    "\tr'(\\d+(\\.\\d+)?) to (\\d+(\\.\\d+)?)'\n",
    "]\n",
    "\n",
    "more_than = [\n",
    "\tr'(\\d+(\\.\\d+)?) or more',\n",
    "\tr'(\\d+(\\.\\d+)?) or greater',\n",
    "\tr'at least (\\d+(\\.\\d+)?)',\n",
    "\tr'no less than (\\d+(\\.\\d+)?)',\n",
    "\tr'(\\d+(\\.\\d+)?) or above',\n",
    "\tr'(\\d+(\\.\\d+)?) and above',\n",
    "\tr'(\\d+(\\.\\d+)?) and beyond'\n",
    "]\n",
    "\n",
    "text = \"The value is between 10.0 - 25.0\"\n",
    "text = \"the values are between 10.0 and 40.0\n",
    "\n",
    "values = []\n",
    "for pattern in range_patterns:\n",
    "\tmatches = re.findall(pattern, text)\n",
    "\tfor match in matches:\n",
    "\t\tvalues.extend([float(val) for val in match[::2]])\n",
    "\n",
    "print(values)"
   ]
  },
  {
   "cell_type": "code",
   "execution_count": null,
   "id": "3dcb4ddd-890d-4d5f-b97e-93fd445bd4c0",
   "metadata": {},
   "outputs": [],
   "source": [
    "import re\n",
    "\n",
    "more_than = [\n",
    "\tr'(\\d+(\\.\\d+)?) or more',\n",
    "\tr'(\\d+(\\.\\d+)?) or greater',\n",
    "\tr'at least (\\d+(\\.\\d+)?)',\n",
    "\tr'no less than (\\d+(\\.\\d+)?)',\n",
    "\tr'(\\d+(\\.\\d+)?) or above',\n",
    "\tr'(\\d+(\\.\\d+)?) and above',\n",
    "\tr'(\\d+(\\.\\d+)?) and beyond',\n",
    "\tr'more than (\\d+(\\.\\d+)?)',\n",
    "\t# r'values greater than (\\d+(\\.\\d+)?)'\n",
    "]\n",
    "\n",
    "less_than = [\n",
    "\tr'less than (\\d+(\\.\\d+)?)',\n",
    "\tr'fewer than (\\d+(\\.\\d+)?)',\n",
    "\tr'under (\\d+(\\.\\d+)?)',\n",
    "\tr'below (\\d+(\\.\\d+)?)',\n",
    "\tr'(\\d+(\\.\\d+)?) or less',\n",
    "\tr'(\\d+(\\.\\d+)?) or fewer',\n",
    "\tr'(\\d+(\\.\\d+)?) and below',\n",
    "\tr'(\\d+(\\.\\d+)?) and under',\n",
    "\tr'less than or equal to (\\d+(\\.\\d+)?)'\n",
    "]\n",
    "\n",
    "# text = \"The value is between 10 and 20, from 5 to 15, at least 8, and less than 25, more than 30, values greater than 35, and less than or equal to 40.\"\n",
    "text = \"extract values more than 10.5\"\n",
    "\n",
    "values_more_than = []\n",
    "for pattern in more_than:\n",
    "\tmatches = re.findall(pattern, text)\n",
    "\tfor match in matches:\n",
    "\t\tvalues_more_than.extend([float(val[0]) for val in match if val != ''])\n",
    "\n",
    "values_less_than = []\n",
    "for pattern in less_than:\n",
    "\tmatches = re.findall(pattern, text)\n",
    "\tfor match in matches:\n",
    "\t\tvalues_less_than.extend([float(val[0]) for val in match if val != ''])\n",
    "\n",
    "print(\"Values more than:\", values_more_than)\n",
    "print(\"Values less than:\", values_less_than)"
   ]
  },
  {
   "cell_type": "code",
   "execution_count": null,
   "id": "a00f5f7e-7795-448d-a3aa-6da2dafb0cdd",
   "metadata": {},
   "outputs": [],
   "source": [
    "import re\n",
    "\n",
    "# strictly less than\n",
    "less_than_patterns = [\n",
    "\tr'less than (\\d+(\\.\\d+)?)',\n",
    "\tr'fewer than (\\d+(\\.\\d+)?)',\n",
    "\tr'under (\\d+(\\.\\d+)?)',\n",
    "\tr'below (\\d+(\\.\\d+)?)',\n",
    "\tr'(\\d+(\\.\\d+)?) or less',\n",
    "\tr'(\\d+(\\.\\d+)?) or fewer',\n",
    "\tr'(\\d+(\\.\\d+)?) and below',\n",
    "\tr'(\\d+(\\.\\d+)?) and under'\n",
    "]\n",
    "\n",
    "# strictly more than\n",
    "more_than_patterns = [\n",
    "\tr'(\\d+(\\.\\d+)?) or more',\n",
    "\tr'(\\d+(\\.\\d+)?) or greater',\n",
    "\tr'at least (\\d+(\\.\\d+)?)',\n",
    "\tr'no less than (\\d+(\\.\\d+)?)',\n",
    "\tr'(\\d+(\\.\\d+)?) or above',\n",
    "\tr'(\\d+(\\.\\d+)?) and above',\n",
    "\tr'(\\d+(\\.\\d+)?) and beyond',\n",
    "\tr'more than (\\d+(\\.\\d+)?)',\n",
    "\tr'values greater than (\\d+(\\.\\d+)?)',\n",
    "\tr'above (\\d+(\\.\\d+)?)'\n",
    "]\n"
   ]
  },
  {
   "cell_type": "code",
   "execution_count": null,
   "id": "54cba57c-3d25-4e34-b0cf-d2c965e63a9d",
   "metadata": {},
   "outputs": [],
   "source": [
    "# input_string = \"extract values less than 10.5 for column A\"\n",
    "# input_string = \"extract values in the dataframe column A which are no less than 10.5\"\n",
    "# input_string = \"extract values which are below 10.5\"\n",
    "# input_string = \"extract values which are fewer than 10.5\"\n",
    "\n",
    "\n",
    "# for pattern in less_than_patterns:\n",
    "#     match = re.search(pattern, input_string)\n",
    "#     if match:\n",
    "#         value = match.group(1)\n",
    "#         print(value)\n",
    "\n",
    "\n",
    "def pattern_search(input_string:str,re_pattern:list):\n",
    "\n",
    "\tfor pattern in re_pattern:\n",
    "\t\tmatch = re.search(pattern, input_string)\n",
    "\t\textracted = [[value[0]] for value in match]\n",
    "\t\tprint(extracted)\n",
    "\n",
    "# input_string = \"extract values greater than 15.5\"\n",
    "input_string = \"extract values between 10.3 and 100.5\"\n",
    "pattern_search(input_string,less_than_patterns)\n",
    "pattern_search(input_string,more_than_patterns)\n",
    "pattern_search(input_string,between_patterns)"
   ]
  },
  {
   "cell_type": "code",
   "execution_count": null,
   "id": "070db1a4-866e-4f1e-9118-90975509cb09",
   "metadata": {},
   "outputs": [],
   "source": [
    "# Define the between_patterns\n",
    "between_patterns = [\n",
    "\tr'between (\\d+(\\.\\d+)?) and (\\d+(\\.\\d+)?)',\n",
    "\tr'from (\\d+(\\.\\d+)?) to (\\d+(\\.\\d+)?)',\n",
    "\tr'in the range (\\d+(\\.\\d+)?)-(\\d+(\\.\\d+)?)',\n",
    "\tr'up to (\\d+(\\.\\d+)?) from (\\d+(\\.\\d+)?)',\n",
    "\tr'in the range (\\d+(\\.\\d+)?) through (\\d+(\\.\\d+)?)',\n",
    "\tr'starting from (\\d+(\\.\\d+)?), ending at (\\d+(\\.\\d+)?)',\n",
    "\tr'(\\d+(\\.\\d+)?) - (\\d+(\\.\\d+)?)',\n",
    "\tr'(\\d+(\\.\\d+)?) to (\\d+(\\.\\d+)?)',\n",
    "\tr'in the range (\\d+(\\.\\d+)?) and (\\d+(\\.\\d+)?)'\n",
    "]\n",
    "\n",
    "def check_value_re(input:str):\n",
    "\n",
    "\tfor re_pattern in between_patterns:\n",
    "\t\trange_values = re.findall(re_pattern, text)\n",
    "\n",
    "\t\tlst_data = []\n",
    "\t\tfor value in range_values:\n",
    "\t\t\tlst_data.append([value[0],value[2]])\n",
    "\t\t\n",
    "\t\t# extracted = [[value[0], value[2]] for value in range_values]\n",
    "\n",
    "\t\tif(len(lst_data) != 0):\n",
    "\t\t\tprint(extracted[0])\n",
    "\n",
    "\n",
    "# Example text to search for matches\n",
    "text = \"extract the values in the range 1000 and 20\"\n",
    "\n",
    "check_value_re(text)\n",
    "# pattern_search(text,less_than_patterns)\n",
    "# pattern_search(text,more_than_patterns)\n",
    "\n"
   ]
  },
  {
   "cell_type": "code",
   "execution_count": null,
   "id": "23c665c2-200d-40b3-af34-9b264f9b9844",
   "metadata": {},
   "outputs": [],
   "source": []
  }
 ],
 "metadata": {
  "kernelspec": {
   "display_name": "Python 3 (ipykernel)",
   "language": "python",
   "name": "python3"
  },
  "language_info": {
   "codemirror_mode": {
    "name": "ipython",
    "version": 3
   },
   "file_extension": ".py",
   "mimetype": "text/x-python",
   "name": "python",
   "nbconvert_exporter": "python",
   "pygments_lexer": "ipython3",
   "version": "3.12.2"
  }
 },
 "nbformat": 4,
 "nbformat_minor": 5
}
