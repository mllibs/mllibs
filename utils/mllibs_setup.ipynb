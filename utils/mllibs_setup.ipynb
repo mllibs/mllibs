{
 "cells": [
  {
   "cell_type": "markdown",
   "id": "b4903747-a65f-496d-b8e2-fe77bfce0c6b",
   "metadata": {},
   "source": [
    "## **Setup Interpreter**\n",
    "\n",
    "Some test code that shows how to use **mllibs**"
   ]
  },
  {
   "cell_type": "code",
   "execution_count": 1,
   "id": "04d3085d-4e69-4375-b93d-a21f7c469168",
   "metadata": {},
   "outputs": [
    {
     "name": "stdout",
     "output_type": "stream",
     "text": [
      "\n",
      "[note] initialising nlpm, please load modules using .load(list)\n",
      "[note] loading modules ...\n",
      "[note] making module summary labels...\n",
      "[note] training  [gt] [RandomForestClassifier()] [accuracy,1.0]\n",
      "[note] using cached ner catboost model\n",
      "[note] models trained!\n"
     ]
    },
    {
     "data": {
      "text/plain": [
       "dict_keys(['flights', 'penguins', 'taxis', 'titanic', 'dmpg'])"
      ]
     },
     "execution_count": 1,
     "metadata": {},
     "output_type": "execute_result"
    }
   ],
   "source": [
    "import pandas as pd\n",
    "import numpy as np\n",
    "from sklearn.model_selection import train_test_split\n",
    "from mllibs.nlpm import nlpm\n",
    "from mllibs.nlpi import nlpi\n",
    "from mllibs.eda.meda_scplot import eda_scplot\n",
    "from mllibs.eda.meda_splot import eda_splot\n",
    "from mllibs.stats.mstats_tests import stats_tests\n",
    "from mllibs.stats.mstats_plot import stats_plot\n",
    "from mllibs.stats.mstats_general import stats_general\n",
    "from mllibs.libop.mlibop import libop_general\n",
    "from mllibs.pd.mpd_dfop import pd_dfop\n",
    "from mllibs.signal.mfourier_all import fourier_all\n",
    "\n",
    "# nlpi.activate = False\n",
    "c = nlpm()\n",
    "# c.reset_models()\n",
    "c.load([\n",
    "         eda_splot(),     # [eda] standard seaborn plots\n",
    "         eda_scplot(),    # [eda] seaborn column plots\n",
    "         stats_tests(),   # [stats] statistical tests for list data\n",
    "         stats_general(), # [stats] \n",
    "         stats_plot(),    # [stats] visually compare sample distributions\n",
    "         libop_general(), # [library] mllibs related functionality\n",
    "         pd_dfop(),       # [eda] pandas data exploration \n",
    "         fourier_all()    # [signal] fast fourier transformation related\n",
    "        ])\n",
    "\n",
    "c.setup()\n",
    "i = nlpi(c)\n",
    "i.load_sample_data()\n",
    "i.data.keys()"
   ]
  },
  {
   "cell_type": "code",
   "execution_count": 2,
   "id": "d4c5aecf-bbb3-4394-9990-34cc5f63c240",
   "metadata": {},
   "outputs": [],
   "source": [
    "'''\n",
    "\n",
    "    Example for mstats_tests module\n",
    "\n",
    "'''\n",
    "\n",
    "# store data\n",
    "sample1 = list(np.random.normal(scale=1, size=1000))\n",
    "sample2 = list(np.random.rand(500))\n",
    "sample3 = list(np.random.exponential(scale=1, size=1000))\n",
    "sample4 = list(np.random.normal(scale=1, size=1000))\n",
    "sample5 = list(np.random.normal(scale=1, size=1000))\n",
    "df = pd.DataFrame({'distA':sample1,'distC':sample3,'distD':sample5})\n",
    "\n",
    "nlpi.store_data(df,'datas')\n",
    "nlpi.store_data({'distrA':sample1,'distrB':sample2})\n",
    "nlpi.store_data(sample3,'distrC')"
   ]
  },
  {
   "cell_type": "code",
   "execution_count": 11,
   "id": "590349ce-6d1f-4569-8ffb-cb12409b41f8",
   "metadata": {},
   "outputs": [
    {
     "data": {
      "text/plain": [
       "['island', ['bill_length_mm', 'bill_depth_mm'], 'sex']"
      ]
     },
     "execution_count": 11,
     "metadata": {},
     "output_type": "execute_result"
    }
   ],
   "source": [
    "lst_columns = []\n",
    "i.module_args['column']"
   ]
  },
  {
   "cell_type": "code",
   "execution_count": 14,
   "id": "f2f2d27a-2af0-4aaa-bd23-dff8523efb60",
   "metadata": {},
   "outputs": [
    {
     "data": {
      "text/plain": [
       "'for all -column using -df create relplot for columns -column and -column'"
      ]
     },
     "execution_count": 14,
     "metadata": {},
     "output_type": "execute_result"
    }
   ],
   "source": [
    "i.module_args['request']"
   ]
  },
  {
   "cell_type": "code",
   "execution_count": 11,
   "id": "f5c31633-a9b5-4e81-86cf-e0a8d7bea19b",
   "metadata": {},
   "outputs": [
    {
     "data": {
      "text/html": [
       "<div>\n",
       "<style scoped>\n",
       "    .dataframe tbody tr th:only-of-type {\n",
       "        vertical-align: middle;\n",
       "    }\n",
       "\n",
       "    .dataframe tbody tr th {\n",
       "        vertical-align: top;\n",
       "    }\n",
       "\n",
       "    .dataframe thead th {\n",
       "        text-align: right;\n",
       "    }\n",
       "</style>\n",
       "<table border=\"1\" class=\"dataframe\">\n",
       "  <thead>\n",
       "    <tr style=\"text-align: right;\">\n",
       "      <th></th>\n",
       "      <th>token</th>\n",
       "      <th>index_id</th>\n",
       "      <th>type</th>\n",
       "      <th>ner_tags</th>\n",
       "      <th>data</th>\n",
       "      <th>dtype</th>\n",
       "      <th>column</th>\n",
       "      <th>ttype</th>\n",
       "      <th>ttype_storage</th>\n",
       "      <th>token_arg</th>\n",
       "      <th>token_argv</th>\n",
       "      <th>vocab</th>\n",
       "      <th>keep_token</th>\n",
       "      <th>ac</th>\n",
       "    </tr>\n",
       "  </thead>\n",
       "  <tbody>\n",
       "    <tr>\n",
       "      <th>0</th>\n",
       "      <td>using</td>\n",
       "      <td>0</td>\n",
       "      <td>uni</td>\n",
       "      <td>B-TOKEN_REMOVE</td>\n",
       "      <td>NaN</td>\n",
       "      <td>NaN</td>\n",
       "      <td>NaN</td>\n",
       "      <td>str</td>\n",
       "      <td>using</td>\n",
       "      <td>False</td>\n",
       "      <td>0</td>\n",
       "      <td>True</td>\n",
       "      <td>False</td>\n",
       "      <td>None</td>\n",
       "    </tr>\n",
       "    <tr>\n",
       "      <th>1</th>\n",
       "      <td>data</td>\n",
       "      <td>1</td>\n",
       "      <td>uni</td>\n",
       "      <td>I-TOKEN_REMOVE</td>\n",
       "      <td>NaN</td>\n",
       "      <td>NaN</td>\n",
       "      <td>NaN</td>\n",
       "      <td>str</td>\n",
       "      <td>data</td>\n",
       "      <td>False</td>\n",
       "      <td>0</td>\n",
       "      <td>True</td>\n",
       "      <td>False</td>\n",
       "      <td>None</td>\n",
       "    </tr>\n",
       "    <tr>\n",
       "      <th>2</th>\n",
       "      <td>penguins</td>\n",
       "      <td>2</td>\n",
       "      <td>uni</td>\n",
       "      <td>O</td>\n",
       "      <td>2.0</td>\n",
       "      <td>pd.DataFrame</td>\n",
       "      <td>NaN</td>\n",
       "      <td>str</td>\n",
       "      <td>penguins</td>\n",
       "      <td>False</td>\n",
       "      <td>0</td>\n",
       "      <td>False</td>\n",
       "      <td>False</td>\n",
       "      <td>None</td>\n",
       "    </tr>\n",
       "    <tr>\n",
       "      <th>3</th>\n",
       "      <td>create</td>\n",
       "      <td>3</td>\n",
       "      <td>uni</td>\n",
       "      <td>O</td>\n",
       "      <td>NaN</td>\n",
       "      <td>NaN</td>\n",
       "      <td>NaN</td>\n",
       "      <td>str</td>\n",
       "      <td>create</td>\n",
       "      <td>False</td>\n",
       "      <td>0</td>\n",
       "      <td>True</td>\n",
       "      <td>False</td>\n",
       "      <td>None</td>\n",
       "    </tr>\n",
       "    <tr>\n",
       "      <th>4</th>\n",
       "      <td>relplot</td>\n",
       "      <td>4</td>\n",
       "      <td>uni</td>\n",
       "      <td>O</td>\n",
       "      <td>NaN</td>\n",
       "      <td>NaN</td>\n",
       "      <td>NaN</td>\n",
       "      <td>str</td>\n",
       "      <td>relplot</td>\n",
       "      <td>False</td>\n",
       "      <td>0</td>\n",
       "      <td>True</td>\n",
       "      <td>False</td>\n",
       "      <td>None</td>\n",
       "    </tr>\n",
       "    <tr>\n",
       "      <th>5</th>\n",
       "      <td>using</td>\n",
       "      <td>5</td>\n",
       "      <td>uni</td>\n",
       "      <td>B-TOKEN_REMOVE</td>\n",
       "      <td>NaN</td>\n",
       "      <td>NaN</td>\n",
       "      <td>NaN</td>\n",
       "      <td>str</td>\n",
       "      <td>using</td>\n",
       "      <td>False</td>\n",
       "      <td>0</td>\n",
       "      <td>True</td>\n",
       "      <td>True</td>\n",
       "      <td>None</td>\n",
       "    </tr>\n",
       "    <tr>\n",
       "      <th>6</th>\n",
       "      <td>selected_columns</td>\n",
       "      <td>6</td>\n",
       "      <td>uni</td>\n",
       "      <td>O</td>\n",
       "      <td>NaN</td>\n",
       "      <td>NaN</td>\n",
       "      <td>penguins</td>\n",
       "      <td>str</td>\n",
       "      <td>selected_columns</td>\n",
       "      <td>False</td>\n",
       "      <td>0</td>\n",
       "      <td>False</td>\n",
       "      <td>False</td>\n",
       "      <td>True</td>\n",
       "    </tr>\n",
       "  </tbody>\n",
       "</table>\n",
       "</div>"
      ],
      "text/plain": [
       "              token  index_id type        ner_tags  data         dtype  \\\n",
       "0             using         0  uni  B-TOKEN_REMOVE   NaN           NaN   \n",
       "1              data         1  uni  I-TOKEN_REMOVE   NaN           NaN   \n",
       "2          penguins         2  uni               O   2.0  pd.DataFrame   \n",
       "3            create         3  uni               O   NaN           NaN   \n",
       "4           relplot         4  uni               O   NaN           NaN   \n",
       "5             using         5  uni  B-TOKEN_REMOVE   NaN           NaN   \n",
       "6  selected_columns         6  uni               O   NaN           NaN   \n",
       "\n",
       "     column ttype     ttype_storage  token_arg  token_argv  vocab  keep_token  \\\n",
       "0       NaN   str             using      False           0   True       False   \n",
       "1       NaN   str              data      False           0   True       False   \n",
       "2       NaN   str          penguins      False           0  False       False   \n",
       "3       NaN   str            create      False           0   True       False   \n",
       "4       NaN   str           relplot      False           0   True       False   \n",
       "5       NaN   str             using      False           0   True        True   \n",
       "6  penguins   str  selected_columns      False           0  False       False   \n",
       "\n",
       "     ac  \n",
       "0  None  \n",
       "1  None  \n",
       "2  None  \n",
       "3  None  \n",
       "4  None  \n",
       "5  None  \n",
       "6  True  "
      ]
     },
     "execution_count": 11,
     "metadata": {},
     "output_type": "execute_result"
    }
   ],
   "source": [
    "i.token_info"
   ]
  },
  {
   "cell_type": "code",
   "execution_count": 10,
   "id": "952bcf59-53dc-44de-930e-da5eb610464a",
   "metadata": {},
   "outputs": [
    {
     "data": {
      "text/plain": [
       "['selected_columns']"
      ]
     },
     "execution_count": 10,
     "metadata": {},
     "output_type": "execute_result"
    }
   ],
   "source": [
    "i.module_args['column']"
   ]
  },
  {
   "cell_type": "code",
   "execution_count": 3,
   "id": "4afc8af9-755a-4bd4-9aca-3083ce59413a",
   "metadata": {},
   "outputs": [],
   "source": [
    "i.store_ac('penguins','selected_columns',['bill_length_mm','bill_depth_mm'])"
   ]
  },
  {
   "cell_type": "code",
   "execution_count": 4,
   "id": "8bf33353-e04b-42a0-ad8e-e3e339d52efb",
   "metadata": {},
   "outputs": [
    {
     "name": "stdout",
     "output_type": "stream",
     "text": [
      "tac_data\n",
      "              token  index_id type        ner_tags  data         dtype  \\\n",
      "0             using         0  uni  B-TOKEN_REMOVE   NaN           NaN   \n",
      "1              data         1  uni  I-TOKEN_REMOVE   NaN           NaN   \n",
      "2          penguins         2  uni               O   0.0  pd.DataFrame   \n",
      "3            create         3  uni               O   NaN           NaN   \n",
      "4           relplot         4  uni               O   NaN           NaN   \n",
      "5             using         5  uni  B-TOKEN_REMOVE   NaN           NaN   \n",
      "6  selected_columns         6  uni               O   NaN           NaN   \n",
      "\n",
      "   column ttype     ttype_storage  token_arg  token_argv  vocab  keep_token  \n",
      "0     NaN   str             using      False           0   True       False  \n",
      "1     NaN   str              data      False           0   True       False  \n",
      "2     NaN   str          penguins      False           0  False       False  \n",
      "3     NaN   str            create      False           0   True       False  \n",
      "4     NaN   str           relplot      False           0   True       False  \n",
      "5     NaN   str             using      False           0   True        True  \n",
      "6     NaN   str  selected_columns      False           0  False       False  \n",
      "{}\n",
      "[note] found relevant global task [srelplot] w/ [0.26] certainty!\n",
      "[note] found sub_task [xy_column] w/ [0.87] certainty!\n"
     ]
    },
    {
     "ename": "TypeError",
     "evalue": "list indices must be integers or slices, not NoneType",
     "output_type": "error",
     "traceback": [
      "\u001b[0;31m---------------------------------------------------------------------------\u001b[0m",
      "\u001b[0;31mTypeError\u001b[0m                                 Traceback (most recent call last)",
      "Cell \u001b[0;32mIn[4], line 1\u001b[0m\n\u001b[0;32m----> 1\u001b[0m \u001b[43mi\u001b[49m\u001b[43m[\u001b[49m\u001b[38;5;124;43m'\u001b[39;49m\u001b[38;5;124;43musing data penguins create relplot using selected_columns\u001b[39;49m\u001b[38;5;124;43m'\u001b[39;49m\u001b[43m]\u001b[49m\n",
      "File \u001b[0;32m~/miniconda3/lib/python3.10/site-packages/mllibs/nlpi.py:415\u001b[0m, in \u001b[0;36mnlpi.__getitem__\u001b[0;34m(self, command)\u001b[0m\n\u001b[1;32m    414\u001b[0m \u001b[38;5;28;01mdef\u001b[39;00m \u001b[38;5;21m__getitem__\u001b[39m(\u001b[38;5;28mself\u001b[39m,command:\u001b[38;5;28mstr\u001b[39m):\n\u001b[0;32m--> 415\u001b[0m \t\u001b[38;5;28;43mself\u001b[39;49m\u001b[38;5;241;43m.\u001b[39;49m\u001b[43mquery\u001b[49m\u001b[43m(\u001b[49m\u001b[43mcommand\u001b[49m\u001b[43m,\u001b[49m\u001b[43margs\u001b[49m\u001b[38;5;241;43m=\u001b[39;49m\u001b[38;5;28;43;01mNone\u001b[39;49;00m\u001b[43m)\u001b[49m\n",
      "File \u001b[0;32m~/miniconda3/lib/python3.10/site-packages/mllibs/nlpi.py:418\u001b[0m, in \u001b[0;36mnlpi.query\u001b[0;34m(self, command, args)\u001b[0m\n\u001b[1;32m    417\u001b[0m \u001b[38;5;28;01mdef\u001b[39;00m \u001b[38;5;21mquery\u001b[39m(\u001b[38;5;28mself\u001b[39m,command:\u001b[38;5;28mstr\u001b[39m,args:\u001b[38;5;28mdict\u001b[39m\u001b[38;5;241m=\u001b[39m\u001b[38;5;28;01mNone\u001b[39;00m):                        \n\u001b[0;32m--> 418\u001b[0m \t\u001b[38;5;28;43mself\u001b[39;49m\u001b[38;5;241;43m.\u001b[39;49m\u001b[43mdo\u001b[49m\u001b[43m(\u001b[49m\u001b[43mcommand\u001b[49m\u001b[38;5;241;43m=\u001b[39;49m\u001b[43mcommand\u001b[49m\u001b[43m,\u001b[49m\u001b[43margs\u001b[49m\u001b[38;5;241;43m=\u001b[39;49m\u001b[43margs\u001b[49m\u001b[43m)\u001b[49m\n",
      "File \u001b[0;32m~/miniconda3/lib/python3.10/site-packages/mllibs/nlpi.py:2089\u001b[0m, in \u001b[0;36mnlpi.do\u001b[0;34m(self, command, args)\u001b[0m\n\u001b[1;32m   2086\u001b[0m nlpi\u001b[38;5;241m.\u001b[39mmemory_info \u001b[38;5;241m=\u001b[39m pd\u001b[38;5;241m.\u001b[39mconcat(\u001b[38;5;28mself\u001b[39m\u001b[38;5;241m.\u001b[39mmemory_stack,axis\u001b[38;5;241m=\u001b[39m\u001b[38;5;241m1\u001b[39m) \u001b[38;5;66;03m# stack task information order\u001b[39;00m\n\u001b[1;32m   2088\u001b[0m \u001b[38;5;66;03m# activate function [module_name] & pass [module_args]\u001b[39;00m\n\u001b[0;32m-> 2089\u001b[0m \u001b[38;5;28;43mself\u001b[39;49m\u001b[38;5;241;43m.\u001b[39;49m\u001b[43mmodule\u001b[49m\u001b[38;5;241;43m.\u001b[39;49m\u001b[43mmodules\u001b[49m\u001b[43m[\u001b[49m\u001b[38;5;28;43mself\u001b[39;49m\u001b[38;5;241;43m.\u001b[39;49m\u001b[43mmodule_name\u001b[49m\u001b[43m]\u001b[49m\u001b[38;5;241;43m.\u001b[39;49m\u001b[43msel\u001b[49m\u001b[43m(\u001b[49m\u001b[38;5;28;43mself\u001b[39;49m\u001b[38;5;241;43m.\u001b[39;49m\u001b[43mmodule_args\u001b[49m\u001b[43m)\u001b[49m\n\u001b[1;32m   2091\u001b[0m \u001b[38;5;28;01mif\u001b[39;00m(\u001b[38;5;28mlen\u001b[39m(nlpi\u001b[38;5;241m.\u001b[39mmemory_output) \u001b[38;5;241m==\u001b[39m nlpi\u001b[38;5;241m.\u001b[39miter\u001b[38;5;241m+\u001b[39m\u001b[38;5;241m1\u001b[39m):\n\u001b[1;32m   2092\u001b[0m \t\u001b[38;5;28;01mpass\u001b[39;00m\n",
      "File \u001b[0;32m~/miniconda3/lib/python3.10/site-packages/mllibs/eda/meda_splot.py:169\u001b[0m, in \u001b[0;36meda_splot.sel\u001b[0;34m(self, args)\u001b[0m\n\u001b[1;32m    166\u001b[0m group_col_idx,indiv_col_idx \u001b[38;5;241m=\u001b[39m get_nested_list_and_indices(args[\u001b[38;5;124m'\u001b[39m\u001b[38;5;124mcolumn\u001b[39m\u001b[38;5;124m'\u001b[39m])\n\u001b[1;32m    168\u001b[0m \u001b[38;5;66;03m# group column names\u001b[39;00m\n\u001b[0;32m--> 169\u001b[0m group_col \u001b[38;5;241m=\u001b[39m \u001b[43margs\u001b[49m\u001b[43m[\u001b[49m\u001b[38;5;124;43m'\u001b[39;49m\u001b[38;5;124;43mcolumn\u001b[39;49m\u001b[38;5;124;43m'\u001b[39;49m\u001b[43m]\u001b[49m\u001b[43m[\u001b[49m\u001b[43mgroup_col_idx\u001b[49m\u001b[43m]\u001b[49m\n\u001b[1;32m    171\u001b[0m \u001b[38;5;66;03m# non grouped column names\u001b[39;00m\n\u001b[1;32m    172\u001b[0m lst_indiv \u001b[38;5;241m=\u001b[39m []\n",
      "\u001b[0;31mTypeError\u001b[0m: list indices must be integers or slices, not NoneType"
     ]
    }
   ],
   "source": [
    "i['using data penguins create relplot using selected_columns']"
   ]
  },
  {
   "cell_type": "code",
   "execution_count": 3,
   "id": "be6340a6-4ff5-445a-aa6a-b794551bab48",
   "metadata": {},
   "outputs": [
    {
     "name": "stdout",
     "output_type": "stream",
     "text": [
      "temp!\n",
      "             token  index_id type        ner_tags  data         dtype  \\\n",
      "0            using         0  uni  B-TOKEN_REMOVE   NaN           NaN   \n",
      "1             data         1  uni  I-TOKEN_REMOVE   NaN           NaN   \n",
      "2         penguins         2  uni               O   0.0  pd.DataFrame   \n",
      "3           create         3  uni               O   NaN           NaN   \n",
      "4                a         4  uni               O   NaN           NaN   \n",
      "5          relplot         5  uni               O   NaN           NaN   \n",
      "6            using         6  uni  B-TOKEN_REMOVE   NaN           NaN   \n",
      "7   bill_length_mm         7  uni               O   NaN           NaN   \n",
      "8              and         8  uni               O   NaN           NaN   \n",
      "9    bill_depth_mm         9  uni               O   NaN           NaN   \n",
      "10             set        10  uni               O   NaN           NaN   \n",
      "11             hue        11  uni         B-PARAM   NaN           NaN   \n",
      "12          island        12  uni               O   NaN           NaN   \n",
      "\n",
      "      column ttype   ttype_storage  token_arg token_argv  vocab  keep_token  \n",
      "0        NaN   str           using      False          0   True        True  \n",
      "1        NaN   str            data      False          0   True        True  \n",
      "2        NaN   str        penguins      False          0  False       False  \n",
      "3        NaN   str          create      False          0   True       False  \n",
      "4        NaN   str               a      False          0  False       False  \n",
      "5        NaN   str         relplot      False          0   True       False  \n",
      "6        NaN   str           using      False          0   True       False  \n",
      "7   penguins   str  bill_length_mm      False          0  False       False  \n",
      "8        NaN   str             and      False          0  False       False  \n",
      "9   penguins   str   bill_depth_mm      False          0  False       False  \n",
      "10       NaN   str             set      False          0   True       False  \n",
      "11       NaN   str             hue       True          0  False       False  \n",
      "12  penguins   str          island      False       True  False       False  \n",
      "[note] setting module_args parameters\n",
      "{'hue': 'island'}\n",
      "[note] found relevant global task [srelplot] w/ [0.41] certainty!\n",
      "[note] found sub_task [xy_column] w/ [0.52] certainty!\n"
     ]
    },
    {
     "data": {
      "image/png": "[encoded data removed]",
      "text/plain": [
       "<Figure size 611.875x500 with 1 Axes>"
      ]
     },
     "metadata": {},
     "output_type": "display_data"
    }
   ],
   "source": [
    "# i['using data penguins create a relplot using bill_length_mm and bill_depth_mm set hue as island']"
   ]
  },
  {
   "cell_type": "code",
   "execution_count": 3,
   "id": "545a3e75-126c-4661-b7e2-f6f22246e611",
   "metadata": {},
   "outputs": [
    {
     "name": "stdout",
     "output_type": "stream",
     "text": [
      "temp!\n"
     ]
    },
    {
     "data": {
      "text/html": [
       "<div>\n",
       "<style scoped>\n",
       "    .dataframe tbody tr th:only-of-type {\n",
       "        vertical-align: middle;\n",
       "    }\n",
       "\n",
       "    .dataframe tbody tr th {\n",
       "        vertical-align: top;\n",
       "    }\n",
       "\n",
       "    .dataframe thead th {\n",
       "        text-align: right;\n",
       "    }\n",
       "</style>\n",
       "<table border=\"1\" class=\"dataframe\">\n",
       "  <thead>\n",
       "    <tr style=\"text-align: right;\">\n",
       "      <th></th>\n",
       "      <th>token</th>\n",
       "      <th>index_id</th>\n",
       "      <th>type</th>\n",
       "      <th>ner_tags</th>\n",
       "      <th>data</th>\n",
       "      <th>dtype</th>\n",
       "      <th>column</th>\n",
       "      <th>ttype</th>\n",
       "      <th>ttype_storage</th>\n",
       "      <th>token_arg</th>\n",
       "      <th>token_argv</th>\n",
       "      <th>vocab</th>\n",
       "      <th>keep_token</th>\n",
       "    </tr>\n",
       "  </thead>\n",
       "  <tbody>\n",
       "    <tr>\n",
       "      <th>0</th>\n",
       "      <td>using</td>\n",
       "      <td>0</td>\n",
       "      <td>uni</td>\n",
       "      <td>B-TOKEN_REMOVE</td>\n",
       "      <td>NaN</td>\n",
       "      <td>NaN</td>\n",
       "      <td>NaN</td>\n",
       "      <td>str</td>\n",
       "      <td>using</td>\n",
       "      <td>False</td>\n",
       "      <td>0</td>\n",
       "      <td>True</td>\n",
       "      <td>False</td>\n",
       "    </tr>\n",
       "    <tr>\n",
       "      <th>1</th>\n",
       "      <td>data</td>\n",
       "      <td>1</td>\n",
       "      <td>uni</td>\n",
       "      <td>I-TOKEN_REMOVE</td>\n",
       "      <td>NaN</td>\n",
       "      <td>NaN</td>\n",
       "      <td>NaN</td>\n",
       "      <td>str</td>\n",
       "      <td>data</td>\n",
       "      <td>False</td>\n",
       "      <td>0</td>\n",
       "      <td>True</td>\n",
       "      <td>False</td>\n",
       "    </tr>\n",
       "    <tr>\n",
       "      <th>2</th>\n",
       "      <td>penguins</td>\n",
       "      <td>2</td>\n",
       "      <td>uni</td>\n",
       "      <td>O</td>\n",
       "      <td>0.0</td>\n",
       "      <td>pd.DataFrame</td>\n",
       "      <td>NaN</td>\n",
       "      <td>str</td>\n",
       "      <td>penguins</td>\n",
       "      <td>False</td>\n",
       "      <td>0</td>\n",
       "      <td>False</td>\n",
       "      <td>False</td>\n",
       "    </tr>\n",
       "    <tr>\n",
       "      <th>3</th>\n",
       "      <td>create</td>\n",
       "      <td>3</td>\n",
       "      <td>uni</td>\n",
       "      <td>O</td>\n",
       "      <td>NaN</td>\n",
       "      <td>NaN</td>\n",
       "      <td>NaN</td>\n",
       "      <td>str</td>\n",
       "      <td>create</td>\n",
       "      <td>False</td>\n",
       "      <td>0</td>\n",
       "      <td>True</td>\n",
       "      <td>False</td>\n",
       "    </tr>\n",
       "    <tr>\n",
       "      <th>4</th>\n",
       "      <td>a</td>\n",
       "      <td>4</td>\n",
       "      <td>uni</td>\n",
       "      <td>O</td>\n",
       "      <td>NaN</td>\n",
       "      <td>NaN</td>\n",
       "      <td>NaN</td>\n",
       "      <td>str</td>\n",
       "      <td>a</td>\n",
       "      <td>False</td>\n",
       "      <td>0</td>\n",
       "      <td>False</td>\n",
       "      <td>False</td>\n",
       "    </tr>\n",
       "    <tr>\n",
       "      <th>5</th>\n",
       "      <td>relplot</td>\n",
       "      <td>5</td>\n",
       "      <td>uni</td>\n",
       "      <td>O</td>\n",
       "      <td>NaN</td>\n",
       "      <td>NaN</td>\n",
       "      <td>NaN</td>\n",
       "      <td>str</td>\n",
       "      <td>relplot</td>\n",
       "      <td>False</td>\n",
       "      <td>0</td>\n",
       "      <td>True</td>\n",
       "      <td>False</td>\n",
       "    </tr>\n",
       "    <tr>\n",
       "      <th>6</th>\n",
       "      <td>using</td>\n",
       "      <td>6</td>\n",
       "      <td>uni</td>\n",
       "      <td>B-TOKEN_REMOVE</td>\n",
       "      <td>NaN</td>\n",
       "      <td>NaN</td>\n",
       "      <td>NaN</td>\n",
       "      <td>str</td>\n",
       "      <td>using</td>\n",
       "      <td>False</td>\n",
       "      <td>0</td>\n",
       "      <td>True</td>\n",
       "      <td>True</td>\n",
       "    </tr>\n",
       "    <tr>\n",
       "      <th>7</th>\n",
       "      <td>columns</td>\n",
       "      <td>7</td>\n",
       "      <td>uni</td>\n",
       "      <td>B-SUBSET</td>\n",
       "      <td>NaN</td>\n",
       "      <td>NaN</td>\n",
       "      <td>NaN</td>\n",
       "      <td>str</td>\n",
       "      <td>columns</td>\n",
       "      <td>True</td>\n",
       "      <td>0</td>\n",
       "      <td>True</td>\n",
       "      <td>True</td>\n",
       "    </tr>\n",
       "    <tr>\n",
       "      <th>8</th>\n",
       "      <td>selected_columns</td>\n",
       "      <td>8</td>\n",
       "      <td>uni</td>\n",
       "      <td>O</td>\n",
       "      <td>NaN</td>\n",
       "      <td>NaN</td>\n",
       "      <td>NaN</td>\n",
       "      <td>str</td>\n",
       "      <td>selected_columns</td>\n",
       "      <td>False</td>\n",
       "      <td>True</td>\n",
       "      <td>False</td>\n",
       "      <td>False</td>\n",
       "    </tr>\n",
       "    <tr>\n",
       "      <th>9</th>\n",
       "      <td>set</td>\n",
       "      <td>9</td>\n",
       "      <td>uni</td>\n",
       "      <td>O</td>\n",
       "      <td>NaN</td>\n",
       "      <td>NaN</td>\n",
       "      <td>NaN</td>\n",
       "      <td>str</td>\n",
       "      <td>set</td>\n",
       "      <td>False</td>\n",
       "      <td>0</td>\n",
       "      <td>True</td>\n",
       "      <td>False</td>\n",
       "    </tr>\n",
       "    <tr>\n",
       "      <th>10</th>\n",
       "      <td>hue</td>\n",
       "      <td>10</td>\n",
       "      <td>uni</td>\n",
       "      <td>B-PARAM</td>\n",
       "      <td>NaN</td>\n",
       "      <td>NaN</td>\n",
       "      <td>NaN</td>\n",
       "      <td>str</td>\n",
       "      <td>hue</td>\n",
       "      <td>True</td>\n",
       "      <td>0</td>\n",
       "      <td>False</td>\n",
       "      <td>False</td>\n",
       "    </tr>\n",
       "    <tr>\n",
       "      <th>11</th>\n",
       "      <td>island</td>\n",
       "      <td>11</td>\n",
       "      <td>uni</td>\n",
       "      <td>O</td>\n",
       "      <td>NaN</td>\n",
       "      <td>NaN</td>\n",
       "      <td>penguins</td>\n",
       "      <td>str</td>\n",
       "      <td>island</td>\n",
       "      <td>False</td>\n",
       "      <td>True</td>\n",
       "      <td>False</td>\n",
       "      <td>False</td>\n",
       "    </tr>\n",
       "  </tbody>\n",
       "</table>\n",
       "</div>"
      ],
      "text/plain": [
       "               token  index_id type        ner_tags  data         dtype  \\\n",
       "0              using         0  uni  B-TOKEN_REMOVE   NaN           NaN   \n",
       "1               data         1  uni  I-TOKEN_REMOVE   NaN           NaN   \n",
       "2           penguins         2  uni               O   0.0  pd.DataFrame   \n",
       "3             create         3  uni               O   NaN           NaN   \n",
       "4                  a         4  uni               O   NaN           NaN   \n",
       "5            relplot         5  uni               O   NaN           NaN   \n",
       "6              using         6  uni  B-TOKEN_REMOVE   NaN           NaN   \n",
       "7            columns         7  uni        B-SUBSET   NaN           NaN   \n",
       "8   selected_columns         8  uni               O   NaN           NaN   \n",
       "9                set         9  uni               O   NaN           NaN   \n",
       "10               hue        10  uni         B-PARAM   NaN           NaN   \n",
       "11            island        11  uni               O   NaN           NaN   \n",
       "\n",
       "      column ttype     ttype_storage  token_arg token_argv  vocab  keep_token  \n",
       "0        NaN   str             using      False          0   True       False  \n",
       "1        NaN   str              data      False          0   True       False  \n",
       "2        NaN   str          penguins      False          0  False       False  \n",
       "3        NaN   str            create      False          0   True       False  \n",
       "4        NaN   str                 a      False          0  False       False  \n",
       "5        NaN   str           relplot      False          0   True       False  \n",
       "6        NaN   str             using      False          0   True        True  \n",
       "7        NaN   str           columns       True          0   True        True  \n",
       "8        NaN   str  selected_columns      False       True  False       False  \n",
       "9        NaN   str               set      False          0   True       False  \n",
       "10       NaN   str               hue       True          0  False       False  \n",
       "11  penguins   str            island      False       True  False       False  "
      ]
     },
     "metadata": {},
     "output_type": "display_data"
    },
    {
     "name": "stdout",
     "output_type": "stream",
     "text": [
      "[note] setting module_args parameters\n",
      "{'hue': 'island'}\n",
      "[note] found relevant global task [srelplot] w/ [0.21] certainty!\n",
      "[note] found sub_task [xy_column] w/ [0.68] certainty!\n"
     ]
    },
    {
     "ename": "ValueError",
     "evalue": "The following variable cannot be assigned with wide-form data: `hue`",
     "output_type": "error",
     "traceback": [
      "\u001b[0;31m---------------------------------------------------------------------------\u001b[0m",
      "\u001b[0;31mValueError\u001b[0m                                Traceback (most recent call last)",
      "Cell \u001b[0;32mIn[3], line 1\u001b[0m\n\u001b[0;32m----> 1\u001b[0m \u001b[43mi\u001b[49m\u001b[43m[\u001b[49m\u001b[38;5;124;43m'\u001b[39;49m\u001b[38;5;124;43musing data penguins create a relplot using columns selected_columns set hue as island\u001b[39;49m\u001b[38;5;124;43m'\u001b[39;49m\u001b[43m]\u001b[49m\n",
      "File \u001b[0;32m~/miniconda3/lib/python3.10/site-packages/mllibs/nlpi.py:415\u001b[0m, in \u001b[0;36mnlpi.__getitem__\u001b[0;34m(self, command)\u001b[0m\n\u001b[1;32m    414\u001b[0m \u001b[38;5;28;01mdef\u001b[39;00m \u001b[38;5;21m__getitem__\u001b[39m(\u001b[38;5;28mself\u001b[39m,command:\u001b[38;5;28mstr\u001b[39m):\n\u001b[0;32m--> 415\u001b[0m \t\u001b[38;5;28;43mself\u001b[39;49m\u001b[38;5;241;43m.\u001b[39;49m\u001b[43mquery\u001b[49m\u001b[43m(\u001b[49m\u001b[43mcommand\u001b[49m\u001b[43m,\u001b[49m\u001b[43margs\u001b[49m\u001b[38;5;241;43m=\u001b[39;49m\u001b[38;5;28;43;01mNone\u001b[39;49;00m\u001b[43m)\u001b[49m\n",
      "File \u001b[0;32m~/miniconda3/lib/python3.10/site-packages/mllibs/nlpi.py:418\u001b[0m, in \u001b[0;36mnlpi.query\u001b[0;34m(self, command, args)\u001b[0m\n\u001b[1;32m    417\u001b[0m \u001b[38;5;28;01mdef\u001b[39;00m \u001b[38;5;21mquery\u001b[39m(\u001b[38;5;28mself\u001b[39m,command:\u001b[38;5;28mstr\u001b[39m,args:\u001b[38;5;28mdict\u001b[39m\u001b[38;5;241m=\u001b[39m\u001b[38;5;28;01mNone\u001b[39;00m):                        \n\u001b[0;32m--> 418\u001b[0m \t\u001b[38;5;28;43mself\u001b[39;49m\u001b[38;5;241;43m.\u001b[39;49m\u001b[43mdo\u001b[49m\u001b[43m(\u001b[49m\u001b[43mcommand\u001b[49m\u001b[38;5;241;43m=\u001b[39;49m\u001b[43mcommand\u001b[49m\u001b[43m,\u001b[49m\u001b[43margs\u001b[49m\u001b[38;5;241;43m=\u001b[39;49m\u001b[43margs\u001b[49m\u001b[43m)\u001b[49m\n",
      "File \u001b[0;32m~/miniconda3/lib/python3.10/site-packages/mllibs/nlpi.py:2065\u001b[0m, in \u001b[0;36mnlpi.do\u001b[0;34m(self, command, args)\u001b[0m\n\u001b[1;32m   2062\u001b[0m nlpi\u001b[38;5;241m.\u001b[39mmemory_info \u001b[38;5;241m=\u001b[39m pd\u001b[38;5;241m.\u001b[39mconcat(\u001b[38;5;28mself\u001b[39m\u001b[38;5;241m.\u001b[39mmemory_stack,axis\u001b[38;5;241m=\u001b[39m\u001b[38;5;241m1\u001b[39m) \u001b[38;5;66;03m# stack task information order\u001b[39;00m\n\u001b[1;32m   2064\u001b[0m \u001b[38;5;66;03m# activate function [module_name] & pass [module_args]\u001b[39;00m\n\u001b[0;32m-> 2065\u001b[0m \u001b[38;5;28;43mself\u001b[39;49m\u001b[38;5;241;43m.\u001b[39;49m\u001b[43mmodule\u001b[49m\u001b[38;5;241;43m.\u001b[39;49m\u001b[43mmodules\u001b[49m\u001b[43m[\u001b[49m\u001b[38;5;28;43mself\u001b[39;49m\u001b[38;5;241;43m.\u001b[39;49m\u001b[43mmodule_name\u001b[49m\u001b[43m]\u001b[49m\u001b[38;5;241;43m.\u001b[39;49m\u001b[43msel\u001b[49m\u001b[43m(\u001b[49m\u001b[38;5;28;43mself\u001b[39;49m\u001b[38;5;241;43m.\u001b[39;49m\u001b[43mmodule_args\u001b[49m\u001b[43m)\u001b[49m\n\u001b[1;32m   2067\u001b[0m \u001b[38;5;28;01mif\u001b[39;00m(\u001b[38;5;28mlen\u001b[39m(nlpi\u001b[38;5;241m.\u001b[39mmemory_output) \u001b[38;5;241m==\u001b[39m nlpi\u001b[38;5;241m.\u001b[39miter\u001b[38;5;241m+\u001b[39m\u001b[38;5;241m1\u001b[39m):\n\u001b[1;32m   2068\u001b[0m \t\u001b[38;5;28;01mpass\u001b[39;00m\n",
      "File \u001b[0;32m~/miniconda3/lib/python3.10/site-packages/mllibs/eda/meda_splot.py:213\u001b[0m, in \u001b[0;36meda_splot.sel\u001b[0;34m(self, args)\u001b[0m\n\u001b[1;32m    210\u001b[0m \t\t\u001b[38;5;28;01mpass\u001b[39;00m\n\u001b[1;32m    212\u001b[0m \t\u001b[38;5;66;03m# call relplot\u001b[39;00m\n\u001b[0;32m--> 213\u001b[0m \t\u001b[38;5;28;43mself\u001b[39;49m\u001b[38;5;241;43m.\u001b[39;49m\u001b[43msrelplot\u001b[49m\u001b[43m(\u001b[49m\u001b[43margs\u001b[49m\u001b[43m)\u001b[49m\n\u001b[1;32m    215\u001b[0m \u001b[38;5;28;01melse\u001b[39;00m:\n\u001b[1;32m    216\u001b[0m \t\u001b[38;5;28mprint\u001b[39m(\u001b[38;5;124m'\u001b[39m\u001b[38;5;124m[note] no dataframe data sources specified\u001b[39m\u001b[38;5;124m'\u001b[39m)\n",
      "File \u001b[0;32m~/miniconda3/lib/python3.10/site-packages/mllibs/eda/meda_splot.py:306\u001b[0m, in \u001b[0;36meda_splot.srelplot\u001b[0;34m(self, args)\u001b[0m\n\u001b[1;32m    303\u001b[0m palette \u001b[38;5;241m=\u001b[39m \u001b[38;5;28mself\u001b[39m\u001b[38;5;241m.\u001b[39mset_palette(args)\n\u001b[1;32m    304\u001b[0m \u001b[38;5;28mself\u001b[39m\u001b[38;5;241m.\u001b[39mseaborn_setstyle()\n\u001b[0;32m--> 306\u001b[0m \u001b[43msns\u001b[49m\u001b[38;5;241;43m.\u001b[39;49m\u001b[43mrelplot\u001b[49m\u001b[43m(\u001b[49m\u001b[43mx\u001b[49m\u001b[43m \u001b[49m\u001b[38;5;241;43m=\u001b[39;49m\u001b[43m \u001b[49m\u001b[43margs\u001b[49m\u001b[43m[\u001b[49m\u001b[38;5;124;43m'\u001b[39;49m\u001b[38;5;124;43mx\u001b[39;49m\u001b[38;5;124;43m'\u001b[39;49m\u001b[43m]\u001b[49m\u001b[43m,\u001b[49m\u001b[43m \u001b[49m\n\u001b[1;32m    307\u001b[0m \u001b[43m\t\t\t\u001b[49m\u001b[43my\u001b[49m\u001b[43m \u001b[49m\u001b[38;5;241;43m=\u001b[39;49m\u001b[43m \u001b[49m\u001b[43margs\u001b[49m\u001b[43m[\u001b[49m\u001b[38;5;124;43m'\u001b[39;49m\u001b[38;5;124;43my\u001b[39;49m\u001b[38;5;124;43m'\u001b[39;49m\u001b[43m]\u001b[49m\u001b[43m,\u001b[49m\n\u001b[1;32m    308\u001b[0m \u001b[43m\t\t\t\u001b[49m\u001b[43mcol\u001b[49m\u001b[43m \u001b[49m\u001b[38;5;241;43m=\u001b[39;49m\u001b[43m \u001b[49m\u001b[43margs\u001b[49m\u001b[43m[\u001b[49m\u001b[38;5;124;43m'\u001b[39;49m\u001b[38;5;124;43mcol\u001b[39;49m\u001b[38;5;124;43m'\u001b[39;49m\u001b[43m]\u001b[49m\u001b[43m,\u001b[49m\n\u001b[1;32m    309\u001b[0m \u001b[43m\t\t\t\u001b[49m\u001b[43mrow\u001b[49m\u001b[43m \u001b[49m\u001b[38;5;241;43m=\u001b[39;49m\u001b[43m \u001b[49m\u001b[43margs\u001b[49m\u001b[43m[\u001b[49m\u001b[38;5;124;43m'\u001b[39;49m\u001b[38;5;124;43mrow\u001b[39;49m\u001b[38;5;124;43m'\u001b[39;49m\u001b[43m]\u001b[49m\u001b[43m,\u001b[49m\n\u001b[1;32m    310\u001b[0m \u001b[43m\t\t\t\u001b[49m\u001b[43mhue\u001b[49m\u001b[43m \u001b[49m\u001b[38;5;241;43m=\u001b[39;49m\u001b[43m \u001b[49m\u001b[43margs\u001b[49m\u001b[43m[\u001b[49m\u001b[38;5;124;43m'\u001b[39;49m\u001b[38;5;124;43mhue\u001b[39;49m\u001b[38;5;124;43m'\u001b[39;49m\u001b[43m]\u001b[49m\u001b[43m,\u001b[49m\u001b[43m \u001b[49m\n\u001b[1;32m    311\u001b[0m \u001b[43m\t\t\t\u001b[49m\u001b[43mcol_wrap\u001b[49m\u001b[43m \u001b[49m\u001b[38;5;241;43m=\u001b[39;49m\u001b[43m \u001b[49m\u001b[43margs\u001b[49m\u001b[43m[\u001b[49m\u001b[38;5;124;43m'\u001b[39;49m\u001b[38;5;124;43mcol_wrap\u001b[39;49m\u001b[38;5;124;43m'\u001b[39;49m\u001b[43m]\u001b[49m\u001b[43m,\u001b[49m\n\u001b[1;32m    312\u001b[0m \u001b[43m\t\t\t\u001b[49m\u001b[43mpalette\u001b[49m\u001b[43m \u001b[49m\u001b[38;5;241;43m=\u001b[39;49m\u001b[43m \u001b[49m\u001b[43mpalette\u001b[49m\u001b[43m,\u001b[49m\n\u001b[1;32m    313\u001b[0m \u001b[43m\t\t\t\u001b[49m\u001b[43malpha\u001b[49m\u001b[43m \u001b[49m\u001b[38;5;241;43m=\u001b[39;49m\u001b[43m \u001b[49m\u001b[43margs\u001b[49m\u001b[43m[\u001b[49m\u001b[38;5;124;43m'\u001b[39;49m\u001b[38;5;124;43malpha\u001b[39;49m\u001b[38;5;124;43m'\u001b[39;49m\u001b[43m]\u001b[49m\u001b[43m,\u001b[49m\n\u001b[1;32m    314\u001b[0m \u001b[43m\t\t\t\u001b[49m\u001b[43ms\u001b[49m\u001b[43m \u001b[49m\u001b[38;5;241;43m=\u001b[39;49m\u001b[43m \u001b[49m\u001b[43margs\u001b[49m\u001b[43m[\u001b[49m\u001b[38;5;124;43m'\u001b[39;49m\u001b[38;5;124;43ms\u001b[39;49m\u001b[38;5;124;43m'\u001b[39;49m\u001b[43m]\u001b[49m\u001b[43m,\u001b[49m\n\u001b[1;32m    315\u001b[0m \u001b[43m\t\t\t\u001b[49m\u001b[43mlinewidth\u001b[49m\u001b[43m \u001b[49m\u001b[38;5;241;43m=\u001b[39;49m\u001b[43m \u001b[49m\u001b[43margs\u001b[49m\u001b[43m[\u001b[49m\u001b[38;5;124;43m'\u001b[39;49m\u001b[38;5;124;43mmew\u001b[39;49m\u001b[38;5;124;43m'\u001b[39;49m\u001b[43m]\u001b[49m\u001b[43m,\u001b[49m\n\u001b[1;32m    316\u001b[0m \u001b[43m\t\t\t\u001b[49m\u001b[43medgecolor\u001b[49m\u001b[43m \u001b[49m\u001b[38;5;241;43m=\u001b[39;49m\u001b[43m \u001b[49m\u001b[43margs\u001b[49m\u001b[43m[\u001b[49m\u001b[38;5;124;43m'\u001b[39;49m\u001b[38;5;124;43mmec\u001b[39;49m\u001b[38;5;124;43m'\u001b[39;49m\u001b[43m]\u001b[49m\u001b[43m,\u001b[49m\n\u001b[1;32m    317\u001b[0m \u001b[43m\t\t\t\u001b[49m\u001b[43mdata\u001b[49m\u001b[43m \u001b[49m\u001b[38;5;241;43m=\u001b[39;49m\u001b[43m \u001b[49m\u001b[43margs\u001b[49m\u001b[43m[\u001b[49m\u001b[38;5;124;43m'\u001b[39;49m\u001b[38;5;124;43mdata\u001b[39;49m\u001b[38;5;124;43m'\u001b[39;49m\u001b[43m]\u001b[49m\u001b[43m)\u001b[49m\n\u001b[1;32m    319\u001b[0m sns\u001b[38;5;241m.\u001b[39mdespine(left\u001b[38;5;241m=\u001b[39m\u001b[38;5;28;01mTrue\u001b[39;00m, bottom\u001b[38;5;241m=\u001b[39m\u001b[38;5;28;01mTrue\u001b[39;00m)\n\u001b[1;32m    320\u001b[0m \u001b[38;5;28;01mif\u001b[39;00m(nlpi\u001b[38;5;241m.\u001b[39mpp[\u001b[38;5;124m'\u001b[39m\u001b[38;5;124mtitle\u001b[39m\u001b[38;5;124m'\u001b[39m]):\n",
      "File \u001b[0;32m~/miniconda3/lib/python3.10/site-packages/seaborn/relational.py:862\u001b[0m, in \u001b[0;36mrelplot\u001b[0;34m(data, x, y, hue, size, style, units, row, col, col_wrap, row_order, col_order, palette, hue_order, hue_norm, sizes, size_order, size_norm, markers, dashes, style_order, legend, kind, height, aspect, facet_kws, **kwargs)\u001b[0m\n\u001b[1;32m    859\u001b[0m     kwargs\u001b[38;5;241m.\u001b[39mpop(\u001b[38;5;124m\"\u001b[39m\u001b[38;5;124max\u001b[39m\u001b[38;5;124m\"\u001b[39m)\n\u001b[1;32m    861\u001b[0m \u001b[38;5;66;03m# Use the full dataset to map the semantics\u001b[39;00m\n\u001b[0;32m--> 862\u001b[0m p \u001b[38;5;241m=\u001b[39m \u001b[43mplotter\u001b[49m\u001b[43m(\u001b[49m\n\u001b[1;32m    863\u001b[0m \u001b[43m    \u001b[49m\u001b[43mdata\u001b[49m\u001b[38;5;241;43m=\u001b[39;49m\u001b[43mdata\u001b[49m\u001b[43m,\u001b[49m\n\u001b[1;32m    864\u001b[0m \u001b[43m    \u001b[49m\u001b[43mvariables\u001b[49m\u001b[38;5;241;43m=\u001b[39;49m\u001b[43mplotter\u001b[49m\u001b[38;5;241;43m.\u001b[39;49m\u001b[43mget_semantics\u001b[49m\u001b[43m(\u001b[49m\u001b[38;5;28;43mlocals\u001b[39;49m\u001b[43m(\u001b[49m\u001b[43m)\u001b[49m\u001b[43m)\u001b[49m\u001b[43m,\u001b[49m\n\u001b[1;32m    865\u001b[0m \u001b[43m    \u001b[49m\u001b[43mlegend\u001b[49m\u001b[38;5;241;43m=\u001b[39;49m\u001b[43mlegend\u001b[49m\u001b[43m,\u001b[49m\n\u001b[1;32m    866\u001b[0m \u001b[43m\u001b[49m\u001b[43m)\u001b[49m\n\u001b[1;32m    867\u001b[0m p\u001b[38;5;241m.\u001b[39mmap_hue(palette\u001b[38;5;241m=\u001b[39mpalette, order\u001b[38;5;241m=\u001b[39mhue_order, norm\u001b[38;5;241m=\u001b[39mhue_norm)\n\u001b[1;32m    868\u001b[0m p\u001b[38;5;241m.\u001b[39mmap_size(sizes\u001b[38;5;241m=\u001b[39msizes, order\u001b[38;5;241m=\u001b[39msize_order, norm\u001b[38;5;241m=\u001b[39msize_norm)\n",
      "File \u001b[0;32m~/miniconda3/lib/python3.10/site-packages/seaborn/relational.py:538\u001b[0m, in \u001b[0;36m_ScatterPlotter.__init__\u001b[0;34m(self, data, variables, legend)\u001b[0m\n\u001b[1;32m    529\u001b[0m \u001b[38;5;28;01mdef\u001b[39;00m \u001b[38;5;21m__init__\u001b[39m(\u001b[38;5;28mself\u001b[39m, \u001b[38;5;241m*\u001b[39m, data\u001b[38;5;241m=\u001b[39m\u001b[38;5;28;01mNone\u001b[39;00m, variables\u001b[38;5;241m=\u001b[39m{}, legend\u001b[38;5;241m=\u001b[39m\u001b[38;5;28;01mNone\u001b[39;00m):\n\u001b[1;32m    530\u001b[0m \n\u001b[1;32m    531\u001b[0m     \u001b[38;5;66;03m# TODO this is messy, we want the mapping to be agnostic about\u001b[39;00m\n\u001b[1;32m    532\u001b[0m     \u001b[38;5;66;03m# the kind of plot to draw, but for the time being we need to set\u001b[39;00m\n\u001b[1;32m    533\u001b[0m     \u001b[38;5;66;03m# this information so the SizeMapping can use it\u001b[39;00m\n\u001b[1;32m    534\u001b[0m     \u001b[38;5;28mself\u001b[39m\u001b[38;5;241m.\u001b[39m_default_size_range \u001b[38;5;241m=\u001b[39m (\n\u001b[1;32m    535\u001b[0m         np\u001b[38;5;241m.\u001b[39mr_[\u001b[38;5;241m.5\u001b[39m, \u001b[38;5;241m2\u001b[39m] \u001b[38;5;241m*\u001b[39m np\u001b[38;5;241m.\u001b[39msquare(mpl\u001b[38;5;241m.\u001b[39mrcParams[\u001b[38;5;124m\"\u001b[39m\u001b[38;5;124mlines.markersize\u001b[39m\u001b[38;5;124m\"\u001b[39m])\n\u001b[1;32m    536\u001b[0m     )\n\u001b[0;32m--> 538\u001b[0m     \u001b[38;5;28;43msuper\u001b[39;49m\u001b[43m(\u001b[49m\u001b[43m)\u001b[49m\u001b[38;5;241;43m.\u001b[39;49m\u001b[38;5;21;43m__init__\u001b[39;49m\u001b[43m(\u001b[49m\u001b[43mdata\u001b[49m\u001b[38;5;241;43m=\u001b[39;49m\u001b[43mdata\u001b[49m\u001b[43m,\u001b[49m\u001b[43m \u001b[49m\u001b[43mvariables\u001b[49m\u001b[38;5;241;43m=\u001b[39;49m\u001b[43mvariables\u001b[49m\u001b[43m)\u001b[49m\n\u001b[1;32m    540\u001b[0m     \u001b[38;5;28mself\u001b[39m\u001b[38;5;241m.\u001b[39mlegend \u001b[38;5;241m=\u001b[39m legend\n",
      "File \u001b[0;32m~/miniconda3/lib/python3.10/site-packages/seaborn/_oldcore.py:640\u001b[0m, in \u001b[0;36mVectorPlotter.__init__\u001b[0;34m(self, data, variables)\u001b[0m\n\u001b[1;32m    635\u001b[0m \u001b[38;5;66;03m# var_ordered is relevant only for categorical axis variables, and may\u001b[39;00m\n\u001b[1;32m    636\u001b[0m \u001b[38;5;66;03m# be better handled by an internal axis information object that tracks\u001b[39;00m\n\u001b[1;32m    637\u001b[0m \u001b[38;5;66;03m# such information and is set up by the scale_* methods. The analogous\u001b[39;00m\n\u001b[1;32m    638\u001b[0m \u001b[38;5;66;03m# information for numeric axes would be information about log scales.\u001b[39;00m\n\u001b[1;32m    639\u001b[0m \u001b[38;5;28mself\u001b[39m\u001b[38;5;241m.\u001b[39m_var_ordered \u001b[38;5;241m=\u001b[39m {\u001b[38;5;124m\"\u001b[39m\u001b[38;5;124mx\u001b[39m\u001b[38;5;124m\"\u001b[39m: \u001b[38;5;28;01mFalse\u001b[39;00m, \u001b[38;5;124m\"\u001b[39m\u001b[38;5;124my\u001b[39m\u001b[38;5;124m\"\u001b[39m: \u001b[38;5;28;01mFalse\u001b[39;00m}  \u001b[38;5;66;03m# alt., used DefaultDict\u001b[39;00m\n\u001b[0;32m--> 640\u001b[0m \u001b[38;5;28;43mself\u001b[39;49m\u001b[38;5;241;43m.\u001b[39;49m\u001b[43massign_variables\u001b[49m\u001b[43m(\u001b[49m\u001b[43mdata\u001b[49m\u001b[43m,\u001b[49m\u001b[43m \u001b[49m\u001b[43mvariables\u001b[49m\u001b[43m)\u001b[49m\n\u001b[1;32m    642\u001b[0m \u001b[38;5;28;01mfor\u001b[39;00m var, \u001b[38;5;28mcls\u001b[39m \u001b[38;5;129;01min\u001b[39;00m \u001b[38;5;28mself\u001b[39m\u001b[38;5;241m.\u001b[39m_semantic_mappings\u001b[38;5;241m.\u001b[39mitems():\n\u001b[1;32m    643\u001b[0m \n\u001b[1;32m    644\u001b[0m     \u001b[38;5;66;03m# Create the mapping function\u001b[39;00m\n\u001b[1;32m    645\u001b[0m     map_func \u001b[38;5;241m=\u001b[39m partial(\u001b[38;5;28mcls\u001b[39m\u001b[38;5;241m.\u001b[39mmap, plotter\u001b[38;5;241m=\u001b[39m\u001b[38;5;28mself\u001b[39m)\n",
      "File \u001b[0;32m~/miniconda3/lib/python3.10/site-packages/seaborn/_oldcore.py:696\u001b[0m, in \u001b[0;36mVectorPlotter.assign_variables\u001b[0;34m(self, data, variables)\u001b[0m\n\u001b[1;32m    694\u001b[0m \u001b[38;5;28;01mif\u001b[39;00m x \u001b[38;5;129;01mis\u001b[39;00m \u001b[38;5;28;01mNone\u001b[39;00m \u001b[38;5;129;01mand\u001b[39;00m y \u001b[38;5;129;01mis\u001b[39;00m \u001b[38;5;28;01mNone\u001b[39;00m:\n\u001b[1;32m    695\u001b[0m     \u001b[38;5;28mself\u001b[39m\u001b[38;5;241m.\u001b[39minput_format \u001b[38;5;241m=\u001b[39m \u001b[38;5;124m\"\u001b[39m\u001b[38;5;124mwide\u001b[39m\u001b[38;5;124m\"\u001b[39m\n\u001b[0;32m--> 696\u001b[0m     plot_data, variables \u001b[38;5;241m=\u001b[39m \u001b[38;5;28;43mself\u001b[39;49m\u001b[38;5;241;43m.\u001b[39;49m\u001b[43m_assign_variables_wideform\u001b[49m\u001b[43m(\u001b[49m\n\u001b[1;32m    697\u001b[0m \u001b[43m        \u001b[49m\u001b[43mdata\u001b[49m\u001b[43m,\u001b[49m\u001b[43m \u001b[49m\u001b[38;5;241;43m*\u001b[39;49m\u001b[38;5;241;43m*\u001b[39;49m\u001b[43mvariables\u001b[49m\u001b[43m,\u001b[49m\n\u001b[1;32m    698\u001b[0m \u001b[43m    \u001b[49m\u001b[43m)\u001b[49m\n\u001b[1;32m    699\u001b[0m \u001b[38;5;28;01melse\u001b[39;00m:\n\u001b[1;32m    700\u001b[0m     \u001b[38;5;28mself\u001b[39m\u001b[38;5;241m.\u001b[39minput_format \u001b[38;5;241m=\u001b[39m \u001b[38;5;124m\"\u001b[39m\u001b[38;5;124mlong\u001b[39m\u001b[38;5;124m\"\u001b[39m\n",
      "File \u001b[0;32m~/miniconda3/lib/python3.10/site-packages/seaborn/_oldcore.py:745\u001b[0m, in \u001b[0;36mVectorPlotter._assign_variables_wideform\u001b[0;34m(self, data, **kwargs)\u001b[0m\n\u001b[1;32m    743\u001b[0m     err \u001b[38;5;241m=\u001b[39m \u001b[38;5;124mf\u001b[39m\u001b[38;5;124m\"\u001b[39m\u001b[38;5;124mThe following variable\u001b[39m\u001b[38;5;132;01m{\u001b[39;00ms\u001b[38;5;132;01m}\u001b[39;00m\u001b[38;5;124m cannot be assigned with wide-form data: \u001b[39m\u001b[38;5;124m\"\u001b[39m\n\u001b[1;32m    744\u001b[0m     err \u001b[38;5;241m+\u001b[39m\u001b[38;5;241m=\u001b[39m \u001b[38;5;124m\"\u001b[39m\u001b[38;5;124m, \u001b[39m\u001b[38;5;124m\"\u001b[39m\u001b[38;5;241m.\u001b[39mjoin(\u001b[38;5;124mf\u001b[39m\u001b[38;5;124m\"\u001b[39m\u001b[38;5;124m`\u001b[39m\u001b[38;5;132;01m{\u001b[39;00mv\u001b[38;5;132;01m}\u001b[39;00m\u001b[38;5;124m`\u001b[39m\u001b[38;5;124m\"\u001b[39m \u001b[38;5;28;01mfor\u001b[39;00m v \u001b[38;5;129;01min\u001b[39;00m assigned)\n\u001b[0;32m--> 745\u001b[0m     \u001b[38;5;28;01mraise\u001b[39;00m \u001b[38;5;167;01mValueError\u001b[39;00m(err)\n\u001b[1;32m    747\u001b[0m \u001b[38;5;66;03m# Determine if the data object actually has any data in it\u001b[39;00m\n\u001b[1;32m    748\u001b[0m empty \u001b[38;5;241m=\u001b[39m data \u001b[38;5;129;01mis\u001b[39;00m \u001b[38;5;28;01mNone\u001b[39;00m \u001b[38;5;129;01mor\u001b[39;00m \u001b[38;5;129;01mnot\u001b[39;00m \u001b[38;5;28mlen\u001b[39m(data)\n",
      "\u001b[0;31mValueError\u001b[0m: The following variable cannot be assigned with wide-form data: `hue`"
     ]
    }
   ],
   "source": [
    "i['using data penguins create a relplot using columns selected_columns set hue as island']"
   ]
  },
  {
   "cell_type": "code",
   "execution_count": 28,
   "id": "2b6abc0d-d7fe-49da-b07c-069fabb570de",
   "metadata": {},
   "outputs": [
    {
     "name": "stdout",
     "output_type": "stream",
     "text": [
      "[note] setting module_args parameters\n",
      "{'hue': 'island'}\n",
      "[note] found relevant global task [srelplot] w/ [0.39] certainty!\n",
      "[note] found sub_task [xy_column] w/ [0.71] certainty!\n"
     ]
    },
    {
     "ename": "TypeError",
     "evalue": "list indices must be integers or slices, not NoneType",
     "output_type": "error",
     "traceback": [
      "\u001b[0;31m---------------------------------------------------------------------------\u001b[0m",
      "\u001b[0;31mTypeError\u001b[0m                                 Traceback (most recent call last)",
      "Cell \u001b[0;32mIn[28], line 1\u001b[0m\n\u001b[0;32m----> 1\u001b[0m \u001b[43mi\u001b[49m\u001b[43m[\u001b[49m\u001b[38;5;124;43m'\u001b[39;49m\u001b[38;5;124;43musing data penguins create a relplot using columns selected_columns set hue as island\u001b[39;49m\u001b[38;5;124;43m'\u001b[39;49m\u001b[43m]\u001b[49m\n\u001b[1;32m      3\u001b[0m \u001b[38;5;66;03m# i['what data is available to me']\u001b[39;00m\n\u001b[1;32m      4\u001b[0m \u001b[38;5;66;03m# i.setpp({'figsize':[500,900],'template':'plotly_white','title':None})\u001b[39;00m\n\u001b[1;32m      5\u001b[0m \u001b[38;5;66;03m# nlpi.silent = False\u001b[39;00m\n\u001b[0;32m   (...)\u001b[0m\n\u001b[1;32m     14\u001b[0m \u001b[38;5;66;03m# i['create a plotly scatterplot using penguins plotting the relation between bill_length_mm and bill_depth_mm set s 6 mew 1 mec black']\u001b[39;00m\n\u001b[1;32m     15\u001b[0m \u001b[38;5;66;03m# i['create a plotly scatterplot using x sepal_length and y  using iris set s 7 col species']\u001b[39;00m\n",
      "File \u001b[0;32m~/miniconda3/lib/python3.10/site-packages/mllibs/nlpi.py:415\u001b[0m, in \u001b[0;36mnlpi.__getitem__\u001b[0;34m(self, command)\u001b[0m\n\u001b[1;32m    414\u001b[0m \u001b[38;5;28;01mdef\u001b[39;00m \u001b[38;5;21m__getitem__\u001b[39m(\u001b[38;5;28mself\u001b[39m,command:\u001b[38;5;28mstr\u001b[39m):\n\u001b[0;32m--> 415\u001b[0m \t\u001b[38;5;28;43mself\u001b[39;49m\u001b[38;5;241;43m.\u001b[39;49m\u001b[43mquery\u001b[49m\u001b[43m(\u001b[49m\u001b[43mcommand\u001b[49m\u001b[43m,\u001b[49m\u001b[43margs\u001b[49m\u001b[38;5;241;43m=\u001b[39;49m\u001b[38;5;28;43;01mNone\u001b[39;49;00m\u001b[43m)\u001b[49m\n",
      "File \u001b[0;32m~/miniconda3/lib/python3.10/site-packages/mllibs/nlpi.py:418\u001b[0m, in \u001b[0;36mnlpi.query\u001b[0;34m(self, command, args)\u001b[0m\n\u001b[1;32m    417\u001b[0m \u001b[38;5;28;01mdef\u001b[39;00m \u001b[38;5;21mquery\u001b[39m(\u001b[38;5;28mself\u001b[39m,command:\u001b[38;5;28mstr\u001b[39m,args:\u001b[38;5;28mdict\u001b[39m\u001b[38;5;241m=\u001b[39m\u001b[38;5;28;01mNone\u001b[39;00m):                        \n\u001b[0;32m--> 418\u001b[0m \t\u001b[38;5;28;43mself\u001b[39;49m\u001b[38;5;241;43m.\u001b[39;49m\u001b[43mdo\u001b[49m\u001b[43m(\u001b[49m\u001b[43mcommand\u001b[49m\u001b[38;5;241;43m=\u001b[39;49m\u001b[43mcommand\u001b[49m\u001b[43m,\u001b[49m\u001b[43margs\u001b[49m\u001b[38;5;241;43m=\u001b[39;49m\u001b[43margs\u001b[49m\u001b[43m)\u001b[49m\n",
      "File \u001b[0;32m~/miniconda3/lib/python3.10/site-packages/mllibs/nlpi.py:2061\u001b[0m, in \u001b[0;36mnlpi.do\u001b[0;34m(self, command, args)\u001b[0m\n\u001b[1;32m   2058\u001b[0m nlpi\u001b[38;5;241m.\u001b[39mmemory_info \u001b[38;5;241m=\u001b[39m pd\u001b[38;5;241m.\u001b[39mconcat(\u001b[38;5;28mself\u001b[39m\u001b[38;5;241m.\u001b[39mmemory_stack,axis\u001b[38;5;241m=\u001b[39m\u001b[38;5;241m1\u001b[39m) \u001b[38;5;66;03m# stack task information order\u001b[39;00m\n\u001b[1;32m   2060\u001b[0m \u001b[38;5;66;03m# activate function [module_name] & pass [module_args]\u001b[39;00m\n\u001b[0;32m-> 2061\u001b[0m \u001b[38;5;28;43mself\u001b[39;49m\u001b[38;5;241;43m.\u001b[39;49m\u001b[43mmodule\u001b[49m\u001b[38;5;241;43m.\u001b[39;49m\u001b[43mmodules\u001b[49m\u001b[43m[\u001b[49m\u001b[38;5;28;43mself\u001b[39;49m\u001b[38;5;241;43m.\u001b[39;49m\u001b[43mmodule_name\u001b[49m\u001b[43m]\u001b[49m\u001b[38;5;241;43m.\u001b[39;49m\u001b[43msel\u001b[49m\u001b[43m(\u001b[49m\u001b[38;5;28;43mself\u001b[39;49m\u001b[38;5;241;43m.\u001b[39;49m\u001b[43mmodule_args\u001b[49m\u001b[43m)\u001b[49m\n\u001b[1;32m   2063\u001b[0m \u001b[38;5;28;01mif\u001b[39;00m(\u001b[38;5;28mlen\u001b[39m(nlpi\u001b[38;5;241m.\u001b[39mmemory_output) \u001b[38;5;241m==\u001b[39m nlpi\u001b[38;5;241m.\u001b[39miter\u001b[38;5;241m+\u001b[39m\u001b[38;5;241m1\u001b[39m):\n\u001b[1;32m   2064\u001b[0m \t\u001b[38;5;28;01mpass\u001b[39;00m\n",
      "File \u001b[0;32m~/miniconda3/lib/python3.10/site-packages/mllibs/eda/meda_splot.py:169\u001b[0m, in \u001b[0;36meda_splot.sel\u001b[0;34m(self, args)\u001b[0m\n\u001b[1;32m    166\u001b[0m group_col_idx,indiv_col_idx \u001b[38;5;241m=\u001b[39m get_nested_list_and_indices(args[\u001b[38;5;124m'\u001b[39m\u001b[38;5;124mcolumn\u001b[39m\u001b[38;5;124m'\u001b[39m])\n\u001b[1;32m    168\u001b[0m \u001b[38;5;66;03m# group column names\u001b[39;00m\n\u001b[0;32m--> 169\u001b[0m group_col \u001b[38;5;241m=\u001b[39m \u001b[43margs\u001b[49m\u001b[43m[\u001b[49m\u001b[38;5;124;43m'\u001b[39;49m\u001b[38;5;124;43mcolumn\u001b[39;49m\u001b[38;5;124;43m'\u001b[39;49m\u001b[43m]\u001b[49m\u001b[43m[\u001b[49m\u001b[43mgroup_col_idx\u001b[49m\u001b[43m]\u001b[49m\n\u001b[1;32m    171\u001b[0m \u001b[38;5;66;03m# non grouped column names\u001b[39;00m\n\u001b[1;32m    172\u001b[0m lst_indiv \u001b[38;5;241m=\u001b[39m []\n",
      "\u001b[0;31mTypeError\u001b[0m: list indices must be integers or slices, not NoneType"
     ]
    }
   ],
   "source": [
    "i['using data penguins create a relplot using columns selected_columns set hue as island']\n",
    "\n",
    "# i['what data is available to me']\n",
    "# i.setpp({'figsize':[500,900],'template':'plotly_white','title':None})\n",
    "# nlpi.silent = False\n",
    "\n",
    "# i.store_ac('iris','ac_column',['petal_length','petal_width'])\n",
    "# i.store_ac('iris','ac_column2',['petal_length','petal_width'])\n",
    "# i['create a plotly scatterplot using x sepal_length and y petal_length petal_width using iris set s 7 col species']\n",
    "# i['create a plotly scatterplot using x sepal_length and y ac_column using iris set s 7 col species']\n",
    "# i['create a plotly scatterplot using iris and columns x petal_length y petal_width sepal_length set s 7']\n",
    "# i['create a plotly scatterplot using iris for petal_length and petal_width for all species set s 7']\n",
    "# i['create a plotly scatterplot using iris for petal_length and petal_width for all species and sex set s 7']\n",
    "# i['create a plotly scatterplot using penguins plotting the relation between bill_length_mm and bill_depth_mm set s 6 mew 1 mec black']\n",
    "# i['create a plotly scatterplot using x sepal_length and y  using iris set s 7 col species']"
   ]
  },
  {
   "cell_type": "code",
   "execution_count": 25,
   "id": "96227909-6f3d-4d39-8b9f-385f486e8c08",
   "metadata": {},
   "outputs": [
    {
     "name": "stdout",
     "output_type": "stream",
     "text": [
      "[note] found relevant global task [col_scatter] w/ [0.15] certainty!\n"
     ]
    },
    {
     "ename": "ValueError",
     "evalue": "Could not interpret value `bill_length_mm` for parameter `y`",
     "output_type": "error",
     "traceback": [
      "\u001b[0;31m---------------------------------------------------------------------------\u001b[0m",
      "\u001b[0;31mValueError\u001b[0m                                Traceback (most recent call last)",
      "Cell \u001b[0;32mIn[25], line 7\u001b[0m\n\u001b[1;32m      1\u001b[0m \u001b[38;5;124;03m'''\u001b[39;00m\n\u001b[1;32m      2\u001b[0m \n\u001b[1;32m      3\u001b[0m \u001b[38;5;124;03m    Specify the parameters directly\u001b[39;00m\n\u001b[1;32m      4\u001b[0m \n\u001b[1;32m      5\u001b[0m \u001b[38;5;124;03m'''\u001b[39;00m\n\u001b[0;32m----> 7\u001b[0m \u001b[43mi\u001b[49m\u001b[43m[\u001b[49m\u001b[38;5;124;43m'\u001b[39;49m\u001b[38;5;124;43musing penguins create scatterplot for columns bill_length_mm and bill_depth_mm\u001b[39;49m\u001b[38;5;124;43m'\u001b[39;49m\u001b[43m]\u001b[49m\n",
      "File \u001b[0;32m~/miniconda3/lib/python3.10/site-packages/mllibs/nlpi.py:415\u001b[0m, in \u001b[0;36mnlpi.__getitem__\u001b[0;34m(self, command)\u001b[0m\n\u001b[1;32m    414\u001b[0m \u001b[38;5;28;01mdef\u001b[39;00m \u001b[38;5;21m__getitem__\u001b[39m(\u001b[38;5;28mself\u001b[39m,command:\u001b[38;5;28mstr\u001b[39m):\n\u001b[0;32m--> 415\u001b[0m \t\u001b[38;5;28;43mself\u001b[39;49m\u001b[38;5;241;43m.\u001b[39;49m\u001b[43mquery\u001b[49m\u001b[43m(\u001b[49m\u001b[43mcommand\u001b[49m\u001b[43m,\u001b[49m\u001b[43margs\u001b[49m\u001b[38;5;241;43m=\u001b[39;49m\u001b[38;5;28;43;01mNone\u001b[39;49;00m\u001b[43m)\u001b[49m\n",
      "File \u001b[0;32m~/miniconda3/lib/python3.10/site-packages/mllibs/nlpi.py:418\u001b[0m, in \u001b[0;36mnlpi.query\u001b[0;34m(self, command, args)\u001b[0m\n\u001b[1;32m    417\u001b[0m \u001b[38;5;28;01mdef\u001b[39;00m \u001b[38;5;21mquery\u001b[39m(\u001b[38;5;28mself\u001b[39m,command:\u001b[38;5;28mstr\u001b[39m,args:\u001b[38;5;28mdict\u001b[39m\u001b[38;5;241m=\u001b[39m\u001b[38;5;28;01mNone\u001b[39;00m):                        \n\u001b[0;32m--> 418\u001b[0m \t\u001b[38;5;28;43mself\u001b[39;49m\u001b[38;5;241;43m.\u001b[39;49m\u001b[43mdo\u001b[49m\u001b[43m(\u001b[49m\u001b[43mcommand\u001b[49m\u001b[38;5;241;43m=\u001b[39;49m\u001b[43mcommand\u001b[49m\u001b[43m,\u001b[49m\u001b[43margs\u001b[49m\u001b[38;5;241;43m=\u001b[39;49m\u001b[43margs\u001b[49m\u001b[43m)\u001b[49m\n",
      "File \u001b[0;32m~/miniconda3/lib/python3.10/site-packages/mllibs/nlpi.py:2061\u001b[0m, in \u001b[0;36mnlpi.do\u001b[0;34m(self, command, args)\u001b[0m\n\u001b[1;32m   2058\u001b[0m nlpi\u001b[38;5;241m.\u001b[39mmemory_info \u001b[38;5;241m=\u001b[39m pd\u001b[38;5;241m.\u001b[39mconcat(\u001b[38;5;28mself\u001b[39m\u001b[38;5;241m.\u001b[39mmemory_stack,axis\u001b[38;5;241m=\u001b[39m\u001b[38;5;241m1\u001b[39m) \u001b[38;5;66;03m# stack task information order\u001b[39;00m\n\u001b[1;32m   2060\u001b[0m \u001b[38;5;66;03m# activate function [module_name] & pass [module_args]\u001b[39;00m\n\u001b[0;32m-> 2061\u001b[0m \u001b[38;5;28;43mself\u001b[39;49m\u001b[38;5;241;43m.\u001b[39;49m\u001b[43mmodule\u001b[49m\u001b[38;5;241;43m.\u001b[39;49m\u001b[43mmodules\u001b[49m\u001b[43m[\u001b[49m\u001b[38;5;28;43mself\u001b[39;49m\u001b[38;5;241;43m.\u001b[39;49m\u001b[43mmodule_name\u001b[49m\u001b[43m]\u001b[49m\u001b[38;5;241;43m.\u001b[39;49m\u001b[43msel\u001b[49m\u001b[43m(\u001b[49m\u001b[38;5;28;43mself\u001b[39;49m\u001b[38;5;241;43m.\u001b[39;49m\u001b[43mmodule_args\u001b[49m\u001b[43m)\u001b[49m\n\u001b[1;32m   2063\u001b[0m \u001b[38;5;28;01mif\u001b[39;00m(\u001b[38;5;28mlen\u001b[39m(nlpi\u001b[38;5;241m.\u001b[39mmemory_output) \u001b[38;5;241m==\u001b[39m nlpi\u001b[38;5;241m.\u001b[39miter\u001b[38;5;241m+\u001b[39m\u001b[38;5;241m1\u001b[39m):\n\u001b[1;32m   2064\u001b[0m \t\u001b[38;5;28;01mpass\u001b[39;00m\n",
      "File \u001b[0;32m~/miniconda3/lib/python3.10/site-packages/mllibs/eda/meda_scplot.py:59\u001b[0m, in \u001b[0;36meda_scplot.sel\u001b[0;34m(self, args)\u001b[0m\n\u001b[1;32m     57\u001b[0m     \u001b[38;5;28mself\u001b[39m\u001b[38;5;241m.\u001b[39meda_colplot_box(args)\n\u001b[1;32m     58\u001b[0m \u001b[38;5;28;01melif\u001b[39;00m(select \u001b[38;5;241m==\u001b[39m \u001b[38;5;124m'\u001b[39m\u001b[38;5;124mcol_scatter\u001b[39m\u001b[38;5;124m'\u001b[39m):\n\u001b[0;32m---> 59\u001b[0m     \u001b[38;5;28;43mself\u001b[39;49m\u001b[38;5;241;43m.\u001b[39;49m\u001b[43meda_colplot_scatter\u001b[49m\u001b[43m(\u001b[49m\u001b[43margs\u001b[49m\u001b[43m)\u001b[49m\n",
      "File \u001b[0;32m~/miniconda3/lib/python3.10/site-packages/mllibs/eda/meda_scplot.py:238\u001b[0m, in \u001b[0;36meda_scplot.eda_colplot_scatter\u001b[0;34m(self, args)\u001b[0m\n\u001b[1;32m    234\u001b[0m \u001b[38;5;28;01mfor\u001b[39;00m i, column \u001b[38;5;129;01min\u001b[39;00m \u001b[38;5;28menumerate\u001b[39m(columns):\n\u001b[1;32m    236\u001b[0m     plot_axes \u001b[38;5;241m=\u001b[39m [ax[i]]\n\u001b[0;32m--> 238\u001b[0m     \u001b[43msns\u001b[49m\u001b[38;5;241;43m.\u001b[39;49m\u001b[43mscatterplot\u001b[49m\u001b[43m(\u001b[49m\n\u001b[1;32m    239\u001b[0m \u001b[43m        \u001b[49m\u001b[43margs\u001b[49m\u001b[43m[\u001b[49m\u001b[38;5;124;43m'\u001b[39;49m\u001b[38;5;124;43mdata\u001b[39;49m\u001b[38;5;124;43m'\u001b[39;49m\u001b[43m]\u001b[49m\u001b[43m,\u001b[49m\u001b[43m \u001b[49m\n\u001b[1;32m    240\u001b[0m \u001b[43m        \u001b[49m\u001b[43my\u001b[49m\u001b[38;5;241;43m=\u001b[39;49m\u001b[43mcolumn\u001b[49m\u001b[43m,\u001b[49m\n\u001b[1;32m    241\u001b[0m \u001b[43m        \u001b[49m\u001b[43mx\u001b[49m\u001b[38;5;241;43m=\u001b[39;49m\u001b[43margs\u001b[49m\u001b[43m[\u001b[49m\u001b[38;5;124;43m'\u001b[39;49m\u001b[38;5;124;43mx\u001b[39;49m\u001b[38;5;124;43m'\u001b[39;49m\u001b[43m]\u001b[49m\u001b[43m,\u001b[49m\n\u001b[1;32m    242\u001b[0m \u001b[43m        \u001b[49m\u001b[43mhue\u001b[49m\u001b[38;5;241;43m=\u001b[39;49m\u001b[43margs\u001b[49m\u001b[43m[\u001b[49m\u001b[38;5;124;43m'\u001b[39;49m\u001b[38;5;124;43mhue\u001b[39;49m\u001b[38;5;124;43m'\u001b[39;49m\u001b[43m]\u001b[49m\u001b[43m,\u001b[49m\n\u001b[1;32m    243\u001b[0m \u001b[43m        \u001b[49m\u001b[43malpha\u001b[49m\u001b[38;5;241;43m=\u001b[39;49m\u001b[43m \u001b[49m\u001b[43margs\u001b[49m\u001b[43m[\u001b[49m\u001b[38;5;124;43m'\u001b[39;49m\u001b[38;5;124;43malpha\u001b[39;49m\u001b[38;5;124;43m'\u001b[39;49m\u001b[43m]\u001b[49m\u001b[43m,\u001b[49m\n\u001b[1;32m    244\u001b[0m \u001b[43m        \u001b[49m\u001b[43mlinewidth\u001b[49m\u001b[38;5;241;43m=\u001b[39;49m\u001b[43margs\u001b[49m\u001b[43m[\u001b[49m\u001b[38;5;124;43m'\u001b[39;49m\u001b[38;5;124;43mmew\u001b[39;49m\u001b[38;5;124;43m'\u001b[39;49m\u001b[43m]\u001b[49m\u001b[43m,\u001b[49m\n\u001b[1;32m    245\u001b[0m \u001b[43m        \u001b[49m\u001b[43medgecolor\u001b[49m\u001b[38;5;241;43m=\u001b[39;49m\u001b[43margs\u001b[49m\u001b[43m[\u001b[49m\u001b[38;5;124;43m'\u001b[39;49m\u001b[38;5;124;43mmec\u001b[39;49m\u001b[38;5;124;43m'\u001b[39;49m\u001b[43m]\u001b[49m\u001b[43m,\u001b[49m\n\u001b[1;32m    246\u001b[0m \u001b[43m        \u001b[49m\u001b[43ms\u001b[49m\u001b[43m \u001b[49m\u001b[38;5;241;43m=\u001b[39;49m\u001b[43m \u001b[49m\u001b[43margs\u001b[49m\u001b[43m[\u001b[49m\u001b[38;5;124;43m'\u001b[39;49m\u001b[38;5;124;43ms\u001b[39;49m\u001b[38;5;124;43m'\u001b[39;49m\u001b[43m]\u001b[49m\u001b[43m,\u001b[49m\n\u001b[1;32m    247\u001b[0m \u001b[43m        \u001b[49m\u001b[43max\u001b[49m\u001b[38;5;241;43m=\u001b[39;49m\u001b[43max\u001b[49m\u001b[43m[\u001b[49m\u001b[43mi\u001b[49m\u001b[43m]\u001b[49m\u001b[43m,\u001b[49m\n\u001b[1;32m    248\u001b[0m \u001b[43m    \u001b[49m\u001b[43m)\u001b[49m\n\u001b[1;32m    250\u001b[0m     sns\u001b[38;5;241m.\u001b[39mdespine(top\u001b[38;5;241m=\u001b[39m\u001b[38;5;28;01mTrue\u001b[39;00m,left\u001b[38;5;241m=\u001b[39m\u001b[38;5;28;01mTrue\u001b[39;00m)\n\u001b[1;32m    252\u001b[0m plt\u001b[38;5;241m.\u001b[39mtight_layout()\n",
      "File \u001b[0;32m~/miniconda3/lib/python3.10/site-packages/seaborn/relational.py:742\u001b[0m, in \u001b[0;36mscatterplot\u001b[0;34m(data, x, y, hue, size, style, palette, hue_order, hue_norm, sizes, size_order, size_norm, markers, style_order, legend, ax, **kwargs)\u001b[0m\n\u001b[1;32m    732\u001b[0m \u001b[38;5;28;01mdef\u001b[39;00m \u001b[38;5;21mscatterplot\u001b[39m(\n\u001b[1;32m    733\u001b[0m     data\u001b[38;5;241m=\u001b[39m\u001b[38;5;28;01mNone\u001b[39;00m, \u001b[38;5;241m*\u001b[39m,\n\u001b[1;32m    734\u001b[0m     x\u001b[38;5;241m=\u001b[39m\u001b[38;5;28;01mNone\u001b[39;00m, y\u001b[38;5;241m=\u001b[39m\u001b[38;5;28;01mNone\u001b[39;00m, hue\u001b[38;5;241m=\u001b[39m\u001b[38;5;28;01mNone\u001b[39;00m, size\u001b[38;5;241m=\u001b[39m\u001b[38;5;28;01mNone\u001b[39;00m, style\u001b[38;5;241m=\u001b[39m\u001b[38;5;28;01mNone\u001b[39;00m,\n\u001b[0;32m   (...)\u001b[0m\n\u001b[1;32m    738\u001b[0m     \u001b[38;5;241m*\u001b[39m\u001b[38;5;241m*\u001b[39mkwargs\n\u001b[1;32m    739\u001b[0m ):\n\u001b[1;32m    741\u001b[0m     variables \u001b[38;5;241m=\u001b[39m _ScatterPlotter\u001b[38;5;241m.\u001b[39mget_semantics(\u001b[38;5;28mlocals\u001b[39m())\n\u001b[0;32m--> 742\u001b[0m     p \u001b[38;5;241m=\u001b[39m \u001b[43m_ScatterPlotter\u001b[49m\u001b[43m(\u001b[49m\u001b[43mdata\u001b[49m\u001b[38;5;241;43m=\u001b[39;49m\u001b[43mdata\u001b[49m\u001b[43m,\u001b[49m\u001b[43m \u001b[49m\u001b[43mvariables\u001b[49m\u001b[38;5;241;43m=\u001b[39;49m\u001b[43mvariables\u001b[49m\u001b[43m,\u001b[49m\u001b[43m \u001b[49m\u001b[43mlegend\u001b[49m\u001b[38;5;241;43m=\u001b[39;49m\u001b[43mlegend\u001b[49m\u001b[43m)\u001b[49m\n\u001b[1;32m    744\u001b[0m     p\u001b[38;5;241m.\u001b[39mmap_hue(palette\u001b[38;5;241m=\u001b[39mpalette, order\u001b[38;5;241m=\u001b[39mhue_order, norm\u001b[38;5;241m=\u001b[39mhue_norm)\n\u001b[1;32m    745\u001b[0m     p\u001b[38;5;241m.\u001b[39mmap_size(sizes\u001b[38;5;241m=\u001b[39msizes, order\u001b[38;5;241m=\u001b[39msize_order, norm\u001b[38;5;241m=\u001b[39msize_norm)\n",
      "File \u001b[0;32m~/miniconda3/lib/python3.10/site-packages/seaborn/relational.py:538\u001b[0m, in \u001b[0;36m_ScatterPlotter.__init__\u001b[0;34m(self, data, variables, legend)\u001b[0m\n\u001b[1;32m    529\u001b[0m \u001b[38;5;28;01mdef\u001b[39;00m \u001b[38;5;21m__init__\u001b[39m(\u001b[38;5;28mself\u001b[39m, \u001b[38;5;241m*\u001b[39m, data\u001b[38;5;241m=\u001b[39m\u001b[38;5;28;01mNone\u001b[39;00m, variables\u001b[38;5;241m=\u001b[39m{}, legend\u001b[38;5;241m=\u001b[39m\u001b[38;5;28;01mNone\u001b[39;00m):\n\u001b[1;32m    530\u001b[0m \n\u001b[1;32m    531\u001b[0m     \u001b[38;5;66;03m# TODO this is messy, we want the mapping to be agnostic about\u001b[39;00m\n\u001b[1;32m    532\u001b[0m     \u001b[38;5;66;03m# the kind of plot to draw, but for the time being we need to set\u001b[39;00m\n\u001b[1;32m    533\u001b[0m     \u001b[38;5;66;03m# this information so the SizeMapping can use it\u001b[39;00m\n\u001b[1;32m    534\u001b[0m     \u001b[38;5;28mself\u001b[39m\u001b[38;5;241m.\u001b[39m_default_size_range \u001b[38;5;241m=\u001b[39m (\n\u001b[1;32m    535\u001b[0m         np\u001b[38;5;241m.\u001b[39mr_[\u001b[38;5;241m.5\u001b[39m, \u001b[38;5;241m2\u001b[39m] \u001b[38;5;241m*\u001b[39m np\u001b[38;5;241m.\u001b[39msquare(mpl\u001b[38;5;241m.\u001b[39mrcParams[\u001b[38;5;124m\"\u001b[39m\u001b[38;5;124mlines.markersize\u001b[39m\u001b[38;5;124m\"\u001b[39m])\n\u001b[1;32m    536\u001b[0m     )\n\u001b[0;32m--> 538\u001b[0m     \u001b[38;5;28;43msuper\u001b[39;49m\u001b[43m(\u001b[49m\u001b[43m)\u001b[49m\u001b[38;5;241;43m.\u001b[39;49m\u001b[38;5;21;43m__init__\u001b[39;49m\u001b[43m(\u001b[49m\u001b[43mdata\u001b[49m\u001b[38;5;241;43m=\u001b[39;49m\u001b[43mdata\u001b[49m\u001b[43m,\u001b[49m\u001b[43m \u001b[49m\u001b[43mvariables\u001b[49m\u001b[38;5;241;43m=\u001b[39;49m\u001b[43mvariables\u001b[49m\u001b[43m)\u001b[49m\n\u001b[1;32m    540\u001b[0m     \u001b[38;5;28mself\u001b[39m\u001b[38;5;241m.\u001b[39mlegend \u001b[38;5;241m=\u001b[39m legend\n",
      "File \u001b[0;32m~/miniconda3/lib/python3.10/site-packages/seaborn/_oldcore.py:640\u001b[0m, in \u001b[0;36mVectorPlotter.__init__\u001b[0;34m(self, data, variables)\u001b[0m\n\u001b[1;32m    635\u001b[0m \u001b[38;5;66;03m# var_ordered is relevant only for categorical axis variables, and may\u001b[39;00m\n\u001b[1;32m    636\u001b[0m \u001b[38;5;66;03m# be better handled by an internal axis information object that tracks\u001b[39;00m\n\u001b[1;32m    637\u001b[0m \u001b[38;5;66;03m# such information and is set up by the scale_* methods. The analogous\u001b[39;00m\n\u001b[1;32m    638\u001b[0m \u001b[38;5;66;03m# information for numeric axes would be information about log scales.\u001b[39;00m\n\u001b[1;32m    639\u001b[0m \u001b[38;5;28mself\u001b[39m\u001b[38;5;241m.\u001b[39m_var_ordered \u001b[38;5;241m=\u001b[39m {\u001b[38;5;124m\"\u001b[39m\u001b[38;5;124mx\u001b[39m\u001b[38;5;124m\"\u001b[39m: \u001b[38;5;28;01mFalse\u001b[39;00m, \u001b[38;5;124m\"\u001b[39m\u001b[38;5;124my\u001b[39m\u001b[38;5;124m\"\u001b[39m: \u001b[38;5;28;01mFalse\u001b[39;00m}  \u001b[38;5;66;03m# alt., used DefaultDict\u001b[39;00m\n\u001b[0;32m--> 640\u001b[0m \u001b[38;5;28;43mself\u001b[39;49m\u001b[38;5;241;43m.\u001b[39;49m\u001b[43massign_variables\u001b[49m\u001b[43m(\u001b[49m\u001b[43mdata\u001b[49m\u001b[43m,\u001b[49m\u001b[43m \u001b[49m\u001b[43mvariables\u001b[49m\u001b[43m)\u001b[49m\n\u001b[1;32m    642\u001b[0m \u001b[38;5;28;01mfor\u001b[39;00m var, \u001b[38;5;28mcls\u001b[39m \u001b[38;5;129;01min\u001b[39;00m \u001b[38;5;28mself\u001b[39m\u001b[38;5;241m.\u001b[39m_semantic_mappings\u001b[38;5;241m.\u001b[39mitems():\n\u001b[1;32m    643\u001b[0m \n\u001b[1;32m    644\u001b[0m     \u001b[38;5;66;03m# Create the mapping function\u001b[39;00m\n\u001b[1;32m    645\u001b[0m     map_func \u001b[38;5;241m=\u001b[39m partial(\u001b[38;5;28mcls\u001b[39m\u001b[38;5;241m.\u001b[39mmap, plotter\u001b[38;5;241m=\u001b[39m\u001b[38;5;28mself\u001b[39m)\n",
      "File \u001b[0;32m~/miniconda3/lib/python3.10/site-packages/seaborn/_oldcore.py:701\u001b[0m, in \u001b[0;36mVectorPlotter.assign_variables\u001b[0;34m(self, data, variables)\u001b[0m\n\u001b[1;32m    699\u001b[0m \u001b[38;5;28;01melse\u001b[39;00m:\n\u001b[1;32m    700\u001b[0m     \u001b[38;5;28mself\u001b[39m\u001b[38;5;241m.\u001b[39minput_format \u001b[38;5;241m=\u001b[39m \u001b[38;5;124m\"\u001b[39m\u001b[38;5;124mlong\u001b[39m\u001b[38;5;124m\"\u001b[39m\n\u001b[0;32m--> 701\u001b[0m     plot_data, variables \u001b[38;5;241m=\u001b[39m \u001b[38;5;28;43mself\u001b[39;49m\u001b[38;5;241;43m.\u001b[39;49m\u001b[43m_assign_variables_longform\u001b[49m\u001b[43m(\u001b[49m\n\u001b[1;32m    702\u001b[0m \u001b[43m        \u001b[49m\u001b[43mdata\u001b[49m\u001b[43m,\u001b[49m\u001b[43m \u001b[49m\u001b[38;5;241;43m*\u001b[39;49m\u001b[38;5;241;43m*\u001b[39;49m\u001b[43mvariables\u001b[49m\u001b[43m,\u001b[49m\n\u001b[1;32m    703\u001b[0m \u001b[43m    \u001b[49m\u001b[43m)\u001b[49m\n\u001b[1;32m    705\u001b[0m \u001b[38;5;28mself\u001b[39m\u001b[38;5;241m.\u001b[39mplot_data \u001b[38;5;241m=\u001b[39m plot_data\n\u001b[1;32m    706\u001b[0m \u001b[38;5;28mself\u001b[39m\u001b[38;5;241m.\u001b[39mvariables \u001b[38;5;241m=\u001b[39m variables\n",
      "File \u001b[0;32m~/miniconda3/lib/python3.10/site-packages/seaborn/_oldcore.py:938\u001b[0m, in \u001b[0;36mVectorPlotter._assign_variables_longform\u001b[0;34m(self, data, **kwargs)\u001b[0m\n\u001b[1;32m    933\u001b[0m \u001b[38;5;28;01melif\u001b[39;00m \u001b[38;5;28misinstance\u001b[39m(val, (\u001b[38;5;28mstr\u001b[39m, \u001b[38;5;28mbytes\u001b[39m)):\n\u001b[1;32m    934\u001b[0m \n\u001b[1;32m    935\u001b[0m     \u001b[38;5;66;03m# This looks like a column name but we don't know what it means!\u001b[39;00m\n\u001b[1;32m    937\u001b[0m     err \u001b[38;5;241m=\u001b[39m \u001b[38;5;124mf\u001b[39m\u001b[38;5;124m\"\u001b[39m\u001b[38;5;124mCould not interpret value `\u001b[39m\u001b[38;5;132;01m{\u001b[39;00mval\u001b[38;5;132;01m}\u001b[39;00m\u001b[38;5;124m` for parameter `\u001b[39m\u001b[38;5;132;01m{\u001b[39;00mkey\u001b[38;5;132;01m}\u001b[39;00m\u001b[38;5;124m`\u001b[39m\u001b[38;5;124m\"\u001b[39m\n\u001b[0;32m--> 938\u001b[0m     \u001b[38;5;28;01mraise\u001b[39;00m \u001b[38;5;167;01mValueError\u001b[39;00m(err)\n\u001b[1;32m    940\u001b[0m \u001b[38;5;28;01melse\u001b[39;00m:\n\u001b[1;32m    941\u001b[0m \n\u001b[1;32m    942\u001b[0m     \u001b[38;5;66;03m# Otherwise, assume the value is itself data\u001b[39;00m\n\u001b[1;32m    943\u001b[0m \n\u001b[1;32m    944\u001b[0m     \u001b[38;5;66;03m# Raise when data object is present and a vector can't matched\u001b[39;00m\n\u001b[1;32m    945\u001b[0m     \u001b[38;5;28;01mif\u001b[39;00m \u001b[38;5;28misinstance\u001b[39m(data, pd\u001b[38;5;241m.\u001b[39mDataFrame) \u001b[38;5;129;01mand\u001b[39;00m \u001b[38;5;129;01mnot\u001b[39;00m \u001b[38;5;28misinstance\u001b[39m(val, pd\u001b[38;5;241m.\u001b[39mSeries):\n",
      "\u001b[0;31mValueError\u001b[0m: Could not interpret value `bill_length_mm` for parameter `y`"
     ]
    },
    {
     "data": {
      "image/png": "[encoded data removed]",
      "text/plain": [
       "<Figure size 1600x500 with 3 Axes>"
      ]
     },
     "metadata": {},
     "output_type": "display_data"
    }
   ],
   "source": [
    "'''\n",
    "\n",
    "    Specify the parameters directly\n",
    "\n",
    "'''\n",
    "\n",
    "i['using penguins create scatterplot for columns bill_length_mm and bill_depth_mm']"
   ]
  },
  {
   "cell_type": "code",
   "execution_count": 5,
   "id": "076141e2-d3f2-47a8-af96-a8aa547287b3",
   "metadata": {},
   "outputs": [],
   "source": [
    "# nlpi.silent=False\n",
    "# i['[new_data] as convert a group of lists distrA and distrB into a dataframe and store']"
   ]
  },
  {
   "cell_type": "code",
   "execution_count": 27,
   "id": "dc152d4c-162b-4748-8a44-6bafdcc49145",
   "metadata": {},
   "outputs": [
    {
     "data": {
      "text/html": [
       "<div>\n",
       "<style scoped>\n",
       "    .dataframe tbody tr th:only-of-type {\n",
       "        vertical-align: middle;\n",
       "    }\n",
       "\n",
       "    .dataframe tbody tr th {\n",
       "        vertical-align: top;\n",
       "    }\n",
       "\n",
       "    .dataframe thead th {\n",
       "        text-align: right;\n",
       "    }\n",
       "</style>\n",
       "<table border=\"1\" class=\"dataframe\">\n",
       "  <thead>\n",
       "    <tr style=\"text-align: right;\">\n",
       "      <th></th>\n",
       "      <th>name</th>\n",
       "      <th>dtype</th>\n",
       "      <th>shape</th>\n",
       "      <th>ac</th>\n",
       "    </tr>\n",
       "    <tr>\n",
       "      <th>name</th>\n",
       "      <th></th>\n",
       "      <th></th>\n",
       "      <th></th>\n",
       "      <th></th>\n",
       "    </tr>\n",
       "  </thead>\n",
       "  <tbody>\n",
       "    <tr>\n",
       "      <th>flights</th>\n",
       "      <td>flights</td>\n",
       "      <td>&lt;class 'pandas.core.frame.DataFrame'&gt;</td>\n",
       "      <td>(144, 3)</td>\n",
       "      <td>None</td>\n",
       "    </tr>\n",
       "    <tr>\n",
       "      <th>penguins</th>\n",
       "      <td>penguins</td>\n",
       "      <td>&lt;class 'pandas.core.frame.DataFrame'&gt;</td>\n",
       "      <td>(344, 7)</td>\n",
       "      <td>{'selected_columns': ['bill_length_mm', 'bill_...</td>\n",
       "    </tr>\n",
       "    <tr>\n",
       "      <th>taxis</th>\n",
       "      <td>taxis</td>\n",
       "      <td>&lt;class 'pandas.core.frame.DataFrame'&gt;</td>\n",
       "      <td>(6433, 14)</td>\n",
       "      <td>None</td>\n",
       "    </tr>\n",
       "    <tr>\n",
       "      <th>titanic</th>\n",
       "      <td>titanic</td>\n",
       "      <td>&lt;class 'pandas.core.frame.DataFrame'&gt;</td>\n",
       "      <td>(891, 15)</td>\n",
       "      <td>None</td>\n",
       "    </tr>\n",
       "    <tr>\n",
       "      <th>dmpg</th>\n",
       "      <td>dmpg</td>\n",
       "      <td>&lt;class 'pandas.core.frame.DataFrame'&gt;</td>\n",
       "      <td>(398, 9)</td>\n",
       "      <td>None</td>\n",
       "    </tr>\n",
       "    <tr>\n",
       "      <th>datas</th>\n",
       "      <td>datas</td>\n",
       "      <td>&lt;class 'pandas.core.frame.DataFrame'&gt;</td>\n",
       "      <td>(1000, 3)</td>\n",
       "      <td>None</td>\n",
       "    </tr>\n",
       "    <tr>\n",
       "      <th>distrA</th>\n",
       "      <td>distrA</td>\n",
       "      <td>&lt;class 'list'&gt;</td>\n",
       "      <td>1000</td>\n",
       "      <td>None</td>\n",
       "    </tr>\n",
       "    <tr>\n",
       "      <th>distrB</th>\n",
       "      <td>distrB</td>\n",
       "      <td>&lt;class 'list'&gt;</td>\n",
       "      <td>500</td>\n",
       "      <td>None</td>\n",
       "    </tr>\n",
       "    <tr>\n",
       "      <th>distrC</th>\n",
       "      <td>distrC</td>\n",
       "      <td>&lt;class 'list'&gt;</td>\n",
       "      <td>1000</td>\n",
       "      <td>None</td>\n",
       "    </tr>\n",
       "  </tbody>\n",
       "</table>\n",
       "</div>"
      ],
      "text/plain": [
       "              name                                  dtype       shape  \\\n",
       "name                                                                    \n",
       "flights    flights  <class 'pandas.core.frame.DataFrame'>    (144, 3)   \n",
       "penguins  penguins  <class 'pandas.core.frame.DataFrame'>    (344, 7)   \n",
       "taxis        taxis  <class 'pandas.core.frame.DataFrame'>  (6433, 14)   \n",
       "titanic    titanic  <class 'pandas.core.frame.DataFrame'>   (891, 15)   \n",
       "dmpg          dmpg  <class 'pandas.core.frame.DataFrame'>    (398, 9)   \n",
       "datas        datas  <class 'pandas.core.frame.DataFrame'>   (1000, 3)   \n",
       "distrA      distrA                         <class 'list'>        1000   \n",
       "distrB      distrB                         <class 'list'>         500   \n",
       "distrC      distrC                         <class 'list'>        1000   \n",
       "\n",
       "                                                         ac  \n",
       "name                                                         \n",
       "flights                                                None  \n",
       "penguins  {'selected_columns': ['bill_length_mm', 'bill_...  \n",
       "taxis                                                  None  \n",
       "titanic                                                None  \n",
       "dmpg                                                   None  \n",
       "datas                                                  None  \n",
       "distrA                                                 None  \n",
       "distrB                                                 None  \n",
       "distrC                                                 None  "
      ]
     },
     "execution_count": 27,
     "metadata": {},
     "output_type": "execute_result"
    }
   ],
   "source": [
    "i.store_ac('penguins','selected_columns',['bill_length_mm','bill_depth_mm'])\n",
    "i.sources()"
   ]
  },
  {
   "cell_type": "markdown",
   "id": "9938a032-107d-4ae6-9166-bb45387a381a",
   "metadata": {},
   "source": [
    "## **mlibop**\n",
    "\n",
    "Module used for finding out various information about the library and current statuses"
   ]
  },
  {
   "cell_type": "code",
   "execution_count": 10,
   "id": "4b3a490b-b30f-4752-b131-cda75c9d8dbc",
   "metadata": {},
   "outputs": [
    {
     "name": "stdout",
     "output_type": "stream",
     "text": [
      "[note] found relevant global task [mlibop_sdata] w/ [0.57] certainty!\n",
      "[note] currently stored data: \n",
      "['flights', 'penguins', 'taxis', 'titanic', 'dmpg', 'datas', 'distrA', 'distrB', 'distrC']\n"
     ]
    }
   ],
   "source": [
    "i['show me all the data available to me']"
   ]
  },
  {
   "cell_type": "code",
   "execution_count": 11,
   "id": "a9d209c4-ec58-4be9-8bdb-2b3bed476055",
   "metadata": {},
   "outputs": [
    {
     "name": "stdout",
     "output_type": "stream",
     "text": [
      "[note] found relevant global task [mlibop_functions] w/ [0.33] certainty!\n"
     ]
    },
    {
     "data": {
      "text/html": [
       "<div>\n",
       "<style scoped>\n",
       "    .dataframe tbody tr th:only-of-type {\n",
       "        vertical-align: middle;\n",
       "    }\n",
       "\n",
       "    .dataframe tbody tr th {\n",
       "        vertical-align: top;\n",
       "    }\n",
       "\n",
       "    .dataframe thead th {\n",
       "        text-align: right;\n",
       "    }\n",
       "</style>\n",
       "<table border=\"1\" class=\"dataframe\">\n",
       "  <thead>\n",
       "    <tr style=\"text-align: right;\">\n",
       "      <th></th>\n",
       "      <th>module</th>\n",
       "      <th>action</th>\n",
       "      <th>topic</th>\n",
       "      <th>subtopic</th>\n",
       "      <th>input_format</th>\n",
       "      <th>description</th>\n",
       "      <th>output</th>\n",
       "      <th>token_compat</th>\n",
       "      <th>arg_compat</th>\n",
       "      <th>description_sub</th>\n",
       "      <th>task_id</th>\n",
       "      <th>gtask_id</th>\n",
       "      <th>module_id</th>\n",
       "      <th>action_id</th>\n",
       "      <th>topic_id</th>\n",
       "      <th>subtopic_id</th>\n",
       "    </tr>\n",
       "  </thead>\n",
       "  <tbody>\n",
       "    <tr>\n",
       "      <th>sscatterplot</th>\n",
       "      <td>eda_plot</td>\n",
       "      <td>action</td>\n",
       "      <td>exploratory data analysis</td>\n",
       "      <td>plot figure</td>\n",
       "      <td>pd.DataFrame</td>\n",
       "      <td>make a scatter plot using seaborn, bivariate o...</td>\n",
       "      <td>None</td>\n",
       "      <td>None</td>\n",
       "      <td>x y hue alpha mew mec s</td>\n",
       "      <td>NaN</td>\n",
       "      <td>0</td>\n",
       "      <td>0</td>\n",
       "      <td>0</td>\n",
       "      <td>0</td>\n",
       "      <td>1</td>\n",
       "      <td>8</td>\n",
       "    </tr>\n",
       "    <tr>\n",
       "      <th>slmplot</th>\n",
       "      <td>eda_plot</td>\n",
       "      <td>show plot</td>\n",
       "      <td>exploratory data analysis</td>\n",
       "      <td>plot figure</td>\n",
       "      <td>pd.DataFrame</td>\n",
       "      <td>Create a seaborn regression model fit</td>\n",
       "      <td>None</td>\n",
       "      <td>None</td>\n",
       "      <td>x y hue col row</td>\n",
       "      <td>NaN</td>\n",
       "      <td>1</td>\n",
       "      <td>1</td>\n",
       "      <td>0</td>\n",
       "      <td>7</td>\n",
       "      <td>1</td>\n",
       "      <td>8</td>\n",
       "    </tr>\n",
       "    <tr>\n",
       "      <th>sboxplot</th>\n",
       "      <td>eda_plot</td>\n",
       "      <td>show plot</td>\n",
       "      <td>exploratory data analysis</td>\n",
       "      <td>plot figure</td>\n",
       "      <td>pd.DataFrame</td>\n",
       "      <td>Create a seaborn box plot using boxplot, they ...</td>\n",
       "      <td>None</td>\n",
       "      <td>None</td>\n",
       "      <td>x y hue</td>\n",
       "      <td>NaN</td>\n",
       "      <td>2</td>\n",
       "      <td>2</td>\n",
       "      <td>0</td>\n",
       "      <td>7</td>\n",
       "      <td>1</td>\n",
       "      <td>8</td>\n",
       "    </tr>\n",
       "    <tr>\n",
       "      <th>sresidplot</th>\n",
       "      <td>eda_plot</td>\n",
       "      <td>show plot</td>\n",
       "      <td>exploratory data analysis</td>\n",
       "      <td>plot figure</td>\n",
       "      <td>pd.DataFrame</td>\n",
       "      <td>Create a seaborn residual plot</td>\n",
       "      <td>None</td>\n",
       "      <td>None</td>\n",
       "      <td>x y</td>\n",
       "      <td>NaN</td>\n",
       "      <td>3</td>\n",
       "      <td>3</td>\n",
       "      <td>0</td>\n",
       "      <td>7</td>\n",
       "      <td>1</td>\n",
       "      <td>8</td>\n",
       "    </tr>\n",
       "    <tr>\n",
       "      <th>sviolinplot</th>\n",
       "      <td>eda_plot</td>\n",
       "      <td>show plot</td>\n",
       "      <td>exploratory data analysis</td>\n",
       "      <td>plot figure</td>\n",
       "      <td>pd.DataFrame</td>\n",
       "      <td>Create a seaborn violin plot</td>\n",
       "      <td>None</td>\n",
       "      <td>None</td>\n",
       "      <td>x y hue</td>\n",
       "      <td>NaN</td>\n",
       "      <td>4</td>\n",
       "      <td>4</td>\n",
       "      <td>0</td>\n",
       "      <td>7</td>\n",
       "      <td>1</td>\n",
       "      <td>8</td>\n",
       "    </tr>\n",
       "  </tbody>\n",
       "</table>\n",
       "</div>"
      ],
      "text/plain": [
       "                module     action                      topic     subtopic  \\\n",
       "sscatterplot  eda_plot     action  exploratory data analysis  plot figure   \n",
       "slmplot       eda_plot  show plot  exploratory data analysis  plot figure   \n",
       "sboxplot      eda_plot  show plot  exploratory data analysis  plot figure   \n",
       "sresidplot    eda_plot  show plot  exploratory data analysis  plot figure   \n",
       "sviolinplot   eda_plot  show plot  exploratory data analysis  plot figure   \n",
       "\n",
       "              input_format                                        description  \\\n",
       "sscatterplot  pd.DataFrame  make a scatter plot using seaborn, bivariate o...   \n",
       "slmplot       pd.DataFrame              Create a seaborn regression model fit   \n",
       "sboxplot      pd.DataFrame  Create a seaborn box plot using boxplot, they ...   \n",
       "sresidplot    pd.DataFrame                     Create a seaborn residual plot   \n",
       "sviolinplot   pd.DataFrame                       Create a seaborn violin plot   \n",
       "\n",
       "             output token_compat               arg_compat description_sub  \\\n",
       "sscatterplot   None         None  x y hue alpha mew mec s             NaN   \n",
       "slmplot        None         None          x y hue col row             NaN   \n",
       "sboxplot       None         None                  x y hue             NaN   \n",
       "sresidplot     None         None                      x y             NaN   \n",
       "sviolinplot    None         None                  x y hue             NaN   \n",
       "\n",
       "              task_id  gtask_id  module_id  action_id  topic_id  subtopic_id  \n",
       "sscatterplot        0         0          0          0         1            8  \n",
       "slmplot             1         1          0          7         1            8  \n",
       "sboxplot            2         2          0          7         1            8  \n",
       "sresidplot          3         3          0          7         1            8  \n",
       "sviolinplot         4         4          0          7         1            8  "
      ]
     },
     "metadata": {},
     "output_type": "display_data"
    },
    {
     "name": "stdout",
     "output_type": "stream",
     "text": [
      "[note] data stored in nlpi.memory_output; call .glr()['data']\n"
     ]
    }
   ],
   "source": [
    "i['what are all the activation functions available to me']"
   ]
  },
  {
   "cell_type": "markdown",
   "id": "b4d1ac7a-51c7-48ac-9064-29b98142d460",
   "metadata": {},
   "source": [
    "## **mpd_dfop**\n",
    "\n",
    "Module for doing various basic operations using a dataframe as the data source\n",
    "\n",
    "### using entire dataframe"
   ]
  },
  {
   "cell_type": "code",
   "execution_count": 7,
   "id": "1f624d10-1a43-46ac-805c-5aee60054e2e",
   "metadata": {},
   "outputs": [
    {
     "name": "stdout",
     "output_type": "stream",
     "text": [
      "[note] found relevant global task [dfcolumninfo] w/ [0.64] certainty!\n",
      "Index(['survived', 'pclass', 'sex', 'age', 'sibsp', 'parch', 'fare',\n",
      "       'embarked', 'class', 'who', 'adult_male', 'deck', 'embark_town',\n",
      "       'alive', 'alone'],\n",
      "      dtype='object')\n"
     ]
    }
   ],
   "source": [
    "i['show the column names in the dataframe titanic']"
   ]
  },
  {
   "cell_type": "code",
   "execution_count": 8,
   "id": "28f368ef-d430-4966-85f0-92b5cdfddb75",
   "metadata": {},
   "outputs": [
    {
     "name": "stdout",
     "output_type": "stream",
     "text": [
      "[note] found relevant global task [dfsize] w/ [0.58] certainty!\n",
      "(891, 15)\n"
     ]
    }
   ],
   "source": [
    "i['show the shape of the dataframe titanic']"
   ]
  },
  {
   "cell_type": "code",
   "execution_count": 9,
   "id": "59688bea-3790-4898-beb0-5553b94af162",
   "metadata": {},
   "outputs": [
    {
     "name": "stdout",
     "output_type": "stream",
     "text": [
      "[note] found relevant global task [gstat_stats] w/ [0.77] certainty!\n",
      "[note] found sub_task [dataframe_inputs] w/ [0.81] certainty!\n"
     ]
    },
    {
     "data": {
      "text/html": [
       "<div>\n",
       "<style scoped>\n",
       "    .dataframe tbody tr th:only-of-type {\n",
       "        vertical-align: middle;\n",
       "    }\n",
       "\n",
       "    .dataframe tbody tr th {\n",
       "        vertical-align: top;\n",
       "    }\n",
       "\n",
       "    .dataframe thead th {\n",
       "        text-align: right;\n",
       "    }\n",
       "</style>\n",
       "<table border=\"1\" class=\"dataframe\">\n",
       "  <thead>\n",
       "    <tr style=\"text-align: right;\">\n",
       "      <th></th>\n",
       "      <th>distA</th>\n",
       "      <th>distC</th>\n",
       "      <th>distD</th>\n",
       "    </tr>\n",
       "  </thead>\n",
       "  <tbody>\n",
       "    <tr>\n",
       "      <th>count</th>\n",
       "      <td>1000.000000</td>\n",
       "      <td>1000.000000</td>\n",
       "      <td>1000.000000</td>\n",
       "    </tr>\n",
       "    <tr>\n",
       "      <th>mean</th>\n",
       "      <td>0.047341</td>\n",
       "      <td>1.024208</td>\n",
       "      <td>0.012426</td>\n",
       "    </tr>\n",
       "    <tr>\n",
       "      <th>std</th>\n",
       "      <td>0.991167</td>\n",
       "      <td>1.048262</td>\n",
       "      <td>0.963727</td>\n",
       "    </tr>\n",
       "    <tr>\n",
       "      <th>min</th>\n",
       "      <td>-3.169587</td>\n",
       "      <td>0.000990</td>\n",
       "      <td>-3.034623</td>\n",
       "    </tr>\n",
       "    <tr>\n",
       "      <th>25%</th>\n",
       "      <td>-0.660322</td>\n",
       "      <td>0.271074</td>\n",
       "      <td>-0.646035</td>\n",
       "    </tr>\n",
       "    <tr>\n",
       "      <th>50%</th>\n",
       "      <td>0.038107</td>\n",
       "      <td>0.729374</td>\n",
       "      <td>0.005098</td>\n",
       "    </tr>\n",
       "    <tr>\n",
       "      <th>75%</th>\n",
       "      <td>0.721276</td>\n",
       "      <td>1.401310</td>\n",
       "      <td>0.661896</td>\n",
       "    </tr>\n",
       "    <tr>\n",
       "      <th>max</th>\n",
       "      <td>3.284409</td>\n",
       "      <td>9.831025</td>\n",
       "      <td>3.454254</td>\n",
       "    </tr>\n",
       "  </tbody>\n",
       "</table>\n",
       "</div>"
      ],
      "text/plain": [
       "             distA        distC        distD\n",
       "count  1000.000000  1000.000000  1000.000000\n",
       "mean      0.047341     1.024208     0.012426\n",
       "std       0.991167     1.048262     0.963727\n",
       "min      -3.169587     0.000990    -3.034623\n",
       "25%      -0.660322     0.271074    -0.646035\n",
       "50%       0.038107     0.729374     0.005098\n",
       "75%       0.721276     1.401310     0.661896\n",
       "max       3.284409     9.831025     3.454254"
      ]
     },
     "metadata": {},
     "output_type": "display_data"
    }
   ],
   "source": [
    "i['show the statistics of dataframe datas']"
   ]
  },
  {
   "cell_type": "code",
   "execution_count": 10,
   "id": "e1e6a647-3ad7-4364-85ea-90f558fc8438",
   "metadata": {},
   "outputs": [
    {
     "name": "stdout",
     "output_type": "stream",
     "text": [
      "[note] found relevant global task [show_info] w/ [0.86] certainty!\n",
      "<class 'pandas.core.frame.DataFrame'>\n",
      "RangeIndex: 891 entries, 0 to 890\n",
      "Data columns (total 15 columns):\n",
      " #   Column       Non-Null Count  Dtype   \n",
      "---  ------       --------------  -----   \n",
      " 0   survived     891 non-null    int64   \n",
      " 1   pclass       891 non-null    int64   \n",
      " 2   sex          891 non-null    object  \n",
      " 3   age          714 non-null    float64 \n",
      " 4   sibsp        891 non-null    int64   \n",
      " 5   parch        891 non-null    int64   \n",
      " 6   fare         891 non-null    float64 \n",
      " 7   embarked     889 non-null    object  \n",
      " 8   class        891 non-null    category\n",
      " 9   who          891 non-null    object  \n",
      " 10  adult_male   891 non-null    bool    \n",
      " 11  deck         203 non-null    category\n",
      " 12  embark_town  889 non-null    object  \n",
      " 13  alive        891 non-null    object  \n",
      " 14  alone        891 non-null    bool    \n",
      "dtypes: bool(2), category(2), float64(2), int64(4), object(5)\n",
      "memory usage: 80.7+ KB\n",
      "None\n"
     ]
    }
   ],
   "source": [
    "i['show the dataframe information for titanic']"
   ]
  },
  {
   "cell_type": "code",
   "execution_count": 11,
   "id": "58ef2da3-e3f6-46e5-b853-9a9aefd1da15",
   "metadata": {},
   "outputs": [
    {
     "name": "stdout",
     "output_type": "stream",
     "text": [
      "[note] found relevant global task [show_corr] w/ [0.51] certainty!\n"
     ]
    },
    {
     "data": {
      "text/html": [
       "<div>\n",
       "<style scoped>\n",
       "    .dataframe tbody tr th:only-of-type {\n",
       "        vertical-align: middle;\n",
       "    }\n",
       "\n",
       "    .dataframe tbody tr th {\n",
       "        vertical-align: top;\n",
       "    }\n",
       "\n",
       "    .dataframe thead th {\n",
       "        text-align: right;\n",
       "    }\n",
       "</style>\n",
       "<table border=\"1\" class=\"dataframe\">\n",
       "  <thead>\n",
       "    <tr style=\"text-align: right;\">\n",
       "      <th></th>\n",
       "      <th>survived</th>\n",
       "      <th>pclass</th>\n",
       "      <th>age</th>\n",
       "      <th>sibsp</th>\n",
       "      <th>parch</th>\n",
       "      <th>fare</th>\n",
       "    </tr>\n",
       "  </thead>\n",
       "  <tbody>\n",
       "    <tr>\n",
       "      <th>survived</th>\n",
       "      <td>1.00</td>\n",
       "      <td>-0.34</td>\n",
       "      <td>-0.08</td>\n",
       "      <td>-0.04</td>\n",
       "      <td>0.08</td>\n",
       "      <td>0.26</td>\n",
       "    </tr>\n",
       "    <tr>\n",
       "      <th>pclass</th>\n",
       "      <td>-0.34</td>\n",
       "      <td>1.00</td>\n",
       "      <td>-0.37</td>\n",
       "      <td>0.08</td>\n",
       "      <td>0.02</td>\n",
       "      <td>-0.55</td>\n",
       "    </tr>\n",
       "    <tr>\n",
       "      <th>age</th>\n",
       "      <td>-0.08</td>\n",
       "      <td>-0.37</td>\n",
       "      <td>1.00</td>\n",
       "      <td>-0.31</td>\n",
       "      <td>-0.19</td>\n",
       "      <td>0.10</td>\n",
       "    </tr>\n",
       "    <tr>\n",
       "      <th>sibsp</th>\n",
       "      <td>-0.04</td>\n",
       "      <td>0.08</td>\n",
       "      <td>-0.31</td>\n",
       "      <td>1.00</td>\n",
       "      <td>0.41</td>\n",
       "      <td>0.16</td>\n",
       "    </tr>\n",
       "    <tr>\n",
       "      <th>parch</th>\n",
       "      <td>0.08</td>\n",
       "      <td>0.02</td>\n",
       "      <td>-0.19</td>\n",
       "      <td>0.41</td>\n",
       "      <td>1.00</td>\n",
       "      <td>0.22</td>\n",
       "    </tr>\n",
       "    <tr>\n",
       "      <th>fare</th>\n",
       "      <td>0.26</td>\n",
       "      <td>-0.55</td>\n",
       "      <td>0.10</td>\n",
       "      <td>0.16</td>\n",
       "      <td>0.22</td>\n",
       "      <td>1.00</td>\n",
       "    </tr>\n",
       "  </tbody>\n",
       "</table>\n",
       "</div>"
      ],
      "text/plain": [
       "          survived  pclass   age  sibsp  parch  fare\n",
       "survived      1.00   -0.34 -0.08  -0.04   0.08  0.26\n",
       "pclass       -0.34    1.00 -0.37   0.08   0.02 -0.55\n",
       "age          -0.08   -0.37  1.00  -0.31  -0.19  0.10\n",
       "sibsp        -0.04    0.08 -0.31   1.00   0.41  0.16\n",
       "parch         0.08    0.02 -0.19   0.41   1.00  0.22\n",
       "fare          0.26   -0.55  0.10   0.16   0.22  1.00"
      ]
     },
     "metadata": {},
     "output_type": "display_data"
    }
   ],
   "source": [
    "i['show the correlation of columns in the dataframe titanic']"
   ]
  },
  {
   "cell_type": "code",
   "execution_count": 12,
   "id": "f793e344-13b6-4349-9d21-19197488f68b",
   "metadata": {},
   "outputs": [
    {
     "name": "stdout",
     "output_type": "stream",
     "text": [
      "[note] found relevant global task [dfna_all] w/ [0.7] certainty!\n",
      "869 rows in total have missing data\n",
      "survived         0\n",
      "pclass           0\n",
      "sex              0\n",
      "age            177\n",
      "sibsp            0\n",
      "parch            0\n",
      "fare             0\n",
      "embarked         2\n",
      "class            0\n",
      "who              0\n",
      "adult_male       0\n",
      "deck           688\n",
      "embark_town      2\n",
      "alive            0\n",
      "alone            0\n",
      "dtype: int64\n",
      "[note] I've also stored the missing rows!\n"
     ]
    }
   ],
   "source": [
    "i['show the missing data in the dataframe titanic']"
   ]
  },
  {
   "cell_type": "code",
   "execution_count": 3,
   "id": "74c7aeaa-65dc-4040-bbf2-085ee944a45c",
   "metadata": {},
   "outputs": [
    {
     "name": "stdout",
     "output_type": "stream",
     "text": [
      "[note] found relevant global task [dfcolumn_distr] w/ [0.85] certainty!\n",
      "[note] found sub_task [all] w/ [0.98] certainty!\n",
      "{'survived': {0: 549, 1: 342}, 'pclass': {3: 491, 1: 216, 2: 184}, 'sex': {'male': 577, 'female': 314}, 'age': {24.0: 30, 22.0: 27, 18.0: 26, 19.0: 25, 28.0: 25, 30.0: 25, 21.0: 24, 25.0: 23, 36.0: 22, 29.0: 20, 32.0: 18, 35.0: 18, 27.0: 18, 26.0: 18, 16.0: 17, 31.0: 17, 20.0: 15, 34.0: 15, 33.0: 15, 23.0: 15, 39.0: 14, 40.0: 13, 17.0: 13, 42.0: 13, 45.0: 12, 38.0: 11, 50.0: 10, 2.0: 10, 4.0: 10, 44.0: 9, 48.0: 9, 47.0: 9, 54.0: 8, 9.0: 8, 1.0: 7, 51.0: 7, 14.0: 6, 52.0: 6, 37.0: 6, 49.0: 6, 41.0: 6, 3.0: 6, 58.0: 5, 15.0: 5, 43.0: 5, 62.0: 4, 56.0: 4, 5.0: 4, 11.0: 4, 60.0: 4, 8.0: 4, 6.0: 3, 46.0: 3, 61.0: 3, 65.0: 3, 7.0: 3, 10.0: 2, 64.0: 2, 13.0: 2, 63.0: 2, 30.5: 2, 57.0: 2, 70.0: 2, 0.75: 2, 71.0: 2, 59.0: 2, 0.83: 2, 40.5: 2, 55.0: 2, 32.5: 2, 28.5: 2, 45.5: 2, 34.5: 1, 0.42: 1, 0.67: 1, 66.0: 1, 24.5: 1, 80.0: 1, 20.5: 1, 53.0: 1, 14.5: 1, 70.5: 1, 12.0: 1, 36.5: 1, 55.5: 1, 0.92: 1, 23.5: 1, 74.0: 1}, 'sibsp': {0: 608, 1: 209, 2: 28, 4: 18, 3: 16, 8: 7, 5: 5}, 'parch': {0: 678, 1: 118, 2: 80, 5: 5, 3: 5, 4: 4, 6: 1}, 'fare': {8.05: 43, 13.0: 42, 7.8958: 38, 7.75: 34, 26.0: 31, 10.5: 24, 7.925: 18, 7.775: 16, 7.2292: 15, 0.0: 15, 26.55: 15, 7.8542: 13, 8.6625: 13, 7.25: 13, 7.225: 12, 9.5: 9, 16.1: 9, 24.15: 8, 15.5: 8, 14.4542: 7, 69.55: 7, 52.0: 7, 7.05: 7, 56.4958: 7, 14.5: 7, 31.275: 7, 39.6875: 6, 7.7958: 6, 27.9: 6, 30.0: 6, 46.9: 6, 26.25: 6, 21.0: 6, 27.7208: 5, 29.125: 5, 15.2458: 5, 73.5: 5, 30.5: 5, 53.1: 5, 39.0: 4, 90.0: 4, 15.85: 4, 13.5: 4, 7.55: 4, 23.0: 4, 12.475: 4, 25.4667: 4, 7.125: 4, 7.65: 4, 21.075: 4, 7.7333: 4, 11.5: 4, 34.375: 4, 7.8792: 4, 19.2583: 4, 227.525: 4, 27.75: 4, 263.0: 4, 31.3875: 4, 79.2: 4, 151.55: 4, 35.5: 4, 120.0: 4, 110.8833: 4, 7.4958: 3, 83.1583: 3, 211.3375: 3, 33.0: 3, 20.525: 3, 86.5: 3, 12.35: 3, 512.3292: 3, 31.0: 3, 113.275: 3, 77.9583: 3, 29.7: 3, 135.6333: 3, 26.2875: 3, 153.4625: 3, 79.65: 3, 18.75: 3, 52.5542: 3, 14.4583: 3, 76.7292: 3, 41.5792: 3, 11.1333: 3, 18.0: 3, 15.7417: 2, 65.0: 2, 134.5: 2, 164.8667: 2, 262.375: 2, 82.1708: 2, 56.9292: 2, 108.9: 2, 24.0: 2, 133.65: 2, 11.2417: 2, 7.0542: 2, 23.25: 2, 78.85: 2, 20.25: 2, 17.8: 2, 19.5: 2, 57.9792: 2, 9.225: 2, 15.9: 2, 106.425: 2, 49.5042: 2, 9.5875: 2, 16.7: 2, 30.0708: 2, 93.5: 2, 89.1042: 2, 19.9667: 2, 55.9: 2, 83.475: 2, 14.4: 2, 71.0: 2, 7.8292: 2, 39.6: 2, 146.5208: 2, 69.3: 2, 51.8625: 2, 80.0: 2, 91.0792: 2, 78.2667: 2, 27.0: 2, 55.0: 2, 9.825: 2, 30.6958: 2, 247.5208: 2, 20.2125: 2, 77.2875: 2, 37.0042: 2, 25.9292: 2, 66.6: 2, 6.4958: 2, 10.4625: 2, 23.45: 2, 20.575: 2, 18.7875: 2, 9.35: 2, 22.3583: 2, 57.0: 2, 36.75: 2, 6.975: 2, 29.0: 2, 6.75: 2, 7.7375: 2, 9.0: 2, 5.0: 1, 14.1083: 1, 9.8458: 1, 39.4: 1, 13.8625: 1, 7.6292: 1, 13.8583: 1, 22.525: 1, 49.5: 1, 50.4958: 1, 221.7792: 1, 59.4: 1, 34.0208: 1, 51.4792: 1, 17.4: 1, 8.4583: 1, 26.3875: 1, 6.4375: 1, 10.1708: 1, 13.4167: 1, 8.1375: 1, 7.7417: 1, 9.4833: 1, 15.1: 1, 9.8417: 1, 25.5875: 1, 8.4333: 1, 8.3625: 1, 32.3208: 1, 8.6833: 1, 8.5167: 1, 7.8875: 1, 15.55: 1, 6.45: 1, 6.95: 1, 15.0: 1, 8.7125: 1, 40.125: 1, 8.3: 1, 42.4: 1, 26.2833: 1, 12.2875: 1, 7.5208: 1, 7.8: 1, 61.9792: 1, 8.1583: 1, 71.2833: 1, 12.275: 1, 7.7875: 1, 47.1: 1, 61.175: 1, 76.2917: 1, 34.6542: 1, 8.4042: 1, 50.0: 1, 22.025: 1, 63.3583: 1, 15.05: 1, 28.7125: 1, 8.6542: 1, 33.5: 1, 25.925: 1, 15.75: 1, 7.1417: 1, 61.3792: 1, 7.3125: 1, 12.525: 1, 15.0458: 1, 12.875: 1, 8.85: 1, 21.6792: 1, 12.65: 1, 7.0458: 1, 9.8375: 1, 13.7917: 1, 7.725: 1, 38.5: 1, 16.0: 1, 81.8583: 1, 8.1125: 1, 7.875: 1, 32.5: 1, 6.8583: 1, 8.0292: 1, 9.475: 1, 12.0: 1, 7.7292: 1, 9.2167: 1, 4.0125: 1, 211.5: 1, 55.4417: 1, 75.25: 1, 35.0: 1, 28.5: 1, 6.2375: 1, 14.0: 1, 10.5167: 1}, 'embarked': {'S': 644, 'C': 168, 'Q': 77}, 'class': {'Third': 491, 'First': 216, 'Second': 184}, 'who': {'man': 537, 'woman': 271, 'child': 83}, 'adult_male': {True: 537, False: 354}, 'deck': {'C': 59, 'B': 47, 'D': 33, 'E': 32, 'A': 15, 'F': 13, 'G': 4}, 'embark_town': {'Southampton': 644, 'Cherbourg': 168, 'Queenstown': 77}, 'alive': {'no': 549, 'yes': 342}, 'alone': {True: 537, False: 354}}\n"
     ]
    }
   ],
   "source": [
    "i['show the column distributions for the dataframe titanic']"
   ]
  },
  {
   "cell_type": "code",
   "execution_count": 4,
   "id": "11deb458-a750-4913-b076-4894ba62513e",
   "metadata": {},
   "outputs": [
    {
     "name": "stdout",
     "output_type": "stream",
     "text": [
      "[note] found relevant global task [dfcolumn_unique] w/ [0.94] certainty!\n",
      "[note] found sub_task [all] w/ [0.8] certainty!\n",
      "survived ([0 1])\n",
      "pclass ([3 1 2])\n",
      "sex (['male' 'female'])\n",
      "age ([22.   38.   26.   35.     nan 54.    2.   27.   14.    4.   58.   20.\n",
      " 39.   55.   31.   34.   15.   28.    8.   19.   40.   66.   42.   21.\n",
      " 18.    3.    7.   49.   29.   65.   28.5   5.   11.   45.   17.   32.\n",
      " 16.   25.    0.83 30.   33.   23.   24.   46.   59.   71.   37.   47.\n",
      " 14.5  70.5  32.5  12.    9.   36.5  51.   55.5  40.5  44.    1.   61.\n",
      " 56.   50.   36.   45.5  20.5  62.   41.   52.   63.   23.5   0.92 43.\n",
      " 60.   10.   64.   13.   48.    0.75 53.   57.   80.   70.   24.5   6.\n",
      "  0.67 30.5   0.42 34.5  74.  ])\n",
      "sibsp ([1 0 3 4 2 5 8])\n",
      "parch ([0 1 2 5 3 4 6])\n",
      "fare ([  7.25    71.2833   7.925   53.1      8.05     8.4583  51.8625  21.075\n",
      "  11.1333  30.0708  16.7     26.55    31.275    7.8542  16.      29.125\n",
      "  13.      18.       7.225   26.       8.0292  35.5     31.3875 263.\n",
      "   7.8792   7.8958  27.7208 146.5208   7.75    10.5     82.1708  52.\n",
      "   7.2292  11.2417   9.475   21.      41.5792  15.5     21.6792  17.8\n",
      "  39.6875   7.8     76.7292  61.9792  27.75    46.9     80.      83.475\n",
      "  27.9     15.2458   8.1583   8.6625  73.5     14.4542  56.4958   7.65\n",
      "  29.      12.475    9.       9.5      7.7875  47.1     15.85    34.375\n",
      "  61.175   20.575   34.6542  63.3583  23.      77.2875   8.6542   7.775\n",
      "  24.15     9.825   14.4583 247.5208   7.1417  22.3583   6.975    7.05\n",
      "  14.5     15.0458  26.2833   9.2167  79.2      6.75    11.5     36.75\n",
      "   7.7958  12.525   66.6      7.3125  61.3792   7.7333  69.55    16.1\n",
      "  15.75    20.525   55.      25.925   33.5     30.6958  25.4667  28.7125\n",
      "   0.      15.05    39.      22.025   50.       8.4042   6.4958  10.4625\n",
      "  18.7875  31.     113.275   27.      76.2917  90.       9.35    13.5\n",
      "   7.55    26.25    12.275    7.125   52.5542  20.2125  86.5    512.3292\n",
      "  79.65   153.4625 135.6333  19.5     29.7     77.9583  20.25    78.85\n",
      "  91.0792  12.875    8.85   151.55    30.5     23.25    12.35   110.8833\n",
      " 108.9     24.      56.9292  83.1583 262.375   14.     164.8667 134.5\n",
      "   6.2375  57.9792  28.5    133.65    15.9      9.225   35.      75.25\n",
      "  69.3     55.4417 211.5      4.0125 227.525   15.7417   7.7292  12.\n",
      " 120.      12.65    18.75     6.8583  32.5      7.875   14.4     55.9\n",
      "   8.1125  81.8583  19.2583  19.9667  89.1042  38.5      7.725   13.7917\n",
      "   9.8375   7.0458   7.5208  12.2875   9.5875  49.5042  78.2667  15.1\n",
      "   7.6292  22.525   26.2875  59.4      7.4958  34.0208  93.5    221.7792\n",
      " 106.425   49.5     71.      13.8625   7.8292  39.6     17.4     51.4792\n",
      "  26.3875  30.      40.125    8.7125  15.      33.      42.4     15.55\n",
      "  65.      32.3208   7.0542   8.4333  25.5875   9.8417   8.1375  10.1708\n",
      " 211.3375  57.      13.4167   7.7417   9.4833   7.7375   8.3625  23.45\n",
      "  25.9292   8.6833   8.5167   7.8875  37.0042   6.45     6.95     8.3\n",
      "   6.4375  39.4     14.1083  13.8583  50.4958   5.       9.8458  10.5167])\n",
      "embarked (['S' 'C' 'Q' nan])\n",
      "class (['Third', 'First', 'Second']\n",
      "Categories (3, object): ['First', 'Second', 'Third'])\n",
      "who (['man' 'woman' 'child'])\n",
      "adult_male ([ True False])\n",
      "deck ([NaN, 'C', 'E', 'G', 'D', 'A', 'B', 'F']\n",
      "Categories (7, object): ['A', 'B', 'C', 'D', 'E', 'F', 'G'])\n",
      "embark_town (['Southampton' 'Cherbourg' 'Queenstown' nan])\n",
      "alive (['no' 'yes'])\n",
      "alone ([False  True])\n"
     ]
    }
   ],
   "source": [
    "i['show all the unique values in all columns in dataframe titanic']"
   ]
  },
  {
   "cell_type": "code",
   "execution_count": 6,
   "id": "7db01898-9758-495c-b54a-9984da9e275e",
   "metadata": {},
   "outputs": [
    {
     "name": "stdout",
     "output_type": "stream",
     "text": [
      "[note] found relevant global task [show_dtypes] w/ [0.52] certainty!\n",
      "survived          int64\n",
      "pclass            int64\n",
      "sex              object\n",
      "age             float64\n",
      "sibsp             int64\n",
      "parch             int64\n",
      "fare            float64\n",
      "embarked         object\n",
      "class          category\n",
      "who              object\n",
      "adult_male         bool\n",
      "deck           category\n",
      "embark_town      object\n",
      "alive            object\n",
      "alone              bool\n",
      "dtype: object\n"
     ]
    }
   ],
   "source": [
    "i['show the data types of the dataframe titanic']"
   ]
  },
  {
   "cell_type": "markdown",
   "id": "07118106-5656-43c0-b7f3-d72f05a09414",
   "metadata": {},
   "source": [
    "### using a subset of dataframe"
   ]
  },
  {
   "cell_type": "code",
   "execution_count": 5,
   "id": "d976271d-cec3-423e-9d75-9b1d6fe5a6f1",
   "metadata": {},
   "outputs": [
    {
     "name": "stdout",
     "output_type": "stream",
     "text": [
      "[note] found relevant global task [dfcolumn_distr] w/ [0.84] certainty!\n",
      "[note] found sub_task [subset] w/ [0.83] certainty!\n"
     ]
    },
    {
     "data": {
      "text/html": [
       "<div>\n",
       "<style scoped>\n",
       "    .dataframe tbody tr th:only-of-type {\n",
       "        vertical-align: middle;\n",
       "    }\n",
       "\n",
       "    .dataframe tbody tr th {\n",
       "        vertical-align: top;\n",
       "    }\n",
       "\n",
       "    .dataframe thead th {\n",
       "        text-align: right;\n",
       "    }\n",
       "</style>\n",
       "<table border=\"1\" class=\"dataframe\">\n",
       "  <thead>\n",
       "    <tr style=\"text-align: right;\">\n",
       "      <th></th>\n",
       "      <th>values</th>\n",
       "      <th>percentage</th>\n",
       "    </tr>\n",
       "    <tr>\n",
       "      <th>class</th>\n",
       "      <th></th>\n",
       "      <th></th>\n",
       "    </tr>\n",
       "  </thead>\n",
       "  <tbody>\n",
       "    <tr>\n",
       "      <th>Third</th>\n",
       "      <td>491</td>\n",
       "      <td>55.11</td>\n",
       "    </tr>\n",
       "    <tr>\n",
       "      <th>First</th>\n",
       "      <td>216</td>\n",
       "      <td>24.24</td>\n",
       "    </tr>\n",
       "    <tr>\n",
       "      <th>Second</th>\n",
       "      <td>184</td>\n",
       "      <td>20.65</td>\n",
       "    </tr>\n",
       "  </tbody>\n",
       "</table>\n",
       "</div>"
      ],
      "text/plain": [
       "        values  percentage\n",
       "class                     \n",
       "Third      491       55.11\n",
       "First      216       24.24\n",
       "Second     184       20.65"
      ]
     },
     "metadata": {},
     "output_type": "display_data"
    }
   ],
   "source": [
    "i['show the column distributions for the dataframe titanic for the column class']"
   ]
  },
  {
   "cell_type": "code",
   "execution_count": 6,
   "id": "2155f5ca-5c33-4512-ab25-4fb58679f7f6",
   "metadata": {
    "scrolled": true
   },
   "outputs": [
    {
     "name": "stdout",
     "output_type": "stream",
     "text": [
      "[note] found relevant global task [dfcolumn_unique] w/ [0.79] certainty!\n",
      "[note] found sub_task [few] w/ [0.88] certainty!\n",
      "class (['Third', 'First', 'Second']\n",
      "Categories (3, object): ['First', 'Second', 'Third'])\n",
      "deck ([NaN, 'C', 'E', 'G', 'D', 'A', 'B', 'F']\n",
      "Categories (7, object): ['A', 'B', 'C', 'D', 'E', 'F', 'G'])\n"
     ]
    }
   ],
   "source": [
    "i['show all the unique values of columns class and deck in dataframe titanic']"
   ]
  },
  {
   "cell_type": "code",
   "execution_count": 7,
   "id": "ae931ae7-820a-4cc8-b701-e16935976fea",
   "metadata": {},
   "outputs": [
    {
     "name": "stdout",
     "output_type": "stream",
     "text": [
      "[note] found relevant global task [dfcolumn_unique] w/ [0.75] certainty!\n",
      "[note] found sub_task [one] w/ [0.81] certainty!\n",
      "['Third', 'First', 'Second']\n",
      "Categories (3, object): ['First', 'Second', 'Third']\n"
     ]
    }
   ],
   "source": [
    "i['show the unique values in column class in the dataframe titanic']"
   ]
  },
  {
   "cell_type": "markdown",
   "id": "a5a83bcd-72f2-47fa-8305-76774aad2ea6",
   "metadata": {},
   "source": [
    "### **mstats_tests**\n",
    "\n",
    "Module for conducting different statistical tests using lists as data input"
   ]
  },
  {
   "cell_type": "code",
   "execution_count": 3,
   "id": "95a32d8b-4ff0-4d45-9012-9b13d44844de",
   "metadata": {},
   "outputs": [
    {
     "name": "stdout",
     "output_type": "stream",
     "text": [
      "[note] found relevant global task [its_ttest] w/ [0.71] certainty!\n",
      "t-statistic: -10.870116673417579\n",
      "pvalue: 1.52126204409536e-26\n",
      "Reject the null hypothesis : there is a significant difference between the two groups.\n"
     ]
    }
   ],
   "source": [
    "# independent student ttest (can be different sizes)\n",
    "i['compare the means of two lists distrA distrB using indepentent student ttest']"
   ]
  },
  {
   "cell_type": "code",
   "execution_count": 3,
   "id": "038db3e1-a140-4637-aba2-a37c702012c1",
   "metadata": {},
   "outputs": [
    {
     "name": "stdout",
     "output_type": "stream",
     "text": [
      "[note] found relevant global task [p_ttest] w/ [0.65] certainty!\n",
      "[note] Both data sources must have the same length\n"
     ]
    }
   ],
   "source": [
    "# dependent student ttest (must be same list size)\n",
    "i['compare the means of two lists distrA and distrB using dependent students ttest']"
   ]
  },
  {
   "cell_type": "code",
   "execution_count": 5,
   "id": "cd507554-2ebe-4dc6-b73b-393e27e67045",
   "metadata": {},
   "outputs": [
    {
     "name": "stdout",
     "output_type": "stream",
     "text": [
      "[note] setting module_args parameters\n",
      "{'popmean': 0.04}\n",
      "[note] found relevant global task [os_ttest] w/ [0.99] certainty!\n",
      "t-statistic: -2.1760398467163435\n",
      "pvalue: 0.029786017438597285\n",
      "Reject the null hypothesis: The mean is significantly different from 0.04\n"
     ]
    }
   ],
   "source": [
    "# one sample ttest, compare to population mean\n",
    "i['do a single sample ttest of data distrA and set popmean 0.04']"
   ]
  },
  {
   "cell_type": "code",
   "execution_count": 6,
   "id": "c5fe961e-c11b-4ba4-bf97-9a530169bada",
   "metadata": {},
   "outputs": [
    {
     "name": "stdout",
     "output_type": "stream",
     "text": [
      "[note] found relevant global task [utest] w/ [0.64] certainty!\n",
      "u statistic: 344114.0\n",
      "pvalue: 1.1756331059711802e-32\n",
      "Reject null hypothesis : There is a significant difference between the two samples.\n"
     ]
    }
   ],
   "source": [
    "# Mann Whitney U-Test\n",
    "i['mann whitney utest for dataset distrB and distrA']"
   ]
  },
  {
   "cell_type": "code",
   "execution_count": 4,
   "id": "7a87b239-2553-4ee7-937e-9f45eea87c8c",
   "metadata": {},
   "outputs": [
    {
     "name": "stdout",
     "output_type": "stream",
     "text": [
      "[note] found relevant global task [ks_sample_normal] w/ [0.76] certainty!\n",
      "ks statistic: 0.019729512414273676\n",
      "pvalue: 0.823609228617101\n",
      "Fail to reject the null hypothesis: Data follows a normal distribution.\n"
     ]
    }
   ],
   "source": [
    "# Kolmogorov Smirnov Test for normality \n",
    "i['ks test for normality using dataset distrA']"
   ]
  },
  {
   "cell_type": "code",
   "execution_count": 5,
   "id": "127b0ccb-c74b-479e-bf28-24224d2ada25",
   "metadata": {},
   "outputs": [
    {
     "name": "stdout",
     "output_type": "stream",
     "text": [
      "[note] found relevant global task [ks_sample_uniform] w/ [0.76] certainty!\n",
      "ks statistic: 0.04071333769268182\n",
      "pvalue: 0.36868403272860995\n",
      "Fail to reject the null hypothesis: Data follows a uniform distribution.\n"
     ]
    }
   ],
   "source": [
    "# Kolmogorov Smirnov test for uniformity\n",
    "i['please check the dataset distrB for uniformity using the ks test']"
   ]
  },
  {
   "cell_type": "code",
   "execution_count": 7,
   "id": "76e565f7-6d16-4868-af41-bc4b5a73d1f3",
   "metadata": {},
   "outputs": [
    {
     "name": "stdout",
     "output_type": "stream",
     "text": [
      "[note] found relevant global task [ks_sample_exponential] w/ [0.63] certainty!\n",
      "ks statistic: 0.024946927331203073\n",
      "pvalue: 0.5537745774875409\n",
      "Fail to reject the null hypothesis: Data follows an exponential distribution.\n"
     ]
    }
   ],
   "source": [
    "# Kolmogorov Smirnov test for exponentiality\n",
    "i['using the ks test check the dataset distrC if it is of exponential nature']"
   ]
  },
  {
   "cell_type": "code",
   "execution_count": 5,
   "id": "6ffc756d-643c-4c8e-9ca7-a8e06e813b30",
   "metadata": {},
   "outputs": [
    {
     "name": "stdout",
     "output_type": "stream",
     "text": [
      "[note] found relevant global task [lilliefors_normal] w/ [0.62] certainty!\n",
      "Lilliefors statistic: 0.03349011749910802\n",
      "pvalue: 0.015498564953545658\n",
      "Reject the null hypothesis : The data is not likely to be normally distributed.\n"
     ]
    }
   ],
   "source": [
    "# Lilliefors test for normality\n",
    "i['using the lilliefors statistical test check distrA for normality']"
   ]
  },
  {
   "cell_type": "code",
   "execution_count": 5,
   "id": "4c7c44e9-68b0-4b9e-8195-ec16dee43342",
   "metadata": {},
   "outputs": [
    {
     "name": "stdout",
     "output_type": "stream",
     "text": [
      "[note] found relevant global task [oneway_anova] w/ [0.44] certainty!\n",
      "statistic: 333.6250824545146\n",
      "pvalue: 3.880986066237367e-129\n",
      "Reject the null hypothesis: The means of the groups are not equal\n"
     ]
    }
   ],
   "source": [
    "# One way ANOVA test \n",
    "i['one way anova test to check if there is any difference between distrA distrB distrC']"
   ]
  },
  {
   "cell_type": "code",
   "execution_count": 13,
   "id": "f369c6bf-313e-46a5-9253-64b545fa5a8e",
   "metadata": {},
   "outputs": [
    {
     "name": "stdout",
     "output_type": "stream",
     "text": [
      "[note] found relevant global task [chi2_test] w/ [0.69] certainty!\n",
      "chi2 statistic: 7277.966020562606\n",
      "pvalue: 0.0\n",
      "Reject the null hypothesis : The observed frequencies are significantly different from the expected frequencies.\n"
     ]
    }
   ],
   "source": [
    "# Chi2 \n",
    "i['chi2 statistical test for distrA and distrC']"
   ]
  },
  {
   "cell_type": "markdown",
   "id": "bbc20c45-f0ec-4b5e-a87c-93cb88ce5eed",
   "metadata": {},
   "source": [
    "### **mstats_plot**\n",
    "\n",
    "Module for comparing visually the distribution of different subsets"
   ]
  },
  {
   "cell_type": "code",
   "execution_count": 8,
   "id": "f4c006a3-b64f-4e95-8205-6ebac833311a",
   "metadata": {},
   "outputs": [
    {
     "name": "stdout",
     "output_type": "stream",
     "text": [
      "[note] setting module_args parameters\n",
      "{'nbins': 100}\n",
      "[note] found relevant global task [dp_hist] w/ [0.62] certainty!\n",
      "['mlist']\n",
      "{'list': ['distrB', 'distrC', 'distrA'], 'df': []}\n",
      "{'distrB': 'list', 'distrC': 'list', 'distrA': 'list'}\n"
     ]
    },
    {
     "data": {
      "image/png": "[encoded data removed]",
      "text/plain": [
       "<Figure size 1000x400 with 1 Axes>"
      ]
     },
     "metadata": {},
     "output_type": "display_data"
    }
   ],
   "source": [
    "# plot the histogram distribution for different lists\n",
    "i[\"compare the histograms of two samples distrB, distrC and distrA set nbins 100\"] # dp_hist"
   ]
  },
  {
   "cell_type": "code",
   "execution_count": 3,
   "id": "fddc55a6-eea1-4000-965b-a4f3050d828e",
   "metadata": {},
   "outputs": [
    {
     "name": "stdout",
     "output_type": "stream",
     "text": [
      "[note] found relevant global task [dp_kde] w/ [0.32] certainty!\n",
      "['mlist']\n",
      "{'list': ['distrA', 'distrB', 'distrC'], 'df': []}\n",
      "{'distrA': 'list', 'distrB': 'list', 'distrC': 'list'}\n"
     ]
    },
    {
     "data": {
      "image/png": "[encoded data removed]",
      "text/plain": [
       "<Figure size 1000x400 with 1 Axes>"
      ]
     },
     "metadata": {},
     "output_type": "display_data"
    }
   ],
   "source": [
    "i[\"compare the distribution of two datasets distrA distrB and distrC using a kernel density plot\"]"
   ]
  },
  {
   "cell_type": "code",
   "execution_count": 3,
   "id": "b0927161-b204-4d5f-9547-87467b902a62",
   "metadata": {},
   "outputs": [
    {
     "name": "stdout",
     "output_type": "stream",
     "text": [
      "[note] found relevant global task [dp_box] w/ [0.83] certainty!\n"
     ]
    },
    {
     "data": {
      "image/png": "[encoded data removed]",
      "text/plain": [
       "<Figure size 1000x400 with 1 Axes>"
      ]
     },
     "metadata": {},
     "output_type": "display_data"
    }
   ],
   "source": [
    "i['compare the boxplot distribution for datasets distrA distrB and distrC']"
   ]
  },
  {
   "cell_type": "code",
   "execution_count": 4,
   "id": "fc2344e5-d903-4b33-949b-05937eb1faba",
   "metadata": {},
   "outputs": [
    {
     "name": "stdout",
     "output_type": "stream",
     "text": [
      "[note] found relevant global task [dp_ecdf] w/ [0.75] certainty!\n"
     ]
    },
    {
     "data": {
      "image/png": "[encoded data removed]",
      "text/plain": [
       "<Figure size 1000x400 with 1 Axes>"
      ]
     },
     "metadata": {},
     "output_type": "display_data"
    }
   ],
   "source": [
    "i['please plot the cumulative distribution functions for data distrA and distrB']"
   ]
  },
  {
   "cell_type": "markdown",
   "id": "2664c51b-d877-4779-b9ee-1995deab8e92",
   "metadata": {},
   "source": [
    "### **mstats_general**"
   ]
  },
  {
   "cell_type": "code",
   "execution_count": 6,
   "id": "8c673372-1641-41a9-a26d-7f988fcd54d5",
   "metadata": {},
   "outputs": [
    {
     "name": "stdout",
     "output_type": "stream",
     "text": [
      "[note] found relevant global task [gstat_stats] w/ [0.91] certainty!\n",
      "[note] found sub_task [list_inputs] w/ [0.89] certainty!\n"
     ]
    },
    {
     "data": {
      "text/html": [
       "<div>\n",
       "<style scoped>\n",
       "    .dataframe tbody tr th:only-of-type {\n",
       "        vertical-align: middle;\n",
       "    }\n",
       "\n",
       "    .dataframe tbody tr th {\n",
       "        vertical-align: top;\n",
       "    }\n",
       "\n",
       "    .dataframe thead th {\n",
       "        text-align: right;\n",
       "    }\n",
       "</style>\n",
       "<table border=\"1\" class=\"dataframe\">\n",
       "  <thead>\n",
       "    <tr style=\"text-align: right;\">\n",
       "      <th>sample</th>\n",
       "      <th>distrA</th>\n",
       "      <th>distrB</th>\n",
       "      <th>distrC</th>\n",
       "    </tr>\n",
       "  </thead>\n",
       "  <tbody>\n",
       "    <tr>\n",
       "      <th>count</th>\n",
       "      <td>1000.000000</td>\n",
       "      <td>500.000000</td>\n",
       "      <td>1000.000000</td>\n",
       "    </tr>\n",
       "    <tr>\n",
       "      <th>mean</th>\n",
       "      <td>-0.023505</td>\n",
       "      <td>0.514057</td>\n",
       "      <td>1.039609</td>\n",
       "    </tr>\n",
       "    <tr>\n",
       "      <th>std</th>\n",
       "      <td>0.975247</td>\n",
       "      <td>0.286095</td>\n",
       "      <td>1.026327</td>\n",
       "    </tr>\n",
       "    <tr>\n",
       "      <th>min</th>\n",
       "      <td>-2.971711</td>\n",
       "      <td>0.002613</td>\n",
       "      <td>0.000059</td>\n",
       "    </tr>\n",
       "    <tr>\n",
       "      <th>25%</th>\n",
       "      <td>-0.690158</td>\n",
       "      <td>0.282936</td>\n",
       "      <td>0.305433</td>\n",
       "    </tr>\n",
       "    <tr>\n",
       "      <th>50%</th>\n",
       "      <td>-0.015008</td>\n",
       "      <td>0.495356</td>\n",
       "      <td>0.699308</td>\n",
       "    </tr>\n",
       "    <tr>\n",
       "      <th>75%</th>\n",
       "      <td>0.665670</td>\n",
       "      <td>0.768603</td>\n",
       "      <td>1.440745</td>\n",
       "    </tr>\n",
       "    <tr>\n",
       "      <th>max</th>\n",
       "      <td>2.463727</td>\n",
       "      <td>0.999680</td>\n",
       "      <td>7.136883</td>\n",
       "    </tr>\n",
       "  </tbody>\n",
       "</table>\n",
       "</div>"
      ],
      "text/plain": [
       "sample       distrA      distrB       distrC\n",
       "count   1000.000000  500.000000  1000.000000\n",
       "mean      -0.023505    0.514057     1.039609\n",
       "std        0.975247    0.286095     1.026327\n",
       "min       -2.971711    0.002613     0.000059\n",
       "25%       -0.690158    0.282936     0.305433\n",
       "50%       -0.015008    0.495356     0.699308\n",
       "75%        0.665670    0.768603     1.440745\n",
       "max        2.463727    0.999680     7.136883"
      ]
     },
     "metadata": {},
     "output_type": "display_data"
    }
   ],
   "source": [
    "i['show the general statistics for distrA distrB and distC']"
   ]
  },
  {
   "cell_type": "code",
   "execution_count": 3,
   "id": "ff2e97d6-3908-44d1-a884-e113e5334c33",
   "metadata": {
    "editable": true,
    "slideshow": {
     "slide_type": ""
    },
    "tags": []
   },
   "outputs": [],
   "source": [
    "\n",
    "# i.store_ac('penguins','selected_columns',['bill_length_mm','bill_depth_mm'])\n",
    "\n",
    "# ldata = nlpi.data['iris']['data']\n",
    "# train,test = train_test_split(ldata)\n",
    "# interpreter.store_data({'train':train,'test':test})\n",
    "\n",
    "# breast cancer data\n",
    "cols = ['id', 'diagnosis', 'radius_mean', 'texture_mean', 'perimeter_mean',\n",
    "       'area_mean', 'smoothness_mean', 'compactness_mean', 'concavity_mean',\n",
    "       'concave points_mean', 'symmetry_mean', 'fractal_dimension_mean',\n",
    "       'radius_se', 'texture_se', 'perimeter_se', 'area_se', 'smoothness_se',\n",
    "       'compactness_se', 'concavity_se', 'concave points_se', 'symmetry_se',\n",
    "       'fractal_dimension_se', 'radius_worst', 'texture_worst',\n",
    "       'perimeter_worst', 'area_worst', 'smoothness_worst',\n",
    "       'compactness_worst', 'concavity_worst', 'concave points_worst',\n",
    "       'symmetry_worst', 'fractal_dimension_worst', 'Unnamed: 32']\n",
    "\n",
    "df = pd.read_csv(\"https://raw.githubusercontent.com/akshaybahadur21/BreastCancer_Classification/master/breast_cancer/cancer_data.csv\",\n",
    "                 names = cols)\n",
    "i.store_data({'breast_data':df})\n",
    "\n",
    "# # customer review data\n",
    "# df = pd.read_csv('https://raw.githubusercontent.com/shtrausslearning/Data-Science-Portfolio/main/sources/customer_reviews.csv',sep=',')\n",
    "# i.store_data({'reviews_data':df})\n",
    "\n",
    "# # customer funds data\n",
    "# df = pd.read_csv('https://raw.githubusercontent.com/shtrausslearning/Data-Science-Portfolio/main/sources/funds_data.csv',delimiter=';')\n",
    "# i.store_data({'customerfunds_data':df})\n",
    "\n",
    "# df = pd.read_csv('https://raw.githubusercontent.com/shtrausslearning/Data-Science-Portfolio/main/sources/stocks.csv',delimiter=',')\n",
    "# i.store_data({'stocks':df})\n",
    "# i.store_ac('penguins','selected_columns',['bill_length_mm','bill_depth_mm'])\n",
    "\n",
    "# df = pd.read_csv('https://raw.githubusercontent.com/shtrausslearning/Data-Science-Portfolio/main/sources/iris.csv',delimiter=',')\n",
    "# i.store_data({'iris_data':df})"
   ]
  },
  {
   "cell_type": "code",
   "execution_count": 14,
   "id": "1e8c1ac1-a644-4ca2-8762-dc515a10b3c0",
   "metadata": {},
   "outputs": [
    {
     "name": "stdout",
     "output_type": "stream",
     "text": [
      "   a  b\n",
      "0  1  2\n",
      "1  2  3\n",
      "2  3  4\n",
      "3  4  5\n"
     ]
    }
   ],
   "source": [
    "aa = pd.DataFrame({'a':[1,2,3,4],'b':[2,3,4,5]})\n",
    "if(aa is not None):\n",
    "    print(aa)"
   ]
  },
  {
   "cell_type": "code",
   "execution_count": 4,
   "id": "5cdda07f-4469-4b46-93cf-df7fc3aa178b",
   "metadata": {},
   "outputs": [
    {
     "name": "stdout",
     "output_type": "stream",
     "text": [
      "    species     island  bill_length_mm  bill_depth_mm  flipper_length_mm  \\\n",
      "0    Adelie  Torgersen            39.1           18.7              181.0   \n",
      "1    Adelie  Torgersen            39.5           17.4              186.0   \n",
      "2    Adelie  Torgersen            40.3           18.0              195.0   \n",
      "3    Adelie  Torgersen             NaN            NaN                NaN   \n",
      "4    Adelie  Torgersen            36.7           19.3              193.0   \n",
      "..      ...        ...             ...            ...                ...   \n",
      "339  Gentoo     Biscoe             NaN            NaN                NaN   \n",
      "340  Gentoo     Biscoe            46.8           14.3              215.0   \n",
      "341  Gentoo     Biscoe            50.4           15.7              222.0   \n",
      "342  Gentoo     Biscoe            45.2           14.8              212.0   \n",
      "343  Gentoo     Biscoe            49.9           16.1              213.0   \n",
      "\n",
      "     body_mass_g     sex  \n",
      "0         3750.0    Male  \n",
      "1         3800.0  Female  \n",
      "2         3250.0  Female  \n",
      "3            NaN     NaN  \n",
      "4         3450.0  Female  \n",
      "..           ...     ...  \n",
      "339          NaN     NaN  \n",
      "340       4850.0  Female  \n",
      "341       5750.0    Male  \n",
      "342       5200.0  Female  \n",
      "343       5400.0    Male  \n",
      "\n",
      "[344 rows x 7 columns]\n",
      "island\n",
      "[['bill_length_mm', 'bill_depth_mm']]\n"
     ]
    }
   ],
   "source": [
    "print(i.module_args['data'])\n",
    "print(i.module_args['hue'])\n",
    "print(i.module_args['column'])"
   ]
  },
  {
   "cell_type": "markdown",
   "id": "6168da1f-dade-4dbe-8c96-e1278ccc5756",
   "metadata": {},
   "source": [
    "### **meda_splot**\n",
    "\n",
    "#### **srelplot**"
   ]
  },
  {
   "cell_type": "code",
   "execution_count": 5,
   "id": "8a72856d-6c06-4deb-9964-5485020ccebd",
   "metadata": {},
   "outputs": [
    {
     "data": {
      "text/plain": [
       "{'list': [], 'df': ['penguins']}"
      ]
     },
     "execution_count": 5,
     "metadata": {},
     "output_type": "execute_result"
    }
   ],
   "source": [
    "i.module_args['data']"
   ]
  },
  {
   "cell_type": "code",
   "execution_count": 5,
   "id": "5afac011-6ce9-4cf5-8d21-e57ccd8d7382",
   "metadata": {},
   "outputs": [
    {
     "data": {
      "text/plain": [
       "['bill_length_mm', 'bill_depth_mm']"
      ]
     },
     "execution_count": 5,
     "metadata": {},
     "output_type": "execute_result"
    }
   ],
   "source": [
    "i.module_args['column']"
   ]
  },
  {
   "cell_type": "code",
   "execution_count": null,
   "id": "584e6700-f070-489c-9911-593b65f57151",
   "metadata": {},
   "outputs": [],
   "source": []
  },
  {
   "cell_type": "code",
   "execution_count": 26,
   "id": "20a538d7-d915-43c7-ac5b-838ce32e690d",
   "metadata": {},
   "outputs": [],
   "source": [
    "i.module_args['column']"
   ]
  },
  {
   "cell_type": "code",
   "execution_count": 3,
   "id": "fe31fa26-88c6-473f-b848-c2adbd372f62",
   "metadata": {},
   "outputs": [
    {
     "name": "stdout",
     "output_type": "stream",
     "text": [
      "[note] found relevant global task [srelplot] w/ [0.7] certainty!\n",
      "[note] found sub_task [xy_column] w/ [0.9] certainty!\n"
     ]
    },
    {
     "ename": "ValueError",
     "evalue": "Could not interpret value `b` for parameter `x`",
     "output_type": "error",
     "traceback": [
      "\u001b[0;31m---------------------------------------------------------------------------\u001b[0m",
      "\u001b[0;31mValueError\u001b[0m                                Traceback (most recent call last)",
      "Cell \u001b[0;32mIn[3], line 1\u001b[0m\n\u001b[0;32m----> 1\u001b[0m \u001b[43mi\u001b[49m\u001b[43m[\u001b[49m\u001b[38;5;124;43m\"\u001b[39;49m\u001b[38;5;124;43mcreate a seaborn relplot to visualise the relationship between bill_depth_mm and bill_length_mm using penguins\u001b[39;49m\u001b[38;5;124;43m\"\u001b[39;49m\u001b[43m]\u001b[49m\n\u001b[1;32m      2\u001b[0m \u001b[38;5;66;03m# i['create a seaborn relplot to visualise the relationship between bill_depth_mm and bill_length_mm for each island using penguins']\u001b[39;00m\n",
      "File \u001b[0;32m~/miniconda3/lib/python3.10/site-packages/mllibs/nlpi.py:415\u001b[0m, in \u001b[0;36mnlpi.__getitem__\u001b[0;34m(self, command)\u001b[0m\n\u001b[1;32m    414\u001b[0m \u001b[38;5;28;01mdef\u001b[39;00m \u001b[38;5;21m__getitem__\u001b[39m(\u001b[38;5;28mself\u001b[39m,command:\u001b[38;5;28mstr\u001b[39m):\n\u001b[0;32m--> 415\u001b[0m \t\u001b[38;5;28;43mself\u001b[39;49m\u001b[38;5;241;43m.\u001b[39;49m\u001b[43mquery\u001b[49m\u001b[43m(\u001b[49m\u001b[43mcommand\u001b[49m\u001b[43m,\u001b[49m\u001b[43margs\u001b[49m\u001b[38;5;241;43m=\u001b[39;49m\u001b[38;5;28;43;01mNone\u001b[39;49;00m\u001b[43m)\u001b[49m\n",
      "File \u001b[0;32m~/miniconda3/lib/python3.10/site-packages/mllibs/nlpi.py:418\u001b[0m, in \u001b[0;36mnlpi.query\u001b[0;34m(self, command, args)\u001b[0m\n\u001b[1;32m    417\u001b[0m \u001b[38;5;28;01mdef\u001b[39;00m \u001b[38;5;21mquery\u001b[39m(\u001b[38;5;28mself\u001b[39m,command:\u001b[38;5;28mstr\u001b[39m,args:\u001b[38;5;28mdict\u001b[39m\u001b[38;5;241m=\u001b[39m\u001b[38;5;28;01mNone\u001b[39;00m):                        \n\u001b[0;32m--> 418\u001b[0m \t\u001b[38;5;28;43mself\u001b[39;49m\u001b[38;5;241;43m.\u001b[39;49m\u001b[43mdo\u001b[49m\u001b[43m(\u001b[49m\u001b[43mcommand\u001b[49m\u001b[38;5;241;43m=\u001b[39;49m\u001b[43mcommand\u001b[49m\u001b[43m,\u001b[49m\u001b[43margs\u001b[49m\u001b[38;5;241;43m=\u001b[39;49m\u001b[43margs\u001b[49m\u001b[43m)\u001b[49m\n",
      "File \u001b[0;32m~/miniconda3/lib/python3.10/site-packages/mllibs/nlpi.py:2052\u001b[0m, in \u001b[0;36mnlpi.do\u001b[0;34m(self, command, args)\u001b[0m\n\u001b[1;32m   2049\u001b[0m nlpi\u001b[38;5;241m.\u001b[39mmemory_info \u001b[38;5;241m=\u001b[39m pd\u001b[38;5;241m.\u001b[39mconcat(\u001b[38;5;28mself\u001b[39m\u001b[38;5;241m.\u001b[39mmemory_stack,axis\u001b[38;5;241m=\u001b[39m\u001b[38;5;241m1\u001b[39m) \u001b[38;5;66;03m# stack task information order\u001b[39;00m\n\u001b[1;32m   2051\u001b[0m \u001b[38;5;66;03m# activate function [module_name] & pass [module_args]\u001b[39;00m\n\u001b[0;32m-> 2052\u001b[0m \u001b[38;5;28;43mself\u001b[39;49m\u001b[38;5;241;43m.\u001b[39;49m\u001b[43mmodule\u001b[49m\u001b[38;5;241;43m.\u001b[39;49m\u001b[43mmodules\u001b[49m\u001b[43m[\u001b[49m\u001b[38;5;28;43mself\u001b[39;49m\u001b[38;5;241;43m.\u001b[39;49m\u001b[43mmodule_name\u001b[49m\u001b[43m]\u001b[49m\u001b[38;5;241;43m.\u001b[39;49m\u001b[43msel\u001b[49m\u001b[43m(\u001b[49m\u001b[38;5;28;43mself\u001b[39;49m\u001b[38;5;241;43m.\u001b[39;49m\u001b[43mmodule_args\u001b[49m\u001b[43m)\u001b[49m\n\u001b[1;32m   2054\u001b[0m \u001b[38;5;28;01mif\u001b[39;00m(\u001b[38;5;28mlen\u001b[39m(nlpi\u001b[38;5;241m.\u001b[39mmemory_output) \u001b[38;5;241m==\u001b[39m nlpi\u001b[38;5;241m.\u001b[39miter\u001b[38;5;241m+\u001b[39m\u001b[38;5;241m1\u001b[39m):\n\u001b[1;32m   2055\u001b[0m \t\u001b[38;5;28;01mpass\u001b[39;00m\n",
      "File \u001b[0;32m~/miniconda3/lib/python3.10/site-packages/mllibs/eda/meda_splot.py:167\u001b[0m, in \u001b[0;36meda_splot.sel\u001b[0;34m(self, args)\u001b[0m\n\u001b[1;32m    164\u001b[0m \t\t\t\u001b[38;5;28;01mexcept\u001b[39;00m:\n\u001b[1;32m    165\u001b[0m \t\t\t\t\u001b[38;5;28;01mpass\u001b[39;00m\n\u001b[0;32m--> 167\u001b[0m \t\u001b[38;5;28;43mself\u001b[39;49m\u001b[38;5;241;43m.\u001b[39;49m\u001b[43msrelplot\u001b[49m\u001b[43m(\u001b[49m\u001b[43margs\u001b[49m\u001b[43m)\u001b[49m\n\u001b[1;32m    169\u001b[0m \u001b[38;5;28;01melif\u001b[39;00m(select \u001b[38;5;241m==\u001b[39m \u001b[38;5;124m'\u001b[39m\u001b[38;5;124msboxplot\u001b[39m\u001b[38;5;124m'\u001b[39m):\n\u001b[1;32m    170\u001b[0m \t\u001b[38;5;28mself\u001b[39m\u001b[38;5;241m.\u001b[39msboxplot(args)\n",
      "File \u001b[0;32m~/miniconda3/lib/python3.10/site-packages/mllibs/eda/meda_splot.py:257\u001b[0m, in \u001b[0;36meda_splot.srelplot\u001b[0;34m(self, args)\u001b[0m\n\u001b[1;32m    254\u001b[0m palette \u001b[38;5;241m=\u001b[39m \u001b[38;5;28mself\u001b[39m\u001b[38;5;241m.\u001b[39mset_palette(args)\n\u001b[1;32m    255\u001b[0m \u001b[38;5;28mself\u001b[39m\u001b[38;5;241m.\u001b[39mseaborn_setstyle()\n\u001b[0;32m--> 257\u001b[0m \u001b[43msns\u001b[49m\u001b[38;5;241;43m.\u001b[39;49m\u001b[43mrelplot\u001b[49m\u001b[43m(\u001b[49m\u001b[43mx\u001b[49m\u001b[43m \u001b[49m\u001b[38;5;241;43m=\u001b[39;49m\u001b[43m \u001b[49m\u001b[43margs\u001b[49m\u001b[43m[\u001b[49m\u001b[38;5;124;43m'\u001b[39;49m\u001b[38;5;124;43mx\u001b[39;49m\u001b[38;5;124;43m'\u001b[39;49m\u001b[43m]\u001b[49m\u001b[43m,\u001b[49m\u001b[43m \u001b[49m\n\u001b[1;32m    258\u001b[0m \u001b[43m\t\t\t\u001b[49m\u001b[43my\u001b[49m\u001b[43m \u001b[49m\u001b[38;5;241;43m=\u001b[39;49m\u001b[43m \u001b[49m\u001b[43margs\u001b[49m\u001b[43m[\u001b[49m\u001b[38;5;124;43m'\u001b[39;49m\u001b[38;5;124;43my\u001b[39;49m\u001b[38;5;124;43m'\u001b[39;49m\u001b[43m]\u001b[49m\u001b[43m,\u001b[49m\n\u001b[1;32m    259\u001b[0m \u001b[43m\t\t\t\u001b[49m\u001b[43mcol\u001b[49m\u001b[43m \u001b[49m\u001b[38;5;241;43m=\u001b[39;49m\u001b[43m \u001b[49m\u001b[43margs\u001b[49m\u001b[43m[\u001b[49m\u001b[38;5;124;43m'\u001b[39;49m\u001b[38;5;124;43mcol\u001b[39;49m\u001b[38;5;124;43m'\u001b[39;49m\u001b[43m]\u001b[49m\u001b[43m,\u001b[49m\n\u001b[1;32m    260\u001b[0m \u001b[43m\t\t\t\u001b[49m\u001b[43mrow\u001b[49m\u001b[43m \u001b[49m\u001b[38;5;241;43m=\u001b[39;49m\u001b[43m \u001b[49m\u001b[43margs\u001b[49m\u001b[43m[\u001b[49m\u001b[38;5;124;43m'\u001b[39;49m\u001b[38;5;124;43mrow\u001b[39;49m\u001b[38;5;124;43m'\u001b[39;49m\u001b[43m]\u001b[49m\u001b[43m,\u001b[49m\n\u001b[1;32m    261\u001b[0m \u001b[43m\t\t\t\u001b[49m\u001b[43mhue\u001b[49m\u001b[43m \u001b[49m\u001b[38;5;241;43m=\u001b[39;49m\u001b[43m \u001b[49m\u001b[43margs\u001b[49m\u001b[43m[\u001b[49m\u001b[38;5;124;43m'\u001b[39;49m\u001b[38;5;124;43mhue\u001b[39;49m\u001b[38;5;124;43m'\u001b[39;49m\u001b[43m]\u001b[49m\u001b[43m,\u001b[49m\u001b[43m \u001b[49m\n\u001b[1;32m    262\u001b[0m \u001b[43m\t\t\t\u001b[49m\u001b[43mcol_wrap\u001b[49m\u001b[43m \u001b[49m\u001b[38;5;241;43m=\u001b[39;49m\u001b[43m \u001b[49m\u001b[43margs\u001b[49m\u001b[43m[\u001b[49m\u001b[38;5;124;43m'\u001b[39;49m\u001b[38;5;124;43mcol_wrap\u001b[39;49m\u001b[38;5;124;43m'\u001b[39;49m\u001b[43m]\u001b[49m\u001b[43m,\u001b[49m\n\u001b[1;32m    263\u001b[0m \u001b[43m\t\t\t\u001b[49m\u001b[43mpalette\u001b[49m\u001b[43m \u001b[49m\u001b[38;5;241;43m=\u001b[39;49m\u001b[43m \u001b[49m\u001b[43mpalette\u001b[49m\u001b[43m,\u001b[49m\n\u001b[1;32m    264\u001b[0m \u001b[43m\t\t\t\u001b[49m\u001b[43malpha\u001b[49m\u001b[43m \u001b[49m\u001b[38;5;241;43m=\u001b[39;49m\u001b[43m \u001b[49m\u001b[43margs\u001b[49m\u001b[43m[\u001b[49m\u001b[38;5;124;43m'\u001b[39;49m\u001b[38;5;124;43malpha\u001b[39;49m\u001b[38;5;124;43m'\u001b[39;49m\u001b[43m]\u001b[49m\u001b[43m,\u001b[49m\n\u001b[1;32m    265\u001b[0m \u001b[43m\t\t\t\u001b[49m\u001b[43ms\u001b[49m\u001b[43m \u001b[49m\u001b[38;5;241;43m=\u001b[39;49m\u001b[43m \u001b[49m\u001b[43margs\u001b[49m\u001b[43m[\u001b[49m\u001b[38;5;124;43m'\u001b[39;49m\u001b[38;5;124;43ms\u001b[39;49m\u001b[38;5;124;43m'\u001b[39;49m\u001b[43m]\u001b[49m\u001b[43m,\u001b[49m\n\u001b[1;32m    266\u001b[0m \u001b[43m\t\t\t\u001b[49m\u001b[43mlinewidth\u001b[49m\u001b[43m \u001b[49m\u001b[38;5;241;43m=\u001b[39;49m\u001b[43m \u001b[49m\u001b[43margs\u001b[49m\u001b[43m[\u001b[49m\u001b[38;5;124;43m'\u001b[39;49m\u001b[38;5;124;43mmew\u001b[39;49m\u001b[38;5;124;43m'\u001b[39;49m\u001b[43m]\u001b[49m\u001b[43m,\u001b[49m\n\u001b[1;32m    267\u001b[0m \u001b[43m\t\t\t\u001b[49m\u001b[43medgecolor\u001b[49m\u001b[43m \u001b[49m\u001b[38;5;241;43m=\u001b[39;49m\u001b[43m \u001b[49m\u001b[43margs\u001b[49m\u001b[43m[\u001b[49m\u001b[38;5;124;43m'\u001b[39;49m\u001b[38;5;124;43mmec\u001b[39;49m\u001b[38;5;124;43m'\u001b[39;49m\u001b[43m]\u001b[49m\u001b[43m,\u001b[49m\n\u001b[1;32m    268\u001b[0m \u001b[43m\t\t\t\u001b[49m\u001b[43mdata\u001b[49m\u001b[43m \u001b[49m\u001b[38;5;241;43m=\u001b[39;49m\u001b[43m \u001b[49m\u001b[43margs\u001b[49m\u001b[43m[\u001b[49m\u001b[38;5;124;43m'\u001b[39;49m\u001b[38;5;124;43mdata\u001b[39;49m\u001b[38;5;124;43m'\u001b[39;49m\u001b[43m]\u001b[49m\u001b[43m)\u001b[49m\n\u001b[1;32m    270\u001b[0m sns\u001b[38;5;241m.\u001b[39mdespine(left\u001b[38;5;241m=\u001b[39m\u001b[38;5;28;01mTrue\u001b[39;00m, bottom\u001b[38;5;241m=\u001b[39m\u001b[38;5;28;01mTrue\u001b[39;00m)\n\u001b[1;32m    271\u001b[0m \u001b[38;5;28;01mif\u001b[39;00m(nlpi\u001b[38;5;241m.\u001b[39mpp[\u001b[38;5;124m'\u001b[39m\u001b[38;5;124mtitle\u001b[39m\u001b[38;5;124m'\u001b[39m]):\n",
      "File \u001b[0;32m~/miniconda3/lib/python3.10/site-packages/seaborn/relational.py:862\u001b[0m, in \u001b[0;36mrelplot\u001b[0;34m(data, x, y, hue, size, style, units, row, col, col_wrap, row_order, col_order, palette, hue_order, hue_norm, sizes, size_order, size_norm, markers, dashes, style_order, legend, kind, height, aspect, facet_kws, **kwargs)\u001b[0m\n\u001b[1;32m    859\u001b[0m     kwargs\u001b[38;5;241m.\u001b[39mpop(\u001b[38;5;124m\"\u001b[39m\u001b[38;5;124max\u001b[39m\u001b[38;5;124m\"\u001b[39m)\n\u001b[1;32m    861\u001b[0m \u001b[38;5;66;03m# Use the full dataset to map the semantics\u001b[39;00m\n\u001b[0;32m--> 862\u001b[0m p \u001b[38;5;241m=\u001b[39m \u001b[43mplotter\u001b[49m\u001b[43m(\u001b[49m\n\u001b[1;32m    863\u001b[0m \u001b[43m    \u001b[49m\u001b[43mdata\u001b[49m\u001b[38;5;241;43m=\u001b[39;49m\u001b[43mdata\u001b[49m\u001b[43m,\u001b[49m\n\u001b[1;32m    864\u001b[0m \u001b[43m    \u001b[49m\u001b[43mvariables\u001b[49m\u001b[38;5;241;43m=\u001b[39;49m\u001b[43mplotter\u001b[49m\u001b[38;5;241;43m.\u001b[39;49m\u001b[43mget_semantics\u001b[49m\u001b[43m(\u001b[49m\u001b[38;5;28;43mlocals\u001b[39;49m\u001b[43m(\u001b[49m\u001b[43m)\u001b[49m\u001b[43m)\u001b[49m\u001b[43m,\u001b[49m\n\u001b[1;32m    865\u001b[0m \u001b[43m    \u001b[49m\u001b[43mlegend\u001b[49m\u001b[38;5;241;43m=\u001b[39;49m\u001b[43mlegend\u001b[49m\u001b[43m,\u001b[49m\n\u001b[1;32m    866\u001b[0m \u001b[43m\u001b[49m\u001b[43m)\u001b[49m\n\u001b[1;32m    867\u001b[0m p\u001b[38;5;241m.\u001b[39mmap_hue(palette\u001b[38;5;241m=\u001b[39mpalette, order\u001b[38;5;241m=\u001b[39mhue_order, norm\u001b[38;5;241m=\u001b[39mhue_norm)\n\u001b[1;32m    868\u001b[0m p\u001b[38;5;241m.\u001b[39mmap_size(sizes\u001b[38;5;241m=\u001b[39msizes, order\u001b[38;5;241m=\u001b[39msize_order, norm\u001b[38;5;241m=\u001b[39msize_norm)\n",
      "File \u001b[0;32m~/miniconda3/lib/python3.10/site-packages/seaborn/relational.py:538\u001b[0m, in \u001b[0;36m_ScatterPlotter.__init__\u001b[0;34m(self, data, variables, legend)\u001b[0m\n\u001b[1;32m    529\u001b[0m \u001b[38;5;28;01mdef\u001b[39;00m \u001b[38;5;21m__init__\u001b[39m(\u001b[38;5;28mself\u001b[39m, \u001b[38;5;241m*\u001b[39m, data\u001b[38;5;241m=\u001b[39m\u001b[38;5;28;01mNone\u001b[39;00m, variables\u001b[38;5;241m=\u001b[39m{}, legend\u001b[38;5;241m=\u001b[39m\u001b[38;5;28;01mNone\u001b[39;00m):\n\u001b[1;32m    530\u001b[0m \n\u001b[1;32m    531\u001b[0m     \u001b[38;5;66;03m# TODO this is messy, we want the mapping to be agnostic about\u001b[39;00m\n\u001b[1;32m    532\u001b[0m     \u001b[38;5;66;03m# the kind of plot to draw, but for the time being we need to set\u001b[39;00m\n\u001b[1;32m    533\u001b[0m     \u001b[38;5;66;03m# this information so the SizeMapping can use it\u001b[39;00m\n\u001b[1;32m    534\u001b[0m     \u001b[38;5;28mself\u001b[39m\u001b[38;5;241m.\u001b[39m_default_size_range \u001b[38;5;241m=\u001b[39m (\n\u001b[1;32m    535\u001b[0m         np\u001b[38;5;241m.\u001b[39mr_[\u001b[38;5;241m.5\u001b[39m, \u001b[38;5;241m2\u001b[39m] \u001b[38;5;241m*\u001b[39m np\u001b[38;5;241m.\u001b[39msquare(mpl\u001b[38;5;241m.\u001b[39mrcParams[\u001b[38;5;124m\"\u001b[39m\u001b[38;5;124mlines.markersize\u001b[39m\u001b[38;5;124m\"\u001b[39m])\n\u001b[1;32m    536\u001b[0m     )\n\u001b[0;32m--> 538\u001b[0m     \u001b[38;5;28;43msuper\u001b[39;49m\u001b[43m(\u001b[49m\u001b[43m)\u001b[49m\u001b[38;5;241;43m.\u001b[39;49m\u001b[38;5;21;43m__init__\u001b[39;49m\u001b[43m(\u001b[49m\u001b[43mdata\u001b[49m\u001b[38;5;241;43m=\u001b[39;49m\u001b[43mdata\u001b[49m\u001b[43m,\u001b[49m\u001b[43m \u001b[49m\u001b[43mvariables\u001b[49m\u001b[38;5;241;43m=\u001b[39;49m\u001b[43mvariables\u001b[49m\u001b[43m)\u001b[49m\n\u001b[1;32m    540\u001b[0m     \u001b[38;5;28mself\u001b[39m\u001b[38;5;241m.\u001b[39mlegend \u001b[38;5;241m=\u001b[39m legend\n",
      "File \u001b[0;32m~/miniconda3/lib/python3.10/site-packages/seaborn/_oldcore.py:640\u001b[0m, in \u001b[0;36mVectorPlotter.__init__\u001b[0;34m(self, data, variables)\u001b[0m\n\u001b[1;32m    635\u001b[0m \u001b[38;5;66;03m# var_ordered is relevant only for categorical axis variables, and may\u001b[39;00m\n\u001b[1;32m    636\u001b[0m \u001b[38;5;66;03m# be better handled by an internal axis information object that tracks\u001b[39;00m\n\u001b[1;32m    637\u001b[0m \u001b[38;5;66;03m# such information and is set up by the scale_* methods. The analogous\u001b[39;00m\n\u001b[1;32m    638\u001b[0m \u001b[38;5;66;03m# information for numeric axes would be information about log scales.\u001b[39;00m\n\u001b[1;32m    639\u001b[0m \u001b[38;5;28mself\u001b[39m\u001b[38;5;241m.\u001b[39m_var_ordered \u001b[38;5;241m=\u001b[39m {\u001b[38;5;124m\"\u001b[39m\u001b[38;5;124mx\u001b[39m\u001b[38;5;124m\"\u001b[39m: \u001b[38;5;28;01mFalse\u001b[39;00m, \u001b[38;5;124m\"\u001b[39m\u001b[38;5;124my\u001b[39m\u001b[38;5;124m\"\u001b[39m: \u001b[38;5;28;01mFalse\u001b[39;00m}  \u001b[38;5;66;03m# alt., used DefaultDict\u001b[39;00m\n\u001b[0;32m--> 640\u001b[0m \u001b[38;5;28;43mself\u001b[39;49m\u001b[38;5;241;43m.\u001b[39;49m\u001b[43massign_variables\u001b[49m\u001b[43m(\u001b[49m\u001b[43mdata\u001b[49m\u001b[43m,\u001b[49m\u001b[43m \u001b[49m\u001b[43mvariables\u001b[49m\u001b[43m)\u001b[49m\n\u001b[1;32m    642\u001b[0m \u001b[38;5;28;01mfor\u001b[39;00m var, \u001b[38;5;28mcls\u001b[39m \u001b[38;5;129;01min\u001b[39;00m \u001b[38;5;28mself\u001b[39m\u001b[38;5;241m.\u001b[39m_semantic_mappings\u001b[38;5;241m.\u001b[39mitems():\n\u001b[1;32m    643\u001b[0m \n\u001b[1;32m    644\u001b[0m     \u001b[38;5;66;03m# Create the mapping function\u001b[39;00m\n\u001b[1;32m    645\u001b[0m     map_func \u001b[38;5;241m=\u001b[39m partial(\u001b[38;5;28mcls\u001b[39m\u001b[38;5;241m.\u001b[39mmap, plotter\u001b[38;5;241m=\u001b[39m\u001b[38;5;28mself\u001b[39m)\n",
      "File \u001b[0;32m~/miniconda3/lib/python3.10/site-packages/seaborn/_oldcore.py:701\u001b[0m, in \u001b[0;36mVectorPlotter.assign_variables\u001b[0;34m(self, data, variables)\u001b[0m\n\u001b[1;32m    699\u001b[0m \u001b[38;5;28;01melse\u001b[39;00m:\n\u001b[1;32m    700\u001b[0m     \u001b[38;5;28mself\u001b[39m\u001b[38;5;241m.\u001b[39minput_format \u001b[38;5;241m=\u001b[39m \u001b[38;5;124m\"\u001b[39m\u001b[38;5;124mlong\u001b[39m\u001b[38;5;124m\"\u001b[39m\n\u001b[0;32m--> 701\u001b[0m     plot_data, variables \u001b[38;5;241m=\u001b[39m \u001b[38;5;28;43mself\u001b[39;49m\u001b[38;5;241;43m.\u001b[39;49m\u001b[43m_assign_variables_longform\u001b[49m\u001b[43m(\u001b[49m\n\u001b[1;32m    702\u001b[0m \u001b[43m        \u001b[49m\u001b[43mdata\u001b[49m\u001b[43m,\u001b[49m\u001b[43m \u001b[49m\u001b[38;5;241;43m*\u001b[39;49m\u001b[38;5;241;43m*\u001b[39;49m\u001b[43mvariables\u001b[49m\u001b[43m,\u001b[49m\n\u001b[1;32m    703\u001b[0m \u001b[43m    \u001b[49m\u001b[43m)\u001b[49m\n\u001b[1;32m    705\u001b[0m \u001b[38;5;28mself\u001b[39m\u001b[38;5;241m.\u001b[39mplot_data \u001b[38;5;241m=\u001b[39m plot_data\n\u001b[1;32m    706\u001b[0m \u001b[38;5;28mself\u001b[39m\u001b[38;5;241m.\u001b[39mvariables \u001b[38;5;241m=\u001b[39m variables\n",
      "File \u001b[0;32m~/miniconda3/lib/python3.10/site-packages/seaborn/_oldcore.py:938\u001b[0m, in \u001b[0;36mVectorPlotter._assign_variables_longform\u001b[0;34m(self, data, **kwargs)\u001b[0m\n\u001b[1;32m    933\u001b[0m \u001b[38;5;28;01melif\u001b[39;00m \u001b[38;5;28misinstance\u001b[39m(val, (\u001b[38;5;28mstr\u001b[39m, \u001b[38;5;28mbytes\u001b[39m)):\n\u001b[1;32m    934\u001b[0m \n\u001b[1;32m    935\u001b[0m     \u001b[38;5;66;03m# This looks like a column name but we don't know what it means!\u001b[39;00m\n\u001b[1;32m    937\u001b[0m     err \u001b[38;5;241m=\u001b[39m \u001b[38;5;124mf\u001b[39m\u001b[38;5;124m\"\u001b[39m\u001b[38;5;124mCould not interpret value `\u001b[39m\u001b[38;5;132;01m{\u001b[39;00mval\u001b[38;5;132;01m}\u001b[39;00m\u001b[38;5;124m` for parameter `\u001b[39m\u001b[38;5;132;01m{\u001b[39;00mkey\u001b[38;5;132;01m}\u001b[39;00m\u001b[38;5;124m`\u001b[39m\u001b[38;5;124m\"\u001b[39m\n\u001b[0;32m--> 938\u001b[0m     \u001b[38;5;28;01mraise\u001b[39;00m \u001b[38;5;167;01mValueError\u001b[39;00m(err)\n\u001b[1;32m    940\u001b[0m \u001b[38;5;28;01melse\u001b[39;00m:\n\u001b[1;32m    941\u001b[0m \n\u001b[1;32m    942\u001b[0m     \u001b[38;5;66;03m# Otherwise, assume the value is itself data\u001b[39;00m\n\u001b[1;32m    943\u001b[0m \n\u001b[1;32m    944\u001b[0m     \u001b[38;5;66;03m# Raise when data object is present and a vector can't matched\u001b[39;00m\n\u001b[1;32m    945\u001b[0m     \u001b[38;5;28;01mif\u001b[39;00m \u001b[38;5;28misinstance\u001b[39m(data, pd\u001b[38;5;241m.\u001b[39mDataFrame) \u001b[38;5;129;01mand\u001b[39;00m \u001b[38;5;129;01mnot\u001b[39;00m \u001b[38;5;28misinstance\u001b[39m(val, pd\u001b[38;5;241m.\u001b[39mSeries):\n",
      "\u001b[0;31mValueError\u001b[0m: Could not interpret value `b` for parameter `x`"
     ]
    }
   ],
   "source": [
    "i[\"create a seaborn relplot to visualise the relationship between bill_depth_mm and bill_length_mm using penguins\"]\n",
    "# i['create a seaborn relplot to visualise the relationship between bill_depth_mm and bill_length_mm for each island using penguins']"
   ]
  },
  {
   "cell_type": "code",
   "execution_count": 4,
   "id": "d4959055-6649-4263-ab9b-b73b10667792",
   "metadata": {},
   "outputs": [
    {
     "data": {
      "text/plain": [
       "['bill_depth_mm', 'bill_length_mm']"
      ]
     },
     "execution_count": 4,
     "metadata": {},
     "output_type": "execute_result"
    }
   ],
   "source": [
    "i.module_args['column']"
   ]
  },
  {
   "cell_type": "code",
   "execution_count": 16,
   "id": "129684da-6646-4285-acd8-29355c3a0d99",
   "metadata": {},
   "outputs": [
    {
     "name": "stdout",
     "output_type": "stream",
     "text": [
      "[note] setting module_args parameters\n",
      "{'hue': 'island'}\n",
      "[note] found relevant global task [srelplot] w/ [0.45] certainty!\n",
      "[note] found sub_task [xy_column] w/ [0.44] certainty!\n"
     ]
    },
    {
     "ename": "ValueError",
     "evalue": "Could not interpret value `b` for parameter `x`",
     "output_type": "error",
     "traceback": [
      "\u001b[0;31m---------------------------------------------------------------------------\u001b[0m",
      "\u001b[0;31mValueError\u001b[0m                                Traceback (most recent call last)",
      "Cell \u001b[0;32mIn[16], line 7\u001b[0m\n\u001b[1;32m      1\u001b[0m \u001b[38;5;124;03m'''\u001b[39;00m\n\u001b[1;32m      2\u001b[0m \n\u001b[1;32m      3\u001b[0m \u001b[38;5;124;03m    Specify columns names for x and y \u001b[39;00m\n\u001b[1;32m      4\u001b[0m \n\u001b[1;32m      5\u001b[0m \u001b[38;5;124;03m'''\u001b[39;00m\n\u001b[0;32m----> 7\u001b[0m \u001b[43mi\u001b[49m\u001b[43m[\u001b[49m\u001b[38;5;124;43m'\u001b[39;49m\u001b[38;5;124;43musing data penguins create a relplot using columns bill_length_mm and bill_depth_mm also set hue as island\u001b[39;49m\u001b[38;5;124;43m'\u001b[39;49m\u001b[43m]\u001b[49m\n",
      "File \u001b[0;32m~/miniconda3/lib/python3.10/site-packages/mllibs/nlpi.py:415\u001b[0m, in \u001b[0;36mnlpi.__getitem__\u001b[0;34m(self, command)\u001b[0m\n\u001b[1;32m    414\u001b[0m \u001b[38;5;28;01mdef\u001b[39;00m \u001b[38;5;21m__getitem__\u001b[39m(\u001b[38;5;28mself\u001b[39m,command:\u001b[38;5;28mstr\u001b[39m):\n\u001b[0;32m--> 415\u001b[0m \t\u001b[38;5;28;43mself\u001b[39;49m\u001b[38;5;241;43m.\u001b[39;49m\u001b[43mquery\u001b[49m\u001b[43m(\u001b[49m\u001b[43mcommand\u001b[49m\u001b[43m,\u001b[49m\u001b[43margs\u001b[49m\u001b[38;5;241;43m=\u001b[39;49m\u001b[38;5;28;43;01mNone\u001b[39;49;00m\u001b[43m)\u001b[49m\n",
      "File \u001b[0;32m~/miniconda3/lib/python3.10/site-packages/mllibs/nlpi.py:418\u001b[0m, in \u001b[0;36mnlpi.query\u001b[0;34m(self, command, args)\u001b[0m\n\u001b[1;32m    417\u001b[0m \u001b[38;5;28;01mdef\u001b[39;00m \u001b[38;5;21mquery\u001b[39m(\u001b[38;5;28mself\u001b[39m,command:\u001b[38;5;28mstr\u001b[39m,args:\u001b[38;5;28mdict\u001b[39m\u001b[38;5;241m=\u001b[39m\u001b[38;5;28;01mNone\u001b[39;00m):                        \n\u001b[0;32m--> 418\u001b[0m \t\u001b[38;5;28;43mself\u001b[39;49m\u001b[38;5;241;43m.\u001b[39;49m\u001b[43mdo\u001b[49m\u001b[43m(\u001b[49m\u001b[43mcommand\u001b[49m\u001b[38;5;241;43m=\u001b[39;49m\u001b[43mcommand\u001b[49m\u001b[43m,\u001b[49m\u001b[43margs\u001b[49m\u001b[38;5;241;43m=\u001b[39;49m\u001b[43margs\u001b[49m\u001b[43m)\u001b[49m\n",
      "File \u001b[0;32m~/miniconda3/lib/python3.10/site-packages/mllibs/nlpi.py:2052\u001b[0m, in \u001b[0;36mnlpi.do\u001b[0;34m(self, command, args)\u001b[0m\n\u001b[1;32m   2049\u001b[0m nlpi\u001b[38;5;241m.\u001b[39mmemory_info \u001b[38;5;241m=\u001b[39m pd\u001b[38;5;241m.\u001b[39mconcat(\u001b[38;5;28mself\u001b[39m\u001b[38;5;241m.\u001b[39mmemory_stack,axis\u001b[38;5;241m=\u001b[39m\u001b[38;5;241m1\u001b[39m) \u001b[38;5;66;03m# stack task information order\u001b[39;00m\n\u001b[1;32m   2051\u001b[0m \u001b[38;5;66;03m# activate function [module_name] & pass [module_args]\u001b[39;00m\n\u001b[0;32m-> 2052\u001b[0m \u001b[38;5;28;43mself\u001b[39;49m\u001b[38;5;241;43m.\u001b[39;49m\u001b[43mmodule\u001b[49m\u001b[38;5;241;43m.\u001b[39;49m\u001b[43mmodules\u001b[49m\u001b[43m[\u001b[49m\u001b[38;5;28;43mself\u001b[39;49m\u001b[38;5;241;43m.\u001b[39;49m\u001b[43mmodule_name\u001b[49m\u001b[43m]\u001b[49m\u001b[38;5;241;43m.\u001b[39;49m\u001b[43msel\u001b[49m\u001b[43m(\u001b[49m\u001b[38;5;28;43mself\u001b[39;49m\u001b[38;5;241;43m.\u001b[39;49m\u001b[43mmodule_args\u001b[49m\u001b[43m)\u001b[49m\n\u001b[1;32m   2054\u001b[0m \u001b[38;5;28;01mif\u001b[39;00m(\u001b[38;5;28mlen\u001b[39m(nlpi\u001b[38;5;241m.\u001b[39mmemory_output) \u001b[38;5;241m==\u001b[39m nlpi\u001b[38;5;241m.\u001b[39miter\u001b[38;5;241m+\u001b[39m\u001b[38;5;241m1\u001b[39m):\n\u001b[1;32m   2055\u001b[0m \t\u001b[38;5;28;01mpass\u001b[39;00m\n",
      "File \u001b[0;32m~/miniconda3/lib/python3.10/site-packages/mllibs/eda/meda_splot.py:167\u001b[0m, in \u001b[0;36meda_splot.sel\u001b[0;34m(self, args)\u001b[0m\n\u001b[1;32m    164\u001b[0m \t\t\t\u001b[38;5;28;01mexcept\u001b[39;00m:\n\u001b[1;32m    165\u001b[0m \t\t\t\t\u001b[38;5;28;01mpass\u001b[39;00m\n\u001b[0;32m--> 167\u001b[0m \t\u001b[38;5;28;43mself\u001b[39;49m\u001b[38;5;241;43m.\u001b[39;49m\u001b[43msrelplot\u001b[49m\u001b[43m(\u001b[49m\u001b[43margs\u001b[49m\u001b[43m)\u001b[49m\n\u001b[1;32m    169\u001b[0m \u001b[38;5;28;01melif\u001b[39;00m(select \u001b[38;5;241m==\u001b[39m \u001b[38;5;124m'\u001b[39m\u001b[38;5;124msboxplot\u001b[39m\u001b[38;5;124m'\u001b[39m):\n\u001b[1;32m    170\u001b[0m \t\u001b[38;5;28mself\u001b[39m\u001b[38;5;241m.\u001b[39msboxplot(args)\n",
      "File \u001b[0;32m~/miniconda3/lib/python3.10/site-packages/mllibs/eda/meda_splot.py:257\u001b[0m, in \u001b[0;36meda_splot.srelplot\u001b[0;34m(self, args)\u001b[0m\n\u001b[1;32m    254\u001b[0m palette \u001b[38;5;241m=\u001b[39m \u001b[38;5;28mself\u001b[39m\u001b[38;5;241m.\u001b[39mset_palette(args)\n\u001b[1;32m    255\u001b[0m \u001b[38;5;28mself\u001b[39m\u001b[38;5;241m.\u001b[39mseaborn_setstyle()\n\u001b[0;32m--> 257\u001b[0m \u001b[43msns\u001b[49m\u001b[38;5;241;43m.\u001b[39;49m\u001b[43mrelplot\u001b[49m\u001b[43m(\u001b[49m\u001b[43mx\u001b[49m\u001b[43m \u001b[49m\u001b[38;5;241;43m=\u001b[39;49m\u001b[43m \u001b[49m\u001b[43margs\u001b[49m\u001b[43m[\u001b[49m\u001b[38;5;124;43m'\u001b[39;49m\u001b[38;5;124;43mx\u001b[39;49m\u001b[38;5;124;43m'\u001b[39;49m\u001b[43m]\u001b[49m\u001b[43m,\u001b[49m\u001b[43m \u001b[49m\n\u001b[1;32m    258\u001b[0m \u001b[43m\t\t\t\u001b[49m\u001b[43my\u001b[49m\u001b[43m \u001b[49m\u001b[38;5;241;43m=\u001b[39;49m\u001b[43m \u001b[49m\u001b[43margs\u001b[49m\u001b[43m[\u001b[49m\u001b[38;5;124;43m'\u001b[39;49m\u001b[38;5;124;43my\u001b[39;49m\u001b[38;5;124;43m'\u001b[39;49m\u001b[43m]\u001b[49m\u001b[43m,\u001b[49m\n\u001b[1;32m    259\u001b[0m \u001b[43m\t\t\t\u001b[49m\u001b[43mcol\u001b[49m\u001b[43m \u001b[49m\u001b[38;5;241;43m=\u001b[39;49m\u001b[43m \u001b[49m\u001b[43margs\u001b[49m\u001b[43m[\u001b[49m\u001b[38;5;124;43m'\u001b[39;49m\u001b[38;5;124;43mcol\u001b[39;49m\u001b[38;5;124;43m'\u001b[39;49m\u001b[43m]\u001b[49m\u001b[43m,\u001b[49m\n\u001b[1;32m    260\u001b[0m \u001b[43m\t\t\t\u001b[49m\u001b[43mrow\u001b[49m\u001b[43m \u001b[49m\u001b[38;5;241;43m=\u001b[39;49m\u001b[43m \u001b[49m\u001b[43margs\u001b[49m\u001b[43m[\u001b[49m\u001b[38;5;124;43m'\u001b[39;49m\u001b[38;5;124;43mrow\u001b[39;49m\u001b[38;5;124;43m'\u001b[39;49m\u001b[43m]\u001b[49m\u001b[43m,\u001b[49m\n\u001b[1;32m    261\u001b[0m \u001b[43m\t\t\t\u001b[49m\u001b[43mhue\u001b[49m\u001b[43m \u001b[49m\u001b[38;5;241;43m=\u001b[39;49m\u001b[43m \u001b[49m\u001b[43margs\u001b[49m\u001b[43m[\u001b[49m\u001b[38;5;124;43m'\u001b[39;49m\u001b[38;5;124;43mhue\u001b[39;49m\u001b[38;5;124;43m'\u001b[39;49m\u001b[43m]\u001b[49m\u001b[43m,\u001b[49m\u001b[43m \u001b[49m\n\u001b[1;32m    262\u001b[0m \u001b[43m\t\t\t\u001b[49m\u001b[43mcol_wrap\u001b[49m\u001b[43m \u001b[49m\u001b[38;5;241;43m=\u001b[39;49m\u001b[43m \u001b[49m\u001b[43margs\u001b[49m\u001b[43m[\u001b[49m\u001b[38;5;124;43m'\u001b[39;49m\u001b[38;5;124;43mcol_wrap\u001b[39;49m\u001b[38;5;124;43m'\u001b[39;49m\u001b[43m]\u001b[49m\u001b[43m,\u001b[49m\n\u001b[1;32m    263\u001b[0m \u001b[43m\t\t\t\u001b[49m\u001b[43mpalette\u001b[49m\u001b[43m \u001b[49m\u001b[38;5;241;43m=\u001b[39;49m\u001b[43m \u001b[49m\u001b[43mpalette\u001b[49m\u001b[43m,\u001b[49m\n\u001b[1;32m    264\u001b[0m \u001b[43m\t\t\t\u001b[49m\u001b[43malpha\u001b[49m\u001b[43m \u001b[49m\u001b[38;5;241;43m=\u001b[39;49m\u001b[43m \u001b[49m\u001b[43margs\u001b[49m\u001b[43m[\u001b[49m\u001b[38;5;124;43m'\u001b[39;49m\u001b[38;5;124;43malpha\u001b[39;49m\u001b[38;5;124;43m'\u001b[39;49m\u001b[43m]\u001b[49m\u001b[43m,\u001b[49m\n\u001b[1;32m    265\u001b[0m \u001b[43m\t\t\t\u001b[49m\u001b[43ms\u001b[49m\u001b[43m \u001b[49m\u001b[38;5;241;43m=\u001b[39;49m\u001b[43m \u001b[49m\u001b[43margs\u001b[49m\u001b[43m[\u001b[49m\u001b[38;5;124;43m'\u001b[39;49m\u001b[38;5;124;43ms\u001b[39;49m\u001b[38;5;124;43m'\u001b[39;49m\u001b[43m]\u001b[49m\u001b[43m,\u001b[49m\n\u001b[1;32m    266\u001b[0m \u001b[43m\t\t\t\u001b[49m\u001b[43mlinewidth\u001b[49m\u001b[43m \u001b[49m\u001b[38;5;241;43m=\u001b[39;49m\u001b[43m \u001b[49m\u001b[43margs\u001b[49m\u001b[43m[\u001b[49m\u001b[38;5;124;43m'\u001b[39;49m\u001b[38;5;124;43mmew\u001b[39;49m\u001b[38;5;124;43m'\u001b[39;49m\u001b[43m]\u001b[49m\u001b[43m,\u001b[49m\n\u001b[1;32m    267\u001b[0m \u001b[43m\t\t\t\u001b[49m\u001b[43medgecolor\u001b[49m\u001b[43m \u001b[49m\u001b[38;5;241;43m=\u001b[39;49m\u001b[43m \u001b[49m\u001b[43margs\u001b[49m\u001b[43m[\u001b[49m\u001b[38;5;124;43m'\u001b[39;49m\u001b[38;5;124;43mmec\u001b[39;49m\u001b[38;5;124;43m'\u001b[39;49m\u001b[43m]\u001b[49m\u001b[43m,\u001b[49m\n\u001b[1;32m    268\u001b[0m \u001b[43m\t\t\t\u001b[49m\u001b[43mdata\u001b[49m\u001b[43m \u001b[49m\u001b[38;5;241;43m=\u001b[39;49m\u001b[43m \u001b[49m\u001b[43margs\u001b[49m\u001b[43m[\u001b[49m\u001b[38;5;124;43m'\u001b[39;49m\u001b[38;5;124;43mdata\u001b[39;49m\u001b[38;5;124;43m'\u001b[39;49m\u001b[43m]\u001b[49m\u001b[43m)\u001b[49m\n\u001b[1;32m    270\u001b[0m sns\u001b[38;5;241m.\u001b[39mdespine(left\u001b[38;5;241m=\u001b[39m\u001b[38;5;28;01mTrue\u001b[39;00m, bottom\u001b[38;5;241m=\u001b[39m\u001b[38;5;28;01mTrue\u001b[39;00m)\n\u001b[1;32m    271\u001b[0m \u001b[38;5;28;01mif\u001b[39;00m(nlpi\u001b[38;5;241m.\u001b[39mpp[\u001b[38;5;124m'\u001b[39m\u001b[38;5;124mtitle\u001b[39m\u001b[38;5;124m'\u001b[39m]):\n",
      "File \u001b[0;32m~/miniconda3/lib/python3.10/site-packages/seaborn/relational.py:862\u001b[0m, in \u001b[0;36mrelplot\u001b[0;34m(data, x, y, hue, size, style, units, row, col, col_wrap, row_order, col_order, palette, hue_order, hue_norm, sizes, size_order, size_norm, markers, dashes, style_order, legend, kind, height, aspect, facet_kws, **kwargs)\u001b[0m\n\u001b[1;32m    859\u001b[0m     kwargs\u001b[38;5;241m.\u001b[39mpop(\u001b[38;5;124m\"\u001b[39m\u001b[38;5;124max\u001b[39m\u001b[38;5;124m\"\u001b[39m)\n\u001b[1;32m    861\u001b[0m \u001b[38;5;66;03m# Use the full dataset to map the semantics\u001b[39;00m\n\u001b[0;32m--> 862\u001b[0m p \u001b[38;5;241m=\u001b[39m \u001b[43mplotter\u001b[49m\u001b[43m(\u001b[49m\n\u001b[1;32m    863\u001b[0m \u001b[43m    \u001b[49m\u001b[43mdata\u001b[49m\u001b[38;5;241;43m=\u001b[39;49m\u001b[43mdata\u001b[49m\u001b[43m,\u001b[49m\n\u001b[1;32m    864\u001b[0m \u001b[43m    \u001b[49m\u001b[43mvariables\u001b[49m\u001b[38;5;241;43m=\u001b[39;49m\u001b[43mplotter\u001b[49m\u001b[38;5;241;43m.\u001b[39;49m\u001b[43mget_semantics\u001b[49m\u001b[43m(\u001b[49m\u001b[38;5;28;43mlocals\u001b[39;49m\u001b[43m(\u001b[49m\u001b[43m)\u001b[49m\u001b[43m)\u001b[49m\u001b[43m,\u001b[49m\n\u001b[1;32m    865\u001b[0m \u001b[43m    \u001b[49m\u001b[43mlegend\u001b[49m\u001b[38;5;241;43m=\u001b[39;49m\u001b[43mlegend\u001b[49m\u001b[43m,\u001b[49m\n\u001b[1;32m    866\u001b[0m \u001b[43m\u001b[49m\u001b[43m)\u001b[49m\n\u001b[1;32m    867\u001b[0m p\u001b[38;5;241m.\u001b[39mmap_hue(palette\u001b[38;5;241m=\u001b[39mpalette, order\u001b[38;5;241m=\u001b[39mhue_order, norm\u001b[38;5;241m=\u001b[39mhue_norm)\n\u001b[1;32m    868\u001b[0m p\u001b[38;5;241m.\u001b[39mmap_size(sizes\u001b[38;5;241m=\u001b[39msizes, order\u001b[38;5;241m=\u001b[39msize_order, norm\u001b[38;5;241m=\u001b[39msize_norm)\n",
      "File \u001b[0;32m~/miniconda3/lib/python3.10/site-packages/seaborn/relational.py:538\u001b[0m, in \u001b[0;36m_ScatterPlotter.__init__\u001b[0;34m(self, data, variables, legend)\u001b[0m\n\u001b[1;32m    529\u001b[0m \u001b[38;5;28;01mdef\u001b[39;00m \u001b[38;5;21m__init__\u001b[39m(\u001b[38;5;28mself\u001b[39m, \u001b[38;5;241m*\u001b[39m, data\u001b[38;5;241m=\u001b[39m\u001b[38;5;28;01mNone\u001b[39;00m, variables\u001b[38;5;241m=\u001b[39m{}, legend\u001b[38;5;241m=\u001b[39m\u001b[38;5;28;01mNone\u001b[39;00m):\n\u001b[1;32m    530\u001b[0m \n\u001b[1;32m    531\u001b[0m     \u001b[38;5;66;03m# TODO this is messy, we want the mapping to be agnostic about\u001b[39;00m\n\u001b[1;32m    532\u001b[0m     \u001b[38;5;66;03m# the kind of plot to draw, but for the time being we need to set\u001b[39;00m\n\u001b[1;32m    533\u001b[0m     \u001b[38;5;66;03m# this information so the SizeMapping can use it\u001b[39;00m\n\u001b[1;32m    534\u001b[0m     \u001b[38;5;28mself\u001b[39m\u001b[38;5;241m.\u001b[39m_default_size_range \u001b[38;5;241m=\u001b[39m (\n\u001b[1;32m    535\u001b[0m         np\u001b[38;5;241m.\u001b[39mr_[\u001b[38;5;241m.5\u001b[39m, \u001b[38;5;241m2\u001b[39m] \u001b[38;5;241m*\u001b[39m np\u001b[38;5;241m.\u001b[39msquare(mpl\u001b[38;5;241m.\u001b[39mrcParams[\u001b[38;5;124m\"\u001b[39m\u001b[38;5;124mlines.markersize\u001b[39m\u001b[38;5;124m\"\u001b[39m])\n\u001b[1;32m    536\u001b[0m     )\n\u001b[0;32m--> 538\u001b[0m     \u001b[38;5;28;43msuper\u001b[39;49m\u001b[43m(\u001b[49m\u001b[43m)\u001b[49m\u001b[38;5;241;43m.\u001b[39;49m\u001b[38;5;21;43m__init__\u001b[39;49m\u001b[43m(\u001b[49m\u001b[43mdata\u001b[49m\u001b[38;5;241;43m=\u001b[39;49m\u001b[43mdata\u001b[49m\u001b[43m,\u001b[49m\u001b[43m \u001b[49m\u001b[43mvariables\u001b[49m\u001b[38;5;241;43m=\u001b[39;49m\u001b[43mvariables\u001b[49m\u001b[43m)\u001b[49m\n\u001b[1;32m    540\u001b[0m     \u001b[38;5;28mself\u001b[39m\u001b[38;5;241m.\u001b[39mlegend \u001b[38;5;241m=\u001b[39m legend\n",
      "File \u001b[0;32m~/miniconda3/lib/python3.10/site-packages/seaborn/_oldcore.py:640\u001b[0m, in \u001b[0;36mVectorPlotter.__init__\u001b[0;34m(self, data, variables)\u001b[0m\n\u001b[1;32m    635\u001b[0m \u001b[38;5;66;03m# var_ordered is relevant only for categorical axis variables, and may\u001b[39;00m\n\u001b[1;32m    636\u001b[0m \u001b[38;5;66;03m# be better handled by an internal axis information object that tracks\u001b[39;00m\n\u001b[1;32m    637\u001b[0m \u001b[38;5;66;03m# such information and is set up by the scale_* methods. The analogous\u001b[39;00m\n\u001b[1;32m    638\u001b[0m \u001b[38;5;66;03m# information for numeric axes would be information about log scales.\u001b[39;00m\n\u001b[1;32m    639\u001b[0m \u001b[38;5;28mself\u001b[39m\u001b[38;5;241m.\u001b[39m_var_ordered \u001b[38;5;241m=\u001b[39m {\u001b[38;5;124m\"\u001b[39m\u001b[38;5;124mx\u001b[39m\u001b[38;5;124m\"\u001b[39m: \u001b[38;5;28;01mFalse\u001b[39;00m, \u001b[38;5;124m\"\u001b[39m\u001b[38;5;124my\u001b[39m\u001b[38;5;124m\"\u001b[39m: \u001b[38;5;28;01mFalse\u001b[39;00m}  \u001b[38;5;66;03m# alt., used DefaultDict\u001b[39;00m\n\u001b[0;32m--> 640\u001b[0m \u001b[38;5;28;43mself\u001b[39;49m\u001b[38;5;241;43m.\u001b[39;49m\u001b[43massign_variables\u001b[49m\u001b[43m(\u001b[49m\u001b[43mdata\u001b[49m\u001b[43m,\u001b[49m\u001b[43m \u001b[49m\u001b[43mvariables\u001b[49m\u001b[43m)\u001b[49m\n\u001b[1;32m    642\u001b[0m \u001b[38;5;28;01mfor\u001b[39;00m var, \u001b[38;5;28mcls\u001b[39m \u001b[38;5;129;01min\u001b[39;00m \u001b[38;5;28mself\u001b[39m\u001b[38;5;241m.\u001b[39m_semantic_mappings\u001b[38;5;241m.\u001b[39mitems():\n\u001b[1;32m    643\u001b[0m \n\u001b[1;32m    644\u001b[0m     \u001b[38;5;66;03m# Create the mapping function\u001b[39;00m\n\u001b[1;32m    645\u001b[0m     map_func \u001b[38;5;241m=\u001b[39m partial(\u001b[38;5;28mcls\u001b[39m\u001b[38;5;241m.\u001b[39mmap, plotter\u001b[38;5;241m=\u001b[39m\u001b[38;5;28mself\u001b[39m)\n",
      "File \u001b[0;32m~/miniconda3/lib/python3.10/site-packages/seaborn/_oldcore.py:701\u001b[0m, in \u001b[0;36mVectorPlotter.assign_variables\u001b[0;34m(self, data, variables)\u001b[0m\n\u001b[1;32m    699\u001b[0m \u001b[38;5;28;01melse\u001b[39;00m:\n\u001b[1;32m    700\u001b[0m     \u001b[38;5;28mself\u001b[39m\u001b[38;5;241m.\u001b[39minput_format \u001b[38;5;241m=\u001b[39m \u001b[38;5;124m\"\u001b[39m\u001b[38;5;124mlong\u001b[39m\u001b[38;5;124m\"\u001b[39m\n\u001b[0;32m--> 701\u001b[0m     plot_data, variables \u001b[38;5;241m=\u001b[39m \u001b[38;5;28;43mself\u001b[39;49m\u001b[38;5;241;43m.\u001b[39;49m\u001b[43m_assign_variables_longform\u001b[49m\u001b[43m(\u001b[49m\n\u001b[1;32m    702\u001b[0m \u001b[43m        \u001b[49m\u001b[43mdata\u001b[49m\u001b[43m,\u001b[49m\u001b[43m \u001b[49m\u001b[38;5;241;43m*\u001b[39;49m\u001b[38;5;241;43m*\u001b[39;49m\u001b[43mvariables\u001b[49m\u001b[43m,\u001b[49m\n\u001b[1;32m    703\u001b[0m \u001b[43m    \u001b[49m\u001b[43m)\u001b[49m\n\u001b[1;32m    705\u001b[0m \u001b[38;5;28mself\u001b[39m\u001b[38;5;241m.\u001b[39mplot_data \u001b[38;5;241m=\u001b[39m plot_data\n\u001b[1;32m    706\u001b[0m \u001b[38;5;28mself\u001b[39m\u001b[38;5;241m.\u001b[39mvariables \u001b[38;5;241m=\u001b[39m variables\n",
      "File \u001b[0;32m~/miniconda3/lib/python3.10/site-packages/seaborn/_oldcore.py:938\u001b[0m, in \u001b[0;36mVectorPlotter._assign_variables_longform\u001b[0;34m(self, data, **kwargs)\u001b[0m\n\u001b[1;32m    933\u001b[0m \u001b[38;5;28;01melif\u001b[39;00m \u001b[38;5;28misinstance\u001b[39m(val, (\u001b[38;5;28mstr\u001b[39m, \u001b[38;5;28mbytes\u001b[39m)):\n\u001b[1;32m    934\u001b[0m \n\u001b[1;32m    935\u001b[0m     \u001b[38;5;66;03m# This looks like a column name but we don't know what it means!\u001b[39;00m\n\u001b[1;32m    937\u001b[0m     err \u001b[38;5;241m=\u001b[39m \u001b[38;5;124mf\u001b[39m\u001b[38;5;124m\"\u001b[39m\u001b[38;5;124mCould not interpret value `\u001b[39m\u001b[38;5;132;01m{\u001b[39;00mval\u001b[38;5;132;01m}\u001b[39;00m\u001b[38;5;124m` for parameter `\u001b[39m\u001b[38;5;132;01m{\u001b[39;00mkey\u001b[38;5;132;01m}\u001b[39;00m\u001b[38;5;124m`\u001b[39m\u001b[38;5;124m\"\u001b[39m\n\u001b[0;32m--> 938\u001b[0m     \u001b[38;5;28;01mraise\u001b[39;00m \u001b[38;5;167;01mValueError\u001b[39;00m(err)\n\u001b[1;32m    940\u001b[0m \u001b[38;5;28;01melse\u001b[39;00m:\n\u001b[1;32m    941\u001b[0m \n\u001b[1;32m    942\u001b[0m     \u001b[38;5;66;03m# Otherwise, assume the value is itself data\u001b[39;00m\n\u001b[1;32m    943\u001b[0m \n\u001b[1;32m    944\u001b[0m     \u001b[38;5;66;03m# Raise when data object is present and a vector can't matched\u001b[39;00m\n\u001b[1;32m    945\u001b[0m     \u001b[38;5;28;01mif\u001b[39;00m \u001b[38;5;28misinstance\u001b[39m(data, pd\u001b[38;5;241m.\u001b[39mDataFrame) \u001b[38;5;129;01mand\u001b[39;00m \u001b[38;5;129;01mnot\u001b[39;00m \u001b[38;5;28misinstance\u001b[39m(val, pd\u001b[38;5;241m.\u001b[39mSeries):\n",
      "\u001b[0;31mValueError\u001b[0m: Could not interpret value `b` for parameter `x`"
     ]
    }
   ],
   "source": [
    "'''\n",
    "\n",
    "    Specify columns names for x and y \n",
    "\n",
    "'''\n",
    "\n",
    "i['using data penguins create a relplot using columns bill_length_mm and bill_depth_mm also set hue as island']"
   ]
  },
  {
   "cell_type": "code",
   "execution_count": 27,
   "id": "16e3d399-c485-4da6-912a-9ea4c64f9583",
   "metadata": {},
   "outputs": [
    {
     "name": "stdout",
     "output_type": "stream",
     "text": [
      "[note] setting module_args parameters\n",
      "{'hue': 'island'}\n",
      "[note] found relevant global task [srelplot] w/ [0.44] certainty!\n",
      "[note] found sub_task [xy_column] w/ [0.65] certainty!\n"
     ]
    },
    {
     "data": {
      "image/png": "[encoded data removed]",
      "text/plain": [
       "<Figure size 611.875x500 with 1 Axes>"
      ]
     },
     "metadata": {},
     "output_type": "display_data"
    }
   ],
   "source": [
    "'''\n",
    "\n",
    "    Specify columns names for x and y ( + utilise active column name )\n",
    "\n",
    "'''\n",
    "\n",
    "i.store_ac('penguins','selected_columns',['bill_length_mm','bill_depth_mm'])\n",
    "i['using data penguins create a relplot using columns selected_columns set hue as island']"
   ]
  },
  {
   "cell_type": "code",
   "execution_count": 28,
   "id": "dcb77341-16b6-4a41-bca7-62027969e630",
   "metadata": {},
   "outputs": [
    {
     "data": {
      "text/plain": [
       "[['bill_length_mm', 'bill_depth_mm']]"
      ]
     },
     "execution_count": 28,
     "metadata": {},
     "output_type": "execute_result"
    }
   ],
   "source": [
    "i.module_args['column']"
   ]
  },
  {
   "cell_type": "code",
   "execution_count": 6,
   "id": "271856c4-c628-4ace-aba2-89b2e266aca8",
   "metadata": {},
   "outputs": [
    {
     "name": "stdout",
     "output_type": "stream",
     "text": [
      "\n",
      "##################################################################\n",
      "\n",
      "[note] extracting parameters from input request!\n",
      "\n",
      "[note] input request:\n",
      "using data penguins create a relplot using columns\n",
      "selected_columns set hue island\n",
      "\n",
      "[note] data sources have been found\n",
      "{'data': 'penguins'}\n",
      "[note] parameters found!\n",
      "[note] setting module_args parameters\n",
      "{'hue': 'island'}\n",
      "\n",
      "[note] filtered request:\n",
      "using data -data create a relplot using columns selected_columns set ~hue -column\n",
      "\n",
      "##################################################################\n",
      "\n",
      "[note] found relevant global task [srelplot] w/ [0.28] certainty!\n"
     ]
    },
    {
     "ename": "ValueError",
     "evalue": "The following variable cannot be assigned with wide-form data: `hue`",
     "output_type": "error",
     "traceback": [
      "\u001b[0;31m---------------------------------------------------------------------------\u001b[0m",
      "\u001b[0;31mValueError\u001b[0m                                Traceback (most recent call last)",
      "Cell \u001b[0;32mIn[6], line 5\u001b[0m\n\u001b[1;32m      1\u001b[0m \u001b[38;5;66;03m# i['show a dataset preview for data iris']\u001b[39;00m\n\u001b[1;32m      2\u001b[0m \u001b[38;5;66;03m# i['what columns are available in data penguins']\u001b[39;00m\n\u001b[1;32m      3\u001b[0m \u001b[38;5;66;03m# i['show me all the available data names']\u001b[39;00m\n\u001b[1;32m      4\u001b[0m \u001b[38;5;66;03m# i['using data penguins create a relplot using columns bill_length_mm and flipper_length_mm']\u001b[39;00m\n\u001b[0;32m----> 5\u001b[0m \u001b[43mi\u001b[49m\u001b[43m[\u001b[49m\u001b[38;5;124;43m'\u001b[39;49m\u001b[38;5;124;43musing data penguins create a relplot using columns selected_columns set hue as island\u001b[39;49m\u001b[38;5;124;43m'\u001b[39;49m\u001b[43m]\u001b[49m\n\u001b[1;32m      7\u001b[0m \u001b[38;5;66;03m# i['what data is available to me']\u001b[39;00m\n\u001b[1;32m      8\u001b[0m \u001b[38;5;66;03m# i.setpp({'figsize':[500,900],'template':'plotly_white','title':None})\u001b[39;00m\n\u001b[1;32m      9\u001b[0m \u001b[38;5;66;03m# nlpi.silent = False\u001b[39;00m\n\u001b[0;32m   (...)\u001b[0m\n\u001b[1;32m     58\u001b[0m \u001b[38;5;66;03m# i['does the data titanic contain missing data']\u001b[39;00m\n\u001b[1;32m     59\u001b[0m \u001b[38;5;66;03m# i['show a dataframe preview of data titanic']\u001b[39;00m\n",
      "File \u001b[0;32m~/miniconda3/lib/python3.10/site-packages/mllibs/nlpi.py:410\u001b[0m, in \u001b[0;36mnlpi.__getitem__\u001b[0;34m(self, command)\u001b[0m\n\u001b[1;32m    409\u001b[0m \u001b[38;5;28;01mdef\u001b[39;00m \u001b[38;5;21m__getitem__\u001b[39m(\u001b[38;5;28mself\u001b[39m,command:\u001b[38;5;28mstr\u001b[39m):\n\u001b[0;32m--> 410\u001b[0m     \u001b[38;5;28;43mself\u001b[39;49m\u001b[38;5;241;43m.\u001b[39;49m\u001b[43mquery\u001b[49m\u001b[43m(\u001b[49m\u001b[43mcommand\u001b[49m\u001b[43m,\u001b[49m\u001b[43margs\u001b[49m\u001b[38;5;241;43m=\u001b[39;49m\u001b[38;5;28;43;01mNone\u001b[39;49;00m\u001b[43m)\u001b[49m\n",
      "File \u001b[0;32m~/miniconda3/lib/python3.10/site-packages/mllibs/nlpi.py:413\u001b[0m, in \u001b[0;36mnlpi.query\u001b[0;34m(self, command, args)\u001b[0m\n\u001b[1;32m    412\u001b[0m \u001b[38;5;28;01mdef\u001b[39;00m \u001b[38;5;21mquery\u001b[39m(\u001b[38;5;28mself\u001b[39m,command:\u001b[38;5;28mstr\u001b[39m,args:\u001b[38;5;28mdict\u001b[39m\u001b[38;5;241m=\u001b[39m\u001b[38;5;28;01mNone\u001b[39;00m):                        \n\u001b[0;32m--> 413\u001b[0m     \u001b[38;5;28;43mself\u001b[39;49m\u001b[38;5;241;43m.\u001b[39;49m\u001b[43mdo\u001b[49m\u001b[43m(\u001b[49m\u001b[43mcommand\u001b[49m\u001b[38;5;241;43m=\u001b[39;49m\u001b[43mcommand\u001b[49m\u001b[43m,\u001b[49m\u001b[43margs\u001b[49m\u001b[38;5;241;43m=\u001b[39;49m\u001b[43margs\u001b[49m\u001b[43m)\u001b[49m\n",
      "File \u001b[0;32m~/miniconda3/lib/python3.10/site-packages/mllibs/nlpi.py:2013\u001b[0m, in \u001b[0;36mnlpi.do\u001b[0;34m(self, command, args)\u001b[0m\n\u001b[1;32m   2010\u001b[0m nlpi\u001b[38;5;241m.\u001b[39mmemory_info \u001b[38;5;241m=\u001b[39m pd\u001b[38;5;241m.\u001b[39mconcat(\u001b[38;5;28mself\u001b[39m\u001b[38;5;241m.\u001b[39mmemory_stack,axis\u001b[38;5;241m=\u001b[39m\u001b[38;5;241m1\u001b[39m) \u001b[38;5;66;03m# stack task information order\u001b[39;00m\n\u001b[1;32m   2012\u001b[0m \u001b[38;5;66;03m# activate function [module_name] & pass [module_args]\u001b[39;00m\n\u001b[0;32m-> 2013\u001b[0m \u001b[38;5;28;43mself\u001b[39;49m\u001b[38;5;241;43m.\u001b[39;49m\u001b[43mmodule\u001b[49m\u001b[38;5;241;43m.\u001b[39;49m\u001b[43mmodules\u001b[49m\u001b[43m[\u001b[49m\u001b[38;5;28;43mself\u001b[39;49m\u001b[38;5;241;43m.\u001b[39;49m\u001b[43mmodule_name\u001b[49m\u001b[43m]\u001b[49m\u001b[38;5;241;43m.\u001b[39;49m\u001b[43msel\u001b[49m\u001b[43m(\u001b[49m\u001b[38;5;28;43mself\u001b[39;49m\u001b[38;5;241;43m.\u001b[39;49m\u001b[43mmodule_args\u001b[49m\u001b[43m)\u001b[49m\n\u001b[1;32m   2015\u001b[0m \u001b[38;5;28;01mif\u001b[39;00m(\u001b[38;5;28mlen\u001b[39m(nlpi\u001b[38;5;241m.\u001b[39mmemory_output) \u001b[38;5;241m==\u001b[39m nlpi\u001b[38;5;241m.\u001b[39miter\u001b[38;5;241m+\u001b[39m\u001b[38;5;241m1\u001b[39m):\n\u001b[1;32m   2016\u001b[0m     \u001b[38;5;28;01mpass\u001b[39;00m\n",
      "File \u001b[0;32m~/miniconda3/lib/python3.10/site-packages/mllibs/eda/meda_splot.py:142\u001b[0m, in \u001b[0;36meda_splot.sel\u001b[0;34m(self, args)\u001b[0m\n\u001b[1;32m    139\u001b[0m       \u001b[38;5;28;01mexcept\u001b[39;00m:\n\u001b[1;32m    140\u001b[0m         \u001b[38;5;28;01mpass\u001b[39;00m\n\u001b[0;32m--> 142\u001b[0m     \u001b[38;5;28;43mself\u001b[39;49m\u001b[38;5;241;43m.\u001b[39;49m\u001b[43msrelplot\u001b[49m\u001b[43m(\u001b[49m\u001b[43margs\u001b[49m\u001b[43m)\u001b[49m\n\u001b[1;32m    144\u001b[0m \u001b[38;5;28;01melif\u001b[39;00m(select \u001b[38;5;241m==\u001b[39m \u001b[38;5;124m'\u001b[39m\u001b[38;5;124msboxplot\u001b[39m\u001b[38;5;124m'\u001b[39m):\n\u001b[1;32m    145\u001b[0m     \u001b[38;5;28mself\u001b[39m\u001b[38;5;241m.\u001b[39msboxplot(args)\n",
      "File \u001b[0;32m~/miniconda3/lib/python3.10/site-packages/mllibs/eda/meda_splot.py:232\u001b[0m, in \u001b[0;36meda_splot.srelplot\u001b[0;34m(self, args)\u001b[0m\n\u001b[1;32m    229\u001b[0m palette \u001b[38;5;241m=\u001b[39m \u001b[38;5;28mself\u001b[39m\u001b[38;5;241m.\u001b[39mset_palette(args)\n\u001b[1;32m    230\u001b[0m \u001b[38;5;28mself\u001b[39m\u001b[38;5;241m.\u001b[39mseaborn_setstyle()\n\u001b[0;32m--> 232\u001b[0m \u001b[43msns\u001b[49m\u001b[38;5;241;43m.\u001b[39;49m\u001b[43mrelplot\u001b[49m\u001b[43m(\u001b[49m\u001b[43mx\u001b[49m\u001b[43m \u001b[49m\u001b[38;5;241;43m=\u001b[39;49m\u001b[43m \u001b[49m\u001b[43margs\u001b[49m\u001b[43m[\u001b[49m\u001b[38;5;124;43m'\u001b[39;49m\u001b[38;5;124;43mx\u001b[39;49m\u001b[38;5;124;43m'\u001b[39;49m\u001b[43m]\u001b[49m\u001b[43m,\u001b[49m\u001b[43m \u001b[49m\n\u001b[1;32m    233\u001b[0m \u001b[43m            \u001b[49m\u001b[43my\u001b[49m\u001b[43m \u001b[49m\u001b[38;5;241;43m=\u001b[39;49m\u001b[43m \u001b[49m\u001b[43margs\u001b[49m\u001b[43m[\u001b[49m\u001b[38;5;124;43m'\u001b[39;49m\u001b[38;5;124;43my\u001b[39;49m\u001b[38;5;124;43m'\u001b[39;49m\u001b[43m]\u001b[49m\u001b[43m,\u001b[49m\n\u001b[1;32m    234\u001b[0m \u001b[43m            \u001b[49m\u001b[43mcol\u001b[49m\u001b[43m \u001b[49m\u001b[38;5;241;43m=\u001b[39;49m\u001b[43m \u001b[49m\u001b[43margs\u001b[49m\u001b[43m[\u001b[49m\u001b[38;5;124;43m'\u001b[39;49m\u001b[38;5;124;43mcol\u001b[39;49m\u001b[38;5;124;43m'\u001b[39;49m\u001b[43m]\u001b[49m\u001b[43m,\u001b[49m\n\u001b[1;32m    235\u001b[0m \u001b[43m            \u001b[49m\u001b[43mrow\u001b[49m\u001b[43m \u001b[49m\u001b[38;5;241;43m=\u001b[39;49m\u001b[43m \u001b[49m\u001b[43margs\u001b[49m\u001b[43m[\u001b[49m\u001b[38;5;124;43m'\u001b[39;49m\u001b[38;5;124;43mrow\u001b[39;49m\u001b[38;5;124;43m'\u001b[39;49m\u001b[43m]\u001b[49m\u001b[43m,\u001b[49m\n\u001b[1;32m    236\u001b[0m \u001b[43m            \u001b[49m\u001b[43mhue\u001b[49m\u001b[43m \u001b[49m\u001b[38;5;241;43m=\u001b[39;49m\u001b[43m \u001b[49m\u001b[43margs\u001b[49m\u001b[43m[\u001b[49m\u001b[38;5;124;43m'\u001b[39;49m\u001b[38;5;124;43mhue\u001b[39;49m\u001b[38;5;124;43m'\u001b[39;49m\u001b[43m]\u001b[49m\u001b[43m,\u001b[49m\u001b[43m \u001b[49m\n\u001b[1;32m    237\u001b[0m \u001b[43m            \u001b[49m\u001b[43mcol_wrap\u001b[49m\u001b[43m \u001b[49m\u001b[38;5;241;43m=\u001b[39;49m\u001b[43m \u001b[49m\u001b[43margs\u001b[49m\u001b[43m[\u001b[49m\u001b[38;5;124;43m'\u001b[39;49m\u001b[38;5;124;43mcol_wrap\u001b[39;49m\u001b[38;5;124;43m'\u001b[39;49m\u001b[43m]\u001b[49m\u001b[43m,\u001b[49m\n\u001b[1;32m    238\u001b[0m \u001b[43m            \u001b[49m\u001b[43mpalette\u001b[49m\u001b[43m \u001b[49m\u001b[38;5;241;43m=\u001b[39;49m\u001b[43m \u001b[49m\u001b[43mpalette\u001b[49m\u001b[43m,\u001b[49m\n\u001b[1;32m    239\u001b[0m \u001b[43m            \u001b[49m\u001b[43malpha\u001b[49m\u001b[43m \u001b[49m\u001b[38;5;241;43m=\u001b[39;49m\u001b[43m \u001b[49m\u001b[43margs\u001b[49m\u001b[43m[\u001b[49m\u001b[38;5;124;43m'\u001b[39;49m\u001b[38;5;124;43malpha\u001b[39;49m\u001b[38;5;124;43m'\u001b[39;49m\u001b[43m]\u001b[49m\u001b[43m,\u001b[49m\n\u001b[1;32m    240\u001b[0m \u001b[43m            \u001b[49m\u001b[43ms\u001b[49m\u001b[43m \u001b[49m\u001b[38;5;241;43m=\u001b[39;49m\u001b[43m \u001b[49m\u001b[43margs\u001b[49m\u001b[43m[\u001b[49m\u001b[38;5;124;43m'\u001b[39;49m\u001b[38;5;124;43ms\u001b[39;49m\u001b[38;5;124;43m'\u001b[39;49m\u001b[43m]\u001b[49m\u001b[43m,\u001b[49m\n\u001b[1;32m    241\u001b[0m \u001b[43m            \u001b[49m\u001b[43mlinewidth\u001b[49m\u001b[43m \u001b[49m\u001b[38;5;241;43m=\u001b[39;49m\u001b[43m \u001b[49m\u001b[43margs\u001b[49m\u001b[43m[\u001b[49m\u001b[38;5;124;43m'\u001b[39;49m\u001b[38;5;124;43mmew\u001b[39;49m\u001b[38;5;124;43m'\u001b[39;49m\u001b[43m]\u001b[49m\u001b[43m,\u001b[49m\n\u001b[1;32m    242\u001b[0m \u001b[43m            \u001b[49m\u001b[43medgecolor\u001b[49m\u001b[43m \u001b[49m\u001b[38;5;241;43m=\u001b[39;49m\u001b[43m \u001b[49m\u001b[43margs\u001b[49m\u001b[43m[\u001b[49m\u001b[38;5;124;43m'\u001b[39;49m\u001b[38;5;124;43mmec\u001b[39;49m\u001b[38;5;124;43m'\u001b[39;49m\u001b[43m]\u001b[49m\u001b[43m,\u001b[49m\n\u001b[1;32m    243\u001b[0m \u001b[43m            \u001b[49m\u001b[43mdata\u001b[49m\u001b[43m \u001b[49m\u001b[38;5;241;43m=\u001b[39;49m\u001b[43m \u001b[49m\u001b[43margs\u001b[49m\u001b[43m[\u001b[49m\u001b[38;5;124;43m'\u001b[39;49m\u001b[38;5;124;43mdata\u001b[39;49m\u001b[38;5;124;43m'\u001b[39;49m\u001b[43m]\u001b[49m\u001b[43m)\u001b[49m\n\u001b[1;32m    245\u001b[0m sns\u001b[38;5;241m.\u001b[39mdespine(left\u001b[38;5;241m=\u001b[39m\u001b[38;5;28;01mTrue\u001b[39;00m, bottom\u001b[38;5;241m=\u001b[39m\u001b[38;5;28;01mTrue\u001b[39;00m)\n\u001b[1;32m    246\u001b[0m \u001b[38;5;28;01mif\u001b[39;00m(nlpi\u001b[38;5;241m.\u001b[39mpp[\u001b[38;5;124m'\u001b[39m\u001b[38;5;124mtitle\u001b[39m\u001b[38;5;124m'\u001b[39m]):\n",
      "File \u001b[0;32m~/miniconda3/lib/python3.10/site-packages/seaborn/relational.py:862\u001b[0m, in \u001b[0;36mrelplot\u001b[0;34m(data, x, y, hue, size, style, units, row, col, col_wrap, row_order, col_order, palette, hue_order, hue_norm, sizes, size_order, size_norm, markers, dashes, style_order, legend, kind, height, aspect, facet_kws, **kwargs)\u001b[0m\n\u001b[1;32m    859\u001b[0m     kwargs\u001b[38;5;241m.\u001b[39mpop(\u001b[38;5;124m\"\u001b[39m\u001b[38;5;124max\u001b[39m\u001b[38;5;124m\"\u001b[39m)\n\u001b[1;32m    861\u001b[0m \u001b[38;5;66;03m# Use the full dataset to map the semantics\u001b[39;00m\n\u001b[0;32m--> 862\u001b[0m p \u001b[38;5;241m=\u001b[39m \u001b[43mplotter\u001b[49m\u001b[43m(\u001b[49m\n\u001b[1;32m    863\u001b[0m \u001b[43m    \u001b[49m\u001b[43mdata\u001b[49m\u001b[38;5;241;43m=\u001b[39;49m\u001b[43mdata\u001b[49m\u001b[43m,\u001b[49m\n\u001b[1;32m    864\u001b[0m \u001b[43m    \u001b[49m\u001b[43mvariables\u001b[49m\u001b[38;5;241;43m=\u001b[39;49m\u001b[43mplotter\u001b[49m\u001b[38;5;241;43m.\u001b[39;49m\u001b[43mget_semantics\u001b[49m\u001b[43m(\u001b[49m\u001b[38;5;28;43mlocals\u001b[39;49m\u001b[43m(\u001b[49m\u001b[43m)\u001b[49m\u001b[43m)\u001b[49m\u001b[43m,\u001b[49m\n\u001b[1;32m    865\u001b[0m \u001b[43m    \u001b[49m\u001b[43mlegend\u001b[49m\u001b[38;5;241;43m=\u001b[39;49m\u001b[43mlegend\u001b[49m\u001b[43m,\u001b[49m\n\u001b[1;32m    866\u001b[0m \u001b[43m\u001b[49m\u001b[43m)\u001b[49m\n\u001b[1;32m    867\u001b[0m p\u001b[38;5;241m.\u001b[39mmap_hue(palette\u001b[38;5;241m=\u001b[39mpalette, order\u001b[38;5;241m=\u001b[39mhue_order, norm\u001b[38;5;241m=\u001b[39mhue_norm)\n\u001b[1;32m    868\u001b[0m p\u001b[38;5;241m.\u001b[39mmap_size(sizes\u001b[38;5;241m=\u001b[39msizes, order\u001b[38;5;241m=\u001b[39msize_order, norm\u001b[38;5;241m=\u001b[39msize_norm)\n",
      "File \u001b[0;32m~/miniconda3/lib/python3.10/site-packages/seaborn/relational.py:538\u001b[0m, in \u001b[0;36m_ScatterPlotter.__init__\u001b[0;34m(self, data, variables, legend)\u001b[0m\n\u001b[1;32m    529\u001b[0m \u001b[38;5;28;01mdef\u001b[39;00m \u001b[38;5;21m__init__\u001b[39m(\u001b[38;5;28mself\u001b[39m, \u001b[38;5;241m*\u001b[39m, data\u001b[38;5;241m=\u001b[39m\u001b[38;5;28;01mNone\u001b[39;00m, variables\u001b[38;5;241m=\u001b[39m{}, legend\u001b[38;5;241m=\u001b[39m\u001b[38;5;28;01mNone\u001b[39;00m):\n\u001b[1;32m    530\u001b[0m \n\u001b[1;32m    531\u001b[0m     \u001b[38;5;66;03m# TODO this is messy, we want the mapping to be agnostic about\u001b[39;00m\n\u001b[1;32m    532\u001b[0m     \u001b[38;5;66;03m# the kind of plot to draw, but for the time being we need to set\u001b[39;00m\n\u001b[1;32m    533\u001b[0m     \u001b[38;5;66;03m# this information so the SizeMapping can use it\u001b[39;00m\n\u001b[1;32m    534\u001b[0m     \u001b[38;5;28mself\u001b[39m\u001b[38;5;241m.\u001b[39m_default_size_range \u001b[38;5;241m=\u001b[39m (\n\u001b[1;32m    535\u001b[0m         np\u001b[38;5;241m.\u001b[39mr_[\u001b[38;5;241m.5\u001b[39m, \u001b[38;5;241m2\u001b[39m] \u001b[38;5;241m*\u001b[39m np\u001b[38;5;241m.\u001b[39msquare(mpl\u001b[38;5;241m.\u001b[39mrcParams[\u001b[38;5;124m\"\u001b[39m\u001b[38;5;124mlines.markersize\u001b[39m\u001b[38;5;124m\"\u001b[39m])\n\u001b[1;32m    536\u001b[0m     )\n\u001b[0;32m--> 538\u001b[0m     \u001b[38;5;28;43msuper\u001b[39;49m\u001b[43m(\u001b[49m\u001b[43m)\u001b[49m\u001b[38;5;241;43m.\u001b[39;49m\u001b[38;5;21;43m__init__\u001b[39;49m\u001b[43m(\u001b[49m\u001b[43mdata\u001b[49m\u001b[38;5;241;43m=\u001b[39;49m\u001b[43mdata\u001b[49m\u001b[43m,\u001b[49m\u001b[43m \u001b[49m\u001b[43mvariables\u001b[49m\u001b[38;5;241;43m=\u001b[39;49m\u001b[43mvariables\u001b[49m\u001b[43m)\u001b[49m\n\u001b[1;32m    540\u001b[0m     \u001b[38;5;28mself\u001b[39m\u001b[38;5;241m.\u001b[39mlegend \u001b[38;5;241m=\u001b[39m legend\n",
      "File \u001b[0;32m~/miniconda3/lib/python3.10/site-packages/seaborn/_oldcore.py:640\u001b[0m, in \u001b[0;36mVectorPlotter.__init__\u001b[0;34m(self, data, variables)\u001b[0m\n\u001b[1;32m    635\u001b[0m \u001b[38;5;66;03m# var_ordered is relevant only for categorical axis variables, and may\u001b[39;00m\n\u001b[1;32m    636\u001b[0m \u001b[38;5;66;03m# be better handled by an internal axis information object that tracks\u001b[39;00m\n\u001b[1;32m    637\u001b[0m \u001b[38;5;66;03m# such information and is set up by the scale_* methods. The analogous\u001b[39;00m\n\u001b[1;32m    638\u001b[0m \u001b[38;5;66;03m# information for numeric axes would be information about log scales.\u001b[39;00m\n\u001b[1;32m    639\u001b[0m \u001b[38;5;28mself\u001b[39m\u001b[38;5;241m.\u001b[39m_var_ordered \u001b[38;5;241m=\u001b[39m {\u001b[38;5;124m\"\u001b[39m\u001b[38;5;124mx\u001b[39m\u001b[38;5;124m\"\u001b[39m: \u001b[38;5;28;01mFalse\u001b[39;00m, \u001b[38;5;124m\"\u001b[39m\u001b[38;5;124my\u001b[39m\u001b[38;5;124m\"\u001b[39m: \u001b[38;5;28;01mFalse\u001b[39;00m}  \u001b[38;5;66;03m# alt., used DefaultDict\u001b[39;00m\n\u001b[0;32m--> 640\u001b[0m \u001b[38;5;28;43mself\u001b[39;49m\u001b[38;5;241;43m.\u001b[39;49m\u001b[43massign_variables\u001b[49m\u001b[43m(\u001b[49m\u001b[43mdata\u001b[49m\u001b[43m,\u001b[49m\u001b[43m \u001b[49m\u001b[43mvariables\u001b[49m\u001b[43m)\u001b[49m\n\u001b[1;32m    642\u001b[0m \u001b[38;5;28;01mfor\u001b[39;00m var, \u001b[38;5;28mcls\u001b[39m \u001b[38;5;129;01min\u001b[39;00m \u001b[38;5;28mself\u001b[39m\u001b[38;5;241m.\u001b[39m_semantic_mappings\u001b[38;5;241m.\u001b[39mitems():\n\u001b[1;32m    643\u001b[0m \n\u001b[1;32m    644\u001b[0m     \u001b[38;5;66;03m# Create the mapping function\u001b[39;00m\n\u001b[1;32m    645\u001b[0m     map_func \u001b[38;5;241m=\u001b[39m partial(\u001b[38;5;28mcls\u001b[39m\u001b[38;5;241m.\u001b[39mmap, plotter\u001b[38;5;241m=\u001b[39m\u001b[38;5;28mself\u001b[39m)\n",
      "File \u001b[0;32m~/miniconda3/lib/python3.10/site-packages/seaborn/_oldcore.py:696\u001b[0m, in \u001b[0;36mVectorPlotter.assign_variables\u001b[0;34m(self, data, variables)\u001b[0m\n\u001b[1;32m    694\u001b[0m \u001b[38;5;28;01mif\u001b[39;00m x \u001b[38;5;129;01mis\u001b[39;00m \u001b[38;5;28;01mNone\u001b[39;00m \u001b[38;5;129;01mand\u001b[39;00m y \u001b[38;5;129;01mis\u001b[39;00m \u001b[38;5;28;01mNone\u001b[39;00m:\n\u001b[1;32m    695\u001b[0m     \u001b[38;5;28mself\u001b[39m\u001b[38;5;241m.\u001b[39minput_format \u001b[38;5;241m=\u001b[39m \u001b[38;5;124m\"\u001b[39m\u001b[38;5;124mwide\u001b[39m\u001b[38;5;124m\"\u001b[39m\n\u001b[0;32m--> 696\u001b[0m     plot_data, variables \u001b[38;5;241m=\u001b[39m \u001b[38;5;28;43mself\u001b[39;49m\u001b[38;5;241;43m.\u001b[39;49m\u001b[43m_assign_variables_wideform\u001b[49m\u001b[43m(\u001b[49m\n\u001b[1;32m    697\u001b[0m \u001b[43m        \u001b[49m\u001b[43mdata\u001b[49m\u001b[43m,\u001b[49m\u001b[43m \u001b[49m\u001b[38;5;241;43m*\u001b[39;49m\u001b[38;5;241;43m*\u001b[39;49m\u001b[43mvariables\u001b[49m\u001b[43m,\u001b[49m\n\u001b[1;32m    698\u001b[0m \u001b[43m    \u001b[49m\u001b[43m)\u001b[49m\n\u001b[1;32m    699\u001b[0m \u001b[38;5;28;01melse\u001b[39;00m:\n\u001b[1;32m    700\u001b[0m     \u001b[38;5;28mself\u001b[39m\u001b[38;5;241m.\u001b[39minput_format \u001b[38;5;241m=\u001b[39m \u001b[38;5;124m\"\u001b[39m\u001b[38;5;124mlong\u001b[39m\u001b[38;5;124m\"\u001b[39m\n",
      "File \u001b[0;32m~/miniconda3/lib/python3.10/site-packages/seaborn/_oldcore.py:745\u001b[0m, in \u001b[0;36mVectorPlotter._assign_variables_wideform\u001b[0;34m(self, data, **kwargs)\u001b[0m\n\u001b[1;32m    743\u001b[0m     err \u001b[38;5;241m=\u001b[39m \u001b[38;5;124mf\u001b[39m\u001b[38;5;124m\"\u001b[39m\u001b[38;5;124mThe following variable\u001b[39m\u001b[38;5;132;01m{\u001b[39;00ms\u001b[38;5;132;01m}\u001b[39;00m\u001b[38;5;124m cannot be assigned with wide-form data: \u001b[39m\u001b[38;5;124m\"\u001b[39m\n\u001b[1;32m    744\u001b[0m     err \u001b[38;5;241m+\u001b[39m\u001b[38;5;241m=\u001b[39m \u001b[38;5;124m\"\u001b[39m\u001b[38;5;124m, \u001b[39m\u001b[38;5;124m\"\u001b[39m\u001b[38;5;241m.\u001b[39mjoin(\u001b[38;5;124mf\u001b[39m\u001b[38;5;124m\"\u001b[39m\u001b[38;5;124m`\u001b[39m\u001b[38;5;132;01m{\u001b[39;00mv\u001b[38;5;132;01m}\u001b[39;00m\u001b[38;5;124m`\u001b[39m\u001b[38;5;124m\"\u001b[39m \u001b[38;5;28;01mfor\u001b[39;00m v \u001b[38;5;129;01min\u001b[39;00m assigned)\n\u001b[0;32m--> 745\u001b[0m     \u001b[38;5;28;01mraise\u001b[39;00m \u001b[38;5;167;01mValueError\u001b[39;00m(err)\n\u001b[1;32m    747\u001b[0m \u001b[38;5;66;03m# Determine if the data object actually has any data in it\u001b[39;00m\n\u001b[1;32m    748\u001b[0m empty \u001b[38;5;241m=\u001b[39m data \u001b[38;5;129;01mis\u001b[39;00m \u001b[38;5;28;01mNone\u001b[39;00m \u001b[38;5;129;01mor\u001b[39;00m \u001b[38;5;129;01mnot\u001b[39;00m \u001b[38;5;28mlen\u001b[39m(data)\n",
      "\u001b[0;31mValueError\u001b[0m: The following variable cannot be assigned with wide-form data: `hue`"
     ]
    }
   ],
   "source": [
    "# i['show a dataset preview for data iris']\n",
    "# i['what columns are available in data penguins']\n",
    "# i['show me all the available data names']\n",
    "# i['using data penguins create a relplot using columns bill_length_mm and flipper_length_mm']\n",
    "i['using data penguins create a relplot using columns selected_columns set hue as island']\n",
    "\n",
    "# i['what data is available to me']\n",
    "# i.setpp({'figsize':[500,900],'template':'plotly_white','title':None})\n",
    "# nlpi.silent = False\n",
    "\n",
    "# i.store_ac('iris','ac_column',['petal_length','petal_width'])\n",
    "# i.store_ac('iris','ac_column2',['petal_length','petal_width'])\n",
    "# i['create a plotly scatterplot using x sepal_length and y petal_length petal_width using iris set s 7 col species']\n",
    "# i['create a plotly scatterplot using x sepal_length and y ac_column using iris set s 7 col species']\n",
    "# i['create a plotly scatterplot using iris and columns x petal_length y petal_width sepal_length set s 7']\n",
    "# i['create a plotly scatterplot using iris for petal_length and petal_width for all species set s 7']\n",
    "# i['create a plotly scatterplot using iris for petal_length and petal_width for all species and sex set s 7']\n",
    "# i['create a plotly scatterplot using penguins plotting the relation between bill_length_mm and bill_depth_mm set s 6 mew 1 mec black']\n",
    "# i['create a plotly scatterplot using x sepal_length and y  using iris set s 7 col species']\n",
    "\n",
    "# i['show all the column names in dataset breast_data']\n",
    "# i['show the dataframe head data for breast_data']\n",
    "# i['show the dataframe preview for breast_data']\n",
    "# i['create plotly scatter plot x bill_length_mm y flipper_length_mm col sex using penguins data']\n",
    "\n",
    "# i['what data is avaialable to me']\n",
    "# i['show a preview of dataframe penguins']\n",
    "\n",
    "# \"in data breast_data convert column diagnosis to a string format\"\n",
    "# i.setpp({'figsize':[700,400],'template':'plotly_white','title':None})\n",
    "# nlpi.silent=True\n",
    "\n",
    "# i['create a seaborn histogram plot of x radius_worst and hue diagnosis using breast_data nbins 20 barmode stack alpha 0.5']\n",
    "# i['create a seaborn histogram plot of x radius_worst and hue diagnosis using breast_data nbins 20 barmode stack alpha 0.5']\n",
    "# i['create a seaborn relplot using x radius_worst and y symmetry_mean using breast_data set col diagnosis mew 1 mec k s 25']\n",
    "# i['with breast_data please create a relplot using radius_worst and symmetry_mean setting col diagnosis s 20']\n",
    "# i['with breast_data please create a relplot using radius_worst and radius_mean setting col diagnosis s 20']\n",
    "\n",
    "# i['create a seaborn relplot using x bill_length_mm and y flipper_length_mm using penguins set hue island mew 1 mec k s 40 col island']\n",
    "# i['with dataset penguins please create a seaborn relplot using x as bill_length_mm and y as flipper_length_mm'] # as : remove stop or extend reach of window for [~] \n",
    "# i['with dataset penguins please create a seaborn relplot using x bill_length_mm y flipper_length_mm']\n",
    "\n",
    "# i.module_args['col']\n",
    "\n",
    "# filtered ls3\n",
    "# create a seaborn relplot between -column and -column using -data for all -column\n",
    "# create a seaborn relplot between -column -column and -column -column using -data for all -column -column ~s -value\n",
    "\n",
    "\n",
    "# i['show the dataframe information for stocks']\n",
    "# i['show me what data is available']\n",
    "# i['show the missing data in terms of percentage in titanic']\n",
    "# i['show how much data is missing in titanic']\n",
    "# i['show how much data is missing in titanic']\n",
    "# i['show the percentage of data missing in titanic']\n",
    "# i['what is ther percentage of missing rows in titanic']\n",
    "# i['how many rows are missing in data titanic, in terms of percentage']\n",
    "# i['does the data titanic contain missing data']\n",
    "# i['show a dataframe preview of data titanic']"
   ]
  },
  {
   "cell_type": "code",
   "execution_count": 9,
   "id": "08d0fa93-a308-4484-ae4b-aa1581bd8c20",
   "metadata": {},
   "outputs": [
    {
     "data": {
      "text/plain": [
       "{}"
      ]
     },
     "execution_count": 9,
     "metadata": {},
     "output_type": "execute_result"
    }
   ],
   "source": [
    "nlpi.data['penguins']['splits_col']"
   ]
  },
  {
   "cell_type": "code",
   "execution_count": 2,
   "id": "c9fca2a7-0045-4b67-ba81-c530e82a853e",
   "metadata": {},
   "outputs": [],
   "source": [
    "# nlpi.silent = False\n",
    "# i.setpp({'figsize':[10,4],'title':None,'bw':0.35})\n",
    "# i['for all columns create a seaborn kernel density plot using penguins set hue island']\n",
    "# i['for all columns create a seaborn boxplot using penguins set x island']\n",
    "# i['for all columns in penguins create a kernel density plot set x island set hue island']\n",
    "# i['for all penguins data and all columns create column seaborn scatterplot for parameter x body_mass_g s 15 mew 1 mec k']\n",
    "# i['for all penguins data and columns bill_length_mm bill_depth_mm flipper_length_mm create column seaborn scatterplot for parameter x body_mass_g s 30 mew 1 mec k set hue island']\n",
    "\n",
    "# i.setpp({'figsize':[600,800],'title':None})\n",
    "# query = \"\"\"create a seaborn scatterplot using columns age fare using titanic\"\"\"; i[query]"
   ]
  },
  {
   "cell_type": "code",
   "execution_count": 6,
   "id": "63ab1ab7-4834-442b-b26c-5126a94d56ed",
   "metadata": {},
   "outputs": [],
   "source": [
    "# i.setpp({'figsize':[600,800],'template':'plotly_white','title':None})\n",
    "# nlpi.silent = False\n",
    "\n",
    "# collection.ner_identifier['tfidf'].vocabulary_\n",
    "# nlpi.memory_output[-1]['ohe_data']\n",
    "# i['show a preview of data titanic']\n",
    "# nlpi.silent = True\n",
    "# i[\"show me the column distribution of island and sex in penguins\"]\n",
    "# interpreter['show the dataframe information for stocks']\n",
    "# interpreter['describe the dataframe stocks']\n",
    "\n",
    "# i['show me what data is available']\n",
    "# i['show the missing data in terms of percentage in titanic']\n",
    "# i['show how much data is missing in titanic']\n",
    "# i['in dataset titanic show the percentage of data missing']\n",
    "# i['what is the percentage of missing rows in titanic']\n",
    "# i['how many rows are missing in data titanic, in terms of percentage']\n",
    "# i['does the data titanic contain missing data']\n",
    "# i[\"using data penguins, create a plotly scatter plot using parameters x body_mass_g y bill_depth_mm and hue island set mew 1.8\"]\n",
    "# i['show the column distribution of feature island in data penguins']\n",
    "# i.query('show a preview of dataframe breast_data')\n",
    "# i['show the column distribution of species in data penguins']\n",
    "# i['in data breast_data convert column diagnosis to a string format']"
   ]
  },
  {
   "cell_type": "code",
   "execution_count": 3,
   "id": "3896d2f8-111a-4ad3-867c-a8a5e6906718",
   "metadata": {},
   "outputs": [],
   "source": [
    "# # plot plotly scatterplot\n",
    "\n",
    "# i.setpp({'figsize':[500,800],'template':'plotly_white','title':'title'})\n",
    "# nlpi.silent = False\n",
    "\n",
    "# # i['plot a seaborn scatterplot using parameters x: radius_mean y: concavity_mean using data breast_data hue diagnosis s: 20 mew: 1 mec: k']\n",
    "# # i['plot a plotly scatterplot using parameters x: radius_mean y: concavity_mean using data breast_data hue diagnosis mec: black s: 7 mew: 1.5']\n",
    "# # i['with data penguins plot a plotly scatterplot using parameters x: bill_length_mm y: flipper_length_mm and hue: island']\n",
    "# # i['with data penguins plot a seaborn lmplot using parameters x: bill_length_mm y: flipper_length_mm col: island hue: sex']\n",
    "# # i['with data penguins create a seaborn boxplot using parameters y: island x: flipper_length_mm hue: sex']\n",
    "# # i['with data penguins create a seaborn violin plot using parameters y: island x: flipper_length_mm hue: sex']\n",
    "# # i['select data penguins and create a seaborn boxplot using parameters y: island x: flipper_length_mm hue: sex']\n",
    "\n",
    "# params = \"using data penguins and x: flipper_length_mm\"\n",
    "\n",
    "# i[f'create a seaborn kernel density plot {params}']"
   ]
  },
  {
   "cell_type": "code",
   "execution_count": 7,
   "id": "5d34a30b-d847-4e5e-b0bb-8b87c8323bc8",
   "metadata": {},
   "outputs": [],
   "source": [
    "# i['show the columns available in stocks']"
   ]
  },
  {
   "cell_type": "code",
   "execution_count": 8,
   "id": "b930a274-b9ac-4ffe-9b26-885b9e81346f",
   "metadata": {},
   "outputs": [],
   "source": [
    "# i['visualise a plotly scatter plot using x date and y AMZN NFLX using data stocks']\n",
    "# nlpi.silent = False\n",
    "# i['Tell me the shape of the dataframe stocks']"
   ]
  },
  {
   "cell_type": "code",
   "execution_count": 10,
   "id": "7bfc80f6-3224-4c66-a672-cb437430ba04",
   "metadata": {},
   "outputs": [],
   "source": [
    "# df = nlpi.data['stocks']['data']\n",
    "# df.head()"
   ]
  },
  {
   "cell_type": "code",
   "execution_count": 5,
   "id": "5a55bc9e-5a86-4825-81e4-20481f0a7d82",
   "metadata": {},
   "outputs": [
    {
     "name": "stdout",
     "output_type": "stream",
     "text": [
      "[note] found relevant global task [sig_fourierplot] w/ [0.51] certainty!\n"
     ]
    },
    {
     "data": {
      "image/png": "[encoded data removed]",
      "text/plain": [
       "<Figure size 600x300 with 1 Axes>"
      ]
     },
     "metadata": {},
     "output_type": "display_data"
    }
   ],
   "source": [
    "i.setpp({'figsize':[6,3],'template':'plotly_white','title':None})\n",
    "nlpi.silent = True\n",
    "\n",
    "# interpreter['generate one hot encoding of column sex island using penguins']\n",
    "# nlpi.silent = False\n",
    "\n",
    "# store column names for a particular dataset\n",
    "# i.store_ac('penguins','ohe_columns',['sex','island'])\n",
    "                                        \n",
    "# i['generate one hot encoding of column {ohe_columns} using penguins']\n",
    "# i['generate one hot encoding of columns island in data penguins']\n",
    "# i['please generate the fft for column passengers in flights']\n",
    "# i['please generate the fft for column GOOG in stocks']\n",
    "# i['plot the fft of columns GOOG AAPL FB and AMZN in stocks']\n",
    "i['plot the fft of columns AMZN and FB in stocks']"
   ]
  },
  {
   "cell_type": "code",
   "execution_count": 6,
   "id": "310625b0-fa1d-4ac1-a3c6-1635121afb72",
   "metadata": {},
   "outputs": [
    {
     "name": "stdout",
     "output_type": "stream",
     "text": [
      "[note] found relevant global task [dfcolumninfo] w/ [0.57] certainty!\n",
      "Index(['date', 'GOOG', 'AAPL', 'AMZN', 'FB', 'NFLX', 'MSFT'], dtype='object')\n"
     ]
    }
   ],
   "source": [
    "i['what columns are available in stocks']"
   ]
  },
  {
   "cell_type": "code",
   "execution_count": 7,
   "id": "a5efa60b-06ac-4407-9f8c-336bb5ce1066",
   "metadata": {},
   "outputs": [],
   "source": [
    "i.module_args['column']"
   ]
  },
  {
   "cell_type": "code",
   "execution_count": 15,
   "id": "1c28ade9-b32c-4ab8-8296-fa4f18caf940",
   "metadata": {},
   "outputs": [],
   "source": [
    "# i['dataframe preview of titanic']\n",
    "# i['show the distribution of column deck in data titanic']"
   ]
  },
  {
   "cell_type": "markdown",
   "id": "1d828980-4883-4612-9582-8b3c0376f894",
   "metadata": {},
   "source": [
    "## **Manually Call Active Functions**"
   ]
  },
  {
   "cell_type": "code",
   "execution_count": 18,
   "id": "3ced0531-1130-421e-b76d-680edccfc255",
   "metadata": {},
   "outputs": [
    {
     "data": {
      "text/plain": [
       "'\\n\\nManually call functions\\n\\n'"
      ]
     },
     "execution_count": 18,
     "metadata": {},
     "output_type": "execute_result"
    }
   ],
   "source": [
    "# from sklearn.feature_extraction.text import CountVectorizer,TfidfVectorizer\n",
    "# from mllibs.dict_helper import sfp\n",
    "\n",
    "# '''\n",
    "\n",
    "# Manually call functions\n",
    "\n",
    "# '''\n",
    "\n",
    "# reviews = pd.read_csv('https://raw.githubusercontent.com/shtrausslearning/Data-Science-Portfolio/main/sources/customer_reviews.csv',sep=',')\n",
    "# interpreter.store_data({'reviews':reviews})\n",
    "\n",
    "# module_args = {}\n",
    "# module_args['data'] = interpreter.data['reviews']['data']\n",
    "# module_args['pred_task'] ='count_vectoriser'\n",
    "# module_args['column'] = 'reviews'\n",
    "# module_args['columns'] = None\n",
    "# module_args['col'] = None\n",
    "# module_args['ngram_range'] = None\n",
    "# module_args['min_df'] = None\n",
    "# module_args['max_df'] = None\n",
    "# module_args['subset'] = ['reviews']\n",
    "\n",
    "# def cv(args:dict):\n",
    "                \n",
    "#     # preset value dictionary\n",
    "    \n",
    "#     pre = {'ngram_range':(1,1),'min_df':1,'max_df':1.0}\n",
    "\n",
    "#     if(args['subset'] != None):\n",
    "    \n",
    "#         vectoriser = CountVectorizer(ngram_range=sfp(args,pre,'ngram_range'),\n",
    "#                                     min_df=sfp(args,pre,'min_df'),\n",
    "#                                     max_df=sfp(args,pre,'max_df'))\n",
    "\n",
    "#         print(args['subset'])\n",
    "                \n",
    "#         vectors = vectoriser.fit_transform(args['data'][args['subset'][0]])        \n",
    "#         df_matrix = pd.DataFrame(vectors.todense(),\n",
    "#                                     columns=vectoriser.get_feature_names_out())\n",
    "\n",
    "#         display(df_matrix)\n",
    "\n",
    "# cv(module_args)"
   ]
  },
  {
   "cell_type": "code",
   "execution_count": 11,
   "id": "9e2bb84c-e96f-4a5c-8846-3a76eade251c",
   "metadata": {},
   "outputs": [],
   "source": [
    "i.module_args.keys()\n",
    "\n",
    "task = i.module_args['pred_task']\n",
    "input_format_str = i.task_info.loc[task,'input_format']"
   ]
  },
  {
   "cell_type": "code",
   "execution_count": 12,
   "id": "5979ac40-351d-4f8a-a705-0adf6b0054f2",
   "metadata": {},
   "outputs": [
    {
     "data": {
      "text/plain": [
       "input_format\n",
       "pd.DataFrame                 42\n",
       "list                         13\n",
       "list,list                    10\n",
       "None                          2\n",
       "pd.DataFrame,pd.DataFrame     2\n",
       "Name: count, dtype: int64"
      ]
     },
     "execution_count": 12,
     "metadata": {},
     "output_type": "execute_result"
    }
   ],
   "source": [
    "i.task_info['input_format'].value_counts()"
   ]
  },
  {
   "cell_type": "code",
   "execution_count": 3,
   "id": "f3e5a574-3fc0-41c5-b966-dbc6b985e934",
   "metadata": {},
   "outputs": [],
   "source": [
    "# '''\n",
    "\n",
    "# mstats_tests library tests\n",
    "\n",
    "# '''\n",
    "\n",
    "# import numpy as np\n",
    "\n",
    "# nlpi.activate = True\n",
    "# nlpi.silent = True\n",
    "\n",
    "# # store data\n",
    "# sample1 = list(np.random.normal(loc=1,scale=1, size=1000))\n",
    "# sample2 = list(np.random.normal(loc=1,scale=1, size=1000))\n",
    "\n",
    "# interpreter.store_data({'distribution_A':sample1,\n",
    "#                         'distribution_B':sample2})\n",
    "\n",
    "# # req = \"two sample ttest using: distribution_B distribution_A\"\n",
    "# # req = \"comapare histograms of samples distribution_B distribution_A\"\n",
    "# # req = \"compare the histograms of two samples distribution_B distribution_A nbins 50\"\n",
    "\n",
    "# # interpreter[req]\n",
    "\n",
    "# # req = \"compare kde plot of two samples distribution_B distribution_A\"\n",
    "\n",
    "# # interpreter[req]\n",
    "\n",
    "# # req = \"compare the histograms of two samples distribution_B distribution_A nbins 50\"\n",
    "\n",
    "# # interpreter[req]\n",
    "\n",
    "# # req = \"create bootstrap samples for two dataset distribution_B distribution_A nbins: 50\"\n",
    "\n",
    "# # interpreter[req]\n",
    "\n",
    "\n",
    "# # req = \"create wild bootstrap samples for two dataset distribution_B distribution_A nbins: 50\"\n",
    "\n",
    "# # interpreter[req]\n",
    "\n",
    "# sample1 = list(np.random.exponential(scale=1, size=1000))\n",
    "# sample2 = list(np.random.exponential(scale=1, size=1000))\n",
    "\n",
    "# interpreter.store_data({'distribution_A':sample1,\n",
    "#                         'distribution_B':sample2})\n",
    "\n",
    "# req = \"create wild bootstrap samples for two dataset distribution_B distribution_A nbins: 50\"\n",
    "\n",
    "# interpreter[req]\n"
   ]
  },
  {
   "cell_type": "code",
   "execution_count": 60,
   "id": "a58921b0-8d5b-44bc-b0e0-0bc9a51cd62a",
   "metadata": {},
   "outputs": [],
   "source": [
    "import re\n",
    "\n",
    "# text = \"extract a subset of data from dataset titanic where the value of column A is between 100 and 200\"\n",
    "# text = \"extract a subset of data from dataset titanic where the value of column A is 140.5\"\n",
    "text2 = \"extract a subset of data from dataset titanic where the value of column B is from 50 to 75.5\"\n",
    "text3 = \"extract a subset of data from dataset titanic where the value of column C is in the range 300-400\"\n",
    "\n",
    "import re\n",
    "\n",
    "def extract_range(text):\n",
    "    range_patterns = [\n",
    "        r'between (\\d+(\\.\\d+)?) and (\\d+(\\.\\d+)?)',\n",
    "        r'from (\\d+(\\.\\d+)?) to (\\d+(\\.\\d+)?)',\n",
    "        r'in the range (\\d+(\\.\\d+)?)-(\\d+(\\.\\d+)?)',\n",
    "        r'up to (\\d+(\\.\\d+)?) from (\\d+(\\.\\d+)?)',\n",
    "        r'in the range (\\d+(\\.\\d+)?) through (\\d+(\\.\\d+)?)',\n",
    "        r'starting from (\\d+(\\.\\d+)?), ending at (\\d+(\\.\\d+)?)',\n",
    "        r'(\\d+(\\.\\d+)?) - (\\d+(\\.\\d+)?)',\n",
    "        r'(\\d+(\\.\\d+)?) to (\\d+(\\.\\d+)?)',\n",
    "        r'(\\d+(\\.\\d+)?) or more',\n",
    "        r'(\\d+(\\.\\d+)?) or greater',\n",
    "        r'at least (\\d+(\\.\\d+)?)',\n",
    "        r'no less than (\\d+(\\.\\d+)?)',\n",
    "        r'(\\d+(\\.\\d+)?) or above',\n",
    "        r'(\\d+(\\.\\d+)?) and above',\n",
    "        r'(\\d+(\\.\\d+)?) and beyond'\n",
    "    ]\n",
    "\n",
    "    for pattern in range_patterns:\n",
    "        match = re.search(pattern, text)\n",
    "        if match:\n",
    "            return match.groups()\n",
    "\n",
    "    # If no range pattern is found, check for specific value extraction\n",
    "    specific_value_match = re.search(r'(equal to|exactly|precisely|is|at|matches) (\\d+(\\.\\d+)?)', text)\n",
    "    if specific_value_match:\n",
    "        print(specific_value_match)\n",
    "        value = specific_value_match.group(2)\n",
    "        return value\n",
    "\n",
    "    return None"
   ]
  },
  {
   "cell_type": "code",
   "execution_count": 61,
   "id": "02c927a8-0fff-4598-9230-36dd77000590",
   "metadata": {},
   "outputs": [
    {
     "data": {
      "text/plain": [
       "('50', None, '75.5', '.5')"
      ]
     },
     "execution_count": 61,
     "metadata": {},
     "output_type": "execute_result"
    }
   ],
   "source": [
    "extract_range(text2)"
   ]
  },
  {
   "cell_type": "code",
   "execution_count": 92,
   "id": "85a84590-1f8a-4ac6-8f86-fd4cba0957db",
   "metadata": {},
   "outputs": [
    {
     "ename": "ValueError",
     "evalue": "could not convert string to float: '.'",
     "output_type": "error",
     "traceback": [
      "\u001b[0;31m---------------------------------------------------------------------------\u001b[0m",
      "\u001b[0;31mValueError\u001b[0m                                Traceback (most recent call last)",
      "Cell \u001b[0;32mIn[92], line 27\u001b[0m\n\u001b[1;32m     25\u001b[0m     matches \u001b[38;5;241m=\u001b[39m re\u001b[38;5;241m.\u001b[39mfindall(pattern, text)\n\u001b[1;32m     26\u001b[0m     \u001b[38;5;28;01mfor\u001b[39;00m match \u001b[38;5;129;01min\u001b[39;00m matches:\n\u001b[0;32m---> 27\u001b[0m         values\u001b[38;5;241m.\u001b[39mextend([\u001b[38;5;28mfloat\u001b[39m(val[\u001b[38;5;241m0\u001b[39m]) \u001b[38;5;28;01mfor\u001b[39;00m val \u001b[38;5;129;01min\u001b[39;00m match \u001b[38;5;28;01mif\u001b[39;00m val \u001b[38;5;241m!=\u001b[39m \u001b[38;5;124m'\u001b[39m\u001b[38;5;124m'\u001b[39m])\n\u001b[1;32m     29\u001b[0m \u001b[38;5;28mprint\u001b[39m(values)\n",
      "Cell \u001b[0;32mIn[92], line 27\u001b[0m, in \u001b[0;36m<listcomp>\u001b[0;34m(.0)\u001b[0m\n\u001b[1;32m     25\u001b[0m     matches \u001b[38;5;241m=\u001b[39m re\u001b[38;5;241m.\u001b[39mfindall(pattern, text)\n\u001b[1;32m     26\u001b[0m     \u001b[38;5;28;01mfor\u001b[39;00m match \u001b[38;5;129;01min\u001b[39;00m matches:\n\u001b[0;32m---> 27\u001b[0m         values\u001b[38;5;241m.\u001b[39mextend([\u001b[38;5;28;43mfloat\u001b[39;49m\u001b[43m(\u001b[49m\u001b[43mval\u001b[49m\u001b[43m[\u001b[49m\u001b[38;5;241;43m0\u001b[39;49m\u001b[43m]\u001b[49m\u001b[43m)\u001b[49m \u001b[38;5;28;01mfor\u001b[39;00m val \u001b[38;5;129;01min\u001b[39;00m match \u001b[38;5;28;01mif\u001b[39;00m val \u001b[38;5;241m!=\u001b[39m \u001b[38;5;124m'\u001b[39m\u001b[38;5;124m'\u001b[39m])\n\u001b[1;32m     29\u001b[0m \u001b[38;5;28mprint\u001b[39m(values)\n",
      "\u001b[0;31mValueError\u001b[0m: could not convert string to float: '.'"
     ]
    }
   ],
   "source": [
    "range_patterns = [\n",
    "    r'between (\\d+(\\.\\d+)?) and (\\d+(\\.\\d+)?)',\n",
    "    r'from (\\d+(\\.\\d+)?) to (\\d+(\\.\\d+)?)',\n",
    "    r'in the range (\\d+(\\.\\d+)?)-(\\d+(\\.\\d+)?)',\n",
    "    r'up to (\\d+(\\.\\d+)?) from (\\d+(\\.\\d+)?)',\n",
    "    r'in the range (\\d+(\\.\\d+)?) through (\\d+(\\.\\d+)?)',\n",
    "    r'starting from (\\d+(\\.\\d+)?), ending at (\\d+(\\.\\d+)?)',\n",
    "    r'(\\d+(\\.\\d+)?) - (\\d+(\\.\\d+)?)',\n",
    "    r'(\\d+(\\.\\d+)?) to (\\d+(\\.\\d+)?)',\n",
    "    r'(\\d+(\\.\\d+)?) or more',\n",
    "    r'(\\d+(\\.\\d+)?) or greater',\n",
    "    r'at least (\\d+(\\.\\d+)?)',\n",
    "    r'no less than (\\d+(\\.\\d+)?)',\n",
    "    r'(\\d+(\\.\\d+)?) or above',\n",
    "    r'(\\d+(\\.\\d+)?) and above',\n",
    "    r'(\\d+(\\.\\d+)?) and beyond'\n",
    "]\n",
    "\n",
    "\n",
    "# text = \"The value is between 10 and 20, from 5 to 15, and at least 8.\"\n",
    "text = \"extract a subset of data from dataset titanic where the value of column C is in the range between 3.4 and 4\"\n",
    "\n",
    "values = []\n",
    "for pattern in range_patterns:\n",
    "    matches = re.findall(pattern, text)\n",
    "    for match in matches:\n",
    "        values.extend([float(val[0]) for val in match if val != ''])\n",
    "\n",
    "print(values)"
   ]
  },
  {
   "cell_type": "code",
   "execution_count": 13,
   "id": "5e4e540b-3854-453e-93b9-41eaef31b733",
   "metadata": {
    "editable": true,
    "slideshow": {
     "slide_type": ""
    },
    "tags": []
   },
   "outputs": [
    {
     "name": "stdout",
     "output_type": "stream",
     "text": [
      "\n",
      "##################################################################\n",
      "\n",
      "[note] extracting parameters from input request!\n",
      "\n",
      "[note] input request:\n",
      "show the distribution of column island in penguins\n",
      "\n",
      "[note] data sources have been found\n",
      "{'data': 'penguins'}\n",
      "[note] no parameters found!\n",
      "extracted [subset] parameters\n",
      "{'column': ['island']}\n",
      "\n",
      "[note] filtered request:\n",
      "show the distribution of column -column in -data\n",
      "\n",
      "##################################################################\n",
      "\n",
      "[note] found relevant global task [dfcolumn_distr] w/ [0.89] certainty!\n"
     ]
    },
    {
     "data": {
      "text/plain": [
       "island   \n",
       "Biscoe       168\n",
       "Dream        124\n",
       "Torgersen     52\n",
       "Name: count, dtype: int64"
      ]
     },
     "metadata": {},
     "output_type": "display_data"
    }
   ],
   "source": [
    "'''\n",
    "\n",
    "mpd_talktodata examples\n",
    "\n",
    "'''\n",
    "\n",
    "i.setpp({'figsize':[500,800],'template':'plotly_white','title':None})\n",
    "nlpi.silent = False\n",
    "# i['show the distribution of column island in penguins'] # ok\n",
    "# i['show the all the missing data in penguins'] # ok\n",
    "# i['show missing data in column sex in data penguins'] # ok\n",
    "# i['show missing data in all columns in penguins']\n",
    "# i['show the dataframe size of penguins']\n",
    "# i['show the unique values in column island in data penguins']"
   ]
  },
  {
   "cell_type": "code",
   "execution_count": 5,
   "id": "f18e304f-1fd6-446a-adf2-f288f3693c16",
   "metadata": {},
   "outputs": [
    {
     "name": "stdout",
     "output_type": "stream",
     "text": [
      "\n",
      "##################################################################\n",
      "\n",
      "[note] extracting parameters from input request!\n",
      "\n",
      "[note] input request:\n",
      "create seaborn scatter plot x body_mass_g y selected_columns\n",
      "using penguins\n",
      "\n",
      "[note] data sources have been found\n",
      "{'data': 'penguins'}\n",
      "[note] parameters found!\n",
      "[note] setting module_args parameters\n",
      "{'x': 'body_mass_g'}\n",
      "\n",
      "[note] filtered request:\n",
      "create seaborn scatter plot ~x -column ~y selected_columns using -data\n",
      "\n",
      "##################################################################\n",
      "\n",
      "[note] found relevant global task [sscatterplot] w/ [0.65] certainty!\n"
     ]
    },
    {
     "ename": "TypeError",
     "evalue": "unhashable type: 'list'",
     "output_type": "error",
     "traceback": [
      "\u001b[0;31m---------------------------------------------------------------------------\u001b[0m",
      "\u001b[0;31mTypeError\u001b[0m                                 Traceback (most recent call last)",
      "Cell \u001b[0;32mIn[5], line 7\u001b[0m\n\u001b[1;32m      1\u001b[0m \u001b[38;5;66;03m# i.setpp({'figsize':[500,800],'template':'plotly_white','title':None})\u001b[39;00m\n\u001b[1;32m      2\u001b[0m \u001b[38;5;66;03m# nlpi.silent = False\u001b[39;00m\n\u001b[1;32m      3\u001b[0m \n\u001b[1;32m      4\u001b[0m \u001b[38;5;66;03m# [0] using active columns\u001b[39;00m\n\u001b[1;32m      6\u001b[0m req \u001b[38;5;241m=\u001b[39m \u001b[38;5;124m\"\u001b[39m\u001b[38;5;124mcreate seaborn scatter plot x: body_mass_g y: selected_columns using penguins\u001b[39m\u001b[38;5;124m\"\u001b[39m\n\u001b[0;32m----> 7\u001b[0m \u001b[43mi\u001b[49m\u001b[43m[\u001b[49m\u001b[43mreq\u001b[49m\u001b[43m]\u001b[49m\n\u001b[1;32m      9\u001b[0m \u001b[38;5;66;03m# i[\"using data penguins produce a histogram plot using seaborn setting parameters x: body_mass_g bw: 10\"]\u001b[39;00m\n\u001b[1;32m     10\u001b[0m \n\u001b[1;32m     11\u001b[0m \u001b[38;5;66;03m# simple request one PARAM per column \u001b[39;00m\n\u001b[0;32m   (...)\u001b[0m\n\u001b[1;32m     30\u001b[0m \u001b[38;5;66;03m# req = \"using data penguins, create a plotly scatter plot using parameters x: body_mass_g y: bill_depth_mm and hue: island set mew 1.5\"\u001b[39;00m\n\u001b[1;32m     31\u001b[0m \u001b[38;5;66;03m# i[req]\u001b[39;00m\n",
      "File \u001b[0;32m~/miniconda3/lib/python3.10/site-packages/mllibs/nlpi.py:410\u001b[0m, in \u001b[0;36mnlpi.__getitem__\u001b[0;34m(self, command)\u001b[0m\n\u001b[1;32m    409\u001b[0m \u001b[38;5;28;01mdef\u001b[39;00m \u001b[38;5;21m__getitem__\u001b[39m(\u001b[38;5;28mself\u001b[39m,command:\u001b[38;5;28mstr\u001b[39m):\n\u001b[0;32m--> 410\u001b[0m     \u001b[38;5;28;43mself\u001b[39;49m\u001b[38;5;241;43m.\u001b[39;49m\u001b[43mquery\u001b[49m\u001b[43m(\u001b[49m\u001b[43mcommand\u001b[49m\u001b[43m,\u001b[49m\u001b[43margs\u001b[49m\u001b[38;5;241;43m=\u001b[39;49m\u001b[38;5;28;43;01mNone\u001b[39;49;00m\u001b[43m)\u001b[49m\n",
      "File \u001b[0;32m~/miniconda3/lib/python3.10/site-packages/mllibs/nlpi.py:413\u001b[0m, in \u001b[0;36mnlpi.query\u001b[0;34m(self, command, args)\u001b[0m\n\u001b[1;32m    412\u001b[0m \u001b[38;5;28;01mdef\u001b[39;00m \u001b[38;5;21mquery\u001b[39m(\u001b[38;5;28mself\u001b[39m,command:\u001b[38;5;28mstr\u001b[39m,args:\u001b[38;5;28mdict\u001b[39m\u001b[38;5;241m=\u001b[39m\u001b[38;5;28;01mNone\u001b[39;00m):                        \n\u001b[0;32m--> 413\u001b[0m     \u001b[38;5;28;43mself\u001b[39;49m\u001b[38;5;241;43m.\u001b[39;49m\u001b[43mdo\u001b[49m\u001b[43m(\u001b[49m\u001b[43mcommand\u001b[49m\u001b[38;5;241;43m=\u001b[39;49m\u001b[43mcommand\u001b[49m\u001b[43m,\u001b[49m\u001b[43margs\u001b[49m\u001b[38;5;241;43m=\u001b[39;49m\u001b[43margs\u001b[49m\u001b[43m)\u001b[49m\n",
      "File \u001b[0;32m~/miniconda3/lib/python3.10/site-packages/mllibs/nlpi.py:1973\u001b[0m, in \u001b[0;36mnlpi.do\u001b[0;34m(self, command, args)\u001b[0m\n\u001b[1;32m   1970\u001b[0m nlpi\u001b[38;5;241m.\u001b[39mmemory_info \u001b[38;5;241m=\u001b[39m pd\u001b[38;5;241m.\u001b[39mconcat(\u001b[38;5;28mself\u001b[39m\u001b[38;5;241m.\u001b[39mmemory_stack,axis\u001b[38;5;241m=\u001b[39m\u001b[38;5;241m1\u001b[39m) \u001b[38;5;66;03m# stack task information order\u001b[39;00m\n\u001b[1;32m   1972\u001b[0m \u001b[38;5;66;03m# activate function [module_name] & pass [module_args]\u001b[39;00m\n\u001b[0;32m-> 1973\u001b[0m \u001b[38;5;28;43mself\u001b[39;49m\u001b[38;5;241;43m.\u001b[39;49m\u001b[43mmodule\u001b[49m\u001b[38;5;241;43m.\u001b[39;49m\u001b[43mmodules\u001b[49m\u001b[43m[\u001b[49m\u001b[38;5;28;43mself\u001b[39;49m\u001b[38;5;241;43m.\u001b[39;49m\u001b[43mmodule_name\u001b[49m\u001b[43m]\u001b[49m\u001b[38;5;241;43m.\u001b[39;49m\u001b[43msel\u001b[49m\u001b[43m(\u001b[49m\u001b[38;5;28;43mself\u001b[39;49m\u001b[38;5;241;43m.\u001b[39;49m\u001b[43mmodule_args\u001b[49m\u001b[43m)\u001b[49m\n\u001b[1;32m   1975\u001b[0m \u001b[38;5;28;01mif\u001b[39;00m(\u001b[38;5;28mlen\u001b[39m(nlpi\u001b[38;5;241m.\u001b[39mmemory_output) \u001b[38;5;241m==\u001b[39m nlpi\u001b[38;5;241m.\u001b[39miter\u001b[38;5;241m+\u001b[39m\u001b[38;5;241m1\u001b[39m):\n\u001b[1;32m   1976\u001b[0m     \u001b[38;5;28;01mpass\u001b[39;00m\n",
      "File \u001b[0;32m~/miniconda3/lib/python3.10/site-packages/mllibs/eda/meda_splot.py:79\u001b[0m, in \u001b[0;36meda_splot.sel\u001b[0;34m(self, args)\u001b[0m\n\u001b[1;32m     71\u001b[0m \u001b[38;5;250m\u001b[39m\u001b[38;5;124;03m''' \u001b[39;00m\n\u001b[1;32m     72\u001b[0m \u001b[38;5;124;03m\u001b[39;00m\n\u001b[1;32m     73\u001b[0m \u001b[38;5;124;03mADD EXTRA COLUMNS TO DATA \u001b[39;00m\n\u001b[0;32m   (...)\u001b[0m\n\u001b[1;32m     76\u001b[0m \n\u001b[1;32m     77\u001b[0m \u001b[38;5;124;03m'''\u001b[39;00m\n\u001b[1;32m     78\u001b[0m \u001b[38;5;66;03m# split columns (tts,kfold,skfold) \u001b[39;00m\n\u001b[0;32m---> 79\u001b[0m \u001b[38;5;28;01mif\u001b[39;00m(\u001b[38;5;28mlen\u001b[39m(\u001b[43mnlpi\u001b[49m\u001b[38;5;241;43m.\u001b[39;49m\u001b[43mdata\u001b[49m\u001b[43m[\u001b[49m\u001b[38;5;28;43mself\u001b[39;49m\u001b[38;5;241;43m.\u001b[39;49m\u001b[43mdata_name\u001b[49m\u001b[43m]\u001b[49m[\u001b[38;5;124m'\u001b[39m\u001b[38;5;124msplits_col\u001b[39m\u001b[38;5;124m'\u001b[39m]) \u001b[38;5;241m!=\u001b[39m \u001b[38;5;241m0\u001b[39m):\n\u001b[1;32m     81\u001b[0m     split_dict \u001b[38;5;241m=\u001b[39m nlpi\u001b[38;5;241m.\u001b[39mdata[\u001b[38;5;28mself\u001b[39m\u001b[38;5;241m.\u001b[39mdata_name[\u001b[38;5;241m0\u001b[39m]][\u001b[38;5;124m'\u001b[39m\u001b[38;5;124msplits_col\u001b[39m\u001b[38;5;124m'\u001b[39m]\n\u001b[1;32m     82\u001b[0m     extra_columns \u001b[38;5;241m=\u001b[39m pd\u001b[38;5;241m.\u001b[39mconcat(split_dict,axis\u001b[38;5;241m=\u001b[39m\u001b[38;5;241m1\u001b[39m)\n",
      "\u001b[0;31mTypeError\u001b[0m: unhashable type: 'list'"
     ]
    }
   ],
   "source": [
    "# i.setpp({'figsize':[500,800],'template':'plotly_white','title':None})\n",
    "# nlpi.silent = False\n",
    "\n",
    "# [0] using active columns\n",
    "\n",
    "req = \"create seaborn scatter plot x: body_mass_g y: selected_columns using penguins\"\n",
    "i[req]\n",
    "\n",
    "# i[\"using data penguins produce a histogram plot using seaborn setting parameters x: body_mass_g bw: 10\"]\n",
    "\n",
    "# simple request one PARAM per column \n",
    "# req = \"create plotly scatterplot x: bill_depth_mm y: flipper_length_mm hue: island using penguins\"\n",
    "\n",
    "# interpreter[req]\n",
    "\n",
    "# [1] regular notation (multiple y) \n",
    "\n",
    "# req = \"create plotly scatterplot x: body_mass_g y: bill_length_mm bill_depth_mm using penguins\"\n",
    "# i[req]\n",
    "\n",
    "# [1] regular notation (single y) \n",
    "\n",
    "# req = \"mew: 1 create plotly scatterplot x: body_mass_g y: bill_depth_mm using penguins\"\n",
    "# req = \"create plotly scatterplot x: body_mass_g y: bill_depth_mm hue: island col sex mew: 1.5 mec: black s: 7 marginal_x box marginal_y box using penguins\"\n",
    "# req = \"create plotly boxplot x: island y: bill_depth_mm hue sex using penguins\"\n",
    "\n",
    "# [2] simple request one PARAM per column\n",
    "\n",
    "# req = \"create plotly count heatmap x: bill_depth_mm y: flipper_length_mm hue: sex col: sex using penguins\"\n",
    "# req = \"using data penguins, create a plotly scatter plot using parameters x: body_mass_g y: bill_depth_mm and hue: island set mew 1.5\"\n",
    "# i[req]"
   ]
  },
  {
   "cell_type": "code",
   "execution_count": null,
   "id": "6ab22777-8bd9-48d5-9cf3-25ae2c107c12",
   "metadata": {},
   "outputs": [],
   "source": [
    "# \"create a seaborn kernel density plots for columns A B C\" # with options for parameters\n",
    "# \"create a seaborn boxplot for columns "
   ]
  },
  {
   "cell_type": "code",
   "execution_count": 17,
   "id": "285f2a63-18a1-40e7-847c-3afabe82afb8",
   "metadata": {},
   "outputs": [],
   "source": [
    "# import re\n",
    "\n",
    "# def extract_values(text):\n",
    "#     # exact_match = re.search(r'is (.+?)\\b', text).group(1)\n",
    "\n",
    "#     re_match = r'(\\d+(\\.\\d+)?) - (\\d+(\\.\\d+)?)'\n",
    "#     # re_match = r'from (\\d+(?:\\.\\d+)?) to (\\d+(?:\\.\\d+)?)'\n",
    "    \n",
    "#     range_match = re.search(re_match, text)\n",
    "#     print(range_match)\n",
    "#     # print(range_match.groups())\n",
    "#     if range_match:\n",
    "#         # range_values = (float(range_match.group(1)), float(range_match.group(2)))\n",
    "#         range_values = (float(range_match.group(0)), float(range_match.group(1)))\n",
    "#     else:\n",
    "#         range_values = None\n",
    "\n",
    "#     print(range_values)\n",
    "\n",
    "# # text = \"extract a subset of data from dataset titanic where the value of column A is 140.5\"\n",
    "# # text2 = \"extract a subset of data from dataset titanic where the value of column B is from 50 to 75.5\"\n",
    "# text2 = \"extract a subset of data from dataset titanic where the value of column (50 - 75.5)\"\n",
    "\n",
    "# extract_values(text2)"
   ]
  },
  {
   "cell_type": "code",
   "execution_count": 75,
   "id": "3437b69e-a6b0-4b96-9b93-991476deb613",
   "metadata": {},
   "outputs": [
    {
     "ename": "AttributeError",
     "evalue": "'NoneType' object has no attribute 'group'",
     "output_type": "error",
     "traceback": [
      "\u001b[0;31m---------------------------------------------------------------------------\u001b[0m",
      "\u001b[0;31mAttributeError\u001b[0m                            Traceback (most recent call last)",
      "Cell \u001b[0;32mIn[75], line 1\u001b[0m\n\u001b[0;32m----> 1\u001b[0m \u001b[43mextract_values\u001b[49m\u001b[43m(\u001b[49m\u001b[38;5;124;43m'\u001b[39;49m\u001b[38;5;124;43mI need to extract data from column from 1.0 to 100\u001b[39;49m\u001b[38;5;124;43m'\u001b[39;49m\u001b[43m)\u001b[49m\n",
      "Cell \u001b[0;32mIn[74], line 4\u001b[0m, in \u001b[0;36mextract_values\u001b[0;34m(text)\u001b[0m\n\u001b[1;32m      3\u001b[0m \u001b[38;5;28;01mdef\u001b[39;00m \u001b[38;5;21mextract_values\u001b[39m(text):\n\u001b[0;32m----> 4\u001b[0m     exact_match \u001b[38;5;241m=\u001b[39m \u001b[43mre\u001b[49m\u001b[38;5;241;43m.\u001b[39;49m\u001b[43msearch\u001b[49m\u001b[43m(\u001b[49m\u001b[38;5;124;43mr\u001b[39;49m\u001b[38;5;124;43m'\u001b[39;49m\u001b[38;5;124;43mis (.+?)\u001b[39;49m\u001b[38;5;124;43m\\\u001b[39;49m\u001b[38;5;124;43mb\u001b[39;49m\u001b[38;5;124;43m'\u001b[39;49m\u001b[43m,\u001b[49m\u001b[43m \u001b[49m\u001b[43mtext\u001b[49m\u001b[43m)\u001b[49m\u001b[38;5;241;43m.\u001b[39;49m\u001b[43mgroup\u001b[49m(\u001b[38;5;241m1\u001b[39m)\n\u001b[1;32m      5\u001b[0m     range_match \u001b[38;5;241m=\u001b[39m re\u001b[38;5;241m.\u001b[39msearch(\u001b[38;5;124mr\u001b[39m\u001b[38;5;124m'\u001b[39m\u001b[38;5;124mfrom (\u001b[39m\u001b[38;5;124m\\\u001b[39m\u001b[38;5;124md+(?:\u001b[39m\u001b[38;5;124m\\\u001b[39m\u001b[38;5;124m.\u001b[39m\u001b[38;5;124m\\\u001b[39m\u001b[38;5;124md+)?) to (\u001b[39m\u001b[38;5;124m\\\u001b[39m\u001b[38;5;124md+(?:\u001b[39m\u001b[38;5;124m\\\u001b[39m\u001b[38;5;124m.\u001b[39m\u001b[38;5;124m\\\u001b[39m\u001b[38;5;124md+)?)\u001b[39m\u001b[38;5;124m'\u001b[39m, text)\n\u001b[1;32m      6\u001b[0m     \u001b[38;5;28mprint\u001b[39m(range_match)\n",
      "\u001b[0;31mAttributeError\u001b[0m: 'NoneType' object has no attribute 'group'"
     ]
    }
   ],
   "source": [
    "extract_values('I need to extract data from column from 1.0 to 100')"
   ]
  },
  {
   "cell_type": "code",
   "execution_count": 119,
   "id": "2f987381-2b86-4073-857d-a76efee802ce",
   "metadata": {},
   "outputs": [
    {
     "ename": "SyntaxError",
     "evalue": "unterminated string literal (detected at line 25) (2354965250.py, line 25)",
     "output_type": "error",
     "traceback": [
      "\u001b[0;36m  Cell \u001b[0;32mIn[119], line 25\u001b[0;36m\u001b[0m\n\u001b[0;31m    text = \"the values are between 10.0 and 40.0\u001b[0m\n\u001b[0m           ^\u001b[0m\n\u001b[0;31mSyntaxError\u001b[0m\u001b[0;31m:\u001b[0m unterminated string literal (detected at line 25)\n"
     ]
    }
   ],
   "source": [
    "import re\n",
    "\n",
    "range_patterns = [\n",
    "    r'between (\\d+(\\.\\d+)?) and (\\d+(\\.\\d+)?)',\n",
    "    r'from (\\d+(\\.\\d+)?) to (\\d+(\\.\\d+)?)',\n",
    "    r'in the range (\\d+(\\.\\d+)?)-(\\d+(\\.\\d+)?)',\n",
    "    r'up to (\\d+(\\.\\d+)?) from (\\d+(\\.\\d+)?)',\n",
    "    r'in the range (\\d+(\\.\\d+)?) through (\\d+(\\.\\d+)?)',\n",
    "    r'starting from (\\d+(\\.\\d+)?), ending at (\\d+(\\.\\d+)?)',\n",
    "    r'(\\d+(\\.\\d+)?) - (\\d+(\\.\\d+)?)',\n",
    "    r'(\\d+(\\.\\d+)?) to (\\d+(\\.\\d+)?)'\n",
    "]\n",
    "\n",
    "more_than = [\n",
    "    r'(\\d+(\\.\\d+)?) or more',\n",
    "    r'(\\d+(\\.\\d+)?) or greater',\n",
    "    r'at least (\\d+(\\.\\d+)?)',\n",
    "    r'no less than (\\d+(\\.\\d+)?)',\n",
    "    r'(\\d+(\\.\\d+)?) or above',\n",
    "    r'(\\d+(\\.\\d+)?) and above',\n",
    "    r'(\\d+(\\.\\d+)?) and beyond'\n",
    "]\n",
    "\n",
    "text = \"The value is between 10.0 - 25.0\"\n",
    "text = \"the values are between 10.0 and 40.0\n",
    "\n",
    "values = []\n",
    "for pattern in range_patterns:\n",
    "    matches = re.findall(pattern, text)\n",
    "    for match in matches:\n",
    "        values.extend([float(val) for val in match[::2]])\n",
    "\n",
    "print(values)"
   ]
  },
  {
   "cell_type": "code",
   "execution_count": 149,
   "id": "3dcb4ddd-890d-4d5f-b97e-93fd445bd4c0",
   "metadata": {},
   "outputs": [
    {
     "ename": "ValueError",
     "evalue": "could not convert string to float: '.'",
     "output_type": "error",
     "traceback": [
      "\u001b[0;31m---------------------------------------------------------------------------\u001b[0m",
      "\u001b[0;31mValueError\u001b[0m                                Traceback (most recent call last)",
      "Cell \u001b[0;32mIn[149], line 34\u001b[0m\n\u001b[1;32m     32\u001b[0m     matches \u001b[38;5;241m=\u001b[39m re\u001b[38;5;241m.\u001b[39mfindall(pattern, text)\n\u001b[1;32m     33\u001b[0m     \u001b[38;5;28;01mfor\u001b[39;00m match \u001b[38;5;129;01min\u001b[39;00m matches:\n\u001b[0;32m---> 34\u001b[0m         values_more_than\u001b[38;5;241m.\u001b[39mextend([\u001b[38;5;28mfloat\u001b[39m(val[\u001b[38;5;241m0\u001b[39m]) \u001b[38;5;28;01mfor\u001b[39;00m val \u001b[38;5;129;01min\u001b[39;00m match \u001b[38;5;28;01mif\u001b[39;00m val \u001b[38;5;241m!=\u001b[39m \u001b[38;5;124m'\u001b[39m\u001b[38;5;124m'\u001b[39m])\n\u001b[1;32m     36\u001b[0m values_less_than \u001b[38;5;241m=\u001b[39m []\n\u001b[1;32m     37\u001b[0m \u001b[38;5;28;01mfor\u001b[39;00m pattern \u001b[38;5;129;01min\u001b[39;00m less_than:\n",
      "Cell \u001b[0;32mIn[149], line 34\u001b[0m, in \u001b[0;36m<listcomp>\u001b[0;34m(.0)\u001b[0m\n\u001b[1;32m     32\u001b[0m     matches \u001b[38;5;241m=\u001b[39m re\u001b[38;5;241m.\u001b[39mfindall(pattern, text)\n\u001b[1;32m     33\u001b[0m     \u001b[38;5;28;01mfor\u001b[39;00m match \u001b[38;5;129;01min\u001b[39;00m matches:\n\u001b[0;32m---> 34\u001b[0m         values_more_than\u001b[38;5;241m.\u001b[39mextend([\u001b[38;5;28;43mfloat\u001b[39;49m\u001b[43m(\u001b[49m\u001b[43mval\u001b[49m\u001b[43m[\u001b[49m\u001b[38;5;241;43m0\u001b[39;49m\u001b[43m]\u001b[49m\u001b[43m)\u001b[49m \u001b[38;5;28;01mfor\u001b[39;00m val \u001b[38;5;129;01min\u001b[39;00m match \u001b[38;5;28;01mif\u001b[39;00m val \u001b[38;5;241m!=\u001b[39m \u001b[38;5;124m'\u001b[39m\u001b[38;5;124m'\u001b[39m])\n\u001b[1;32m     36\u001b[0m values_less_than \u001b[38;5;241m=\u001b[39m []\n\u001b[1;32m     37\u001b[0m \u001b[38;5;28;01mfor\u001b[39;00m pattern \u001b[38;5;129;01min\u001b[39;00m less_than:\n",
      "\u001b[0;31mValueError\u001b[0m: could not convert string to float: '.'"
     ]
    }
   ],
   "source": [
    "import re\n",
    "\n",
    "more_than = [\n",
    "    r'(\\d+(\\.\\d+)?) or more',\n",
    "    r'(\\d+(\\.\\d+)?) or greater',\n",
    "    r'at least (\\d+(\\.\\d+)?)',\n",
    "    r'no less than (\\d+(\\.\\d+)?)',\n",
    "    r'(\\d+(\\.\\d+)?) or above',\n",
    "    r'(\\d+(\\.\\d+)?) and above',\n",
    "    r'(\\d+(\\.\\d+)?) and beyond',\n",
    "    r'more than (\\d+(\\.\\d+)?)',\n",
    "    # r'values greater than (\\d+(\\.\\d+)?)'\n",
    "]\n",
    "\n",
    "less_than = [\n",
    "    r'less than (\\d+(\\.\\d+)?)',\n",
    "    r'fewer than (\\d+(\\.\\d+)?)',\n",
    "    r'under (\\d+(\\.\\d+)?)',\n",
    "    r'below (\\d+(\\.\\d+)?)',\n",
    "    r'(\\d+(\\.\\d+)?) or less',\n",
    "    r'(\\d+(\\.\\d+)?) or fewer',\n",
    "    r'(\\d+(\\.\\d+)?) and below',\n",
    "    r'(\\d+(\\.\\d+)?) and under',\n",
    "    r'less than or equal to (\\d+(\\.\\d+)?)'\n",
    "]\n",
    "\n",
    "# text = \"The value is between 10 and 20, from 5 to 15, at least 8, and less than 25, more than 30, values greater than 35, and less than or equal to 40.\"\n",
    "text = \"extract values more than 10.5\"\n",
    "\n",
    "values_more_than = []\n",
    "for pattern in more_than:\n",
    "    matches = re.findall(pattern, text)\n",
    "    for match in matches:\n",
    "        values_more_than.extend([float(val[0]) for val in match if val != ''])\n",
    "\n",
    "values_less_than = []\n",
    "for pattern in less_than:\n",
    "    matches = re.findall(pattern, text)\n",
    "    for match in matches:\n",
    "        values_less_than.extend([float(val[0]) for val in match if val != ''])\n",
    "\n",
    "print(\"Values more than:\", values_more_than)\n",
    "print(\"Values less than:\", values_less_than)"
   ]
  },
  {
   "cell_type": "code",
   "execution_count": 201,
   "id": "a00f5f7e-7795-448d-a3aa-6da2dafb0cdd",
   "metadata": {},
   "outputs": [],
   "source": [
    "import re\n",
    "\n",
    "# strictly less than\n",
    "less_than_patterns = [\n",
    "    r'less than (\\d+(\\.\\d+)?)',\n",
    "    r'fewer than (\\d+(\\.\\d+)?)',\n",
    "    r'under (\\d+(\\.\\d+)?)',\n",
    "    r'below (\\d+(\\.\\d+)?)',\n",
    "    r'(\\d+(\\.\\d+)?) or less',\n",
    "    r'(\\d+(\\.\\d+)?) or fewer',\n",
    "    r'(\\d+(\\.\\d+)?) and below',\n",
    "    r'(\\d+(\\.\\d+)?) and under'\n",
    "]\n",
    "\n",
    "# strictly more than\n",
    "more_than_patterns = [\n",
    "    r'(\\d+(\\.\\d+)?) or more',\n",
    "    r'(\\d+(\\.\\d+)?) or greater',\n",
    "    r'at least (\\d+(\\.\\d+)?)',\n",
    "    r'no less than (\\d+(\\.\\d+)?)',\n",
    "    r'(\\d+(\\.\\d+)?) or above',\n",
    "    r'(\\d+(\\.\\d+)?) and above',\n",
    "    r'(\\d+(\\.\\d+)?) and beyond',\n",
    "    r'more than (\\d+(\\.\\d+)?)',\n",
    "    r'values greater than (\\d+(\\.\\d+)?)',\n",
    "    r'above (\\d+(\\.\\d+)?)'\n",
    "]\n"
   ]
  },
  {
   "cell_type": "code",
   "execution_count": 185,
   "id": "54cba57c-3d25-4e34-b0cf-d2c965e63a9d",
   "metadata": {},
   "outputs": [
    {
     "ename": "TypeError",
     "evalue": "'re.Match' object is not iterable",
     "output_type": "error",
     "traceback": [
      "\u001b[0;31m---------------------------------------------------------------------------\u001b[0m",
      "\u001b[0;31mTypeError\u001b[0m                                 Traceback (most recent call last)",
      "Cell \u001b[0;32mIn[185], line 26\u001b[0m\n\u001b[1;32m     23\u001b[0m input_string \u001b[38;5;241m=\u001b[39m \u001b[38;5;124m\"\u001b[39m\u001b[38;5;124mextract values between 10.3 and 100.5\u001b[39m\u001b[38;5;124m\"\u001b[39m\n\u001b[1;32m     24\u001b[0m \u001b[38;5;66;03m# pattern_search(input_string,less_than_patterns)\u001b[39;00m\n\u001b[1;32m     25\u001b[0m \u001b[38;5;66;03m# pattern_search(input_string,more_than_patterns)\u001b[39;00m\n\u001b[0;32m---> 26\u001b[0m \u001b[43mpattern_search\u001b[49m\u001b[43m(\u001b[49m\u001b[43minput_string\u001b[49m\u001b[43m,\u001b[49m\u001b[43mbetween_patterns\u001b[49m\u001b[43m)\u001b[49m\n",
      "Cell \u001b[0;32mIn[185], line 18\u001b[0m, in \u001b[0;36mpattern_search\u001b[0;34m(input_string, re_pattern)\u001b[0m\n\u001b[1;32m     16\u001b[0m \u001b[38;5;28;01mfor\u001b[39;00m pattern \u001b[38;5;129;01min\u001b[39;00m re_pattern:\n\u001b[1;32m     17\u001b[0m     match \u001b[38;5;241m=\u001b[39m re\u001b[38;5;241m.\u001b[39msearch(pattern, input_string)\n\u001b[0;32m---> 18\u001b[0m     extracted \u001b[38;5;241m=\u001b[39m [[value[\u001b[38;5;241m0\u001b[39m]] \u001b[38;5;28;01mfor\u001b[39;00m value \u001b[38;5;129;01min\u001b[39;00m match]\n\u001b[1;32m     19\u001b[0m     \u001b[38;5;28mprint\u001b[39m(extracted)\n",
      "\u001b[0;31mTypeError\u001b[0m: 're.Match' object is not iterable"
     ]
    }
   ],
   "source": [
    "# input_string = \"extract values less than 10.5 for column A\"\n",
    "# input_string = \"extract values in the dataframe column A which are no less than 10.5\"\n",
    "# input_string = \"extract values which are below 10.5\"\n",
    "# input_string = \"extract values which are fewer than 10.5\"\n",
    "\n",
    "\n",
    "# for pattern in less_than_patterns:\n",
    "#     match = re.search(pattern, input_string)\n",
    "#     if match:\n",
    "#         value = match.group(1)\n",
    "#         print(value)\n",
    "\n",
    "\n",
    "def pattern_search(input_string:str,re_pattern:list):\n",
    "\n",
    "    for pattern in re_pattern:\n",
    "        match = re.search(pattern, input_string)\n",
    "        extracted = [[value[0]] for value in match]\n",
    "        print(extracted)\n",
    "\n",
    "# input_string = \"extract values greater than 15.5\"\n",
    "input_string = \"extract values between 10.3 and 100.5\"\n",
    "pattern_search(input_string,less_than_patterns)\n",
    "pattern_search(input_string,more_than_patterns)\n",
    "pattern_search(input_string,between_patterns)"
   ]
  },
  {
   "cell_type": "code",
   "execution_count": 218,
   "id": "070db1a4-866e-4f1e-9118-90975509cb09",
   "metadata": {},
   "outputs": [
    {
     "name": "stdout",
     "output_type": "stream",
     "text": [
      "['1000', '20']\n"
     ]
    }
   ],
   "source": [
    "# Define the between_patterns\n",
    "between_patterns = [\n",
    "    r'between (\\d+(\\.\\d+)?) and (\\d+(\\.\\d+)?)',\n",
    "    r'from (\\d+(\\.\\d+)?) to (\\d+(\\.\\d+)?)',\n",
    "    r'in the range (\\d+(\\.\\d+)?)-(\\d+(\\.\\d+)?)',\n",
    "    r'up to (\\d+(\\.\\d+)?) from (\\d+(\\.\\d+)?)',\n",
    "    r'in the range (\\d+(\\.\\d+)?) through (\\d+(\\.\\d+)?)',\n",
    "    r'starting from (\\d+(\\.\\d+)?), ending at (\\d+(\\.\\d+)?)',\n",
    "    r'(\\d+(\\.\\d+)?) - (\\d+(\\.\\d+)?)',\n",
    "    r'(\\d+(\\.\\d+)?) to (\\d+(\\.\\d+)?)',\n",
    "    r'in the range (\\d+(\\.\\d+)?) and (\\d+(\\.\\d+)?)'\n",
    "]\n",
    "\n",
    "def check_value_re(input:str):\n",
    "\n",
    "    for re_pattern in between_patterns:\n",
    "        range_values = re.findall(re_pattern, text)\n",
    "\n",
    "        lst_data = []\n",
    "        for value in range_values:\n",
    "            lst_data.append([value[0],value[2]])\n",
    "        \n",
    "        # extracted = [[value[0], value[2]] for value in range_values]\n",
    "\n",
    "        if(len(lst_data) != 0):\n",
    "            print(extracted[0])\n",
    "\n",
    "\n",
    "# Example text to search for matches\n",
    "text = \"extract the values in the range 1000 and 20\"\n",
    "\n",
    "check_value_re(text)\n",
    "# pattern_search(text,less_than_patterns)\n",
    "# pattern_search(text,more_than_patterns)\n",
    "\n"
   ]
  },
  {
   "cell_type": "code",
   "execution_count": null,
   "id": "23c665c2-200d-40b3-af34-9b264f9b9844",
   "metadata": {},
   "outputs": [],
   "source": []
  }
 ],
 "metadata": {
  "kernelspec": {
   "display_name": "Python 3 (ipykernel)",
   "language": "python",
   "name": "python3"
  },
  "language_info": {
   "codemirror_mode": {
    "name": "ipython",
    "version": 3
   },
   "file_extension": ".py",
   "mimetype": "text/x-python",
   "name": "python",
   "nbconvert_exporter": "python",
   "pygments_lexer": "ipython3",
   "version": "3.10.10"
  }
 },
 "nbformat": 4,
 "nbformat_minor": 5
}
