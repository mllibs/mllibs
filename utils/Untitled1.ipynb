{
 "cells": [
  {
   "cell_type": "code",
   "execution_count": 6,
   "id": "8d10f7d8-0d99-4c6d-b252-bb434f9ad61f",
   "metadata": {},
   "outputs": [],
   "source": [
    "import psycopg2\n",
    "\n",
    "conn = psycopg2.connect(database = \"postgres\",\n",
    "                        user = \"postgres\",\n",
    "                        port = 5433)\n",
    "cur = conn.cursor()"
   ]
  },
  {
   "cell_type": "code",
   "execution_count": 16,
   "id": "afe50d59-0143-43f7-980d-b4510619ed33",
   "metadata": {},
   "outputs": [
    {
     "name": "stdout",
     "output_type": "stream",
     "text": [
      "[(1, 'Business'), (2, 'Analytics')]\n"
     ]
    }
   ],
   "source": [
    "cur.execute(\"SELECT * FROM department\")\n",
    "print(cur.fetchall())\n",
    "conn.commit()"
   ]
  },
  {
   "cell_type": "code",
   "execution_count": 62,
   "id": "7d1e5d4c-2c2c-48b2-b3c0-7c4d23f67fd0",
   "metadata": {},
   "outputs": [],
   "source": [
    "# create table\n",
    "cur = conn.cursor()\n",
    "# cur.execute(\n",
    "# '''\n",
    "# CREATE TABLE EXAMPLE1 (\n",
    "#                         NAME VARCHAR(100) PRIMARY KEY,\n",
    "#                         DEPARTMENT VARCHAR(100),\n",
    "#                         SALARY INT\n",
    "#                       );\n",
    "# ''')\n",
    "\n",
    "cur.execute(\"\"\"\n",
    "CREATE TABLE EXAMPLE2 (DATE DATE,\n",
    "                       REVENUE INT);\n",
    "\"\"\")\n",
    "conn.commit()\n",
    "cur.close()"
   ]
  },
  {
   "cell_type": "code",
   "execution_count": 63,
   "id": "82d98c24-6bf5-471c-9580-db3822d85016",
   "metadata": {},
   "outputs": [],
   "source": [
    "# add data\n",
    "\n",
    "# query = \"\"\"\n",
    "# INSERT INTO example1 (NAME, DEPARTMENT, SALARY)\n",
    "# VALUES\n",
    "#     ('John', 'Sales', 5000),\n",
    "#     ('Alice', 'Sales', 5500),\n",
    "#     ('Bob', 'Sales', 4800),\n",
    "#     ('Mary', 'Marketing', 6000),\n",
    "#     ('Tom', 'Marketing', 6200),\n",
    "#     ('Emily', 'Marketing', 5800);\n",
    "# \"\"\"\n",
    "\n",
    "# cur = conn.cursor()\n",
    "# cur.execute(query)\n",
    "# conn.commit()\n",
    "# cur.close()\n",
    "\n",
    "query = \"\"\"\n",
    "INSERT INTO example2 (date, revenue)\n",
    "VALUES\n",
    "    ('2021-01-01', 1000),\n",
    "    ('2021-01-02', 1500),\n",
    "    ('2021-01-03', 1200),\n",
    "    ('2021-01-04', 2000);\n",
    "\"\"\"\n",
    "\n",
    "cur = conn.cursor()\n",
    "cur.execute(query)\n",
    "conn.commit()\n",
    "cur.close()"
   ]
  },
  {
   "cell_type": "code",
   "execution_count": 23,
   "id": "914450a7-d861-4d51-b858-e1e33931c555",
   "metadata": {},
   "outputs": [],
   "source": [
    "# drop table\n",
    "cur = conn.cursor()\n",
    "cur.execute('DROP TABLE EXAMPLE1')\n",
    "conn.commit()\n",
    "cur.close()"
   ]
  },
  {
   "cell_type": "code",
   "execution_count": 61,
   "id": "1254572e-58b0-4082-9564-02017483f5dd",
   "metadata": {},
   "outputs": [
    {
     "data": {
      "text/plain": [
       "[('Mary', 'Marketing', 6000, 1),\n",
       " ('Tom', 'Marketing', 6200, 2),\n",
       " ('Emily', 'Marketing', 5800, 3),\n",
       " ('John', 'Sales', 5000, 1),\n",
       " ('Alice', 'Sales', 5500, 2),\n",
       " ('Bob', 'Sales', 4800, 3)]"
      ]
     },
     "execution_count": 61,
     "metadata": {},
     "output_type": "execute_result"
    }
   ],
   "source": [
    "query = \"\"\"\n",
    "SELECT \n",
    "    NAME,\n",
    "    DEPARTMENT,\n",
    "    salary,\n",
    "    row_number() over (partition by DEPARTMENT) as rank\n",
    "from \n",
    "    EXAMPLE1\n",
    "\"\"\"\n",
    "\n",
    "cur = conn.cursor()\n",
    "cur.execute(query)\n",
    "cur.fetchall()"
   ]
  },
  {
   "cell_type": "code",
   "execution_count": 72,
   "id": "65ee2e2d-7841-43cc-be43-5ceb90c1b187",
   "metadata": {},
   "outputs": [
    {
     "data": {
      "text/plain": [
       "[(datetime.date(2021, 1, 1), 1000, None),\n",
       " (datetime.date(2021, 1, 2), 1500, 500),\n",
       " (datetime.date(2021, 1, 3), 1200, -300),\n",
       " (datetime.date(2021, 1, 4), 2000, 800)]"
      ]
     },
     "execution_count": 72,
     "metadata": {},
     "output_type": "execute_result"
    }
   ],
   "source": [
    "query = \"\"\"\n",
    "SELECT \n",
    "    DATE,\n",
    "    REVENUE,\n",
    "    REVENUE - lag(revenue) over () as revenue_change \n",
    "FROM \n",
    "    EXAMPLE2\n",
    "\"\"\"\n",
    "\n",
    "cur = conn.cursor()\n",
    "cur.execute(query)\n",
    "cur.fetchall()"
   ]
  },
  {
   "cell_type": "code",
   "execution_count": 75,
   "id": "0df10d6c-381d-4d11-8b01-d5643131d740",
   "metadata": {},
   "outputs": [],
   "source": [
    "conn.commit()\n",
    "cur.close()"
   ]
  },
  {
   "cell_type": "code",
   "execution_count": 76,
   "id": "7ba9ddae-744e-4ff4-ae8b-302f7c722828",
   "metadata": {},
   "outputs": [
    {
     "data": {
      "text/plain": [
       "[(datetime.date(2021, 1, 1), 1000, Decimal('1250.0000000000000000')),\n",
       " (datetime.date(2021, 1, 2), 1500, Decimal('1233.3333333333333333')),\n",
       " (datetime.date(2021, 1, 3), 1200, Decimal('1566.6666666666666667')),\n",
       " (datetime.date(2021, 1, 4), 2000, Decimal('1600.0000000000000000'))]"
      ]
     },
     "execution_count": 76,
     "metadata": {},
     "output_type": "execute_result"
    }
   ],
   "source": [
    "query = \"\"\"\n",
    "SELECT \n",
    "    DATE,\n",
    "    REVENUE,\n",
    "    AVG(revenue) over (rows between 1 preceding and 1 following)\n",
    "FROM \n",
    "    EXAMPLE2\n",
    "\"\"\"\n",
    "\n",
    "cur = conn.cursor()\n",
    "cur.execute(query)\n",
    "cur.fetchall()"
   ]
  },
  {
   "cell_type": "code",
   "execution_count": 80,
   "id": "4c703c38-f519-411b-99ab-7a3c5f679757",
   "metadata": {},
   "outputs": [],
   "source": [
    "## Text Searches"
   ]
  },
  {
   "cell_type": "code",
   "execution_count": 79,
   "id": "8eab3d52-08d7-4e1e-ac6a-4291bcf3d126",
   "metadata": {},
   "outputs": [],
   "source": [
    "query_create_table = \"\"\"\n",
    "-- Create the sample_text_data table\n",
    "CREATE TABLE sample_text_data (\n",
    "    id SERIAL PRIMARY KEY,\n",
    "    text_content TEXT\n",
    ");\n",
    "\"\"\"\n",
    "\n",
    "query_add_data = \"\"\"\n",
    "-- Insert sample text data\n",
    "INSERT INTO sample_text_data (text_content) VALUES\n",
    "('This is a sample text containing important information.'),\n",
    "('The quick brown fox jumps over the lazy dog.'),\n",
    "('SQL is a powerful language for querying databases.'),\n",
    "('PostgreSQL is an open-source relational database management system.');\n",
    "\"\"\"\n",
    "\n",
    "cur = conn.cursor()\n",
    "cur.execute(query_create_table)\n",
    "cur.execute(query_add_data)\n",
    "conn.commit()\n",
    "cur.close()"
   ]
  },
  {
   "cell_type": "code",
   "execution_count": 94,
   "id": "4a0f43a0-5526-4ae3-bc7c-1316540292ec",
   "metadata": {},
   "outputs": [
    {
     "data": {
      "text/plain": [
       "[(3, 'SQL is a powerful language for querying databases.')]"
      ]
     },
     "execution_count": 94,
     "metadata": {},
     "output_type": "execute_result"
    }
   ],
   "source": [
    "# query = \"\"\"\n",
    "# SELECT *\n",
    "# FROM sample_text_data\n",
    "# WHERE text_content like \"querying\"\n",
    "# \"\"\"\n",
    "\n",
    "# query = \"\"\"\n",
    "# SELECT * \n",
    "# FROM customer_reviews\n",
    "# WHERE MATCH (review_text) AGAINST ('SQL');\n",
    "# \"\"\"   \n",
    "\n",
    "query = '''\n",
    "-- Convert the MySQL query to PostgreSQL format\n",
    "SELECT * \n",
    "FROM sample_text_data\n",
    "WHERE to_tsvector('english', text_content) @@ to_tsquery('english', 'SQL');\n",
    "'''\n",
    "\n",
    "cur = conn.cursor()\n",
    "cur.execute(query)\n",
    "cur.fetchall()"
   ]
  },
  {
   "cell_type": "code",
   "execution_count": 93,
   "id": "8be9d018-e64e-4c52-82ea-009fc475ba98",
   "metadata": {},
   "outputs": [],
   "source": [
    "conn.commit()\n",
    "cur.close()"
   ]
  },
  {
   "cell_type": "code",
   "execution_count": 96,
   "id": "14b1681b-acda-4ee3-bd9c-67d20b014fae",
   "metadata": {},
   "outputs": [
    {
     "data": {
      "text/plain": [
       "[(3, 'SQL is a powerful language for querying databases.'),\n",
       " (4, 'PostgreSQL is an open-source relational database management system.')]"
      ]
     },
     "execution_count": 96,
     "metadata": {},
     "output_type": "execute_result"
    }
   ],
   "source": [
    "query = '''\n",
    "-- Convert the MySQL query to PostgreSQL format\n",
    "SELECT * \n",
    "FROM sample_text_data\n",
    "WHERE text_content like '%SQL%'\n",
    "'''\n",
    "\n",
    "cur = conn.cursor()\n",
    "cur.execute(query)\n",
    "cur.fetchall()"
   ]
  },
  {
   "cell_type": "code",
   "execution_count": 174,
   "id": "25979fe5-c1ba-4331-997e-04585c38e43a",
   "metadata": {},
   "outputs": [],
   "source": [
    "query = \"\"\"\n",
    "CREATE TABLE employees (\n",
    "    id INT PRIMARY KEY,\n",
    "    name VARCHAR(100),\n",
    "    department VARCHAR(100),\n",
    "    salary DECIMAL(10, 2)\n",
    ");\n",
    "\"\"\"\n",
    "\n",
    "cur = conn.cursor()\n",
    "cur.execute(query)\n",
    "conn.commit()\n",
    "cur.close()\n",
    "\n",
    "query = \"\"\"\n",
    "INSERT INTO employees (id, name, department, salary) VALUES\n",
    "(1, 'John', 'HR', 50000),\n",
    "(2, 'Emily', 'IT', 60000),\n",
    "(3, 'Michael', 'Sales', 55000),\n",
    "(4, 'Jessica', 'Marketing', 52000);\n",
    "\"\"\"\n",
    "\n",
    "cur = conn.cursor()\n",
    "cur.execute(query)\n",
    "conn.commit()\n",
    "cur.close()"
   ]
  },
  {
   "cell_type": "code",
   "execution_count": 111,
   "id": "19c9d705-c05c-4ec5-8054-8ab293fe0a10",
   "metadata": {},
   "outputs": [],
   "source": [
    "# create a table from select and CREATE TABLE AS\n",
    "query = \"\"\"\n",
    "CREATE TABLE temp_employees AS SELECT * FROM employees WHERE id != 3;\n",
    "\"\"\"\n",
    "\n",
    "cur = conn.cursor()\n",
    "cur.execute(query)\n",
    "conn.commit()\n",
    "cur.close()"
   ]
  },
  {
   "cell_type": "code",
   "execution_count": 177,
   "id": "aa2c5548-35b5-44f7-b81d-bf09bc5ec27e",
   "metadata": {},
   "outputs": [],
   "source": [
    "conn.commit()\n",
    "cur.close()"
   ]
  },
  {
   "cell_type": "code",
   "execution_count": 178,
   "id": "fe0baeef-9be6-40c4-96d5-e7d5e15f0201",
   "metadata": {},
   "outputs": [],
   "source": [
    "query = \"ALTER TABLE employees DROP COLUMN new_column\"\n",
    "# query = \"ALTER TABLE employees ADD COLUMN new_column INT \"\n",
    "\n",
    "# query = \"\"\"\n",
    "# INSERT INTO employees (id,new_column) \n",
    "# VALUES (1, 1),\n",
    "#        (2, 2),\n",
    "#        (3, 3),\n",
    "#        (4, 4);\n",
    "# \"\"\"\n",
    "\n",
    "# query = \"\"\"\n",
    "# UPDATE employees SET new_column = 1 WHERE id = 1\n",
    "# \"\"\"\n",
    "\n",
    "# query = \"\"\"\n",
    "# SELECT *\n",
    "# FROM employees\n",
    "# \"\"\"\n",
    "\n",
    "def make_query(query):\n",
    "\n",
    "    cur = conn.cursor()\n",
    "\n",
    "    try:\n",
    "        if(\"SELECT\" in query.split() and query.split()[0] == \"SELECT\"):\n",
    "            cur.execute(query)\n",
    "            data = cur.fetchall()\n",
    "            for row in data:\n",
    "                print(row)\n",
    "        else:\n",
    "            cur = conn.cursor()\n",
    "            cur.execute(query)\n",
    "            conn.commit()\n",
    "    except:\n",
    "        print('cant query')\n",
    "        conn.commit()\n",
    "\n",
    "    cur.close()\n",
    "\n",
    "make_query(query)\n",
    "\n",
    "# constraints\n",
    "# PRIMARY KEY\n",
    "# UNIQUE\n",
    "# FOREIGN KEY\n",
    "# NOT NULL\n",
    "# CHECK\n",
    "\n",
    "# table constraints\n",
    "# - PRIMAR  KEY (unique index + NOT NULL)\n",
    "# - FOREIGN KEY (added index must be in REFERENCE table\n",
    "# - UNIQUE  (contains unique values)\n",
    "# - NOT NULL (cannot be NULL)\n",
    "# - CHECK (check certain condition eg. ALTER TABLE ADD CONSTRAINT column column > 0\n",
    "\n",
    "\n"
   ]
  },
  {
   "cell_type": "code",
   "execution_count": 179,
   "id": "3f8c1b6c-f10d-4965-a971-5f1c6598de00",
   "metadata": {},
   "outputs": [
    {
     "ename": "UndefinedColumn",
     "evalue": "column \"new_column\" of relation \"employees\" does not exist\nLINE 2: INSERT INTO employees (new_column) \n                               ^\n",
     "output_type": "error",
     "traceback": [
      "\u001b[0;31m---------------------------------------------------------------------------\u001b[0m",
      "\u001b[0;31mUndefinedColumn\u001b[0m                           Traceback (most recent call last)",
      "Cell \u001b[0;32mIn[179], line 23\u001b[0m\n\u001b[1;32m     11\u001b[0m \u001b[38;5;66;03m# insert value for each column index\u001b[39;00m\n\u001b[1;32m     12\u001b[0m \u001b[38;5;66;03m# update existing values\u001b[39;00m\n\u001b[1;32m     13\u001b[0m \u001b[38;5;66;03m# query = \"\"\"\u001b[39;00m\n\u001b[0;32m   (...)\u001b[0m\n\u001b[1;32m     19\u001b[0m \n\u001b[1;32m     20\u001b[0m \u001b[38;5;66;03m# query = \"\"\"DROP TABLE employees\"\"\"\u001b[39;00m\n\u001b[1;32m     22\u001b[0m cur \u001b[38;5;241m=\u001b[39m conn\u001b[38;5;241m.\u001b[39mcursor()\n\u001b[0;32m---> 23\u001b[0m \u001b[43mcur\u001b[49m\u001b[38;5;241;43m.\u001b[39;49m\u001b[43mexecute\u001b[49m\u001b[43m(\u001b[49m\u001b[43mquery\u001b[49m\u001b[43m)\u001b[49m\n\u001b[1;32m     24\u001b[0m conn\u001b[38;5;241m.\u001b[39mcommit()\n",
      "\u001b[0;31mUndefinedColumn\u001b[0m: column \"new_column\" of relation \"employees\" does not exist\nLINE 2: INSERT INTO employees (new_column) \n                               ^\n"
     ]
    }
   ],
   "source": [
    "# doesn't work for column imports\n",
    "# insert into (new row)\n",
    "query = \"\"\"\n",
    "INSERT INTO employees (new_column) \n",
    "VALUES (1),\n",
    "       (2),\n",
    "       (3),\n",
    "       (4);\n",
    "\"\"\"\n",
    "\n",
    "# insert value for each column index\n",
    "# update existing values\n",
    "# query = \"\"\"\n",
    "# UPDATE employees SET new_column = 1 WHERE id = 1;\n",
    "# UPDATE employees SET new_column = 2 WHERE id = 2;\n",
    "# UPDATE employees SET new_column = 3 WHERE id = 3;\n",
    "# UPDATE employees SET new_column = 4 WHERE id = 4;\n",
    "# \"\"\"\n",
    "\n",
    "# query = \"\"\"DROP TABLE employees\"\"\"\n",
    "\n",
    "cur = conn.cursor()\n",
    "cur.execute(query)\n",
    "conn.commit()"
   ]
  },
  {
   "cell_type": "code",
   "execution_count": null,
   "id": "80a5ede7-1bef-441f-836f-b66223cfa895",
   "metadata": {},
   "outputs": [],
   "source": []
  }
 ],
 "metadata": {
  "kernelspec": {
   "display_name": "Python 3 (ipykernel)",
   "language": "python",
   "name": "python3"
  },
  "language_info": {
   "codemirror_mode": {
    "name": "ipython",
    "version": 3
   },
   "file_extension": ".py",
   "mimetype": "text/x-python",
   "name": "python",
   "nbconvert_exporter": "python",
   "pygments_lexer": "ipython3",
   "version": "3.10.10"
  }
 },
 "nbformat": 4,
 "nbformat_minor": 5
}
