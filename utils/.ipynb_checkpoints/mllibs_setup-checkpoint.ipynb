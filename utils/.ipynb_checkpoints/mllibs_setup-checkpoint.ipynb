{
 "cells": [
  {
   "cell_type": "markdown",
   "id": "b4903747-a65f-496d-b8e2-fe77bfce0c6b",
   "metadata": {},
   "source": [
    "### **Setup Interpreter**\n",
    "\n",
    "Some test code that shows how to use **mllibs**"
   ]
  },
  {
   "cell_type": "code",
   "execution_count": 1,
   "id": "ff2e97d6-3908-44d1-a884-e113e5334c33",
   "metadata": {
    "editable": true,
    "slideshow": {
     "slide_type": ""
    },
    "tags": []
   },
   "outputs": [
    {
     "name": "stdout",
     "output_type": "stream",
     "text": [
      "\n",
      "[note] initialising nlpm, please load modules using .load(list)\n",
      "[note] loading modules ...\n",
      "[note] making module summary labels...\n",
      "[note] training  [gt] [RandomForestClassifier()] [accuracy,0.997]\n",
      "[note] models trained!\n"
     ]
    }
   ],
   "source": [
    "import pandas as pd\n",
    "import numpy as np\n",
    "from mllibs.nlpm import nlpm\n",
    "from mllibs.nlpi import nlpi\n",
    "from mllibs.eda.meda_scplot import eda_scplot\n",
    "from mllibs.eda.meda_pplot import eda_pplot\n",
    "from mllibs.eda.meda_splot import eda_splot\n",
    "from mllibs.nlp.mencoder import encoder\n",
    "from mllibs.nlp.membedding import embedding\n",
    "from mllibs.stats.mstats_tests import stats_tests\n",
    "from mllibs.stats.mstats_plot import stats_plot\n",
    "from mllibs.libop.mlibop import libop_general\n",
    "from mllibs.pd.mpd_df import pd_df\n",
    "from mllibs.pd.mpd_talktodata import pd_talktodata\n",
    "# from mllibs.moutliers import data_outliers\n",
    "# from mllibs.mdsplit import make_fold\n",
    "# from mllibs.musldimred import make_dimred \n",
    "\n",
    "nlpi.silent = False\n",
    "nlpi.activate = False\n",
    "# link all modules into one collection|\n",
    "collection = nlpm()\n",
    "collection.load([\n",
    "                 eda_splot(),     # [eda] standard seaborn plots\n",
    "                 eda_scplot(),    # [eda] seaborn column plots\n",
    "                 encoder(),       # [nlp] standard encoding methods \n",
    "                 embedding(),     # [nlp] embedding methods\n",
    "                 eda_pplot(),     # [eda] plotly express visualisations\n",
    "                 stats_tests(),   # [stats] statistical tests for list data\n",
    "                 stats_plot(),    # [stats] ploty and compare statistical distributions\n",
    "                 libop_general(), # [library] mllibs related functionality\n",
    "                 pd_df(),         # [eda] simple pandas operations\n",
    "                 pd_talktodata()  # [eda] pandas data exploration \n",
    "                ])\n",
    "\n",
    "collection.train()\n",
    "interpreter = nlpi(collection)\n",
    "interpreter.load_sample_data()\n",
    "# interpreter.store_data(pd.read_csv('penguins.csv'),'penguins') \n",
    "interpreter.store_ac('penguins','selected_columns',['bill_length_mm','bill_depth_mm'])\n",
    "# interpreter['what data is available']\n",
    "\n",
    "from sklearn.model_selection import train_test_split\n",
    "\n",
    "ldata = nlpi.data['iris']['data']\n",
    "train,test = train_test_split(ldata)\n",
    "\n",
    "# store data\n",
    "interpreter.store_data({'train':train,'test':test})\n",
    "\n",
    "# store data\n",
    "sample1 = list(np.random.normal(scale=1, size=1000))\n",
    "sample2 = list(np.random.normal(scale=1, size=1000))\n",
    "\n",
    "interpreter.store_data({'distribution_A':sample1,\n",
    "                        'distribution_B':sample2})"
   ]
  },
  {
   "cell_type": "code",
   "execution_count": 1,
   "id": "f9f43561-d6be-4efc-b461-6a9640a18a4e",
   "metadata": {},
   "outputs": [],
   "source": [
    "'''\n",
    "\n",
    "mllibs related queries\n",
    "\n",
    "'''\n",
    "\n",
    "# # interpreter['which data is available to me']\n",
    "# # interpreter['show the dataframe information for data flights']"
   ]
  },
  {
   "cell_type": "code",
   "execution_count": 2,
   "id": "84d012fb-455f-4fad-969d-d765e405534e",
   "metadata": {},
   "outputs": [],
   "source": [
    "# import plotly.express as px\n",
    "\n",
    "# df = px.data.stocks()\n",
    "# df.head()\n",
    "\n",
    "# # px.line(df,x='data',y='AAPL')\n",
    "\n",
    "# df = px.data.stocks()\n",
    "# lst = list(df.head(1).values[0])\n",
    "# # fig = px.line(df, x='date', y=\"GOOG\",template='plotly_white',)\n",
    "# # fig.show()\n",
    "\n",
    "# def contains_date(string):\n",
    "#     try:\n",
    "#         print(pd.to_datetime(string))\n",
    "#         return True\n",
    "#     except ValueError:\n",
    "#         return False\n",
    "\n",
    "# # lst[0]\n",
    "\n",
    "# contains_date(lst[0])\n",
    "\n",
    "# pd.to_datetime()"
   ]
  },
  {
   "cell_type": "code",
   "execution_count": 3,
   "id": "023ee222-4bde-43af-bacb-8b8d215fd042",
   "metadata": {},
   "outputs": [],
   "source": [
    "# funds = pd.read_csv('https://raw.githubusercontent.com/shtrausslearning/Data-Science-Portfolio/main/sources/funds_data.csv',delimiter=';')\n",
    "# funds.head()\n",
    "# interpreter.store_data({'funds':train})"
   ]
  },
  {
   "cell_type": "code",
   "execution_count": 10,
   "id": "2f446952-95ab-4d2f-8adf-bcae1fd7903c",
   "metadata": {},
   "outputs": [
    {
     "name": "stdout",
     "output_type": "stream",
     "text": [
      "<class 'pandas.core.frame.DataFrame'>\n",
      "RangeIndex: 506 entries, 0 to 505\n",
      "Data columns (total 11 columns):\n",
      " #   Column         Non-Null Count  Dtype  \n",
      "---  ------         --------------  -----  \n",
      " 0   Date           506 non-null    object \n",
      " 1   AAPL.Open      506 non-null    float64\n",
      " 2   AAPL.High      506 non-null    float64\n",
      " 3   AAPL.Low       506 non-null    float64\n",
      " 4   AAPL.Close     506 non-null    float64\n",
      " 5   AAPL.Volume    506 non-null    int64  \n",
      " 6   AAPL.Adjusted  506 non-null    float64\n",
      " 7   dn             506 non-null    float64\n",
      " 8   mavg           506 non-null    float64\n",
      " 9   up             506 non-null    float64\n",
      " 10  direction      506 non-null    object \n",
      "dtypes: float64(8), int64(1), object(2)\n",
      "memory usage: 43.6+ KB\n"
     ]
    }
   ],
   "source": [
    "# interpreter['create plotly lineplot using funds x: D"
   ]
  },
  {
   "cell_type": "code",
   "execution_count": 12,
   "id": "eba8b5c0-a99f-4fa0-afb9-591d19194e35",
   "metadata": {},
   "outputs": [
    {
     "name": "stdout",
     "output_type": "stream",
     "text": [
      "[note] found relevant global task [dfconcat] w/ [0.74] certainty!\n"
     ]
    }
   ],
   "source": [
    "'''\n",
    "\n",
    "pd_df library tests\n",
    "\n",
    "'''\n",
    "\n",
    "interpreter['concatenate two dataframes train test axis: 0 join: inner']"
   ]
  },
  {
   "cell_type": "code",
   "execution_count": 3,
   "id": "f3e5a574-3fc0-41c5-b966-dbc6b985e934",
   "metadata": {},
   "outputs": [],
   "source": [
    "# '''\n",
    "\n",
    "# mstats_tests library tests\n",
    "\n",
    "# '''\n",
    "\n",
    "# import numpy as np\n",
    "\n",
    "# nlpi.activate = True\n",
    "# nlpi.silent = True\n",
    "\n",
    "# # store data\n",
    "# sample1 = list(np.random.normal(loc=1,scale=1, size=1000))\n",
    "# sample2 = list(np.random.normal(loc=1,scale=1, size=1000))\n",
    "\n",
    "# interpreter.store_data({'distribution_A':sample1,\n",
    "#                         'distribution_B':sample2})\n",
    "\n",
    "# # req = \"two sample ttest using: distribution_B distribution_A\"\n",
    "# # req = \"comapare histograms of samples distribution_B distribution_A\"\n",
    "# # req = \"compare the histograms of two samples distribution_B distribution_A nbins 50\"\n",
    "\n",
    "# # interpreter[req]\n",
    "\n",
    "# # req = \"compare kde plot of two samples distribution_B distribution_A\"\n",
    "\n",
    "# # interpreter[req]\n",
    "\n",
    "# # req = \"compare the histograms of two samples distribution_B distribution_A nbins 50\"\n",
    "\n",
    "# # interpreter[req]\n",
    "\n",
    "# # req = \"create bootstrap samples for two dataset distribution_B distribution_A nbins: 50\"\n",
    "\n",
    "# # interpreter[req]\n",
    "\n",
    "\n",
    "# # req = \"create wild bootstrap samples for two dataset distribution_B distribution_A nbins: 50\"\n",
    "\n",
    "# # interpreter[req]\n",
    "\n",
    "# sample1 = list(np.random.exponential(scale=1, size=1000))\n",
    "# sample2 = list(np.random.exponential(scale=1, size=1000))\n",
    "\n",
    "# interpreter.store_data({'distribution_A':sample1,\n",
    "#                         'distribution_B':sample2})\n",
    "\n",
    "# req = \"create wild bootstrap samples for two dataset distribution_B distribution_A nbins: 50\"\n",
    "\n",
    "# interpreter[req]\n"
   ]
  },
  {
   "cell_type": "code",
   "execution_count": 59,
   "id": "5e4e540b-3854-453e-93b9-41eaef31b733",
   "metadata": {
    "editable": true,
    "slideshow": {
     "slide_type": ""
    },
    "tags": []
   },
   "outputs": [
    {
     "name": "stdout",
     "output_type": "stream",
     "text": [
      "[note] one source token format\n",
      "\n",
      "[note] NER used to clean input text!\n",
      "[input]\n",
      "show the unique values in column island in data penguins\n",
      "[after]\n",
      "show the unique values in column \n",
      "\n",
      "[note] found relevant global task [dfcolumn_unique] w/ [0.68] certainty!\n",
      "[note] one data source token has been set!\n",
      "['Torgersen' 'Biscoe' 'Dream']\n"
     ]
    }
   ],
   "source": [
    "'''\n",
    "\n",
    "mpd_talktodata examples\n",
    "\n",
    "'''\n",
    "\n",
    "# interpreter['show the distribution of column island in penguins'] # ok\n",
    "# interpreter['show the all the missing data in penguins'] # ok\n",
    "# interpreter['show missing data in col sex in data penguins'] # ok\n",
    "# interpreter['show missing data in penguins']\n",
    "# interpreter['show the dataframe size of data penguins']\n",
    "interpreter['show the unique values in column island in data penguins']"
   ]
  },
  {
   "cell_type": "code",
   "execution_count": 4,
   "id": "6912628a-3823-4589-bbe7-c4a2ea37bf01",
   "metadata": {},
   "outputs": [],
   "source": [
    "# from itertools import groupby\n",
    "\n",
    "# ls = interpreter.token_info.copy()\n",
    "# my_list = list(ls['vocab'])\n",
    "# print(my_list)\n",
    "  \n",
    "# # group together values      \n",
    "# result = [list(group) for key, group in groupby(my_list)]\n",
    "# print(result)\n",
    "\n",
    "# # group together indicies of values\n",
    "# result = [[i for i, _ in group] for key, group in groupby(enumerate(my_list), key=lambda x: x[1]) if key is True]\n",
    "# print(result)\n",
    "\n",
    "# longest_subset = max(result,key=len)\n",
    "# longest_subset = set(longest_subset)\n",
    "# print(longest_subset)\n",
    "\n",
    "# # ner tags which are not O (eg. PARAM/SOURCE)\n",
    "# notO = [ i for i,j in enumerate(list(ls['ner_tags'])) if j != 'O' ]\n",
    "# notO_set = set(notO)\n",
    "\n",
    "# # find overlap\n",
    "# overlap_idx = longest_subset & notO_set\n",
    "\n",
    "# ls['keep_token'] = False\n",
    "# ls.loc[list(overlap_idx),'keep_token'] = True\n",
    "# ls"
   ]
  },
  {
   "cell_type": "code",
   "execution_count": 9,
   "id": "f18e304f-1fd6-446a-adf2-f288f3693c16",
   "metadata": {},
   "outputs": [
    {
     "name": "stdout",
     "output_type": "stream",
     "text": [
      "[note] found relevant global task [plscatter] w/ [0.77] certainty!\n",
      "subset None\n"
     ]
    },
    {
     "data": {
      "application/vnd.plotly.v1+json": {
       "config": {
        "plotlyServerURL": "https://plot.ly"
       },
       "data": [
        {
         "hovertemplate": "island=Torgersen<br>sex=Male<br>body_mass_g=%{x}<br>bill_depth_mm=%{y}<extra></extra>",
         "legendgroup": "Torgersen",
         "marker": {
          "color": "#b4d2b1",
          "line": {
           "color": "black",
           "width": 1.5
          },
          "size": 7,
          "symbol": "circle"
         },
         "mode": "markers",
         "name": "Torgersen",
         "orientation": "v",
         "showlegend": true,
         "type": "scatter",
         "x": [
          3750,
          3650,
          4675,
          3800,
          4400,
          4500,
          4200,
          4450,
          3900,
          4150,
          4250,
          3900,
          4000,
          4700,
          4200,
          3775,
          3325,
          3500,
          3875,
          4000,
          4300,
          4000,
          3500
         ],
         "xaxis": "x",
         "y": [
          18.7,
          20.6,
          19.6,
          21.2,
          21.1,
          20.7,
          21.5,
          19.4,
          18.4,
          18.9,
          18.5,
          19.4,
          19.1,
          17.6,
          19.4,
          20.5,
          18.6,
          19.8,
          18.5,
          19,
          18.3,
          18,
          19.2
         ],
         "yaxis": "y"
        },
        {
         "alignmentgroup": "True",
         "hovertemplate": "island=Torgersen<br>sex=Male<br>body_mass_g=%{x}<extra></extra>",
         "legendgroup": "Torgersen",
         "marker": {
          "color": "#b4d2b1",
          "symbol": "circle"
         },
         "name": "Torgersen",
         "notched": true,
         "offsetgroup": "Torgersen",
         "showlegend": false,
         "type": "box",
         "x": [
          3750,
          3650,
          4675,
          3800,
          4400,
          4500,
          4200,
          4450,
          3900,
          4150,
          4250,
          3900,
          4000,
          4700,
          4200,
          3775,
          3325,
          3500,
          3875,
          4000,
          4300,
          4000,
          3500
         ],
         "xaxis": "x4",
         "yaxis": "y4"
        },
        {
         "hovertemplate": "island=Torgersen<br>sex=Female<br>body_mass_g=%{x}<br>bill_depth_mm=%{y}<extra></extra>",
         "legendgroup": "Torgersen",
         "marker": {
          "color": "#b4d2b1",
          "line": {
           "color": "black",
           "width": 1.5
          },
          "size": 7,
          "symbol": "circle"
         },
         "mode": "markers",
         "name": "Torgersen",
         "orientation": "v",
         "showlegend": false,
         "type": "scatter",
         "x": [
          3800,
          3250,
          3450,
          3625,
          3200,
          3700,
          3450,
          3325,
          3050,
          3600,
          3550,
          3700,
          3700,
          3550,
          3200,
          3800,
          2900,
          3350,
          3150,
          3450,
          3050,
          3275,
          3050,
          3325
         ],
         "xaxis": "x2",
         "y": [
          17.4,
          18,
          19.3,
          17.8,
          17.6,
          17.8,
          19,
          18.4,
          16.6,
          19,
          17.2,
          17.5,
          16.8,
          16.1,
          17.2,
          18.8,
          17,
          17,
          17.2,
          17,
          15.9,
          17.6,
          17.1,
          17.9
         ],
         "yaxis": "y2"
        },
        {
         "alignmentgroup": "True",
         "hovertemplate": "island=Torgersen<br>sex=Female<br>body_mass_g=%{x}<extra></extra>",
         "legendgroup": "Torgersen",
         "marker": {
          "color": "#b4d2b1",
          "symbol": "circle"
         },
         "name": "Torgersen",
         "notched": true,
         "offsetgroup": "Torgersen",
         "showlegend": false,
         "type": "box",
         "x": [
          3800,
          3250,
          3450,
          3625,
          3200,
          3700,
          3450,
          3325,
          3050,
          3600,
          3550,
          3700,
          3700,
          3550,
          3200,
          3800,
          2900,
          3350,
          3150,
          3450,
          3050,
          3275,
          3050,
          3325
         ],
         "xaxis": "x5",
         "yaxis": "y5"
        },
        {
         "hovertemplate": "island=Biscoe<br>sex=Male<br>body_mass_g=%{x}<br>bill_depth_mm=%{y}<extra></extra>",
         "legendgroup": "Biscoe",
         "marker": {
          "color": "#568f8b",
          "line": {
           "color": "black",
           "width": 1.5
          },
          "size": 7,
          "symbol": "circle"
         },
         "mode": "markers",
         "name": "Biscoe",
         "orientation": "v",
         "showlegend": true,
         "type": "scatter",
         "x": [
          3600,
          3950,
          3800,
          3550,
          3950,
          4300,
          4050,
          3700,
          3800,
          3750,
          4400,
          4050,
          3950,
          4100,
          4725,
          4250,
          3550,
          3900,
          4775,
          4600,
          4275,
          4075,
          5700,
          5700,
          5400,
          5200,
          5150,
          5550,
          5850,
          5850,
          6300,
          5350,
          5700,
          5050,
          5100,
          5650,
          5550,
          5250,
          6050,
          5400,
          5250,
          5350,
          5700,
          4750,
          5550,
          5400,
          5300,
          5300,
          5000,
          5050,
          5000,
          5550,
          5300,
          5650,
          5700,
          5800,
          5550,
          5000,
          5100,
          5800,
          6000,
          5950,
          5450,
          5350,
          5600,
          5300,
          5550,
          5400,
          5650,
          5200,
          4925,
          5250,
          5600,
          5500,
          5500,
          5500,
          5500,
          5950,
          5500,
          5850,
          6000,
          5750,
          5400
         ],
         "xaxis": "x",
         "y": [
          18.7,
          18.1,
          17.2,
          18.6,
          18.9,
          18.9,
          19.5,
          18.6,
          18.8,
          19.1,
          21.1,
          18.2,
          18,
          19.1,
          20,
          20,
          18.9,
          20,
          19,
          20.3,
          19.5,
          18.3,
          16.3,
          15.2,
          14.5,
          15.3,
          15.4,
          16.1,
          14.6,
          15.7,
          15.2,
          15.1,
          14.3,
          15.8,
          15.1,
          15,
          15.3,
          15.3,
          17,
          16.3,
          17.3,
          15.7,
          16,
          15,
          15.9,
          15.9,
          15.8,
          14.1,
          15,
          15.4,
          15,
          15.3,
          14.9,
          15.7,
          16.8,
          16.2,
          15,
          15.6,
          15.6,
          16,
          16.3,
          16.4,
          15.6,
          15.9,
          17.3,
          14.2,
          17,
          17.1,
          16.1,
          15.7,
          15.8,
          16.5,
          17,
          15,
          16.1,
          15.8,
          15.1,
          15.9,
          16.3,
          16,
          16.2,
          15.7,
          16.1
         ],
         "yaxis": "y"
        },
        {
         "alignmentgroup": "True",
         "hovertemplate": "island=Biscoe<br>sex=Male<br>body_mass_g=%{x}<extra></extra>",
         "legendgroup": "Biscoe",
         "marker": {
          "color": "#568f8b",
          "symbol": "circle"
         },
         "name": "Biscoe",
         "notched": true,
         "offsetgroup": "Biscoe",
         "showlegend": false,
         "type": "box",
         "x": [
          3600,
          3950,
          3800,
          3550,
          3950,
          4300,
          4050,
          3700,
          3800,
          3750,
          4400,
          4050,
          3950,
          4100,
          4725,
          4250,
          3550,
          3900,
          4775,
          4600,
          4275,
          4075,
          5700,
          5700,
          5400,
          5200,
          5150,
          5550,
          5850,
          5850,
          6300,
          5350,
          5700,
          5050,
          5100,
          5650,
          5550,
          5250,
          6050,
          5400,
          5250,
          5350,
          5700,
          4750,
          5550,
          5400,
          5300,
          5300,
          5000,
          5050,
          5000,
          5550,
          5300,
          5650,
          5700,
          5800,
          5550,
          5000,
          5100,
          5800,
          6000,
          5950,
          5450,
          5350,
          5600,
          5300,
          5550,
          5400,
          5650,
          5200,
          4925,
          5250,
          5600,
          5500,
          5500,
          5500,
          5500,
          5950,
          5500,
          5850,
          6000,
          5750,
          5400
         ],
         "xaxis": "x4",
         "yaxis": "y4"
        },
        {
         "hovertemplate": "island=Biscoe<br>sex=Female<br>body_mass_g=%{x}<br>bill_depth_mm=%{y}<extra></extra>",
         "legendgroup": "Biscoe",
         "marker": {
          "color": "#568f8b",
          "line": {
           "color": "black",
           "width": 1.5
          },
          "size": 7,
          "symbol": "circle"
         },
         "mode": "markers",
         "name": "Biscoe",
         "orientation": "v",
         "showlegend": false,
         "type": "scatter",
         "x": [
          3400,
          3800,
          3800,
          3200,
          3150,
          3500,
          3450,
          2900,
          3550,
          2850,
          3150,
          3600,
          2850,
          3350,
          3725,
          3075,
          2925,
          3750,
          3175,
          3825,
          3200,
          3900,
          4500,
          4450,
          4550,
          4800,
          4400,
          4650,
          4650,
          4200,
          4150,
          4800,
          5000,
          4400,
          5000,
          4600,
          4700,
          5050,
          5150,
          4950,
          4350,
          3950,
          4300,
          4900,
          4200,
          5100,
          4850,
          4400,
          4900,
          4300,
          4450,
          4200,
          4400,
          4700,
          4700,
          4750,
          5200,
          4700,
          4600,
          4750,
          4625,
          4725,
          4750,
          4600,
          4875,
          4950,
          4750,
          4850,
          4875,
          4625,
          4850,
          4975,
          4700,
          4575,
          5000,
          4650,
          4375,
          4925,
          4850,
          5200
         ],
         "xaxis": "x2",
         "y": [
          18.3,
          19.2,
          18.9,
          17.9,
          18.6,
          17.7,
          17.9,
          18.1,
          17.5,
          16.6,
          16.9,
          17,
          17.1,
          16.2,
          17.9,
          16,
          18.6,
          17.2,
          17,
          16.5,
          17.7,
          20.7,
          13.2,
          14.1,
          13.5,
          14.6,
          13.4,
          13.7,
          13.7,
          14.6,
          13.5,
          14.5,
          14.5,
          14.5,
          13.1,
          14.3,
          14.2,
          14.5,
          14.8,
          13.7,
          13.6,
          13.7,
          13.7,
          13.9,
          13.9,
          13.3,
          14.2,
          14.4,
          14.4,
          13.9,
          14.5,
          13.8,
          13.9,
          14.2,
          14.2,
          15,
          14.8,
          15,
          14.2,
          13.8,
          14.5,
          14.6,
          13.8,
          14.4,
          14,
          15,
          14.5,
          14.7,
          14.6,
          14.4,
          15,
          15.5,
          14.7,
          14,
          15.2,
          15.2,
          14.1,
          13.7,
          14.3,
          14.8
         ],
         "yaxis": "y2"
        },
        {
         "alignmentgroup": "True",
         "hovertemplate": "island=Biscoe<br>sex=Female<br>body_mass_g=%{x}<extra></extra>",
         "legendgroup": "Biscoe",
         "marker": {
          "color": "#568f8b",
          "symbol": "circle"
         },
         "name": "Biscoe",
         "notched": true,
         "offsetgroup": "Biscoe",
         "showlegend": false,
         "type": "box",
         "x": [
          3400,
          3800,
          3800,
          3200,
          3150,
          3500,
          3450,
          2900,
          3550,
          2850,
          3150,
          3600,
          2850,
          3350,
          3725,
          3075,
          2925,
          3750,
          3175,
          3825,
          3200,
          3900,
          4500,
          4450,
          4550,
          4800,
          4400,
          4650,
          4650,
          4200,
          4150,
          4800,
          5000,
          4400,
          5000,
          4600,
          4700,
          5050,
          5150,
          4950,
          4350,
          3950,
          4300,
          4900,
          4200,
          5100,
          4850,
          4400,
          4900,
          4300,
          4450,
          4200,
          4400,
          4700,
          4700,
          4750,
          5200,
          4700,
          4600,
          4750,
          4625,
          4725,
          4750,
          4600,
          4875,
          4950,
          4750,
          4850,
          4875,
          4625,
          4850,
          4975,
          4700,
          4575,
          5000,
          4650,
          4375,
          4925,
          4850,
          5200
         ],
         "xaxis": "x5",
         "yaxis": "y5"
        },
        {
         "hovertemplate": "island=Dream<br>sex=Male<br>body_mass_g=%{x}<br>bill_depth_mm=%{y}<extra></extra>",
         "legendgroup": "Dream",
         "marker": {
          "color": "#1d4a60",
          "line": {
           "color": "black",
           "width": 1.5
          },
          "size": 7,
          "symbol": "circle"
         },
         "mode": "markers",
         "name": "Dream",
         "orientation": "v",
         "showlegend": true,
         "type": "scatter",
         "x": [
          3900,
          3900,
          4150,
          3950,
          4650,
          3900,
          4400,
          4600,
          3425,
          4150,
          3550,
          3800,
          3950,
          4300,
          4450,
          4300,
          4350,
          4100,
          4475,
          3900,
          3975,
          4250,
          3475,
          3725,
          3650,
          4250,
          3750,
          4000,
          3900,
          3650,
          3725,
          3750,
          3700,
          3775,
          4050,
          4050,
          3300,
          4400,
          3400,
          3800,
          4150,
          3800,
          4550,
          4300,
          4100,
          3600,
          4800,
          4500,
          3950,
          3550,
          4450,
          4300,
          3250,
          3950,
          4050,
          3450,
          4050,
          3800,
          3950,
          4000,
          3775,
          4100
         ],
         "xaxis": "x",
         "y": [
          18.1,
          18.9,
          21.1,
          20,
          19.1,
          18.4,
          19.7,
          18.8,
          19,
          21.2,
          20.3,
          19.5,
          19.2,
          18.1,
          18.1,
          18.9,
          18.5,
          18.5,
          18.5,
          17.5,
          20.1,
          17.9,
          17.2,
          17,
          18.7,
          18.6,
          18.1,
          18.5,
          19.5,
          19.2,
          19.8,
          18.2,
          19.9,
          20.3,
          18.1,
          19.6,
          20,
          18.2,
          17.5,
          19.4,
          19,
          19,
          20,
          20.8,
          18.8,
          18.6,
          20.7,
          19.9,
          19.5,
          19.1,
          18.5,
          19.6,
          18.7,
          19,
          19.7,
          18.8,
          19.9,
          18.8,
          19.5,
          19.8,
          18.2,
          19
         ],
         "yaxis": "y"
        },
        {
         "alignmentgroup": "True",
         "hovertemplate": "island=Dream<br>sex=Male<br>body_mass_g=%{x}<extra></extra>",
         "legendgroup": "Dream",
         "marker": {
          "color": "#1d4a60",
          "symbol": "circle"
         },
         "name": "Dream",
         "notched": true,
         "offsetgroup": "Dream",
         "showlegend": false,
         "type": "box",
         "x": [
          3900,
          3900,
          4150,
          3950,
          4650,
          3900,
          4400,
          4600,
          3425,
          4150,
          3550,
          3800,
          3950,
          4300,
          4450,
          4300,
          4350,
          4100,
          4475,
          3900,
          3975,
          4250,
          3475,
          3725,
          3650,
          4250,
          3750,
          4000,
          3900,
          3650,
          3725,
          3750,
          3700,
          3775,
          4050,
          4050,
          3300,
          4400,
          3400,
          3800,
          4150,
          3800,
          4550,
          4300,
          4100,
          3600,
          4800,
          4500,
          3950,
          3550,
          4450,
          4300,
          3250,
          3950,
          4050,
          3450,
          4050,
          3800,
          3950,
          4000,
          3775,
          4100
         ],
         "xaxis": "x4",
         "yaxis": "y4"
        },
        {
         "hovertemplate": "island=Dream<br>sex=Female<br>body_mass_g=%{x}<br>bill_depth_mm=%{y}<extra></extra>",
         "legendgroup": "Dream",
         "marker": {
          "color": "#1d4a60",
          "line": {
           "color": "black",
           "width": 1.5
          },
          "size": 7,
          "symbol": "circle"
         },
         "mode": "markers",
         "name": "Dream",
         "orientation": "v",
         "showlegend": false,
         "type": "scatter",
         "x": [
          3250,
          3300,
          3325,
          3550,
          3300,
          3150,
          3100,
          3000,
          3450,
          3350,
          3500,
          3600,
          3550,
          3400,
          3300,
          3700,
          2900,
          3500,
          3425,
          3175,
          3400,
          3400,
          3050,
          3000,
          3475,
          3450,
          3700,
          3500,
          3525,
          3950,
          3250,
          4150,
          3800,
          3700,
          3575,
          3700,
          3450,
          3600,
          2900,
          3300,
          3400,
          3700,
          3200,
          3350,
          3900,
          3850,
          2700,
          3650,
          3500,
          3675,
          3400,
          3675,
          3325,
          3600,
          3350,
          3250,
          3525,
          3650,
          3650,
          3400,
          3775
         ],
         "xaxis": "x2",
         "y": [
          16.7,
          17.8,
          17,
          18.5,
          19.3,
          18,
          18.5,
          16.9,
          17.9,
          17.8,
          18.6,
          18.8,
          18,
          17.1,
          17.3,
          18.6,
          16.1,
          18.5,
          17.6,
          17.5,
          16.5,
          17.1,
          15.5,
          16.8,
          18.4,
          17.8,
          17.1,
          17.9,
          18.7,
          17.8,
          18.2,
          18.9,
          17.8,
          17.3,
          17.1,
          17.8,
          18.6,
          17.3,
          16.6,
          17.9,
          18.4,
          17.8,
          16.6,
          16.7,
          16.8,
          18.3,
          16.6,
          17.5,
          17,
          17.9,
          17.9,
          17.3,
          16.4,
          17.3,
          17.3,
          16.6,
          19.4,
          16.5,
          17,
          18.1,
          18.7
         ],
         "yaxis": "y2"
        },
        {
         "alignmentgroup": "True",
         "hovertemplate": "island=Dream<br>sex=Female<br>body_mass_g=%{x}<extra></extra>",
         "legendgroup": "Dream",
         "marker": {
          "color": "#1d4a60",
          "symbol": "circle"
         },
         "name": "Dream",
         "notched": true,
         "offsetgroup": "Dream",
         "showlegend": false,
         "type": "box",
         "x": [
          3250,
          3300,
          3325,
          3550,
          3300,
          3150,
          3100,
          3000,
          3450,
          3350,
          3500,
          3600,
          3550,
          3400,
          3300,
          3700,
          2900,
          3500,
          3425,
          3175,
          3400,
          3400,
          3050,
          3000,
          3475,
          3450,
          3700,
          3500,
          3525,
          3950,
          3250,
          4150,
          3800,
          3700,
          3575,
          3700,
          3450,
          3600,
          2900,
          3300,
          3400,
          3700,
          3200,
          3350,
          3900,
          3850,
          2700,
          3650,
          3500,
          3675,
          3400,
          3675,
          3325,
          3600,
          3350,
          3250,
          3525,
          3650,
          3650,
          3400,
          3775
         ],
         "xaxis": "x5",
         "yaxis": "y5"
        }
       ],
       "layout": {
        "annotations": [
         {
          "font": {},
          "showarrow": false,
          "text": "sex=Male",
          "x": 0.15999999999999998,
          "xanchor": "center",
          "xref": "paper",
          "y": 1,
          "yanchor": "bottom",
          "yref": "paper"
         },
         {
          "font": {},
          "showarrow": false,
          "text": "sex=Female",
          "x": 0.49999999999999994,
          "xanchor": "center",
          "xref": "paper",
          "y": 1,
          "yanchor": "bottom",
          "yref": "paper"
         },
         {
          "font": {},
          "showarrow": false,
          "text": "sex=nan",
          "x": 0.8399999999999999,
          "xanchor": "center",
          "xref": "paper",
          "y": 1,
          "yanchor": "bottom",
          "yref": "paper"
         }
        ],
        "height": 300,
        "legend": {
         "title": {
          "text": "island"
         },
         "tracegroupgap": 0
        },
        "template": {
         "data": {
          "bar": [
           {
            "error_x": {
             "color": "#2a3f5f"
            },
            "error_y": {
             "color": "#2a3f5f"
            },
            "marker": {
             "line": {
              "color": "white",
              "width": 0.5
             },
             "pattern": {
              "fillmode": "overlay",
              "size": 10,
              "solidity": 0.2
             }
            },
            "type": "bar"
           }
          ],
          "barpolar": [
           {
            "marker": {
             "line": {
              "color": "white",
              "width": 0.5
             },
             "pattern": {
              "fillmode": "overlay",
              "size": 10,
              "solidity": 0.2
             }
            },
            "type": "barpolar"
           }
          ],
          "carpet": [
           {
            "aaxis": {
             "endlinecolor": "#2a3f5f",
             "gridcolor": "#C8D4E3",
             "linecolor": "#C8D4E3",
             "minorgridcolor": "#C8D4E3",
             "startlinecolor": "#2a3f5f"
            },
            "baxis": {
             "endlinecolor": "#2a3f5f",
             "gridcolor": "#C8D4E3",
             "linecolor": "#C8D4E3",
             "minorgridcolor": "#C8D4E3",
             "startlinecolor": "#2a3f5f"
            },
            "type": "carpet"
           }
          ],
          "choropleth": [
           {
            "colorbar": {
             "outlinewidth": 0,
             "ticks": ""
            },
            "type": "choropleth"
           }
          ],
          "contour": [
           {
            "colorbar": {
             "outlinewidth": 0,
             "ticks": ""
            },
            "colorscale": [
             [
              0,
              "#0d0887"
             ],
             [
              0.1111111111111111,
              "#46039f"
             ],
             [
              0.2222222222222222,
              "#7201a8"
             ],
             [
              0.3333333333333333,
              "#9c179e"
             ],
             [
              0.4444444444444444,
              "#bd3786"
             ],
             [
              0.5555555555555556,
              "#d8576b"
             ],
             [
              0.6666666666666666,
              "#ed7953"
             ],
             [
              0.7777777777777778,
              "#fb9f3a"
             ],
             [
              0.8888888888888888,
              "#fdca26"
             ],
             [
              1,
              "#f0f921"
             ]
            ],
            "type": "contour"
           }
          ],
          "contourcarpet": [
           {
            "colorbar": {
             "outlinewidth": 0,
             "ticks": ""
            },
            "type": "contourcarpet"
           }
          ],
          "heatmap": [
           {
            "colorbar": {
             "outlinewidth": 0,
             "ticks": ""
            },
            "colorscale": [
             [
              0,
              "#0d0887"
             ],
             [
              0.1111111111111111,
              "#46039f"
             ],
             [
              0.2222222222222222,
              "#7201a8"
             ],
             [
              0.3333333333333333,
              "#9c179e"
             ],
             [
              0.4444444444444444,
              "#bd3786"
             ],
             [
              0.5555555555555556,
              "#d8576b"
             ],
             [
              0.6666666666666666,
              "#ed7953"
             ],
             [
              0.7777777777777778,
              "#fb9f3a"
             ],
             [
              0.8888888888888888,
              "#fdca26"
             ],
             [
              1,
              "#f0f921"
             ]
            ],
            "type": "heatmap"
           }
          ],
          "heatmapgl": [
           {
            "colorbar": {
             "outlinewidth": 0,
             "ticks": ""
            },
            "colorscale": [
             [
              0,
              "#0d0887"
             ],
             [
              0.1111111111111111,
              "#46039f"
             ],
             [
              0.2222222222222222,
              "#7201a8"
             ],
             [
              0.3333333333333333,
              "#9c179e"
             ],
             [
              0.4444444444444444,
              "#bd3786"
             ],
             [
              0.5555555555555556,
              "#d8576b"
             ],
             [
              0.6666666666666666,
              "#ed7953"
             ],
             [
              0.7777777777777778,
              "#fb9f3a"
             ],
             [
              0.8888888888888888,
              "#fdca26"
             ],
             [
              1,
              "#f0f921"
             ]
            ],
            "type": "heatmapgl"
           }
          ],
          "histogram": [
           {
            "marker": {
             "pattern": {
              "fillmode": "overlay",
              "size": 10,
              "solidity": 0.2
             }
            },
            "type": "histogram"
           }
          ],
          "histogram2d": [
           {
            "colorbar": {
             "outlinewidth": 0,
             "ticks": ""
            },
            "colorscale": [
             [
              0,
              "#0d0887"
             ],
             [
              0.1111111111111111,
              "#46039f"
             ],
             [
              0.2222222222222222,
              "#7201a8"
             ],
             [
              0.3333333333333333,
              "#9c179e"
             ],
             [
              0.4444444444444444,
              "#bd3786"
             ],
             [
              0.5555555555555556,
              "#d8576b"
             ],
             [
              0.6666666666666666,
              "#ed7953"
             ],
             [
              0.7777777777777778,
              "#fb9f3a"
             ],
             [
              0.8888888888888888,
              "#fdca26"
             ],
             [
              1,
              "#f0f921"
             ]
            ],
            "type": "histogram2d"
           }
          ],
          "histogram2dcontour": [
           {
            "colorbar": {
             "outlinewidth": 0,
             "ticks": ""
            },
            "colorscale": [
             [
              0,
              "#0d0887"
             ],
             [
              0.1111111111111111,
              "#46039f"
             ],
             [
              0.2222222222222222,
              "#7201a8"
             ],
             [
              0.3333333333333333,
              "#9c179e"
             ],
             [
              0.4444444444444444,
              "#bd3786"
             ],
             [
              0.5555555555555556,
              "#d8576b"
             ],
             [
              0.6666666666666666,
              "#ed7953"
             ],
             [
              0.7777777777777778,
              "#fb9f3a"
             ],
             [
              0.8888888888888888,
              "#fdca26"
             ],
             [
              1,
              "#f0f921"
             ]
            ],
            "type": "histogram2dcontour"
           }
          ],
          "mesh3d": [
           {
            "colorbar": {
             "outlinewidth": 0,
             "ticks": ""
            },
            "type": "mesh3d"
           }
          ],
          "parcoords": [
           {
            "line": {
             "colorbar": {
              "outlinewidth": 0,
              "ticks": ""
             }
            },
            "type": "parcoords"
           }
          ],
          "pie": [
           {
            "automargin": true,
            "type": "pie"
           }
          ],
          "scatter": [
           {
            "fillpattern": {
             "fillmode": "overlay",
             "size": 10,
             "solidity": 0.2
            },
            "type": "scatter"
           }
          ],
          "scatter3d": [
           {
            "line": {
             "colorbar": {
              "outlinewidth": 0,
              "ticks": ""
             }
            },
            "marker": {
             "colorbar": {
              "outlinewidth": 0,
              "ticks": ""
             }
            },
            "type": "scatter3d"
           }
          ],
          "scattercarpet": [
           {
            "marker": {
             "colorbar": {
              "outlinewidth": 0,
              "ticks": ""
             }
            },
            "type": "scattercarpet"
           }
          ],
          "scattergeo": [
           {
            "marker": {
             "colorbar": {
              "outlinewidth": 0,
              "ticks": ""
             }
            },
            "type": "scattergeo"
           }
          ],
          "scattergl": [
           {
            "marker": {
             "colorbar": {
              "outlinewidth": 0,
              "ticks": ""
             }
            },
            "type": "scattergl"
           }
          ],
          "scattermapbox": [
           {
            "marker": {
             "colorbar": {
              "outlinewidth": 0,
              "ticks": ""
             }
            },
            "type": "scattermapbox"
           }
          ],
          "scatterpolar": [
           {
            "marker": {
             "colorbar": {
              "outlinewidth": 0,
              "ticks": ""
             }
            },
            "type": "scatterpolar"
           }
          ],
          "scatterpolargl": [
           {
            "marker": {
             "colorbar": {
              "outlinewidth": 0,
              "ticks": ""
             }
            },
            "type": "scatterpolargl"
           }
          ],
          "scatterternary": [
           {
            "marker": {
             "colorbar": {
              "outlinewidth": 0,
              "ticks": ""
             }
            },
            "type": "scatterternary"
           }
          ],
          "surface": [
           {
            "colorbar": {
             "outlinewidth": 0,
             "ticks": ""
            },
            "colorscale": [
             [
              0,
              "#0d0887"
             ],
             [
              0.1111111111111111,
              "#46039f"
             ],
             [
              0.2222222222222222,
              "#7201a8"
             ],
             [
              0.3333333333333333,
              "#9c179e"
             ],
             [
              0.4444444444444444,
              "#bd3786"
             ],
             [
              0.5555555555555556,
              "#d8576b"
             ],
             [
              0.6666666666666666,
              "#ed7953"
             ],
             [
              0.7777777777777778,
              "#fb9f3a"
             ],
             [
              0.8888888888888888,
              "#fdca26"
             ],
             [
              1,
              "#f0f921"
             ]
            ],
            "type": "surface"
           }
          ],
          "table": [
           {
            "cells": {
             "fill": {
              "color": "#EBF0F8"
             },
             "line": {
              "color": "white"
             }
            },
            "header": {
             "fill": {
              "color": "#C8D4E3"
             },
             "line": {
              "color": "white"
             }
            },
            "type": "table"
           }
          ]
         },
         "layout": {
          "annotationdefaults": {
           "arrowcolor": "#2a3f5f",
           "arrowhead": 0,
           "arrowwidth": 1
          },
          "autotypenumbers": "strict",
          "coloraxis": {
           "colorbar": {
            "outlinewidth": 0,
            "ticks": ""
           }
          },
          "colorscale": {
           "diverging": [
            [
             0,
             "#8e0152"
            ],
            [
             0.1,
             "#c51b7d"
            ],
            [
             0.2,
             "#de77ae"
            ],
            [
             0.3,
             "#f1b6da"
            ],
            [
             0.4,
             "#fde0ef"
            ],
            [
             0.5,
             "#f7f7f7"
            ],
            [
             0.6,
             "#e6f5d0"
            ],
            [
             0.7,
             "#b8e186"
            ],
            [
             0.8,
             "#7fbc41"
            ],
            [
             0.9,
             "#4d9221"
            ],
            [
             1,
             "#276419"
            ]
           ],
           "sequential": [
            [
             0,
             "#0d0887"
            ],
            [
             0.1111111111111111,
             "#46039f"
            ],
            [
             0.2222222222222222,
             "#7201a8"
            ],
            [
             0.3333333333333333,
             "#9c179e"
            ],
            [
             0.4444444444444444,
             "#bd3786"
            ],
            [
             0.5555555555555556,
             "#d8576b"
            ],
            [
             0.6666666666666666,
             "#ed7953"
            ],
            [
             0.7777777777777778,
             "#fb9f3a"
            ],
            [
             0.8888888888888888,
             "#fdca26"
            ],
            [
             1,
             "#f0f921"
            ]
           ],
           "sequentialminus": [
            [
             0,
             "#0d0887"
            ],
            [
             0.1111111111111111,
             "#46039f"
            ],
            [
             0.2222222222222222,
             "#7201a8"
            ],
            [
             0.3333333333333333,
             "#9c179e"
            ],
            [
             0.4444444444444444,
             "#bd3786"
            ],
            [
             0.5555555555555556,
             "#d8576b"
            ],
            [
             0.6666666666666666,
             "#ed7953"
            ],
            [
             0.7777777777777778,
             "#fb9f3a"
            ],
            [
             0.8888888888888888,
             "#fdca26"
            ],
            [
             1,
             "#f0f921"
            ]
           ]
          },
          "colorway": [
           "#636efa",
           "#EF553B",
           "#00cc96",
           "#ab63fa",
           "#FFA15A",
           "#19d3f3",
           "#FF6692",
           "#B6E880",
           "#FF97FF",
           "#FECB52"
          ],
          "font": {
           "color": "#2a3f5f"
          },
          "geo": {
           "bgcolor": "white",
           "lakecolor": "white",
           "landcolor": "white",
           "showlakes": true,
           "showland": true,
           "subunitcolor": "#C8D4E3"
          },
          "hoverlabel": {
           "align": "left"
          },
          "hovermode": "closest",
          "mapbox": {
           "style": "light"
          },
          "paper_bgcolor": "white",
          "plot_bgcolor": "white",
          "polar": {
           "angularaxis": {
            "gridcolor": "#EBF0F8",
            "linecolor": "#EBF0F8",
            "ticks": ""
           },
           "bgcolor": "white",
           "radialaxis": {
            "gridcolor": "#EBF0F8",
            "linecolor": "#EBF0F8",
            "ticks": ""
           }
          },
          "scene": {
           "xaxis": {
            "backgroundcolor": "white",
            "gridcolor": "#DFE8F3",
            "gridwidth": 2,
            "linecolor": "#EBF0F8",
            "showbackground": true,
            "ticks": "",
            "zerolinecolor": "#EBF0F8"
           },
           "yaxis": {
            "backgroundcolor": "white",
            "gridcolor": "#DFE8F3",
            "gridwidth": 2,
            "linecolor": "#EBF0F8",
            "showbackground": true,
            "ticks": "",
            "zerolinecolor": "#EBF0F8"
           },
           "zaxis": {
            "backgroundcolor": "white",
            "gridcolor": "#DFE8F3",
            "gridwidth": 2,
            "linecolor": "#EBF0F8",
            "showbackground": true,
            "ticks": "",
            "zerolinecolor": "#EBF0F8"
           }
          },
          "shapedefaults": {
           "line": {
            "color": "#2a3f5f"
           }
          },
          "ternary": {
           "aaxis": {
            "gridcolor": "#DFE8F3",
            "linecolor": "#A2B1C6",
            "ticks": ""
           },
           "baxis": {
            "gridcolor": "#DFE8F3",
            "linecolor": "#A2B1C6",
            "ticks": ""
           },
           "bgcolor": "white",
           "caxis": {
            "gridcolor": "#DFE8F3",
            "linecolor": "#A2B1C6",
            "ticks": ""
           }
          },
          "title": {
           "x": 0.05
          },
          "xaxis": {
           "automargin": true,
           "gridcolor": "#EBF0F8",
           "linecolor": "#EBF0F8",
           "ticks": "",
           "title": {
            "standoff": 15
           },
           "zerolinecolor": "#EBF0F8",
           "zerolinewidth": 2
          },
          "yaxis": {
           "automargin": true,
           "gridcolor": "#EBF0F8",
           "linecolor": "#EBF0F8",
           "ticks": "",
           "title": {
            "standoff": 15
           },
           "zerolinecolor": "#EBF0F8",
           "zerolinewidth": 2
          }
         }
        },
        "title": {
         "text": "this is the title"
        },
        "width": 500,
        "xaxis": {
         "anchor": "y",
         "autorange": true,
         "domain": [
          0,
          0.31999999999999995
         ],
         "range": [
          2269.500276599668,
          6730.499723400332
         ],
         "title": {
          "text": "body_mass_g"
         },
         "type": "linear"
        },
        "xaxis2": {
         "anchor": "y2",
         "autorange": true,
         "domain": [
          0.33999999999999997,
          0.6599999999999999
         ],
         "matches": "x",
         "range": [
          2269.500276599668,
          6730.499723400332
         ],
         "title": {
          "text": "body_mass_g"
         },
         "type": "linear"
        },
        "xaxis3": {
         "anchor": "y3",
         "domain": [
          0.6799999999999999,
          0.9999999999999999
         ],
         "matches": "x",
         "title": {
          "text": "body_mass_g"
         }
        },
        "xaxis4": {
         "anchor": "y4",
         "autorange": true,
         "domain": [
          0,
          0.31999999999999995
         ],
         "matches": "x",
         "range": [
          2269.500276599668,
          6730.499723400332
         ],
         "showgrid": true,
         "showticklabels": false,
         "type": "linear"
        },
        "xaxis5": {
         "anchor": "y5",
         "autorange": true,
         "domain": [
          0.33999999999999997,
          0.6599999999999999
         ],
         "matches": "x",
         "range": [
          2269.500276599668,
          6730.499723400332
         ],
         "showgrid": true,
         "showticklabels": false,
         "type": "linear"
        },
        "xaxis6": {
         "anchor": "y6",
         "domain": [
          0.6799999999999999,
          0.9999999999999999
         ],
         "matches": "x",
         "showgrid": true,
         "showticklabels": false
        },
        "yaxis": {
         "anchor": "x",
         "autorange": true,
         "domain": [
          0,
          0.7326
         ],
         "range": [
          12.053073718076247,
          22.546926281923753
         ],
         "title": {
          "text": "bill_depth_mm"
         },
         "type": "linear"
        },
        "yaxis2": {
         "anchor": "x2",
         "autorange": true,
         "domain": [
          0,
          0.7326
         ],
         "matches": "y",
         "range": [
          12.053073718076247,
          22.546926281923753
         ],
         "showticklabels": false,
         "type": "linear"
        },
        "yaxis3": {
         "anchor": "x3",
         "domain": [
          0,
          0.7326
         ],
         "matches": "y",
         "showticklabels": false
        },
        "yaxis4": {
         "anchor": "x4",
         "autorange": true,
         "domain": [
          0.7426,
          1
         ],
         "matches": "y4",
         "range": [
          -0.5,
          2.5
         ],
         "showgrid": false,
         "showline": false,
         "showticklabels": false,
         "ticks": "",
         "type": "category"
        },
        "yaxis5": {
         "anchor": "x5",
         "autorange": true,
         "domain": [
          0.7426,
          1
         ],
         "matches": "y4",
         "range": [
          -0.5,
          2.5
         ],
         "showgrid": false,
         "showline": false,
         "showticklabels": false,
         "ticks": "",
         "type": "category"
        },
        "yaxis6": {
         "anchor": "x6",
         "domain": [
          0.7426,
          1
         ],
         "matches": "y4",
         "showgrid": false,
         "showline": false,
         "showticklabels": false,
         "ticks": ""
        }
       }
      },
      "image/png": "[encoded data removed]",
      "text/html": [
       "<div>                            <div id=\"8b9a33a8-b60b-4c21-91f9-eeaa6ae2ea7a\" class=\"plotly-graph-div\" style=\"height:300px; width:500px;\"></div>            <script type=\"text/javascript\">                require([\"plotly\"], function(Plotly) {                    window.PLOTLYENV=window.PLOTLYENV || {};                                    if (document.getElementById(\"8b9a33a8-b60b-4c21-91f9-eeaa6ae2ea7a\")) {                    Plotly.newPlot(                        \"8b9a33a8-b60b-4c21-91f9-eeaa6ae2ea7a\",                        [{\"hovertemplate\":\"island=Torgersen\\u003cbr\\u003esex=Male\\u003cbr\\u003ebody_mass_g=%{x}\\u003cbr\\u003ebill_depth_mm=%{y}\\u003cextra\\u003e\\u003c\\u002fextra\\u003e\",\"legendgroup\":\"Torgersen\",\"marker\":{\"color\":\"#b4d2b1\",\"symbol\":\"circle\",\"size\":7,\"line\":{\"width\":1.5,\"color\":\"black\"}},\"mode\":\"markers\",\"name\":\"Torgersen\",\"orientation\":\"v\",\"showlegend\":true,\"x\":[3750.0,3650.0,4675.0,3800.0,4400.0,4500.0,4200.0,4450.0,3900.0,4150.0,4250.0,3900.0,4000.0,4700.0,4200.0,3775.0,3325.0,3500.0,3875.0,4000.0,4300.0,4000.0,3500.0],\"xaxis\":\"x\",\"y\":[18.7,20.6,19.6,21.2,21.1,20.7,21.5,19.4,18.4,18.9,18.5,19.4,19.1,17.6,19.4,20.5,18.6,19.8,18.5,19.0,18.3,18.0,19.2],\"yaxis\":\"y\",\"type\":\"scatter\"},{\"alignmentgroup\":\"True\",\"hovertemplate\":\"island=Torgersen\\u003cbr\\u003esex=Male\\u003cbr\\u003ebody_mass_g=%{x}\\u003cextra\\u003e\\u003c\\u002fextra\\u003e\",\"legendgroup\":\"Torgersen\",\"marker\":{\"color\":\"#b4d2b1\",\"symbol\":\"circle\"},\"name\":\"Torgersen\",\"notched\":true,\"offsetgroup\":\"Torgersen\",\"showlegend\":false,\"x\":[3750.0,3650.0,4675.0,3800.0,4400.0,4500.0,4200.0,4450.0,3900.0,4150.0,4250.0,3900.0,4000.0,4700.0,4200.0,3775.0,3325.0,3500.0,3875.0,4000.0,4300.0,4000.0,3500.0],\"xaxis\":\"x4\",\"yaxis\":\"y4\",\"type\":\"box\"},{\"hovertemplate\":\"island=Torgersen\\u003cbr\\u003esex=Female\\u003cbr\\u003ebody_mass_g=%{x}\\u003cbr\\u003ebill_depth_mm=%{y}\\u003cextra\\u003e\\u003c\\u002fextra\\u003e\",\"legendgroup\":\"Torgersen\",\"marker\":{\"color\":\"#b4d2b1\",\"symbol\":\"circle\",\"size\":7,\"line\":{\"width\":1.5,\"color\":\"black\"}},\"mode\":\"markers\",\"name\":\"Torgersen\",\"orientation\":\"v\",\"showlegend\":false,\"x\":[3800.0,3250.0,3450.0,3625.0,3200.0,3700.0,3450.0,3325.0,3050.0,3600.0,3550.0,3700.0,3700.0,3550.0,3200.0,3800.0,2900.0,3350.0,3150.0,3450.0,3050.0,3275.0,3050.0,3325.0],\"xaxis\":\"x2\",\"y\":[17.4,18.0,19.3,17.8,17.6,17.8,19.0,18.4,16.6,19.0,17.2,17.5,16.8,16.1,17.2,18.8,17.0,17.0,17.2,17.0,15.9,17.6,17.1,17.9],\"yaxis\":\"y2\",\"type\":\"scatter\"},{\"alignmentgroup\":\"True\",\"hovertemplate\":\"island=Torgersen\\u003cbr\\u003esex=Female\\u003cbr\\u003ebody_mass_g=%{x}\\u003cextra\\u003e\\u003c\\u002fextra\\u003e\",\"legendgroup\":\"Torgersen\",\"marker\":{\"color\":\"#b4d2b1\",\"symbol\":\"circle\"},\"name\":\"Torgersen\",\"notched\":true,\"offsetgroup\":\"Torgersen\",\"showlegend\":false,\"x\":[3800.0,3250.0,3450.0,3625.0,3200.0,3700.0,3450.0,3325.0,3050.0,3600.0,3550.0,3700.0,3700.0,3550.0,3200.0,3800.0,2900.0,3350.0,3150.0,3450.0,3050.0,3275.0,3050.0,3325.0],\"xaxis\":\"x5\",\"yaxis\":\"y5\",\"type\":\"box\"},{\"hovertemplate\":\"island=Biscoe\\u003cbr\\u003esex=Male\\u003cbr\\u003ebody_mass_g=%{x}\\u003cbr\\u003ebill_depth_mm=%{y}\\u003cextra\\u003e\\u003c\\u002fextra\\u003e\",\"legendgroup\":\"Biscoe\",\"marker\":{\"color\":\"#568f8b\",\"symbol\":\"circle\",\"size\":7,\"line\":{\"width\":1.5,\"color\":\"black\"}},\"mode\":\"markers\",\"name\":\"Biscoe\",\"orientation\":\"v\",\"showlegend\":true,\"x\":[3600.0,3950.0,3800.0,3550.0,3950.0,4300.0,4050.0,3700.0,3800.0,3750.0,4400.0,4050.0,3950.0,4100.0,4725.0,4250.0,3550.0,3900.0,4775.0,4600.0,4275.0,4075.0,5700.0,5700.0,5400.0,5200.0,5150.0,5550.0,5850.0,5850.0,6300.0,5350.0,5700.0,5050.0,5100.0,5650.0,5550.0,5250.0,6050.0,5400.0,5250.0,5350.0,5700.0,4750.0,5550.0,5400.0,5300.0,5300.0,5000.0,5050.0,5000.0,5550.0,5300.0,5650.0,5700.0,5800.0,5550.0,5000.0,5100.0,5800.0,6000.0,5950.0,5450.0,5350.0,5600.0,5300.0,5550.0,5400.0,5650.0,5200.0,4925.0,5250.0,5600.0,5500.0,5500.0,5500.0,5500.0,5950.0,5500.0,5850.0,6000.0,5750.0,5400.0],\"xaxis\":\"x\",\"y\":[18.7,18.1,17.2,18.6,18.9,18.9,19.5,18.6,18.8,19.1,21.1,18.2,18.0,19.1,20.0,20.0,18.9,20.0,19.0,20.3,19.5,18.3,16.3,15.2,14.5,15.3,15.4,16.1,14.6,15.7,15.2,15.1,14.3,15.8,15.1,15.0,15.3,15.3,17.0,16.3,17.3,15.7,16.0,15.0,15.9,15.9,15.8,14.1,15.0,15.4,15.0,15.3,14.9,15.7,16.8,16.2,15.0,15.6,15.6,16.0,16.3,16.4,15.6,15.9,17.3,14.2,17.0,17.1,16.1,15.7,15.8,16.5,17.0,15.0,16.1,15.8,15.1,15.9,16.3,16.0,16.2,15.7,16.1],\"yaxis\":\"y\",\"type\":\"scatter\"},{\"alignmentgroup\":\"True\",\"hovertemplate\":\"island=Biscoe\\u003cbr\\u003esex=Male\\u003cbr\\u003ebody_mass_g=%{x}\\u003cextra\\u003e\\u003c\\u002fextra\\u003e\",\"legendgroup\":\"Biscoe\",\"marker\":{\"color\":\"#568f8b\",\"symbol\":\"circle\"},\"name\":\"Biscoe\",\"notched\":true,\"offsetgroup\":\"Biscoe\",\"showlegend\":false,\"x\":[3600.0,3950.0,3800.0,3550.0,3950.0,4300.0,4050.0,3700.0,3800.0,3750.0,4400.0,4050.0,3950.0,4100.0,4725.0,4250.0,3550.0,3900.0,4775.0,4600.0,4275.0,4075.0,5700.0,5700.0,5400.0,5200.0,5150.0,5550.0,5850.0,5850.0,6300.0,5350.0,5700.0,5050.0,5100.0,5650.0,5550.0,5250.0,6050.0,5400.0,5250.0,5350.0,5700.0,4750.0,5550.0,5400.0,5300.0,5300.0,5000.0,5050.0,5000.0,5550.0,5300.0,5650.0,5700.0,5800.0,5550.0,5000.0,5100.0,5800.0,6000.0,5950.0,5450.0,5350.0,5600.0,5300.0,5550.0,5400.0,5650.0,5200.0,4925.0,5250.0,5600.0,5500.0,5500.0,5500.0,5500.0,5950.0,5500.0,5850.0,6000.0,5750.0,5400.0],\"xaxis\":\"x4\",\"yaxis\":\"y4\",\"type\":\"box\"},{\"hovertemplate\":\"island=Biscoe\\u003cbr\\u003esex=Female\\u003cbr\\u003ebody_mass_g=%{x}\\u003cbr\\u003ebill_depth_mm=%{y}\\u003cextra\\u003e\\u003c\\u002fextra\\u003e\",\"legendgroup\":\"Biscoe\",\"marker\":{\"color\":\"#568f8b\",\"symbol\":\"circle\",\"size\":7,\"line\":{\"width\":1.5,\"color\":\"black\"}},\"mode\":\"markers\",\"name\":\"Biscoe\",\"orientation\":\"v\",\"showlegend\":false,\"x\":[3400.0,3800.0,3800.0,3200.0,3150.0,3500.0,3450.0,2900.0,3550.0,2850.0,3150.0,3600.0,2850.0,3350.0,3725.0,3075.0,2925.0,3750.0,3175.0,3825.0,3200.0,3900.0,4500.0,4450.0,4550.0,4800.0,4400.0,4650.0,4650.0,4200.0,4150.0,4800.0,5000.0,4400.0,5000.0,4600.0,4700.0,5050.0,5150.0,4950.0,4350.0,3950.0,4300.0,4900.0,4200.0,5100.0,4850.0,4400.0,4900.0,4300.0,4450.0,4200.0,4400.0,4700.0,4700.0,4750.0,5200.0,4700.0,4600.0,4750.0,4625.0,4725.0,4750.0,4600.0,4875.0,4950.0,4750.0,4850.0,4875.0,4625.0,4850.0,4975.0,4700.0,4575.0,5000.0,4650.0,4375.0,4925.0,4850.0,5200.0],\"xaxis\":\"x2\",\"y\":[18.3,19.2,18.9,17.9,18.6,17.7,17.9,18.1,17.5,16.6,16.9,17.0,17.1,16.2,17.9,16.0,18.6,17.2,17.0,16.5,17.7,20.7,13.2,14.1,13.5,14.6,13.4,13.7,13.7,14.6,13.5,14.5,14.5,14.5,13.1,14.3,14.2,14.5,14.8,13.7,13.6,13.7,13.7,13.9,13.9,13.3,14.2,14.4,14.4,13.9,14.5,13.8,13.9,14.2,14.2,15.0,14.8,15.0,14.2,13.8,14.5,14.6,13.8,14.4,14.0,15.0,14.5,14.7,14.6,14.4,15.0,15.5,14.7,14.0,15.2,15.2,14.1,13.7,14.3,14.8],\"yaxis\":\"y2\",\"type\":\"scatter\"},{\"alignmentgroup\":\"True\",\"hovertemplate\":\"island=Biscoe\\u003cbr\\u003esex=Female\\u003cbr\\u003ebody_mass_g=%{x}\\u003cextra\\u003e\\u003c\\u002fextra\\u003e\",\"legendgroup\":\"Biscoe\",\"marker\":{\"color\":\"#568f8b\",\"symbol\":\"circle\"},\"name\":\"Biscoe\",\"notched\":true,\"offsetgroup\":\"Biscoe\",\"showlegend\":false,\"x\":[3400.0,3800.0,3800.0,3200.0,3150.0,3500.0,3450.0,2900.0,3550.0,2850.0,3150.0,3600.0,2850.0,3350.0,3725.0,3075.0,2925.0,3750.0,3175.0,3825.0,3200.0,3900.0,4500.0,4450.0,4550.0,4800.0,4400.0,4650.0,4650.0,4200.0,4150.0,4800.0,5000.0,4400.0,5000.0,4600.0,4700.0,5050.0,5150.0,4950.0,4350.0,3950.0,4300.0,4900.0,4200.0,5100.0,4850.0,4400.0,4900.0,4300.0,4450.0,4200.0,4400.0,4700.0,4700.0,4750.0,5200.0,4700.0,4600.0,4750.0,4625.0,4725.0,4750.0,4600.0,4875.0,4950.0,4750.0,4850.0,4875.0,4625.0,4850.0,4975.0,4700.0,4575.0,5000.0,4650.0,4375.0,4925.0,4850.0,5200.0],\"xaxis\":\"x5\",\"yaxis\":\"y5\",\"type\":\"box\"},{\"hovertemplate\":\"island=Dream\\u003cbr\\u003esex=Male\\u003cbr\\u003ebody_mass_g=%{x}\\u003cbr\\u003ebill_depth_mm=%{y}\\u003cextra\\u003e\\u003c\\u002fextra\\u003e\",\"legendgroup\":\"Dream\",\"marker\":{\"color\":\"#1d4a60\",\"symbol\":\"circle\",\"size\":7,\"line\":{\"width\":1.5,\"color\":\"black\"}},\"mode\":\"markers\",\"name\":\"Dream\",\"orientation\":\"v\",\"showlegend\":true,\"x\":[3900.0,3900.0,4150.0,3950.0,4650.0,3900.0,4400.0,4600.0,3425.0,4150.0,3550.0,3800.0,3950.0,4300.0,4450.0,4300.0,4350.0,4100.0,4475.0,3900.0,3975.0,4250.0,3475.0,3725.0,3650.0,4250.0,3750.0,4000.0,3900.0,3650.0,3725.0,3750.0,3700.0,3775.0,4050.0,4050.0,3300.0,4400.0,3400.0,3800.0,4150.0,3800.0,4550.0,4300.0,4100.0,3600.0,4800.0,4500.0,3950.0,3550.0,4450.0,4300.0,3250.0,3950.0,4050.0,3450.0,4050.0,3800.0,3950.0,4000.0,3775.0,4100.0],\"xaxis\":\"x\",\"y\":[18.1,18.9,21.1,20.0,19.1,18.4,19.7,18.8,19.0,21.2,20.3,19.5,19.2,18.1,18.1,18.9,18.5,18.5,18.5,17.5,20.1,17.9,17.2,17.0,18.7,18.6,18.1,18.5,19.5,19.2,19.8,18.2,19.9,20.3,18.1,19.6,20.0,18.2,17.5,19.4,19.0,19.0,20.0,20.8,18.8,18.6,20.7,19.9,19.5,19.1,18.5,19.6,18.7,19.0,19.7,18.8,19.9,18.8,19.5,19.8,18.2,19.0],\"yaxis\":\"y\",\"type\":\"scatter\"},{\"alignmentgroup\":\"True\",\"hovertemplate\":\"island=Dream\\u003cbr\\u003esex=Male\\u003cbr\\u003ebody_mass_g=%{x}\\u003cextra\\u003e\\u003c\\u002fextra\\u003e\",\"legendgroup\":\"Dream\",\"marker\":{\"color\":\"#1d4a60\",\"symbol\":\"circle\"},\"name\":\"Dream\",\"notched\":true,\"offsetgroup\":\"Dream\",\"showlegend\":false,\"x\":[3900.0,3900.0,4150.0,3950.0,4650.0,3900.0,4400.0,4600.0,3425.0,4150.0,3550.0,3800.0,3950.0,4300.0,4450.0,4300.0,4350.0,4100.0,4475.0,3900.0,3975.0,4250.0,3475.0,3725.0,3650.0,4250.0,3750.0,4000.0,3900.0,3650.0,3725.0,3750.0,3700.0,3775.0,4050.0,4050.0,3300.0,4400.0,3400.0,3800.0,4150.0,3800.0,4550.0,4300.0,4100.0,3600.0,4800.0,4500.0,3950.0,3550.0,4450.0,4300.0,3250.0,3950.0,4050.0,3450.0,4050.0,3800.0,3950.0,4000.0,3775.0,4100.0],\"xaxis\":\"x4\",\"yaxis\":\"y4\",\"type\":\"box\"},{\"hovertemplate\":\"island=Dream\\u003cbr\\u003esex=Female\\u003cbr\\u003ebody_mass_g=%{x}\\u003cbr\\u003ebill_depth_mm=%{y}\\u003cextra\\u003e\\u003c\\u002fextra\\u003e\",\"legendgroup\":\"Dream\",\"marker\":{\"color\":\"#1d4a60\",\"symbol\":\"circle\",\"size\":7,\"line\":{\"width\":1.5,\"color\":\"black\"}},\"mode\":\"markers\",\"name\":\"Dream\",\"orientation\":\"v\",\"showlegend\":false,\"x\":[3250.0,3300.0,3325.0,3550.0,3300.0,3150.0,3100.0,3000.0,3450.0,3350.0,3500.0,3600.0,3550.0,3400.0,3300.0,3700.0,2900.0,3500.0,3425.0,3175.0,3400.0,3400.0,3050.0,3000.0,3475.0,3450.0,3700.0,3500.0,3525.0,3950.0,3250.0,4150.0,3800.0,3700.0,3575.0,3700.0,3450.0,3600.0,2900.0,3300.0,3400.0,3700.0,3200.0,3350.0,3900.0,3850.0,2700.0,3650.0,3500.0,3675.0,3400.0,3675.0,3325.0,3600.0,3350.0,3250.0,3525.0,3650.0,3650.0,3400.0,3775.0],\"xaxis\":\"x2\",\"y\":[16.7,17.8,17.0,18.5,19.3,18.0,18.5,16.9,17.9,17.8,18.6,18.8,18.0,17.1,17.3,18.6,16.1,18.5,17.6,17.5,16.5,17.1,15.5,16.8,18.4,17.8,17.1,17.9,18.7,17.8,18.2,18.9,17.8,17.3,17.1,17.8,18.6,17.3,16.6,17.9,18.4,17.8,16.6,16.7,16.8,18.3,16.6,17.5,17.0,17.9,17.9,17.3,16.4,17.3,17.3,16.6,19.4,16.5,17.0,18.1,18.7],\"yaxis\":\"y2\",\"type\":\"scatter\"},{\"alignmentgroup\":\"True\",\"hovertemplate\":\"island=Dream\\u003cbr\\u003esex=Female\\u003cbr\\u003ebody_mass_g=%{x}\\u003cextra\\u003e\\u003c\\u002fextra\\u003e\",\"legendgroup\":\"Dream\",\"marker\":{\"color\":\"#1d4a60\",\"symbol\":\"circle\"},\"name\":\"Dream\",\"notched\":true,\"offsetgroup\":\"Dream\",\"showlegend\":false,\"x\":[3250.0,3300.0,3325.0,3550.0,3300.0,3150.0,3100.0,3000.0,3450.0,3350.0,3500.0,3600.0,3550.0,3400.0,3300.0,3700.0,2900.0,3500.0,3425.0,3175.0,3400.0,3400.0,3050.0,3000.0,3475.0,3450.0,3700.0,3500.0,3525.0,3950.0,3250.0,4150.0,3800.0,3700.0,3575.0,3700.0,3450.0,3600.0,2900.0,3300.0,3400.0,3700.0,3200.0,3350.0,3900.0,3850.0,2700.0,3650.0,3500.0,3675.0,3400.0,3675.0,3325.0,3600.0,3350.0,3250.0,3525.0,3650.0,3650.0,3400.0,3775.0],\"xaxis\":\"x5\",\"yaxis\":\"y5\",\"type\":\"box\"}],                        {\"template\":{\"data\":{\"barpolar\":[{\"marker\":{\"line\":{\"color\":\"white\",\"width\":0.5},\"pattern\":{\"fillmode\":\"overlay\",\"size\":10,\"solidity\":0.2}},\"type\":\"barpolar\"}],\"bar\":[{\"error_x\":{\"color\":\"#2a3f5f\"},\"error_y\":{\"color\":\"#2a3f5f\"},\"marker\":{\"line\":{\"color\":\"white\",\"width\":0.5},\"pattern\":{\"fillmode\":\"overlay\",\"size\":10,\"solidity\":0.2}},\"type\":\"bar\"}],\"carpet\":[{\"aaxis\":{\"endlinecolor\":\"#2a3f5f\",\"gridcolor\":\"#C8D4E3\",\"linecolor\":\"#C8D4E3\",\"minorgridcolor\":\"#C8D4E3\",\"startlinecolor\":\"#2a3f5f\"},\"baxis\":{\"endlinecolor\":\"#2a3f5f\",\"gridcolor\":\"#C8D4E3\",\"linecolor\":\"#C8D4E3\",\"minorgridcolor\":\"#C8D4E3\",\"startlinecolor\":\"#2a3f5f\"},\"type\":\"carpet\"}],\"choropleth\":[{\"colorbar\":{\"outlinewidth\":0,\"ticks\":\"\"},\"type\":\"choropleth\"}],\"contourcarpet\":[{\"colorbar\":{\"outlinewidth\":0,\"ticks\":\"\"},\"type\":\"contourcarpet\"}],\"contour\":[{\"colorbar\":{\"outlinewidth\":0,\"ticks\":\"\"},\"colorscale\":[[0.0,\"#0d0887\"],[0.1111111111111111,\"#46039f\"],[0.2222222222222222,\"#7201a8\"],[0.3333333333333333,\"#9c179e\"],[0.4444444444444444,\"#bd3786\"],[0.5555555555555556,\"#d8576b\"],[0.6666666666666666,\"#ed7953\"],[0.7777777777777778,\"#fb9f3a\"],[0.8888888888888888,\"#fdca26\"],[1.0,\"#f0f921\"]],\"type\":\"contour\"}],\"heatmapgl\":[{\"colorbar\":{\"outlinewidth\":0,\"ticks\":\"\"},\"colorscale\":[[0.0,\"#0d0887\"],[0.1111111111111111,\"#46039f\"],[0.2222222222222222,\"#7201a8\"],[0.3333333333333333,\"#9c179e\"],[0.4444444444444444,\"#bd3786\"],[0.5555555555555556,\"#d8576b\"],[0.6666666666666666,\"#ed7953\"],[0.7777777777777778,\"#fb9f3a\"],[0.8888888888888888,\"#fdca26\"],[1.0,\"#f0f921\"]],\"type\":\"heatmapgl\"}],\"heatmap\":[{\"colorbar\":{\"outlinewidth\":0,\"ticks\":\"\"},\"colorscale\":[[0.0,\"#0d0887\"],[0.1111111111111111,\"#46039f\"],[0.2222222222222222,\"#7201a8\"],[0.3333333333333333,\"#9c179e\"],[0.4444444444444444,\"#bd3786\"],[0.5555555555555556,\"#d8576b\"],[0.6666666666666666,\"#ed7953\"],[0.7777777777777778,\"#fb9f3a\"],[0.8888888888888888,\"#fdca26\"],[1.0,\"#f0f921\"]],\"type\":\"heatmap\"}],\"histogram2dcontour\":[{\"colorbar\":{\"outlinewidth\":0,\"ticks\":\"\"},\"colorscale\":[[0.0,\"#0d0887\"],[0.1111111111111111,\"#46039f\"],[0.2222222222222222,\"#7201a8\"],[0.3333333333333333,\"#9c179e\"],[0.4444444444444444,\"#bd3786\"],[0.5555555555555556,\"#d8576b\"],[0.6666666666666666,\"#ed7953\"],[0.7777777777777778,\"#fb9f3a\"],[0.8888888888888888,\"#fdca26\"],[1.0,\"#f0f921\"]],\"type\":\"histogram2dcontour\"}],\"histogram2d\":[{\"colorbar\":{\"outlinewidth\":0,\"ticks\":\"\"},\"colorscale\":[[0.0,\"#0d0887\"],[0.1111111111111111,\"#46039f\"],[0.2222222222222222,\"#7201a8\"],[0.3333333333333333,\"#9c179e\"],[0.4444444444444444,\"#bd3786\"],[0.5555555555555556,\"#d8576b\"],[0.6666666666666666,\"#ed7953\"],[0.7777777777777778,\"#fb9f3a\"],[0.8888888888888888,\"#fdca26\"],[1.0,\"#f0f921\"]],\"type\":\"histogram2d\"}],\"histogram\":[{\"marker\":{\"pattern\":{\"fillmode\":\"overlay\",\"size\":10,\"solidity\":0.2}},\"type\":\"histogram\"}],\"mesh3d\":[{\"colorbar\":{\"outlinewidth\":0,\"ticks\":\"\"},\"type\":\"mesh3d\"}],\"parcoords\":[{\"line\":{\"colorbar\":{\"outlinewidth\":0,\"ticks\":\"\"}},\"type\":\"parcoords\"}],\"pie\":[{\"automargin\":true,\"type\":\"pie\"}],\"scatter3d\":[{\"line\":{\"colorbar\":{\"outlinewidth\":0,\"ticks\":\"\"}},\"marker\":{\"colorbar\":{\"outlinewidth\":0,\"ticks\":\"\"}},\"type\":\"scatter3d\"}],\"scattercarpet\":[{\"marker\":{\"colorbar\":{\"outlinewidth\":0,\"ticks\":\"\"}},\"type\":\"scattercarpet\"}],\"scattergeo\":[{\"marker\":{\"colorbar\":{\"outlinewidth\":0,\"ticks\":\"\"}},\"type\":\"scattergeo\"}],\"scattergl\":[{\"marker\":{\"colorbar\":{\"outlinewidth\":0,\"ticks\":\"\"}},\"type\":\"scattergl\"}],\"scattermapbox\":[{\"marker\":{\"colorbar\":{\"outlinewidth\":0,\"ticks\":\"\"}},\"type\":\"scattermapbox\"}],\"scatterpolargl\":[{\"marker\":{\"colorbar\":{\"outlinewidth\":0,\"ticks\":\"\"}},\"type\":\"scatterpolargl\"}],\"scatterpolar\":[{\"marker\":{\"colorbar\":{\"outlinewidth\":0,\"ticks\":\"\"}},\"type\":\"scatterpolar\"}],\"scatter\":[{\"fillpattern\":{\"fillmode\":\"overlay\",\"size\":10,\"solidity\":0.2},\"type\":\"scatter\"}],\"scatterternary\":[{\"marker\":{\"colorbar\":{\"outlinewidth\":0,\"ticks\":\"\"}},\"type\":\"scatterternary\"}],\"surface\":[{\"colorbar\":{\"outlinewidth\":0,\"ticks\":\"\"},\"colorscale\":[[0.0,\"#0d0887\"],[0.1111111111111111,\"#46039f\"],[0.2222222222222222,\"#7201a8\"],[0.3333333333333333,\"#9c179e\"],[0.4444444444444444,\"#bd3786\"],[0.5555555555555556,\"#d8576b\"],[0.6666666666666666,\"#ed7953\"],[0.7777777777777778,\"#fb9f3a\"],[0.8888888888888888,\"#fdca26\"],[1.0,\"#f0f921\"]],\"type\":\"surface\"}],\"table\":[{\"cells\":{\"fill\":{\"color\":\"#EBF0F8\"},\"line\":{\"color\":\"white\"}},\"header\":{\"fill\":{\"color\":\"#C8D4E3\"},\"line\":{\"color\":\"white\"}},\"type\":\"table\"}]},\"layout\":{\"annotationdefaults\":{\"arrowcolor\":\"#2a3f5f\",\"arrowhead\":0,\"arrowwidth\":1},\"autotypenumbers\":\"strict\",\"coloraxis\":{\"colorbar\":{\"outlinewidth\":0,\"ticks\":\"\"}},\"colorscale\":{\"diverging\":[[0,\"#8e0152\"],[0.1,\"#c51b7d\"],[0.2,\"#de77ae\"],[0.3,\"#f1b6da\"],[0.4,\"#fde0ef\"],[0.5,\"#f7f7f7\"],[0.6,\"#e6f5d0\"],[0.7,\"#b8e186\"],[0.8,\"#7fbc41\"],[0.9,\"#4d9221\"],[1,\"#276419\"]],\"sequential\":[[0.0,\"#0d0887\"],[0.1111111111111111,\"#46039f\"],[0.2222222222222222,\"#7201a8\"],[0.3333333333333333,\"#9c179e\"],[0.4444444444444444,\"#bd3786\"],[0.5555555555555556,\"#d8576b\"],[0.6666666666666666,\"#ed7953\"],[0.7777777777777778,\"#fb9f3a\"],[0.8888888888888888,\"#fdca26\"],[1.0,\"#f0f921\"]],\"sequentialminus\":[[0.0,\"#0d0887\"],[0.1111111111111111,\"#46039f\"],[0.2222222222222222,\"#7201a8\"],[0.3333333333333333,\"#9c179e\"],[0.4444444444444444,\"#bd3786\"],[0.5555555555555556,\"#d8576b\"],[0.6666666666666666,\"#ed7953\"],[0.7777777777777778,\"#fb9f3a\"],[0.8888888888888888,\"#fdca26\"],[1.0,\"#f0f921\"]]},\"colorway\":[\"#636efa\",\"#EF553B\",\"#00cc96\",\"#ab63fa\",\"#FFA15A\",\"#19d3f3\",\"#FF6692\",\"#B6E880\",\"#FF97FF\",\"#FECB52\"],\"font\":{\"color\":\"#2a3f5f\"},\"geo\":{\"bgcolor\":\"white\",\"lakecolor\":\"white\",\"landcolor\":\"white\",\"showlakes\":true,\"showland\":true,\"subunitcolor\":\"#C8D4E3\"},\"hoverlabel\":{\"align\":\"left\"},\"hovermode\":\"closest\",\"mapbox\":{\"style\":\"light\"},\"paper_bgcolor\":\"white\",\"plot_bgcolor\":\"white\",\"polar\":{\"angularaxis\":{\"gridcolor\":\"#EBF0F8\",\"linecolor\":\"#EBF0F8\",\"ticks\":\"\"},\"bgcolor\":\"white\",\"radialaxis\":{\"gridcolor\":\"#EBF0F8\",\"linecolor\":\"#EBF0F8\",\"ticks\":\"\"}},\"scene\":{\"xaxis\":{\"backgroundcolor\":\"white\",\"gridcolor\":\"#DFE8F3\",\"gridwidth\":2,\"linecolor\":\"#EBF0F8\",\"showbackground\":true,\"ticks\":\"\",\"zerolinecolor\":\"#EBF0F8\"},\"yaxis\":{\"backgroundcolor\":\"white\",\"gridcolor\":\"#DFE8F3\",\"gridwidth\":2,\"linecolor\":\"#EBF0F8\",\"showbackground\":true,\"ticks\":\"\",\"zerolinecolor\":\"#EBF0F8\"},\"zaxis\":{\"backgroundcolor\":\"white\",\"gridcolor\":\"#DFE8F3\",\"gridwidth\":2,\"linecolor\":\"#EBF0F8\",\"showbackground\":true,\"ticks\":\"\",\"zerolinecolor\":\"#EBF0F8\"}},\"shapedefaults\":{\"line\":{\"color\":\"#2a3f5f\"}},\"ternary\":{\"aaxis\":{\"gridcolor\":\"#DFE8F3\",\"linecolor\":\"#A2B1C6\",\"ticks\":\"\"},\"baxis\":{\"gridcolor\":\"#DFE8F3\",\"linecolor\":\"#A2B1C6\",\"ticks\":\"\"},\"bgcolor\":\"white\",\"caxis\":{\"gridcolor\":\"#DFE8F3\",\"linecolor\":\"#A2B1C6\",\"ticks\":\"\"}},\"title\":{\"x\":0.05},\"xaxis\":{\"automargin\":true,\"gridcolor\":\"#EBF0F8\",\"linecolor\":\"#EBF0F8\",\"ticks\":\"\",\"title\":{\"standoff\":15},\"zerolinecolor\":\"#EBF0F8\",\"zerolinewidth\":2},\"yaxis\":{\"automargin\":true,\"gridcolor\":\"#EBF0F8\",\"linecolor\":\"#EBF0F8\",\"ticks\":\"\",\"title\":{\"standoff\":15},\"zerolinecolor\":\"#EBF0F8\",\"zerolinewidth\":2}}},\"xaxis\":{\"anchor\":\"y\",\"domain\":[0.0,0.31999999999999995],\"title\":{\"text\":\"body_mass_g\"}},\"yaxis\":{\"anchor\":\"x\",\"domain\":[0.0,0.7326],\"title\":{\"text\":\"bill_depth_mm\"}},\"xaxis2\":{\"anchor\":\"y2\",\"domain\":[0.33999999999999997,0.6599999999999999],\"matches\":\"x\",\"title\":{\"text\":\"body_mass_g\"}},\"yaxis2\":{\"anchor\":\"x2\",\"domain\":[0.0,0.7326],\"matches\":\"y\",\"showticklabels\":false},\"xaxis3\":{\"anchor\":\"y3\",\"domain\":[0.6799999999999999,0.9999999999999999],\"matches\":\"x\",\"title\":{\"text\":\"body_mass_g\"}},\"yaxis3\":{\"anchor\":\"x3\",\"domain\":[0.0,0.7326],\"matches\":\"y\",\"showticklabels\":false},\"xaxis4\":{\"anchor\":\"y4\",\"domain\":[0.0,0.31999999999999995],\"matches\":\"x\",\"showticklabels\":false,\"showgrid\":true},\"yaxis4\":{\"anchor\":\"x4\",\"domain\":[0.7426,1.0],\"matches\":\"y4\",\"showticklabels\":false,\"showline\":false,\"ticks\":\"\",\"showgrid\":false},\"xaxis5\":{\"anchor\":\"y5\",\"domain\":[0.33999999999999997,0.6599999999999999],\"matches\":\"x\",\"showticklabels\":false,\"showgrid\":true},\"yaxis5\":{\"anchor\":\"x5\",\"domain\":[0.7426,1.0],\"matches\":\"y4\",\"showticklabels\":false,\"showline\":false,\"ticks\":\"\",\"showgrid\":false},\"xaxis6\":{\"anchor\":\"y6\",\"domain\":[0.6799999999999999,0.9999999999999999],\"matches\":\"x\",\"showticklabels\":false,\"showgrid\":true},\"yaxis6\":{\"anchor\":\"x6\",\"domain\":[0.7426,1.0],\"matches\":\"y4\",\"showticklabels\":false,\"showline\":false,\"ticks\":\"\",\"showgrid\":false},\"annotations\":[{\"font\":{},\"showarrow\":false,\"text\":\"sex=Male\",\"x\":0.15999999999999998,\"xanchor\":\"center\",\"xref\":\"paper\",\"y\":1.0,\"yanchor\":\"bottom\",\"yref\":\"paper\"},{\"font\":{},\"showarrow\":false,\"text\":\"sex=Female\",\"x\":0.49999999999999994,\"xanchor\":\"center\",\"xref\":\"paper\",\"y\":1.0,\"yanchor\":\"bottom\",\"yref\":\"paper\"},{\"font\":{},\"showarrow\":false,\"text\":\"sex=nan\",\"x\":0.8399999999999999,\"xanchor\":\"center\",\"xref\":\"paper\",\"y\":1.0,\"yanchor\":\"bottom\",\"yref\":\"paper\"}],\"legend\":{\"title\":{\"text\":\"island\"},\"tracegroupgap\":0},\"title\":{\"text\":\"this is the title\"},\"height\":300,\"width\":500},                        {\"responsive\": true}                    ).then(function(){\n",
       "                            \n",
       "var gd = document.getElementById('8b9a33a8-b60b-4c21-91f9-eeaa6ae2ea7a');\n",
       "var x = new MutationObserver(function (mutations, observer) {{\n",
       "        var display = window.getComputedStyle(gd).display;\n",
       "        if (!display || display === 'none') {{\n",
       "            console.log([gd, 'removed!']);\n",
       "            Plotly.purge(gd);\n",
       "            observer.disconnect();\n",
       "        }}\n",
       "}});\n",
       "\n",
       "// Listen for the removal of the full notebook cells\n",
       "var notebookContainer = gd.closest('#notebook-container');\n",
       "if (notebookContainer) {{\n",
       "    x.observe(notebookContainer, {childList: true});\n",
       "}}\n",
       "\n",
       "// Listen for the clearing of the current output cell\n",
       "var outputEl = gd.closest('.output');\n",
       "if (outputEl) {{\n",
       "    x.observe(outputEl, {childList: true});\n",
       "}}\n",
       "\n",
       "                        })                };                });            </script>        </div>"
      ]
     },
     "metadata": {},
     "output_type": "display_data"
    }
   ],
   "source": [
    "interpreter.setpp({'figsize':[500,300],'template':'plotly_white','title':'this is the title'})\n",
    "\n",
    "# [0] using active columns\n",
    "\n",
    "# req = '''\n",
    "# create plotly scatter plot\n",
    "# x: body_mass_g y: {selected_columns}\n",
    "# using penguins\n",
    "# '''\n",
    "\n",
    "# [1] regular notation (multiple y) (not working)\n",
    "\n",
    "req = '''\n",
    "mew: 1.5\n",
    "create plotly scatterplot\n",
    "x: body_mass_g y: bill_length_mm bill_depth_mm flipper_length_mm\n",
    "using penguins\n",
    "'''\n",
    "\n",
    "# req = '''\n",
    "# create plotly scatterplot\n",
    "# x: body_mass_g y: bill_depth_mm hue: island col sex\n",
    "# mew: 1.5, mec: black s: 7\n",
    "# marginal_x box marginal_y box\n",
    "# using penguins\n",
    "# '''\n",
    "\n",
    "# req = '''\n",
    "# create plotly boxplot\n",
    "# x: island y: bill_depth_mm hue sex\n",
    "# using penguins\n",
    "# '''\n",
    "\n",
    "# [2] simple request one PARAM per column\n",
    "\n",
    "# simple request one PARAM per column \n",
    "# req = '''\n",
    "# create plotly scatterplot\n",
    "# x: bill_depth_mm y: flipper_length_mm hue: island\n",
    "# using penguins\n",
    "# '''\n",
    "\n",
    "# req = '''\n",
    "# create plotly count heatmap\n",
    "# x: bill_depth_mm y: flipper_length_mm hue: sex col: sex\n",
    "# using penguins\n",
    "# '''\n",
    "\n",
    "interpreter[req]"
   ]
  },
  {
   "cell_type": "code",
   "execution_count": 4,
   "id": "225d53d4-b446-4735-94e0-be0349ecb844",
   "metadata": {},
   "outputs": [
    {
     "data": {
      "text/html": [
       "<div>\n",
       "<style scoped>\n",
       "    .dataframe tbody tr th:only-of-type {\n",
       "        vertical-align: middle;\n",
       "    }\n",
       "\n",
       "    .dataframe tbody tr th {\n",
       "        vertical-align: top;\n",
       "    }\n",
       "\n",
       "    .dataframe thead th {\n",
       "        text-align: right;\n",
       "    }\n",
       "</style>\n",
       "<table border=\"1\" class=\"dataframe\">\n",
       "  <thead>\n",
       "    <tr style=\"text-align: right;\">\n",
       "      <th></th>\n",
       "      <th>token</th>\n",
       "      <th>index_id</th>\n",
       "      <th>type</th>\n",
       "      <th>ner_tags</th>\n",
       "      <th>data</th>\n",
       "      <th>dtype</th>\n",
       "      <th>column</th>\n",
       "      <th>ttype</th>\n",
       "      <th>ttype_storage</th>\n",
       "      <th>token_arg</th>\n",
       "      <th>token_argv</th>\n",
       "      <th>vocab</th>\n",
       "    </tr>\n",
       "  </thead>\n",
       "  <tbody>\n",
       "    <tr>\n",
       "      <th>0</th>\n",
       "      <td>create</td>\n",
       "      <td>0</td>\n",
       "      <td>uni</td>\n",
       "      <td>O</td>\n",
       "      <td>NaN</td>\n",
       "      <td>NaN</td>\n",
       "      <td>NaN</td>\n",
       "      <td>str</td>\n",
       "      <td>create</td>\n",
       "      <td>False</td>\n",
       "      <td>0</td>\n",
       "      <td>True</td>\n",
       "    </tr>\n",
       "    <tr>\n",
       "      <th>1</th>\n",
       "      <td>plotly</td>\n",
       "      <td>1</td>\n",
       "      <td>uni</td>\n",
       "      <td>O</td>\n",
       "      <td>NaN</td>\n",
       "      <td>NaN</td>\n",
       "      <td>NaN</td>\n",
       "      <td>str</td>\n",
       "      <td>plotly</td>\n",
       "      <td>False</td>\n",
       "      <td>0</td>\n",
       "      <td>True</td>\n",
       "    </tr>\n",
       "    <tr>\n",
       "      <th>2</th>\n",
       "      <td>scatterplot</td>\n",
       "      <td>2</td>\n",
       "      <td>uni</td>\n",
       "      <td>O</td>\n",
       "      <td>NaN</td>\n",
       "      <td>NaN</td>\n",
       "      <td>NaN</td>\n",
       "      <td>str</td>\n",
       "      <td>scatterplot</td>\n",
       "      <td>False</td>\n",
       "      <td>0</td>\n",
       "      <td>True</td>\n",
       "    </tr>\n",
       "    <tr>\n",
       "      <th>3</th>\n",
       "      <td>x</td>\n",
       "      <td>3</td>\n",
       "      <td>uni</td>\n",
       "      <td>B-PARAM</td>\n",
       "      <td>NaN</td>\n",
       "      <td>NaN</td>\n",
       "      <td>NaN</td>\n",
       "      <td>str</td>\n",
       "      <td>x</td>\n",
       "      <td>True</td>\n",
       "      <td>0</td>\n",
       "      <td>False</td>\n",
       "    </tr>\n",
       "    <tr>\n",
       "      <th>4</th>\n",
       "      <td>body_mass_g</td>\n",
       "      <td>4</td>\n",
       "      <td>uni</td>\n",
       "      <td>O</td>\n",
       "      <td>NaN</td>\n",
       "      <td>NaN</td>\n",
       "      <td>penguins</td>\n",
       "      <td>str</td>\n",
       "      <td>body_mass_g</td>\n",
       "      <td>False</td>\n",
       "      <td>True</td>\n",
       "      <td>False</td>\n",
       "    </tr>\n",
       "    <tr>\n",
       "      <th>5</th>\n",
       "      <td>y</td>\n",
       "      <td>5</td>\n",
       "      <td>uni</td>\n",
       "      <td>B-PARAM</td>\n",
       "      <td>NaN</td>\n",
       "      <td>NaN</td>\n",
       "      <td>NaN</td>\n",
       "      <td>str</td>\n",
       "      <td>y</td>\n",
       "      <td>True</td>\n",
       "      <td>0</td>\n",
       "      <td>False</td>\n",
       "    </tr>\n",
       "    <tr>\n",
       "      <th>6</th>\n",
       "      <td>bill_depth_mm</td>\n",
       "      <td>6</td>\n",
       "      <td>uni</td>\n",
       "      <td>O</td>\n",
       "      <td>NaN</td>\n",
       "      <td>NaN</td>\n",
       "      <td>penguins</td>\n",
       "      <td>str</td>\n",
       "      <td>bill_depth_mm</td>\n",
       "      <td>False</td>\n",
       "      <td>True</td>\n",
       "      <td>False</td>\n",
       "    </tr>\n",
       "    <tr>\n",
       "      <th>7</th>\n",
       "      <td>hue</td>\n",
       "      <td>7</td>\n",
       "      <td>uni</td>\n",
       "      <td>B-PARAM</td>\n",
       "      <td>NaN</td>\n",
       "      <td>NaN</td>\n",
       "      <td>NaN</td>\n",
       "      <td>str</td>\n",
       "      <td>hue</td>\n",
       "      <td>True</td>\n",
       "      <td>0</td>\n",
       "      <td>False</td>\n",
       "    </tr>\n",
       "    <tr>\n",
       "      <th>8</th>\n",
       "      <td>island</td>\n",
       "      <td>8</td>\n",
       "      <td>uni</td>\n",
       "      <td>O</td>\n",
       "      <td>NaN</td>\n",
       "      <td>NaN</td>\n",
       "      <td>penguins</td>\n",
       "      <td>str</td>\n",
       "      <td>island</td>\n",
       "      <td>False</td>\n",
       "      <td>True</td>\n",
       "      <td>False</td>\n",
       "    </tr>\n",
       "    <tr>\n",
       "      <th>9</th>\n",
       "      <td>mew</td>\n",
       "      <td>9</td>\n",
       "      <td>uni</td>\n",
       "      <td>B-PARAM</td>\n",
       "      <td>NaN</td>\n",
       "      <td>NaN</td>\n",
       "      <td>NaN</td>\n",
       "      <td>str</td>\n",
       "      <td>mew</td>\n",
       "      <td>True</td>\n",
       "      <td>0</td>\n",
       "      <td>False</td>\n",
       "    </tr>\n",
       "    <tr>\n",
       "      <th>10</th>\n",
       "      <td>1.5</td>\n",
       "      <td>10</td>\n",
       "      <td>uni</td>\n",
       "      <td>O</td>\n",
       "      <td>NaN</td>\n",
       "      <td>NaN</td>\n",
       "      <td>NaN</td>\n",
       "      <td>float</td>\n",
       "      <td>1.5</td>\n",
       "      <td>False</td>\n",
       "      <td>True</td>\n",
       "      <td>False</td>\n",
       "    </tr>\n",
       "    <tr>\n",
       "      <th>11</th>\n",
       "      <td>mec</td>\n",
       "      <td>11</td>\n",
       "      <td>uni</td>\n",
       "      <td>B-PARAM</td>\n",
       "      <td>NaN</td>\n",
       "      <td>NaN</td>\n",
       "      <td>NaN</td>\n",
       "      <td>str</td>\n",
       "      <td>mec</td>\n",
       "      <td>True</td>\n",
       "      <td>0</td>\n",
       "      <td>False</td>\n",
       "    </tr>\n",
       "    <tr>\n",
       "      <th>12</th>\n",
       "      <td>black</td>\n",
       "      <td>12</td>\n",
       "      <td>uni</td>\n",
       "      <td>O</td>\n",
       "      <td>NaN</td>\n",
       "      <td>NaN</td>\n",
       "      <td>NaN</td>\n",
       "      <td>str</td>\n",
       "      <td>black</td>\n",
       "      <td>False</td>\n",
       "      <td>True</td>\n",
       "      <td>False</td>\n",
       "    </tr>\n",
       "    <tr>\n",
       "      <th>13</th>\n",
       "      <td>marginal_x</td>\n",
       "      <td>13</td>\n",
       "      <td>uni</td>\n",
       "      <td>B-PARAM</td>\n",
       "      <td>NaN</td>\n",
       "      <td>NaN</td>\n",
       "      <td>NaN</td>\n",
       "      <td>str</td>\n",
       "      <td>marginal_x</td>\n",
       "      <td>True</td>\n",
       "      <td>0</td>\n",
       "      <td>False</td>\n",
       "    </tr>\n",
       "    <tr>\n",
       "      <th>14</th>\n",
       "      <td>histogram</td>\n",
       "      <td>14</td>\n",
       "      <td>uni</td>\n",
       "      <td>O</td>\n",
       "      <td>NaN</td>\n",
       "      <td>NaN</td>\n",
       "      <td>NaN</td>\n",
       "      <td>str</td>\n",
       "      <td>histogram</td>\n",
       "      <td>False</td>\n",
       "      <td>True</td>\n",
       "      <td>True</td>\n",
       "    </tr>\n",
       "    <tr>\n",
       "      <th>15</th>\n",
       "      <td>marginal_y</td>\n",
       "      <td>15</td>\n",
       "      <td>uni</td>\n",
       "      <td>O</td>\n",
       "      <td>NaN</td>\n",
       "      <td>NaN</td>\n",
       "      <td>NaN</td>\n",
       "      <td>str</td>\n",
       "      <td>marginal_y</td>\n",
       "      <td>True</td>\n",
       "      <td>0</td>\n",
       "      <td>False</td>\n",
       "    </tr>\n",
       "    <tr>\n",
       "      <th>16</th>\n",
       "      <td>histogram</td>\n",
       "      <td>16</td>\n",
       "      <td>uni</td>\n",
       "      <td>O</td>\n",
       "      <td>NaN</td>\n",
       "      <td>NaN</td>\n",
       "      <td>NaN</td>\n",
       "      <td>str</td>\n",
       "      <td>histogram</td>\n",
       "      <td>False</td>\n",
       "      <td>True</td>\n",
       "      <td>True</td>\n",
       "    </tr>\n",
       "    <tr>\n",
       "      <th>17</th>\n",
       "      <td>using</td>\n",
       "      <td>17</td>\n",
       "      <td>uni</td>\n",
       "      <td>B-SOURCE</td>\n",
       "      <td>NaN</td>\n",
       "      <td>NaN</td>\n",
       "      <td>NaN</td>\n",
       "      <td>str</td>\n",
       "      <td>using</td>\n",
       "      <td>False</td>\n",
       "      <td>0</td>\n",
       "      <td>True</td>\n",
       "    </tr>\n",
       "    <tr>\n",
       "      <th>18</th>\n",
       "      <td>penguins</td>\n",
       "      <td>18</td>\n",
       "      <td>uni</td>\n",
       "      <td>O</td>\n",
       "      <td>1.0</td>\n",
       "      <td>pd.DataFrame</td>\n",
       "      <td>NaN</td>\n",
       "      <td>str</td>\n",
       "      <td>penguins</td>\n",
       "      <td>False</td>\n",
       "      <td>0</td>\n",
       "      <td>False</td>\n",
       "    </tr>\n",
       "  </tbody>\n",
       "</table>\n",
       "</div>"
      ],
      "text/plain": [
       "            token  index_id type  ner_tags  data         dtype    column  \\\n",
       "0          create         0  uni         O   NaN           NaN       NaN   \n",
       "1          plotly         1  uni         O   NaN           NaN       NaN   \n",
       "2     scatterplot         2  uni         O   NaN           NaN       NaN   \n",
       "3               x         3  uni   B-PARAM   NaN           NaN       NaN   \n",
       "4     body_mass_g         4  uni         O   NaN           NaN  penguins   \n",
       "5               y         5  uni   B-PARAM   NaN           NaN       NaN   \n",
       "6   bill_depth_mm         6  uni         O   NaN           NaN  penguins   \n",
       "7             hue         7  uni   B-PARAM   NaN           NaN       NaN   \n",
       "8          island         8  uni         O   NaN           NaN  penguins   \n",
       "9             mew         9  uni   B-PARAM   NaN           NaN       NaN   \n",
       "10            1.5        10  uni         O   NaN           NaN       NaN   \n",
       "11            mec        11  uni   B-PARAM   NaN           NaN       NaN   \n",
       "12          black        12  uni         O   NaN           NaN       NaN   \n",
       "13     marginal_x        13  uni   B-PARAM   NaN           NaN       NaN   \n",
       "14      histogram        14  uni         O   NaN           NaN       NaN   \n",
       "15     marginal_y        15  uni         O   NaN           NaN       NaN   \n",
       "16      histogram        16  uni         O   NaN           NaN       NaN   \n",
       "17          using        17  uni  B-SOURCE   NaN           NaN       NaN   \n",
       "18       penguins        18  uni         O   1.0  pd.DataFrame       NaN   \n",
       "\n",
       "    ttype  ttype_storage  token_arg token_argv  vocab  \n",
       "0     str         create      False          0   True  \n",
       "1     str         plotly      False          0   True  \n",
       "2     str    scatterplot      False          0   True  \n",
       "3     str              x       True          0  False  \n",
       "4     str    body_mass_g      False       True  False  \n",
       "5     str              y       True          0  False  \n",
       "6     str  bill_depth_mm      False       True  False  \n",
       "7     str            hue       True          0  False  \n",
       "8     str         island      False       True  False  \n",
       "9     str            mew       True          0  False  \n",
       "10  float            1.5      False       True  False  \n",
       "11    str            mec       True          0  False  \n",
       "12    str          black      False       True  False  \n",
       "13    str     marginal_x       True          0  False  \n",
       "14    str      histogram      False       True   True  \n",
       "15    str     marginal_y       True          0  False  \n",
       "16    str      histogram      False       True   True  \n",
       "17    str          using      False          0   True  \n",
       "18    str       penguins      False          0  False  "
      ]
     },
     "execution_count": 4,
     "metadata": {},
     "output_type": "execute_result"
    }
   ],
   "source": [
    "# nlpi.silent = False\n",
    "# interpreter['seaborn scatterplot using penguins x bill_length_mm y bill_depth_mm hue: island']\n",
    "\n",
    "interpreter.token_info\n",
    "# interpreter.module_args['mew']"
   ]
  },
  {
   "cell_type": "code",
   "execution_count": 134,
   "id": "2ac0426f-93cc-40c0-8a82-ca0415673f74",
   "metadata": {},
   "outputs": [],
   "source": [
    "# # '''\n",
    "\n",
    "# # Column Plots\n",
    "\n",
    "# # '''\n",
    "\n",
    "# interpreter.setpp\n",
    "# ({'alpha':1.0,'fill':True,'mec':'k','mew':1.5,'stheme':'viridis','s':35})\n",
    "# interpreter['visualise column scatterplot for penguins x bill_length_mm hue sex']"
   ]
  },
  {
   "cell_type": "code",
   "execution_count": 15,
   "id": "49355568-41d5-4d6b-bf94-fbc2faa6b0f4",
   "metadata": {},
   "outputs": [
    {
     "data": {
      "text/plain": [
       "array([[1., 0., 0.]])"
      ]
     },
     "execution_count": 15,
     "metadata": {},
     "output_type": "execute_result"
    }
   ],
   "source": [
    "# from sklearn.ensemble import RandomForestClassifier\n",
    "# from seaborn import load_dataset\n",
    "\n",
    "# data = load_dataset('iris')\n",
    "# X = data.iloc[:,:-1]\n",
    "# y = data['species']\n",
    "\n",
    "# model = RandomForestClassifier()\n",
    "# model.fit(X,y)\n",
    "\n",
    "# X_test = [4.9,3.0,1.4,0.2] # setosa\n",
    "# model.predict_proba([X_test])"
   ]
  },
  {
   "cell_type": "code",
   "execution_count": 86,
   "id": "8344dfd3-307e-49a4-9583-508cee20c668",
   "metadata": {},
   "outputs": [],
   "source": [
    "# interpreter['pca dimensionality reduction using data housing']\n",
    "# interpreter.glr()['data']\n",
    "# interpreter.store_data(interpreter.glr()['data'],'pca')"
   ]
  },
  {
   "cell_type": "code",
   "execution_count": 135,
   "id": "29b65adc-2646-40ce-a503-f8598a0a528e",
   "metadata": {},
   "outputs": [],
   "source": [
    "# # plot first two dimensions\n",
    "# interpreter.setpp({'alpha':1.0,'fill':False,'mec':'k','mew':1,'s':25})\n",
    "# interpreter['create seaborn scatter plot using data pca x:dim_0 y:dim_1']"
   ]
  },
  {
   "cell_type": "code",
   "execution_count": 87,
   "id": "ddd0e914-2151-41f0-bef3-7fbbd6e6f7f2",
   "metadata": {},
   "outputs": [],
   "source": [
    "# # interpreter.fl('usldimred')\n",
    "# interpreter.fl()"
   ]
  },
  {
   "cell_type": "markdown",
   "id": "09bec85c-ed78-40d2-a169-9ce1e7038aa8",
   "metadata": {},
   "source": [
    "### Debugging"
   ]
  },
  {
   "cell_type": "code",
   "execution_count": 185,
   "id": "e8cc821e-30e1-487e-ad8c-d8208b56309d",
   "metadata": {},
   "outputs": [],
   "source": [
    "# collection.test('gt','create a boxplot')\n",
    "# collection.predict_gtask('gt','create a column boxplot')\n",
    "\n",
    "# eval(\"['A','B','C']\")\n",
    "# exec(\"x=['A','B','C']\")"
   ]
  },
  {
   "cell_type": "code",
   "execution_count": 136,
   "id": "8847519d-ba38-4cd3-8b2a-b2aa515eb74f",
   "metadata": {},
   "outputs": [],
   "source": [
    "# '''\n",
    "\n",
    "# Do some testing to make sure the corpus works well \n",
    "\n",
    "# '''\n",
    "\n",
    "# # collection.dtest('eda_plot','create seaborn scatter plot')\n",
    "# collection.dtest('gt','compare histograms of samples')"
   ]
  },
  {
   "cell_type": "code",
   "execution_count": null,
   "id": "cfd63ddf-ac86-4d6f-8b50-915183872696",
   "metadata": {},
   "outputs": [],
   "source": [
    "# collection.test('gt','create a boxplot')\n",
    "# collection.predict_gtask('gt','create a column boxplot')"
   ]
  },
  {
   "cell_type": "code",
   "execution_count": 137,
   "id": "3c587e0f-0a90-496b-bc16-b42c9f489477",
   "metadata": {},
   "outputs": [],
   "source": [
    "# '''\n",
    "\n",
    "# Seaborn Plots\n",
    "\n",
    "# '''\n",
    "\n",
    "# req = '''\n",
    "# create seaborn relplot\n",
    "# x: bill_length_mm \n",
    "# y: bill_depth_mm \n",
    "# hue: island\n",
    "# kind: scatter\n",
    "# using penguins\n",
    "# '''\n",
    "\n",
    "# interpreter.setpp({'fill':True,'alpha':1,'mew':1})\n",
    "# interpreter[req]\n",
    "\n",
    "# # interpreter['create seaborn boxplot using housing y AGE x RAD']\n",
    "# # interpreter['create seaborn relplot x: bill_length_mm y: bill_depth_mm hue island col=island alpha=1.0 s:50 mew: 1 using penguins']\n",
    "# # interpreter['create seaborn relplot x: bill_length_mm y: bill_depth_mm hue island using penguins']"
   ]
  },
  {
   "cell_type": "code",
   "execution_count": 140,
   "id": "fd0eb088-20ad-4d09-8c11-7e92d5e18366",
   "metadata": {},
   "outputs": [],
   "source": [
    "# lst = [1,2,3,4,5,6]\n",
    "# for i,j in zip(lst,lst[1:]):\n",
    "#     print(i*j)\n",
    "\n",
    "# eval(\"['A','B','C']\")\n",
    "# exec(\"x=['A','B','C']\")"
   ]
  },
  {
   "cell_type": "code",
   "execution_count": 141,
   "id": "b0e8ffb0-5e62-4819-b492-118f8edbbd2a",
   "metadata": {},
   "outputs": [],
   "source": [
    "# # self.task_name\n",
    "# 'plotly' in interpreter.task_info.loc['plscatter','description']"
   ]
  },
  {
   "cell_type": "code",
   "execution_count": null,
   "id": "79d99b17-8727-45ac-abff-0c488e245525",
   "metadata": {},
   "outputs": [],
   "source": []
  }
 ],
 "metadata": {
  "kernelspec": {
   "display_name": "Python 3 (ipykernel)",
   "language": "python",
   "name": "python3"
  },
  "language_info": {
   "codemirror_mode": {
    "name": "ipython",
    "version": 3
   },
   "file_extension": ".py",
   "mimetype": "text/x-python",
   "name": "python",
   "nbconvert_exporter": "python",
   "pygments_lexer": "ipython3",
   "version": "3.10.10"
  }
 },
 "nbformat": 4,
 "nbformat_minor": 5
}
