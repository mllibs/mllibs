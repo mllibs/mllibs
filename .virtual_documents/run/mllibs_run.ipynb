import pandas as pd
import numpy as np
from mllibs.nlpi import nlpi

iris = pd.read_csv('data/iris.csv')
titanic = pd.read_csv('data/titanic.csv')
penguins = pd.read_csv('data/penguins.csv')

i = nlpi() 
i.add_modules() # add modules (create corpuses)
i.add(iris,'iris') # add data to nlpi instance
i.add(titanic,'titanic')
i.add(penguins,'penguins')

sample1 = list(np.random.normal(scale=1, size=500))
sample3 = list(np.random.exponential(scale=1, size=500))
sample2 = list(np.random.rand(10))

i.add(sample1,'sample1')
i.add(sample3,'sample3')


"""

Module: Pandas DataFrame Operations

"""

# req = 'show a preview of the dataframe titanic'
# req = 'describe the statistics of dataframe titanic'
# req = 'show the shape of the dataframe titanic'
# req = 'show the data types in the dataframe titanic'
# req = 'show the columns that are present in the dataframe titanic'
# req = 'show the correlation in titanic'

# req = 'for all columns show the column distribution of for dataframe titanic'
# req = 'for columns embarked and sex calculate the column distribution in titanic'
# req = 'for column embarked calculate the column distribution in titanic'

# req = 'for all the columns show the unique values in dataframe titanic'
# req = 'for columns embarked and sex show the unique column values in titanic'
# req = 'for the column embarked show the column unique values in the dataframe titanic'

# req = 'show the missing data in the columns embarked and sex in titanic'
# req = 'show the missing data in the dataframe titanic'

# req = "show missing data in the dataset iris"
# req = "show the missing data in column embarked of dataframe titanic"
# req = "find the missing data in columns embarked and sex in titanic"

# i.query(req)


"""

Module : Statistical tests

"""

# req = 'evaluate the two sample independent students test using sample1 and sample3'
# req = 'evaluate the dependent two sample ttest using samples sample1 and sample3'
# req = 'one sample ttest on sample1 and compare to popmean of 0.12'
#req = 'do a utest using sample1 and sample3'
# req = "do the mann whitney utest for sample1 and sample3"

# req = "check if the distribution follows a normal distribution using the kolmogorov smirnov test for sample1"
# req = "having sample1 check if the distribution of the data follows a uniform distribution using the kolmogorov smirnov test"
# req = "check if the data sample1 follows exponential distribution using the kolmogorov smirnov test"
# req = "shapiro wilk test for normality for sample1"
# req = "one way anova test on samples sample1 and sample3"

i.query(req)


"""

Module : Statistical Plots

"""

# req = "show the histogram for samples sample1 and sample3 setting bins to 100 set figure size to (6,3)"
req = "show the histogram plot for sample1 and sample3"
req = "create a histgoram of samples sample1 and sample3 and set the figure size to (4,2)"

# req = "show the histogram for samples sample1 and sample3 set number of bins to 100"

# req = "show the histograms of samples sample1 sample3 set nbins = 50"
# req = "show the kernel density plot for samples sample1 and sample3"
# req = "show a visualisation of boxplots for samples sample1 and sample3"

i.query(req)


# replacement full parameter replacement
req = "plot the kernel density plot for lists sample1 and sample3 and set the figure size to (10,0)"
# "plot the kernel density plot for lists -list and -list and ~fill true"

i.query(req)


i.request.show_token_info()


import re

re.sub(r'(-list ){2}', '-dlist ', "-list -list")



