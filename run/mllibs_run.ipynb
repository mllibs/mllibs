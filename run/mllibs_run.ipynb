{
 "cells": [
  {
   "cell_type": "code",
   "execution_count": 1,
   "id": "e55201af-cdd5-4c66-a877-d04d2b92b3e5",
   "metadata": {},
   "outputs": [
    {
     "name": "stdout",
     "output_type": "stream",
     "text": [
      "[note] loading modules ...\n",
      "[note] training  [gt_model] [accuracy,1.0]\n"
     ]
    }
   ],
   "source": [
    "import pandas as pd\n",
    "import numpy as np\n",
    "from mllibs.nlpi import nlpi\n",
    "\n",
    "iris = pd.read_csv('data/iris.csv')\n",
    "titanic = pd.read_csv('data/titanic.csv')\n",
    "penguins = pd.read_csv('data/penguins.csv')\n",
    "\n",
    "i = nlpi() \n",
    "i.add_modules() # add modules (create corpuses)\n",
    "\n",
    "i.add(iris,'iris') \n",
    "i.add(titanic,'titanic')\n",
    "i.add(penguins,'penguins')\n",
    "\n",
    "sample1 = list(np.random.normal(scale=1, size=500))\n",
    "sample3 = list(np.random.exponential(scale=1, size=500))\n",
    "sample2 = list(np.random.rand(10))\n",
    "\n",
    "i.add(sample1,'sample1')\n",
    "i.add(sample3,'sample3')"
   ]
  },
  {
   "cell_type": "code",
   "execution_count": 2,
   "id": "f3a318d5-acad-4e32-8706-50e6983deeb8",
   "metadata": {},
   "outputs": [
    {
     "data": {
      "text/plain": [
       "'\\n\\n            Module: Pandas DataFrame Operations\\n\\n'"
      ]
     },
     "execution_count": 2,
     "metadata": {},
     "output_type": "execute_result"
    }
   ],
   "source": [
    "\"\"\"\n",
    "\n",
    "            Module: Pandas DataFrame Operations\n",
    "\n",
    "\"\"\"\n",
    "\n",
    "# req = 'show a preview of the dataframe titanic'\n",
    "# req = 'describe the statistics of dataframe titanic'\n",
    "# req = 'show the shape of the dataframe titanic'\n",
    "# req = 'show the data types in the dataframe titanic'\n",
    "# req = 'show the columns that are present in the dataframe titanic'\n",
    "# req = 'show the correlation in titanic'\n",
    "\n",
    "# req = 'for all columns show the column distribution of for dataframe titanic'\n",
    "# req = 'for columns embarked and sex calculate the column distribution in titanic'\n",
    "# req = 'for column embarked calculate the column distribution in titanic'\n",
    "\n",
    "# req = 'for all the columns show the unique values in dataframe titanic'\n",
    "# req = 'for columns embarked and sex show the unique column values in titanic'\n",
    "# req = 'for the column embarked show the column unique values in the dataframe titanic'\n",
    "\n",
    "# req = 'show the missing data in the columns embarked and sex in titanic'\n",
    "# req = 'show the missing data in the dataframe titanic'\n",
    "\n",
    "# req = \"show missing data in the dataset iris\"\n",
    "# req = \"show the missing data in column embarked of dataframe titanic\"\n",
    "# req = \"find the missing data in columns embarked and sex in titanic\"\n",
    "\n",
    "# i.query(req)"
   ]
  },
  {
   "cell_type": "code",
   "execution_count": 5,
   "id": "c5fe9b7a-f524-4cd0-ae55-20983abec645",
   "metadata": {},
   "outputs": [
    {
     "data": {
      "text/plain": [
       "'\\n\\nModule : Statistical tests\\n\\n'"
      ]
     },
     "execution_count": 5,
     "metadata": {},
     "output_type": "execute_result"
    }
   ],
   "source": [
    "\"\"\"\n",
    "\n",
    "Module : Statistical tests\n",
    "\n",
    "\"\"\"\n",
    "\n",
    "# req = 'evaluate the two sample independent students test using sample1 and sample3'\n",
    "# req = 'evaluate the dependent two sample ttest using samples sample1 and sample3'\n",
    "# req = 'one sample ttest on sample1 and compare to popmean of 0.12'\n",
    "#req = 'do a utest using sample1 and sample3'\n",
    "# req = \"do the mann whitney utest for sample1 and sample3\"\n",
    "\n",
    "# req = \"check if the distribution follows a normal distribution using the kolmogorov smirnov test for sample1\"\n",
    "# req = \"having sample1 check if the distribution of the data follows a uniform distribution using the kolmogorov smirnov test\"\n",
    "# req = \"check if the data sample1 follows exponential distribution using the kolmogorov smirnov test\"\n",
    "# req = \"shapiro wilk test for normality for sample1\"\n",
    "# req = \"one way anova test on samples sample1 and sample3\"\n",
    "\n",
    "# i.query(req)"
   ]
  },
  {
   "cell_type": "code",
   "execution_count": null,
   "id": "302730f2-2707-4180-834a-2699185d3ca9",
   "metadata": {},
   "outputs": [],
   "source": []
  },
  {
   "cell_type": "code",
   "execution_count": 2,
   "id": "3a94d109-81b8-422a-a204-c22f909d1713",
   "metadata": {},
   "outputs": [
    {
     "name": "stdout",
     "output_type": "stream",
     "text": [
      "> User request string updates\n",
      "> query updated (bin number) -> (bins)\n",
      "passed!\n",
      "\n",
      "> Pattern matches found \n",
      "\n",
      "{(97, 113): '~element to bars'}\n",
      "results [17, 18, 19]\n",
      "\n",
      "> Pattern matches found \n",
      "\n",
      "{(73, 88): '~bins to -value', (97, 113): '~element to bars'}\n",
      "{'bins': 100}\n",
      "{'bins': 100, 'element': 'bars'}\n",
      "extracted parameters\n",
      "{'bins': 100, 'element': 'bars'}\n",
      "\n",
      "> Model predictions\n",
      "\n",
      "Found relevant global task [plot_hist] w/ [0.86] certainty!\n",
      "\n",
      "> Query information \n",
      "\n",
      ">  create a histogram plot comparing samples sample1 and sample3 and number set bin number to 100 set the element to bars\n",
      ">  create a histogram plot comparing samples -list and -list and number set ~bins to -value set the ~element to bars\n",
      "\n",
      "=== iteration 0 ===========================\n",
      "\n",
      "> Activation Function Format Problem!\n",
      "\n",
      "accepted formats:\n",
      "-list -value ~bins\n",
      "-list -value ~bins\n",
      "-list -value ~bins\n",
      "-list -value ~bins\n",
      "-list -logical fill\n",
      "-list -logical ~fill\n",
      "-list -logical ~fill\n",
      "-list -logical ~fill\n",
      "-list -range fsize\n",
      "-list -range fsize\n",
      "-list -range ~fsize\n",
      "-list -range ~fsize\n",
      "-list -string element\n",
      "-list -string element\n",
      "-list -string element\n",
      "-list -string ~element\n",
      "-list -logical -value fill ~bins\n",
      "-list -logical -value ~bins ~fill\n",
      "-list -logical -value ~bins ~fill\n",
      "-list -logical -value ~bins ~fill\n",
      "-list -range -value fsize ~bins\n",
      "-list -range -value fsize ~bins\n",
      "-list -range -value ~bins ~fsize\n",
      "-list -range -value ~bins ~fsize\n",
      "-list -string -value element ~bins\n",
      "-list -string -value element ~bins\n",
      "-list -string -value element ~bins\n",
      "-list -string -value ~bins ~element\n",
      "-list -logical -range fill fsize\n",
      "-list -logical -range fsize ~fill\n",
      "-list -logical -range ~fill ~fsize\n",
      "-list -logical -range ~fill ~fsize\n",
      "-list -logical -string element fill\n",
      "-list -logical -string element ~fill\n",
      "-list -logical -string element ~fill\n",
      "-list -logical -string ~element ~fill\n",
      "-list -range -string element fsize\n",
      "-list -range -string element fsize\n",
      "-list -range -string element ~fsize\n",
      "-list -range -string ~element ~fsize\n",
      "-list -logical -range -value fill fsize ~bins\n",
      "-list -logical -range -value fsize ~bins ~fill\n",
      "-list -logical -range -value ~bins ~fill ~fsize\n",
      "-list -logical -range -value ~bins ~fill ~fsize\n",
      "-list -logical -string -value element fill ~bins\n",
      "-list -logical -string -value element ~bins ~fill\n",
      "-list -logical -string -value element ~bins ~fill\n",
      "-list -logical -string -value ~bins ~element ~fill\n",
      "-list -range -string -value element fsize ~bins\n",
      "-list -range -string -value element fsize ~bins\n",
      "-list -range -string -value element ~bins ~fsize\n",
      "-list -range -string -value ~bins ~element ~fsize\n",
      "-list -logical -range -string element fill fsize\n",
      "-list -logical -range -string element fsize ~fill\n",
      "-list -logical -range -string element ~fill ~fsize\n",
      "-list -logical -range -string ~element ~fill ~fsize\n",
      "-list -logical -range -string -value element fill fsize ~bins\n",
      "-list -logical -range -string -value element fsize ~bins ~fill\n",
      "-list -logical -range -string -value element ~bins ~fill ~fsize\n",
      "-list -logical -range -string -value ~bins ~element ~fill ~fsize\n",
      "-dlist -value ~bins\n",
      "-dlist -value ~bins\n",
      "-dlist -value ~bins\n",
      "-dlist -value ~bins\n",
      "-dlist -logical fill\n",
      "-dlist -logical ~fill\n",
      "-dlist -logical ~fill\n",
      "-dlist -logical ~fill\n",
      "-dlist -range fsize\n",
      "-dlist -range fsize\n",
      "-dlist -range ~fsize\n",
      "-dlist -range ~fsize\n",
      "-dlist -string element\n",
      "-dlist -string element\n",
      "-dlist -string element\n",
      "-dlist -string ~element\n",
      "-dlist -logical -value fill ~bins\n",
      "-dlist -logical -value ~bins ~fill\n",
      "-dlist -logical -value ~bins ~fill\n",
      "-dlist -logical -value ~bins ~fill\n",
      "-dlist -range -value fsize ~bins\n",
      "-dlist -range -value fsize ~bins\n",
      "-dlist -range -value ~bins ~fsize\n",
      "-dlist -range -value ~bins ~fsize\n",
      "-dlist -string -value element ~bins\n",
      "-dlist -string -value element ~bins\n",
      "-dlist -string -value element ~bins\n",
      "-dlist -string -value ~bins ~element\n",
      "-dlist -logical -range fill fsize\n",
      "-dlist -logical -range fsize ~fill\n",
      "-dlist -logical -range ~fill ~fsize\n",
      "-dlist -logical -range ~fill ~fsize\n",
      "-dlist -logical -string element fill\n",
      "-dlist -logical -string element ~fill\n",
      "-dlist -logical -string element ~fill\n",
      "-dlist -logical -string ~element ~fill\n",
      "-dlist -range -string element fsize\n",
      "-dlist -range -string element fsize\n",
      "-dlist -range -string element ~fsize\n",
      "-dlist -range -string ~element ~fsize\n",
      "-dlist -logical -range -value fill fsize ~bins\n",
      "-dlist -logical -range -value fsize ~bins ~fill\n",
      "-dlist -logical -range -value ~bins ~fill ~fsize\n",
      "-dlist -logical -range -value ~bins ~fill ~fsize\n",
      "-dlist -logical -string -value element fill ~bins\n",
      "-dlist -logical -string -value element ~bins ~fill\n",
      "-dlist -logical -string -value element ~bins ~fill\n",
      "-dlist -logical -string -value ~bins ~element ~fill\n",
      "-dlist -range -string -value element fsize ~bins\n",
      "-dlist -range -string -value element fsize ~bins\n",
      "-dlist -range -string -value element ~bins ~fsize\n",
      "-dlist -range -string -value ~bins ~element ~fsize\n",
      "-dlist -logical -range -string element fill fsize\n",
      "-dlist -logical -range -string element fsize ~fill\n",
      "-dlist -logical -range -string element ~fill ~fsize\n",
      "-dlist -logical -range -string ~element ~fill ~fsize\n",
      "-dlist -logical -range -string -value element fill fsize ~bins\n",
      "-dlist -logical -range -string -value element fsize ~bins ~fill\n",
      "-dlist -logical -range -string -value element ~bins ~fill ~fsize\n",
      "-dlist -logical -range -string -value ~bins ~element ~fill ~fsize\n",
      "-mlist -value ~bins\n",
      "-mlist -value ~bins\n",
      "-mlist -value ~bins\n",
      "-mlist -value ~bins\n",
      "-logical -mlist fill\n",
      "-logical -mlist ~fill\n",
      "-logical -mlist ~fill\n",
      "-logical -mlist ~fill\n",
      "-mlist -range fsize\n",
      "-mlist -range fsize\n",
      "-mlist -range ~fsize\n",
      "-mlist -range ~fsize\n",
      "-mlist -string element\n",
      "-mlist -string element\n",
      "-mlist -string element\n",
      "-mlist -string ~element\n",
      "-logical -mlist -value fill ~bins\n",
      "-logical -mlist -value ~bins ~fill\n",
      "-logical -mlist -value ~bins ~fill\n",
      "-logical -mlist -value ~bins ~fill\n",
      "-mlist -range -value fsize ~bins\n",
      "-mlist -range -value fsize ~bins\n",
      "-mlist -range -value ~bins ~fsize\n",
      "-mlist -range -value ~bins ~fsize\n",
      "-mlist -string -value element ~bins\n",
      "-mlist -string -value element ~bins\n",
      "-mlist -string -value element ~bins\n",
      "-mlist -string -value ~bins ~element\n",
      "-logical -mlist -range fill fsize\n",
      "-logical -mlist -range fsize ~fill\n",
      "-logical -mlist -range ~fill ~fsize\n",
      "-logical -mlist -range ~fill ~fsize\n",
      "-logical -mlist -string element fill\n",
      "-logical -mlist -string element ~fill\n",
      "-logical -mlist -string element ~fill\n",
      "-logical -mlist -string ~element ~fill\n",
      "-mlist -range -string element fsize\n",
      "-mlist -range -string element fsize\n",
      "-mlist -range -string element ~fsize\n",
      "-mlist -range -string ~element ~fsize\n",
      "-logical -mlist -range -value fill fsize ~bins\n",
      "-logical -mlist -range -value fsize ~bins ~fill\n",
      "-logical -mlist -range -value ~bins ~fill ~fsize\n",
      "-logical -mlist -range -value ~bins ~fill ~fsize\n",
      "-logical -mlist -string -value element fill ~bins\n",
      "-logical -mlist -string -value element ~bins ~fill\n",
      "-logical -mlist -string -value element ~bins ~fill\n",
      "-logical -mlist -string -value ~bins ~element ~fill\n",
      "-mlist -range -string -value element fsize ~bins\n",
      "-mlist -range -string -value element fsize ~bins\n",
      "-mlist -range -string -value element ~bins ~fsize\n",
      "-mlist -range -string -value ~bins ~element ~fsize\n",
      "-logical -mlist -range -string element fill fsize\n",
      "-logical -mlist -range -string element fsize ~fill\n",
      "-logical -mlist -range -string element ~fill ~fsize\n",
      "-logical -mlist -range -string ~element ~fill ~fsize\n",
      "-logical -mlist -range -string -value element fill fsize ~bins\n",
      "-logical -mlist -range -string -value element fsize ~bins ~fill\n",
      "-logical -mlist -range -string -value element ~bins ~fill ~fsize\n",
      "-logical -mlist -range -string -value ~bins ~element ~fill ~fsize\n",
      "\n",
      "provided format:\n",
      "-dlist -value ~bins ~element\n",
      "\n",
      "\n",
      "> pre iteration checks not passed\n",
      "data: True, format: False\n"
     ]
    }
   ],
   "source": [
    "i.query('create a histogram plot comparing samples sample1 and sample3 and number set bin number to 100 set the element to bars')"
   ]
  },
  {
   "cell_type": "code",
   "execution_count": 6,
   "id": "c0192493-123d-44e2-9488-fce98a5aa566",
   "metadata": {},
   "outputs": [
    {
     "data": {
      "text/plain": [
       "True"
      ]
     },
     "execution_count": 6,
     "metadata": {},
     "output_type": "execute_result"
    }
   ],
   "source": [
    "isinstance(eval(\"True\"),bool)"
   ]
  },
  {
   "cell_type": "code",
   "execution_count": 4,
   "id": "9593bee5-f85b-4fe8-833c-1a6655855b48",
   "metadata": {},
   "outputs": [
    {
     "name": "stdout",
     "output_type": "stream",
     "text": [
      "> User request string updates\n",
      "> query updated (figure size) -> (fsize)\n",
      "\n",
      "> Pattern matches found \n",
      "\n",
      "{(58, 74): '~fsize to -range'}\n",
      "extracted parameters\n",
      "{'fsize': (4, 2)}\n",
      "\n",
      "> Model predictions\n",
      "\n",
      "Found relevant global task [plot_hist] w/ [0.43] certainty!\n",
      "\n",
      "> Query information \n",
      "\n",
      ">  create a histgoram of samples sample1 and sample3 and set the figure size to (4,2)\n",
      ">  create a histgoram of samples -list and -list and set the ~fsize to -range\n",
      "\n",
      "=== iteration 1 ===========================\n",
      "\n"
     ]
    },
    {
     "data": {
      "image/png": "[encoded data removed]",
      "text/plain": [
       "<Figure size 400x200 with 1 Axes>"
      ]
     },
     "metadata": {},
     "output_type": "display_data"
    }
   ],
   "source": [
    "\"\"\"\n",
    "\n",
    "Module : Statistical Plots\n",
    "\n",
    "\"\"\"\n",
    "\n",
    "# req = \"show the histogram for samples sample1 and sample3 setting bins to 100 set figure size to (6,3)\"\n",
    "req = \"show the histogram plot for sample1 and sample3\"\n",
    "req = \"create a histgoram of samples sample1 and sample3 and set the figure size to (4,2)\"\n",
    "\n",
    "# req = \"show the histogram for samples sample1 and sample3 set number of bins to 100\"\n",
    "\n",
    "# req = \"show the histograms of samples sample1 sample3 set nbins = 50\"\n",
    "# req = \"show the kernel density plot for samples sample1 and sample3\"\n",
    "# req = \"show a visualisation of boxplots for samples sample1 and sample3\"\n",
    "\n",
    "i.query(req)"
   ]
  },
  {
   "cell_type": "code",
   "execution_count": 2,
   "id": "d1527ce6-9a4f-4be8-9583-f06ebc1b903b",
   "metadata": {},
   "outputs": [
    {
     "name": "stdout",
     "output_type": "stream",
     "text": [
      "\n",
      "> Model predictions\n",
      "\n",
      "Found relevant global task [plot_kde] w/ [0.49] certainty!\n",
      "\n",
      "> Query information \n",
      "\n",
      ">  plot the kernel density plot for lists sample1 and sample3 and set the figure size to (10,0)\n",
      ">  plot the kernel density plot for lists -list and -list and set the figure size to ( -value , -value )\n",
      "> [test mode] no iteration activated\n"
     ]
    }
   ],
   "source": [
    "# replacement full parameter replacement\n",
    "req = \"plot the kernel density plot for lists sample1 and sample3 and set the figure size to (10,0)\"\n",
    "# \"plot the kernel density plot for lists -list and -list and ~fill true\"\n",
    "\n",
    "i.query(req)"
   ]
  },
  {
   "cell_type": "code",
   "execution_count": 9,
   "id": "ce04801b-566c-40b8-a52f-5c0a676ba2c9",
   "metadata": {},
   "outputs": [
    {
     "name": "stdout",
     "output_type": "stream",
     "text": [
      "Empty DataFrame\n",
      "Columns: []\n",
      "Index: []\n"
     ]
    }
   ],
   "source": [
    "i.request.show_token_info()"
   ]
  },
  {
   "cell_type": "code",
   "execution_count": 5,
   "id": "1b0001c2-5ddd-4619-a269-3524942f4a83",
   "metadata": {},
   "outputs": [
    {
     "data": {
      "text/plain": [
       "'-dlist '"
      ]
     },
     "execution_count": 5,
     "metadata": {},
     "output_type": "execute_result"
    }
   ],
   "source": [
    "import re\n",
    "\n",
    "re.sub(r'(-list ){2}', '-dlist ', \"-list -list\")"
   ]
  },
  {
   "cell_type": "code",
   "execution_count": 20,
   "id": "58cf801a-1bd2-477f-a240-fd34a7013288",
   "metadata": {},
   "outputs": [
    {
     "data": {
      "text/plain": [
       "['~element : steps']"
      ]
     },
     "execution_count": 20,
     "metadata": {},
     "output_type": "execute_result"
    }
   ],
   "source": [
    "import re\n",
    "\n",
    "[i.group() for i in re.finditer(r\"(~element )(.?){0,}(\\w)+\", \"create a histogram plot comparing samples sample1 and sample3 and number set bin number to 100 set the ~element : steps\")]"
   ]
  },
  {
   "cell_type": "code",
   "execution_count": null,
   "id": "dd41442c-89ee-455c-8862-8d3abb8f4cc2",
   "metadata": {},
   "outputs": [],
   "source": []
  }
 ],
 "metadata": {
  "kernelspec": {
   "display_name": "Python 3 (ipykernel)",
   "language": "python",
   "name": "python3"
  },
  "language_info": {
   "codemirror_mode": {
    "name": "ipython",
    "version": 3
   },
   "file_extension": ".py",
   "mimetype": "text/x-python",
   "name": "python",
   "nbconvert_exporter": "python",
   "pygments_lexer": "ipython3",
   "version": "3.12.4"
  }
 },
 "nbformat": 4,
 "nbformat_minor": 5
}
