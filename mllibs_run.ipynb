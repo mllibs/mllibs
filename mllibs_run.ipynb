{
 "cells": [
  {
   "cell_type": "code",
   "execution_count": 1,
   "id": "e55201af-cdd5-4c66-a877-d04d2b92b3e5",
   "metadata": {},
   "outputs": [
    {
     "name": "stdout",
     "output_type": "stream",
     "text": [
      "[note] loading modules ...\n",
      "[note] training  [gt_model] [accuracy,1.0]\n"
     ]
    }
   ],
   "source": [
    "import pandas as pd\n",
    "import numpy as np\n",
    "from mllibs.nlpi import nlpi\n",
    "\n",
    "iris = pd.read_csv('data/iris.csv')\n",
    "titanic = pd.read_csv('data/titanic.csv')\n",
    "\n",
    "i = nlpi() \n",
    "i.test_mode = True\n",
    "i.add_modules() # add modules (create corpuses)\n",
    "i.add(iris,'iris') # add data to nlpi instance\n",
    "i.add(titanic,'titanic')\n",
    "\n",
    "sample1 = list(np.random.normal(scale=1, size=500))\n",
    "sample3 = list(np.random.exponential(scale=1, size=500))\n",
    "sample2 = list(np.random.rand(10))\n",
    "\n",
    "i.add(sample1,'sample1')\n",
    "i.add(sample3,'sample3')"
   ]
  },
  {
   "cell_type": "code",
   "execution_count": 1,
   "id": "f3a318d5-acad-4e32-8706-50e6983deeb8",
   "metadata": {},
   "outputs": [
    {
     "data": {
      "text/plain": [
       "'\\n\\nModule: Pandas DataFrame Operations\\n\\n'"
      ]
     },
     "execution_count": 1,
     "metadata": {},
     "output_type": "execute_result"
    }
   ],
   "source": [
    "\"\"\"\n",
    "\n",
    "Module: Pandas DataFrame Operations\n",
    "\n",
    "\"\"\"\n",
    "\n",
    "# req = 'show a preview of the dataframe titanic'\n",
    "# req = 'describe the statistics of dataframe titanic'\n",
    "# req = 'show the shape of the dataframe titanic'\n",
    "# req = 'show the data types in the dataframe titanic'\n",
    "# req = 'show the columns that are present in the dataframe titanic'\n",
    "# req = 'show the correlation in titanic'\n",
    "\n",
    "# req = 'for all columns show the column distribution of for dataframe titanic'\n",
    "# req = 'for columns embarked and sex calculate the column distribution in titanic'\n",
    "# req = 'for column embarked calculate the column distribution in titanic'\n",
    "\n",
    "# req = 'for all the columns show the unique values in dataframe titanic'\n",
    "# req = 'for columns embarked and sex show the unique column values in titanic'\n",
    "# req = 'for the column embarked show the column unique values in the dataframe titanic'\n",
    "\n",
    "# req = 'show the missing data in the columns embarked and sex in titanic'\n",
    "# req = 'show the missing data in the dataframe titanic'\n",
    "\n",
    "# req = \"show missing data in the dataset iris\"\n",
    "# req = \"show the missing data in column embarked of dataframe titanic\"\n",
    "# req = \"find the missing data in columns embarked and sex in titanic\"\n",
    "\n",
    "# i.query(req)"
   ]
  },
  {
   "cell_type": "code",
   "execution_count": 3,
   "id": "c5fe9b7a-f524-4cd0-ae55-20983abec645",
   "metadata": {},
   "outputs": [
    {
     "name": "stdout",
     "output_type": "stream",
     "text": [
      "\n",
      "> Model predictions\n",
      "\n",
      "Found relevant global task [its_ttest] w/ [0.39] certainty!\n",
      "\n",
      "> Query information \n",
      "\n",
      ">  evaluate the two sample independent students test using sample1 and sample3\n",
      ">  evaluate the two sample independent students test using -list and -list\n",
      "> [test mode] no iteration activated\n"
     ]
    }
   ],
   "source": [
    "\"\"\"\n",
    "\n",
    "Module : Statistical tests\n",
    "\n",
    "\"\"\"\n",
    "\n",
    "# req = 'evaluate the two sample independent students test using sample1 and sample3'\n",
    "# req = 'evaluate the dependent two sample ttest using samples sample1 and sample3'\n",
    "# req = 'one sample ttest on sample1 and compare to popmean of 0.12'\n",
    "#req = 'do a utest using sample1 and sample3'\n",
    "# req = \"do the mann whitney utest for sample1 and sample3\"\n",
    "\n",
    "# req = \"check if the distribution follows a normal distribution using the kolmogorov smirnov test for sample1\"\n",
    "# req = \"having sample1 check if the distribution of the data follows a uniform distribution using the kolmogorov smirnov test\"\n",
    "# req = \"check if the data sample1 follows exponential distribution using the kolmogorov smirnov test\"\n",
    "# req = \"shapiro wilk test for normality for sample1\"\n",
    "# req = \"one way anova test on samples sample1 and sample3\"\n",
    "\n",
    "i.query(req)"
   ]
  },
  {
   "cell_type": "code",
   "execution_count": 3,
   "id": "9593bee5-f85b-4fe8-833c-1a6655855b48",
   "metadata": {},
   "outputs": [
    {
     "name": "stdout",
     "output_type": "stream",
     "text": [
      "dict_items([('show_info', {}), ('df_preview', {}), ('df_describe', {}), ('df_shape', {}), ('df_type', {}), ('df_columns', {}), ('df_corr', {}), ('dfcolumn_distr', {}), ('dfcolumn_unique', {}), ('df_na', {}), ('its_ttest', {}), ('d_ttest', {}), ('os_ttest', {}), ('u_test', {}), ('ksmirnov_tests', {}), ('shapiro_wilk', {}), ('one_anova', {}), ('plot_hist', {'nbins': ['number of bins', ' bin number', ' bins'], 'fsize': ['figure size', 'size of the figure'], 'fill to False': ['remove the fill', 'remove fill', 'fill to none']}), ('plot_kde', {}), ('plot_box', {})])\n",
      "> User request string updates\n",
      "> query updated (figure size) -> (fsize)\n",
      "\n",
      "> Pattern matches found \n",
      "\n",
      "{(55, 71): '~nbins to -value', (76, 92): '~fsize to -range'}\n",
      "extracted parameters\n",
      "{'nbins': 70, 'fsize': (10, 5)}\n",
      "\n",
      "> Model predictions\n",
      "\n",
      "Found relevant global task [plot_hist] w/ [0.75] certainty!\n",
      "\n",
      "> Query information \n",
      "\n",
      ">  show the histogram for samples sample1 and sample3 setting nbins to 70 set figure size to (10,5)\n",
      ">  show the histogram for samples -list and -list setting ~nbins to -value set ~fsize to -range\n",
      "\n",
      "=== iteration 1 ===========================\n",
      "\n"
     ]
    },
    {
     "data": {
      "image/png": "[encoded data removed]",
      "text/plain": [
       "<Figure size 1000x500 with 1 Axes>"
      ]
     },
     "metadata": {},
     "output_type": "display_data"
    }
   ],
   "source": [
    "\"\"\"\n",
    "\n",
    "Module : Statistical Plots\n",
    "\n",
    "\"\"\"\n",
    "\n",
    "i.test_mode = False\n",
    "\n",
    "req = \"show the histogram for samples sample1 and sample3 setting nbins to 70 set figure size to (10,5)\"\n",
    "# req = \"show the histogram for samples sample1 and sample3 set number of bins to 100\"\n",
    "\n",
    "# req = \"show the histograms of samples sample1 sample3 set nbins = 50\"\n",
    "# req = \"show the kernel density plot for samples sample1 and sample3\"\n",
    "# req = \"show a visualisation of boxplots for samples sample1 and sample3\"\n",
    "\n",
    "i.query(req)"
   ]
  },
  {
   "cell_type": "code",
   "execution_count": 2,
   "id": "d1527ce6-9a4f-4be8-9583-f06ebc1b903b",
   "metadata": {},
   "outputs": [
    {
     "name": "stdout",
     "output_type": "stream",
     "text": [
      "\n",
      "> Model predictions\n",
      "\n",
      "Found relevant global task [plot_kde] w/ [0.49] certainty!\n",
      "\n",
      "> Query information \n",
      "\n",
      ">  plot the kernel density plot for lists sample1 and sample3 and set the figure size to (10,0)\n",
      ">  plot the kernel density plot for lists -list and -list and set the figure size to ( -value , -value )\n",
      "> [test mode] no iteration activated\n"
     ]
    }
   ],
   "source": [
    "# replacement full parameter replacement\n",
    "req = \"plot the kernel density plot for lists sample1 and sample3 and set the figure size to (10,0)\"\n",
    "# \"plot the kernel density plot for lists -list and -list and ~fill true\"\n",
    "\n",
    "i.query(req)"
   ]
  },
  {
   "cell_type": "code",
   "execution_count": 5,
   "id": "ce04801b-566c-40b8-a52f-5c0a676ba2c9",
   "metadata": {},
   "outputs": [
    {
     "name": "stdout",
     "output_type": "stream",
     "text": [
      "      token  data_id dtype col_id ac_id preset_param ttype   mtoken\n",
      "0      plot    False  None   None  None            O   str     plot\n",
      "1       the    False  None   None  None            O   str      the\n",
      "2    kernel    False  None   None  None            O   str   kernel\n",
      "3   density    False  None   None  None            O   str  density\n",
      "4      plot    False  None   None  None            O   str     plot\n",
      "5       for    False  None   None  None            O   str      for\n",
      "6     lists    False  None   None  None            O   str    lists\n",
      "7   sample1     True  list   None  None            O   str    -list\n",
      "8       and    False  None   None  None            O   str      and\n",
      "9   sample3     True  list   None  None            O   str    -list\n",
      "10      and    False  None   None  None            O   str      and\n",
      "11      set    False  None   None  None            O   str      set\n",
      "12      the    False  None   None  None            O   str      the\n",
      "13   figure    False  None   None  None            O   str   figure\n",
      "14     size    False  None   None  None            O   str     size\n",
      "15       to    False  None   None  None            O   str       to\n",
      "16        (    False  None   None  None            O   str        (\n",
      "17       10    False  None   None  None            O   int   -value\n",
      "18        ,    False  None   None  None            O   str        ,\n",
      "19        0    False  None   None  None            O   int   -value\n",
      "20        )    False  None   None  None            O   str        )\n"
     ]
    }
   ],
   "source": [
    "# replacement partial parameter replacement\n",
    "\"show the histogram for samples sample1 and sample3 setting bins to 100\"\n",
    "\"show the histogram for samples sample1 and sample3 setting ~nbins to 100\"\n",
    "\n",
    "i.request.show_token_info()"
   ]
  },
  {
   "cell_type": "code",
   "execution_count": null,
   "id": "1b0001c2-5ddd-4619-a269-3524942f4a83",
   "metadata": {},
   "outputs": [],
   "source": []
  }
 ],
 "metadata": {
  "kernelspec": {
   "display_name": "Python 3 (ipykernel)",
   "language": "python",
   "name": "python3"
  },
  "language_info": {
   "codemirror_mode": {
    "name": "ipython",
    "version": 3
   },
   "file_extension": ".py",
   "mimetype": "text/x-python",
   "name": "python",
   "nbconvert_exporter": "python",
   "pygments_lexer": "ipython3",
   "version": "3.12.4"
  }
 },
 "nbformat": 4,
 "nbformat_minor": 5
}
