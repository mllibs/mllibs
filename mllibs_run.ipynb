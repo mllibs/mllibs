{
 "cells": [
  {
   "cell_type": "code",
   "execution_count": 1,
   "id": "e55201af-cdd5-4c66-a877-d04d2b92b3e5",
   "metadata": {},
   "outputs": [
    {
     "name": "stdout",
     "output_type": "stream",
     "text": [
      "[note] loading modules ...\n",
      "[note] training  [gt_model] [accuracy,1.0]\n"
     ]
    }
   ],
   "source": [
    "import pandas as pd\n",
    "import numpy as np\n",
    "from mllibs.nlpi import nlpi\n",
    "\n",
    "iris = pd.read_csv('data/iris.csv')\n",
    "titanic = pd.read_csv('data/titanic.csv')\n",
    "\n",
    "i = nlpi() \n",
    "i.add_modules() # add modules (create corpuses)\n",
    "i.add(iris,'iris') # add data to nlpi instance\n",
    "i.add(titanic,'titanic')\n",
    "\n",
    "sample1 = list(np.random.normal(scale=1, size=200))\n",
    "sample2 = list(np.random.rand(10))\n",
    "sample3 = list(np.random.exponential(scale=1, size=200))\n",
    "\n",
    "i.add(sample1,'sample1')\n",
    "i.add(sample3,'sample3')"
   ]
  },
  {
   "cell_type": "code",
   "execution_count": 2,
   "id": "f3a318d5-acad-4e32-8706-50e6983deeb8",
   "metadata": {},
   "outputs": [
    {
     "name": "stdout",
     "output_type": "stream",
     "text": [
      "\n",
      "> Column references found \n",
      "\n",
      "{(22, 39): 'in column -column'}\n",
      "{'in column -column': 'embarked'}\n",
      "['embarked']\n",
      "\n",
      "> Model predictions\n",
      "\n",
      "Found relevant global task [df_na] w/ [0.97] certainty!\n",
      "Found sub_task [one] w/ [1.0] certainty!\n",
      "\n",
      "> Query information \n",
      "\n",
      ">  show the missing data in column embarked of dataframe titanic\n",
      ">  show the missing data in column -column of dataframe -df\n",
      "\n",
      "=== iteration 0 ===========================\n",
      "\n"
     ]
    }
   ],
   "source": [
    "\"\"\"\n",
    "\n",
    "Module: Pandas DataFrame Operations\n",
    "\n",
    "\"\"\"\n",
    "\n",
    "# req = 'show a preview of the dataframe titanic'\n",
    "# req = 'describe the statistics of dataframe titanic'\n",
    "# req = 'show the shape of the dataframe titanic'\n",
    "# req = 'show the data types in the dataframe titanic'\n",
    "# req = 'show the columns that are present in the dataframe titanic'\n",
    "# req = 'show the correlation in titanic'\n",
    "\n",
    "# req = 'for all columns show the column distribution of for dataframe titanic'\n",
    "# req = 'for columns embarked and sex calculate the column distribution in titanic'\n",
    "# req = 'for column embarked calculate the column distribution in titanic'\n",
    "\n",
    "# req = 'for all the columns show the unique values in dataframe titanic'\n",
    "# req = 'for columns embarked and sex show the unique column values in titanic'\n",
    "# req = 'for the column embarked show the column unique values in the dataframe titanic'\n",
    "\n",
    "# req = 'show the missing data in the columns embarked and sex in titanic'\n",
    "# req = 'show the missing data in the dataframe titanic'\n",
    "\n",
    "# req = \"show missing data in the dataset iris\"\n",
    "req = \"show the missing data in column embarked of dataframe titanic\"\n",
    "# req = \"find the missing data in columns embarked and sex in titanic\"\n",
    "\n",
    "i.query(req)"
   ]
  },
  {
   "cell_type": "code",
   "execution_count": 4,
   "id": "66dce29c-83c6-4db8-83a1-70077c150a17",
   "metadata": {},
   "outputs": [
    {
     "data": {
      "text/plain": [
       "2"
      ]
     },
     "execution_count": 4,
     "metadata": {},
     "output_type": "execute_result"
    }
   ],
   "source": [
    "i.glr()"
   ]
  },
  {
   "cell_type": "code",
   "execution_count": 13,
   "id": "c5fe9b7a-f524-4cd0-ae55-20983abec645",
   "metadata": {},
   "outputs": [
    {
     "data": {
      "text/plain": [
       "'\\n\\nModule : Statistical tests\\n\\n'"
      ]
     },
     "execution_count": 13,
     "metadata": {},
     "output_type": "execute_result"
    }
   ],
   "source": [
    "\"\"\"\n",
    "\n",
    "Module : Statistical tests\n",
    "\n",
    "\"\"\"\n",
    "\n",
    "# req = 'evaluate the two sample independent students test using sample1 and sample3'\n",
    "# req = 'evaluate the dependent two sample ttest using samples sample1 and sample3'\n",
    "# req = 'one sample ttest on sample1 and compare to popmean of 0.12'\n",
    "#req = 'do a utest using sample1 and sample3'\n",
    "# req = \"do the mann whitney utest for sample1 and sample3\"\n",
    "\n",
    "# req = \"check if the distribution follows a normal distribution using the kolmogorov smirnov test for sample1\"\n",
    "# req = \"having sample1 check if the distribution of the data follows a uniform distribution using the kolmogorov smirnov test\"\n",
    "# req = \"check if the data sample1 follows exponential distribution using the kolmogorov smirnov test\"\n",
    "# req = \"shapiro wilk test for normality for sample1\"\n",
    "# req = \"one way anova test on samples sample1 and sample3\""
   ]
  },
  {
   "cell_type": "code",
   "execution_count": 17,
   "id": "2ceabb23-aff0-4a37-a9e7-382ddac01b46",
   "metadata": {},
   "outputs": [
    {
     "data": {
      "text/plain": [
       "{}"
      ]
     },
     "execution_count": 17,
     "metadata": {},
     "output_type": "execute_result"
    }
   ],
   "source": [
    "i.module_args['column']"
   ]
  },
  {
   "cell_type": "code",
   "execution_count": null,
   "id": "9593bee5-f85b-4fe8-833c-1a6655855b48",
   "metadata": {},
   "outputs": [],
   "source": [
    "\"\"\"\n",
    "\n",
    "Module : Statistical Plots\n",
    "\n",
    "\"\"\"\n",
    "\n",
    "# req = \"show the histogram for samples sample1 and sample3\"\n",
    "# req = \"show the histograms of samples sample1 sample3 set nbins = 50\"\n",
    "# req = \"show the kernel density plot for samples sample1 and sample3\"\n",
    "# req = \"show a visualisation of boxplots for samples sample1 and sample3\"\n",
    "\n",
    "i.query(req)"
   ]
  }
 ],
 "metadata": {
  "kernelspec": {
   "display_name": "Python 3 (ipykernel)",
   "language": "python",
   "name": "python3"
  },
  "language_info": {
   "codemirror_mode": {
    "name": "ipython",
    "version": 3
   },
   "file_extension": ".py",
   "mimetype": "text/x-python",
   "name": "python",
   "nbconvert_exporter": "python",
   "pygments_lexer": "ipython3",
   "version": "3.12.4"
  }
 },
 "nbformat": 4,
 "nbformat_minor": 5
}
